{
 "cells": [
  {
   "cell_type": "markdown",
   "metadata": {},
   "source": [
    "# Python-走进Requests库"
   ]
  },
  {
   "cell_type": "code",
   "execution_count": 1,
   "metadata": {
    "collapsed": true
   },
   "outputs": [],
   "source": [
    "import json\n",
    "import requests"
   ]
  },
  {
   "cell_type": "code",
   "execution_count": 2,
   "metadata": {
    "collapsed": true
   },
   "outputs": [],
   "source": [
    "URL = 'https://api.github.com'"
   ]
  },
  {
   "cell_type": "code",
   "execution_count": 5,
   "metadata": {
    "collapsed": true
   },
   "outputs": [],
   "source": [
    "def build_uri(endpoint):\n",
    "    return '/'.join([URL, endpoint])\n",
    "\n",
    "def better_print(json_str):\n",
    "    return json.dumps(json.loads(json_str), indent=4)\n",
    "\n",
    "def request_method():\n",
    "    response = requests.get(build_uri('users/rain'))\n",
    "    print()\n",
    "    print(better_print(response.text))"
   ]
  },
  {
   "cell_type": "code",
   "execution_count": 6,
   "metadata": {},
   "outputs": [
    {
     "name": "stdout",
     "output_type": "stream",
     "text": [
      "{\n",
      "    \"login\": \"Rain\",\n",
      "    \"id\": 6818611,\n",
      "    \"avatar_url\": \"https://avatars1.githubusercontent.com/u/6818611?v=4\",\n",
      "    \"gravatar_id\": \"\",\n",
      "    \"url\": \"https://api.github.com/users/Rain\",\n",
      "    \"html_url\": \"https://github.com/Rain\",\n",
      "    \"followers_url\": \"https://api.github.com/users/Rain/followers\",\n",
      "    \"following_url\": \"https://api.github.com/users/Rain/following{/other_user}\",\n",
      "    \"gists_url\": \"https://api.github.com/users/Rain/gists{/gist_id}\",\n",
      "    \"starred_url\": \"https://api.github.com/users/Rain/starred{/owner}{/repo}\",\n",
      "    \"subscriptions_url\": \"https://api.github.com/users/Rain/subscriptions\",\n",
      "    \"organizations_url\": \"https://api.github.com/users/Rain/orgs\",\n",
      "    \"repos_url\": \"https://api.github.com/users/Rain/repos\",\n",
      "    \"events_url\": \"https://api.github.com/users/Rain/events{/privacy}\",\n",
      "    \"received_events_url\": \"https://api.github.com/users/Rain/received_events\",\n",
      "    \"type\": \"User\",\n",
      "    \"site_admin\": false,\n",
      "    \"name\": null,\n",
      "    \"company\": null,\n",
      "    \"blog\": \"\",\n",
      "    \"location\": null,\n",
      "    \"email\": null,\n",
      "    \"hireable\": null,\n",
      "    \"bio\": null,\n",
      "    \"public_repos\": 0,\n",
      "    \"public_gists\": 0,\n",
      "    \"followers\": 2,\n",
      "    \"following\": 0,\n",
      "    \"created_at\": \"2014-02-28T18:11:26Z\",\n",
      "    \"updated_at\": \"2017-11-21T15:00:45Z\"\n",
      "}\n"
     ]
    }
   ],
   "source": [
    "request_method()"
   ]
  },
  {
   "cell_type": "code",
   "execution_count": null,
   "metadata": {
    "collapsed": true
   },
   "outputs": [],
   "source": []
  },
  {
   "cell_type": "code",
   "execution_count": null,
   "metadata": {
    "collapsed": true
   },
   "outputs": [],
   "source": []
  },
  {
   "cell_type": "code",
   "execution_count": null,
   "metadata": {
    "collapsed": true
   },
   "outputs": [],
   "source": []
  },
  {
   "cell_type": "code",
   "execution_count": null,
   "metadata": {
    "collapsed": true
   },
   "outputs": [],
   "source": []
  },
  {
   "cell_type": "code",
   "execution_count": null,
   "metadata": {
    "collapsed": true
   },
   "outputs": [],
   "source": []
  },
  {
   "cell_type": "code",
   "execution_count": null,
   "metadata": {
    "collapsed": true
   },
   "outputs": [],
   "source": []
  },
  {
   "cell_type": "code",
   "execution_count": null,
   "metadata": {
    "collapsed": true
   },
   "outputs": [],
   "source": []
  },
  {
   "cell_type": "code",
   "execution_count": null,
   "metadata": {
    "collapsed": true
   },
   "outputs": [],
   "source": []
  },
  {
   "cell_type": "code",
   "execution_count": null,
   "metadata": {
    "collapsed": true
   },
   "outputs": [],
   "source": []
  },
  {
   "cell_type": "code",
   "execution_count": null,
   "metadata": {
    "collapsed": true
   },
   "outputs": [],
   "source": []
  },
  {
   "cell_type": "code",
   "execution_count": null,
   "metadata": {
    "collapsed": true
   },
   "outputs": [],
   "source": []
  }
 ],
 "metadata": {
  "kernelspec": {
   "display_name": "Python 3",
   "language": "python",
   "name": "python3"
  },
  "language_info": {
   "codemirror_mode": {
    "name": "ipython",
    "version": 3
   },
   "file_extension": ".py",
   "mimetype": "text/x-python",
   "name": "python",
   "nbconvert_exporter": "python",
   "pygments_lexer": "ipython3",
   "version": "3.6.1"
  }
 },
 "nbformat": 4,
 "nbformat_minor": 2
}
