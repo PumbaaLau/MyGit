{
 "cells": [
  {
   "cell_type": "code",
   "execution_count": 1,
   "metadata": {
    "collapsed": true
   },
   "outputs": [],
   "source": [
    "from sklearn.datasets import load_iris\n",
    "import numpy as np"
   ]
  },
  {
   "cell_type": "code",
   "execution_count": 2,
   "metadata": {
    "collapsed": true
   },
   "outputs": [],
   "source": [
    "data = load_iris()\n",
    "x = data['data']"
   ]
  },
  {
   "cell_type": "code",
   "execution_count": 3,
   "metadata": {},
   "outputs": [
    {
     "name": "stdout",
     "output_type": "stream",
     "text": [
      "[[ 6.7  3.1  5.6  2.4]\n",
      " [ 5.6  3.   4.5  1.5]\n",
      " [ 5.   2.   3.5  1. ]\n",
      " [ 7.7  3.   6.1  2.3]\n",
      " [ 6.3  2.7  4.9  1.8]\n",
      " [ 5.7  2.8  4.5  1.3]\n",
      " [ 5.4  3.9  1.7  0.4]\n",
      " [ 6.9  3.1  5.4  2.1]\n",
      " [ 5.   2.   3.5  1. ]\n",
      " [ 5.   3.5  1.6  0.6]]\n"
     ]
    }
   ],
   "source": [
    "no_records = 10\n",
    "x_sample_indx = np.random.choice(list(range(x.shape[0])),no_records)\n",
    "print(x[x_sample_indx,:])"
   ]
  },
  {
   "cell_type": "code",
   "execution_count": 6,
   "metadata": {},
   "outputs": [
    {
     "data": {
      "text/plain": [
       "array([140,  66,  60, 135, 123,  55,   5, 139,  60,  43])"
      ]
     },
     "execution_count": 6,
     "metadata": {},
     "output_type": "execute_result"
    }
   ],
   "source": [
    "x_sample_indx"
   ]
  },
  {
   "cell_type": "code",
   "execution_count": null,
   "metadata": {
    "collapsed": true
   },
   "outputs": [],
   "source": []
  }
 ],
 "metadata": {
  "kernelspec": {
   "display_name": "Python 3",
   "language": "python",
   "name": "python3"
  },
  "language_info": {
   "codemirror_mode": {
    "name": "ipython",
    "version": 3
   },
   "file_extension": ".py",
   "mimetype": "text/x-python",
   "name": "python",
   "nbconvert_exporter": "python",
   "pygments_lexer": "ipython3",
   "version": "3.6.1"
  }
 },
 "nbformat": 4,
 "nbformat_minor": 2
}
