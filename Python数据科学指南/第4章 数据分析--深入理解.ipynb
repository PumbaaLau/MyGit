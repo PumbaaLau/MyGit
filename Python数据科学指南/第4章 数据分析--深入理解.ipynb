{
 "cells": [
  {
   "cell_type": "markdown",
   "metadata": {},
   "source": [
    "# 第4章 数据分析--深入理解"
   ]
  },
  {
   "cell_type": "markdown",
   "metadata": {},
   "source": [
    "在这一章里，我们将探讨以下主题\n",
    "- 抽取主成分\n",
    "- 使用核PCA\n",
    "- 用奇异值分解抽取特征\n",
    "- 用随机映射给数据降维\n",
    "- 用非负矩阵分解（Non-negative Matrix Factorization，NMF）分解特征矩阵"
   ]
  },
  {
   "cell_type": "markdown",
   "metadata": {},
   "source": [
    "## 4.1 简介"
   ]
  },
  {
   "cell_type": "markdown",
   "metadata": {},
   "source": [
    "## 4.2 抽取主成分"
   ]
  },
  {
   "cell_type": "markdown",
   "metadata": {},
   "source": [
    "#### 4.2.1 准备工作"
   ]
  },
  {
   "cell_type": "markdown",
   "metadata": {},
   "source": [
    "**PCA通过以下步骤来完成目标**\n",
    "1. 将数据集标准化成均值为0。\n",
    "2. 找出数据集的相关矩阵和单位标准偏差值。\n",
    "3. 将相关矩阵分解成它的特征向量和值。\n",
    "4. 基于降序的特征值选择Top-N特征向量。\n",
    "5. 投射输入的特征向量矩阵到一个新的子空间。"
   ]
  },
  {
   "cell_type": "markdown",
   "metadata": {},
   "source": [
    "#### 4.2.2 操作方法"
   ]
  },
  {
   "cell_type": "code",
   "execution_count": 2,
   "metadata": {},
   "outputs": [
    {
     "name": "stdout",
     "output_type": "stream",
     "text": [
      "Eigen values \n",
      "[ 2.91081808+0.j  0.92122093+0.j  0.14735328+0.j  0.02060771+0.j]\n",
      "\n",
      " Eigen vectors \n",
      "[[ 0.52237162 -0.37231836 -0.72101681  0.26199559]\n",
      " [-0.26335492 -0.92555649  0.24203288 -0.12413481]\n",
      " [ 0.58125401 -0.02109478  0.14089226 -0.80115427]\n",
      " [ 0.56561105 -0.06541577  0.6338014   0.52354627]]\n"
     ]
    },
    {
     "data": {
      "image/png": "[encoded data removed]",
      "text/plain": [
       "<matplotlib.figure.Figure at 0x4a29400>"
      ]
     },
     "metadata": {},
     "output_type": "display_data"
    }
   ],
   "source": [
    "import numpy as np\n",
    "from sklearn.datasets import load_iris\n",
    "from sklearn.preprocessing import scale\n",
    "import scipy\n",
    "import matplotlib.pyplot as plt\n",
    "\n",
    "# 加载Iris数据集\n",
    "data = load_iris()\n",
    "x = data['data']\n",
    "y = data['target']\n",
    "\n",
    "# 因为PCA是一种无监督的方法，我们无需使用目标变量y\n",
    "# 对数据进行缩放，使均值为0，标准差为1\n",
    "x_s = scale(x,with_mean=True,with_std=True,axis=0)\n",
    "\n",
    "# 计算相关矩阵\n",
    "x_c = np.corrcoef(x_s.T)\n",
    "\n",
    "# 从相关矩阵中找到特征值和特征向量\n",
    "eig_val,r_eig_vec = scipy.linalg.eig(x_c)\n",
    "print(\"Eigen values \\n%s\"%(eig_val))\n",
    "print(\"\\n Eigen vectors \\n%s\"%(r_eig_vec))\n",
    "\n",
    "# 选择最前两个特征向量\n",
    "w = r_eig_vec[:,0:2]\n",
    "\n",
    "# 用合适的特征向量将原来四维的数据集降为二维。\n",
    "x_rd = x_s.dot(w)\n",
    "\n",
    "# 画出新的二维的散点图\n",
    "plt.figure(1)\n",
    "plt.scatter(x_rd[:,0],x_rd[:,1],c=y)\n",
    "plt.xlabel(\"Component 1\")\n",
    "plt.ylabel(\"Component 2\")\n",
    "plt.show()"
   ]
  },
  {
   "cell_type": "markdown",
   "metadata": {},
   "source": [
    "#### 4.2.3 工作原理"
   ]
  },
  {
   "cell_type": "markdown",
   "metadata": {},
   "source": [
    "#### 4.2.4 更多内容"
   ]
  },
  {
   "cell_type": "markdown",
   "metadata": {},
   "source": [
    "之前我们提到要介绍几个帮助我们确定该选择多少成分的方法。这个小节里，我们总结了两种，下面列出了一些关于选择成分的经验。\n",
    "1. **特征值标准**  \n",
    "\n",
    "特征值为1，这意味着这个成分可以解释一个变量的变化价值。依据这个标准，一个成分应该至少解释一个变量的变化价值。我们必须采用值大于或等于1的特征值，你可以根据数据集来设置这个阀值。在一个维度非常高的数据集中，如果一个成分只能解释一个变量，那是远远不够的。\n",
    "2. **变化的比例评判标准**  \n",
    "\n"
   ]
  },
  {
   "cell_type": "code",
   "execution_count": null,
   "metadata": {
    "collapsed": true
   },
   "outputs": [],
   "source": []
  },
  {
   "cell_type": "code",
   "execution_count": null,
   "metadata": {
    "collapsed": true
   },
   "outputs": [],
   "source": []
  }
 ],
 "metadata": {
  "kernelspec": {
   "display_name": "Python 3",
   "language": "python",
   "name": "python3"
  },
  "language_info": {
   "codemirror_mode": {
    "name": "ipython",
    "version": 3
   },
   "file_extension": ".py",
   "mimetype": "text/x-python",
   "name": "python",
   "nbconvert_exporter": "python",
   "pygments_lexer": "ipython3",
   "version": "3.6.1"
  }
 },
 "nbformat": 4,
 "nbformat_minor": 2
}
