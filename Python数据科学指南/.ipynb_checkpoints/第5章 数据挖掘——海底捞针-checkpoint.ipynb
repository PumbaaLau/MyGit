{
 "cells": [
  {
   "cell_type": "markdown",
   "metadata": {},
   "source": [
    "# 第5章 数据挖掘——海底捞针"
   ]
  },
  {
   "cell_type": "markdown",
   "metadata": {},
   "source": [
    "在这一章里，我们将探讨以下主题：\n",
    "- 使用距离度量\n",
    "- 学习和使用核方法\n",
    "- 用 k-means 进行数据聚类\n",
    "- 学习向量量化\n",
    "- 在单变量数据中找出异常点\n",
    "- 使用局部异常因子方法发现异常点"
   ]
  },
  {
   "cell_type": "markdown",
   "metadata": {},
   "source": [
    "## 5.1 简介"
   ]
  },
  {
   "cell_type": "markdown",
   "metadata": {},
   "source": [
    "## 5.2 使用距离度量"
   ]
  },
  {
   "cell_type": "markdown",
   "metadata": {},
   "source": [
    "#### 5.2.1 准备工作"
   ]
  },
  {
   "cell_type": "markdown",
   "metadata": {},
   "source": [
    "#### 5.2.2 操作方法"
   ]
  },
  {
   "cell_type": "code",
   "execution_count": 1,
   "metadata": {
    "collapsed": true
   },
   "outputs": [],
   "source": [
    "import numpy as np\n",
    "\n",
    "def euclidean_distance(x,y):\n",
    "    if len(x) == len(y):\n",
    "        return np.sqrt(np.sum(np.power((x-y),2)))\n",
    "    else:\n",
    "        print(\"Input should be of equal length\")\n",
    "    return None\n",
    "\n",
    "def lrNorm_distance(x,y,power):\n",
    "    if len(x) == len(y):\n",
    "        return np.power(np.sum(np.power(np.abs(x-y),power)),(1/(1.0*power)))\n",
    "    else:\n",
    "        print(\"Input should be of equal length\")\n",
    "    return None\n",
    "\n",
    "def cosine_distance(x,y):\n",
    "    if len(x) == len(y):\n",
    "        return np.dot(x,y) / np.sqrt(np.dot(x,x) * np.dot(y,y))\n",
    "    else:\n",
    "        print(\"Input should be of equal length\")\n",
    "    return None\n",
    "\n",
    "def jaccard_distance(x,y):\n",
    "    set_x = set(x)\n",
    "    set_y = set(y)\n",
    "    return 1 - len(set_x.intersection(set_y)) / len(set_x.union(set_y))\n",
    "                   \n",
    "def hamming_distance(x,y):\n",
    "    diff = 0\n",
    "    if len(x) == len(x):\n",
    "        for char1,char2 in zip(x,y):\n",
    "            if char1 != char2:\n",
    "                diff += 1\n",
    "        return diff\n",
    "    else:\n",
    "        print(\"Input should be of equal length\")\n",
    "    return None"
   ]
  },
  {
   "cell_type": "code",
   "execution_count": 2,
   "metadata": {},
   "outputs": [
    {
     "name": "stdout",
     "output_type": "stream",
     "text": [
      "0.0\n",
      "0.0\n",
      "0.0\n",
      "Cosine distance: 0.707106781187\n",
      "Jaccard distance: 0.0\n",
      "Hamming distance: 1\n"
     ]
    }
   ],
   "source": [
    "# 样例数据，两个三维的向量\n",
    "x = np.asarray([1,2,3])\n",
    "y = np.asarray([1,2,3])\n",
    "\n",
    "# 打印输出欧式距离\n",
    "print(euclidean_distance(x,y))\n",
    "\n",
    "# r值为2，调用lr_norm距离函数打印欧式空间距离\n",
    "print(lrNorm_distance(x,y,2))\n",
    "\n",
    "# 曼哈顿或者城市街区距离\n",
    "print(lrNorm_distance(x,y,1))\n",
    "\n",
    "# 计算预先距离的样例数据\n",
    "x = [1,1]\n",
    "y = [1,0]\n",
    "print(\"Cosine distance:\", cosine_distance(x,y))\n",
    "\n",
    "# 计算Jaccard距离的样例数据\n",
    "x = [1,2,3]\n",
    "y = [1,2,3]\n",
    "print(\"Jaccard distance:\", jaccard_distance(x,y))\n",
    "\n",
    "# 计算Hamming距离的样例数据\n",
    "x = [11001]\n",
    "y = [11011]\n",
    "print(\"Hamming distance:\", hamming_distance(x,y))"
   ]
  },
  {
   "cell_type": "markdown",
   "metadata": {},
   "source": [
    "#### 5.2.3 工作原理"
   ]
  },
  {
   "cell_type": "markdown",
   "metadata": {},
   "source": [
    "#### 5.2.4 更多内容"
   ]
  },
  {
   "cell_type": "markdown",
   "metadata": {},
   "source": [
    "#### 5.2.5 参考资料"
   ]
  },
  {
   "cell_type": "markdown",
   "metadata": {},
   "source": [
    "## 5.3 学习和使用核方法"
   ]
  },
  {
   "cell_type": "markdown",
   "metadata": {},
   "source": [
    "## 5.4 用k-means进行数据聚类"
   ]
  },
  {
   "cell_type": "markdown",
   "metadata": {},
   "source": [
    "#### 5.4.1 准备工作"
   ]
  },
  {
   "cell_type": "markdown",
   "metadata": {},
   "source": [
    "#### 5.4.2 操作方法"
   ]
  },
  {
   "cell_type": "code",
   "execution_count": 10,
   "metadata": {},
   "outputs": [
    {
     "data": {
      "image/png": "[encoded data removed]",
      "text/plain": [
       "<matplotlib.figure.Figure at 0x930b2b0>"
      ]
     },
     "metadata": {},
     "output_type": "display_data"
    }
   ],
   "source": [
    "import numpy as np\n",
    "import matplotlib.pyplot as plt\n",
    "\n",
    "def get_random_data():\n",
    "    x_1 = np.random.normal(loc=0.2,scale=0.2,size=(100,100))\n",
    "    x_2 = np.random.normal(loc=0.9,scale=0.1,size=(100,100))\n",
    "    x = np.r_[x_1,x_2]\n",
    "    return x\n",
    "\n",
    "x = get_random_data()\n",
    "\n",
    "plt.cla()\n",
    "plt.figure(1)\n",
    "plt.title(\"Generated Data\")\n",
    "plt.scatter(x[:,0],x[:,1])\n",
    "plt.show()"
   ]
  },
  {
   "cell_type": "code",
   "execution_count": 11,
   "metadata": {},
   "outputs": [
    {
     "name": "stdout",
     "output_type": "stream",
     "text": [
      "[1 1 1 1 1 1 1 1 1 1 1 1 1 1 1 1 1 1 1 1 1 1 1 1 1 1 1 1 1 1 1 1 1 1 1 1 1\n",
      " 1 1 1 1 1 1 1 1 1 1 1 1 1 1 1 1 1 1 1 1 1 1 1 1 1 1 1 1 1 1 1 1 1 1 1 1 1\n",
      " 1 1 1 1 1 1 1 1 1 1 1 1 1 1 1 1 1 1 1 1 1 1 1 1 1 1 0 0 0 0 0 0 0 0 0 0 0\n",
      " 0 0 0 0 0 0 0 0 0 0 0 0 0 0 0 0 0 0 0 0 0 0 0 0 0 0 0 0 0 0 0 0 0 0 0 0 0\n",
      " 0 0 0 0 0 0 0 0 0 0 0 0 0 0 0 0 0 0 0 0 0 0 0 0 0 0 0 0 0 0 0 0 0 0 0 0 0\n",
      " 0 0 0 0 0 0 0 0 0 0 0 0 0 0 0]\n",
      "[0 0 0 0 0 0 0 0 2 0 2 0 2 2 2 0 2 0 2 2 2 2 2 0 0 2 0 2 2 2 0 2 0 0 0 0 2\n",
      " 0 0 2 0 2 0 0 2 0 0 2 2 2 2 2 0 0 2 0 0 2 0 0 2 2 0 0 2 2 2 0 0 0 2 2 2 2\n",
      " 2 0 0 2 2 0 0 2 2 2 2 0 2 2 2 0 2 0 2 2 0 2 0 2 2 2 1 1 1 1 1 1 1 1 1 1 1\n",
      " 1 1 1 1 1 1 1 1 1 1 1 1 1 1 1 1 1 1 1 1 1 1 1 1 1 1 1 1 1 1 1 1 1 1 1 1 1\n",
      " 1 1 1 1 1 1 1 1 1 1 1 1 1 1 1 1 1 1 1 1 1 1 1 1 1 1 1 1 1 1 1 1 1 1 1 1 1\n",
      " 1 1 1 1 1 1 1 1 1 1 1 1 1 1 1]\n",
      "[3 3 1 0 3 1 1 0 3 0 1 0 1 1 1 1 3 0 1 0 0 0 0 1 3 1 1 3 0 3 1 3 0 1 1 1 1\n",
      " 0 3 1 3 1 1 1 1 1 3 1 0 3 0 0 1 1 3 3 1 0 3 0 3 1 0 0 3 1 1 0 0 3 0 3 0 3\n",
      " 3 1 0 1 1 3 1 1 3 3 1 1 3 1 1 1 1 3 1 3 0 3 0 1 0 1 2 2 2 2 2 2 2 2 2 2 2\n",
      " 2 2 2 2 2 2 2 2 2 2 2 2 2 2 2 2 2 2 2 2 2 2 2 2 2 2 2 2 2 2 2 2 2 2 2 2 2\n",
      " 2 2 2 2 2 2 2 2 2 2 2 2 2 2 2 2 2 2 2 2 2 2 2 2 2 2 2 2 2 2 2 2 2 2 2 2 2\n",
      " 2 2 2 2 2 2 2 2 2 2 2 2 2 2 2]\n",
      "[4 1 4 1 1 2 4 1 1 2 1 2 3 4 1 2 1 2 1 1 1 1 1 2 1 2 1 1 1 1 1 4 2 2 1 1 3\n",
      " 1 4 2 3 1 4 1 1 1 1 1 2 1 1 1 1 4 1 4 4 2 4 4 4 1 2 1 1 1 3 2 4 1 2 1 2 1\n",
      " 1 2 1 2 3 1 1 4 1 3 1 2 1 3 1 1 1 1 2 1 1 1 4 3 1 1 0 0 0 0 0 0 0 0 0 0 0\n",
      " 0 0 0 0 0 0 0 0 0 0 0 0 0 0 0 0 0 0 0 0 0 0 0 0 0 0 0 0 0 0 0 0 0 0 0 0 0\n",
      " 0 0 0 0 0 0 0 0 0 0 0 0 0 0 0 0 0 0 0 0 0 0 0 0 0 0 0 0 0 0 0 0 0 0 0 0 0\n",
      " 0 0 0 0 0 0 0 0 0 0 0 0 0 0 0]\n"
     ]
    },
    {
     "data": {
      "image/png": "[encoded data removed]",
      "text/plain": [
       "<matplotlib.figure.Figure at 0xa449ba8>"
      ]
     },
     "metadata": {},
     "output_type": "display_data"
    }
   ],
   "source": [
    "from sklearn.cluster import KMeans\n",
    "from sklearn.metrics import silhouette_score\n",
    "\n",
    "def form_clusters(x,k):\n",
    "    \"\"\"\n",
    "    Build clusters\n",
    "    \"\"\"\n",
    "    # k是划分出的簇的个数\n",
    "    no_clusters = k\n",
    "    model = KMeans(n_clusters=no_clusters,init='random')\n",
    "    model.fit(x)\n",
    "    labels = model.labels_\n",
    "    print(labels)\n",
    "    # 计算轮廓系数\n",
    "    sh_score = silhouette_score(x,labels)\n",
    "    return sh_score\n",
    "\n",
    "sh_scores = []\n",
    "for i in range(1,5):\n",
    "    sh_score = form_clusters(x,i+1)\n",
    "    sh_scores.append(sh_score)\n",
    "\n",
    "no_clusters = [i+1 for i in range(1,5)]\n",
    "\n",
    "plt.figure(2)\n",
    "plt.plot(no_clusters,sh_scores)\n",
    "plt.title(\"Cluster Quality\")\n",
    "plt.xlabel(\"No of clusters k\")\n",
    "plt.ylabel(\"Silhouette Coefficient\")\n",
    "plt.show()"
   ]
  },
  {
   "cell_type": "markdown",
   "metadata": {},
   "source": [
    "#### 5.4.3 工作原理"
   ]
  },
  {
   "cell_type": "code",
   "execution_count": null,
   "metadata": {
    "collapsed": true
   },
   "outputs": [],
   "source": []
  }
 ],
 "metadata": {
  "kernelspec": {
   "display_name": "Python 3",
   "language": "python",
   "name": "python3"
  },
  "language_info": {
   "codemirror_mode": {
    "name": "ipython",
    "version": 3
   },
   "file_extension": ".py",
   "mimetype": "text/x-python",
   "name": "python",
   "nbconvert_exporter": "python",
   "pygments_lexer": "ipython3",
   "version": "3.6.1"
  }
 },
 "nbformat": 4,
 "nbformat_minor": 2
}
