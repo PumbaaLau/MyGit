{
 "cells": [
  {
   "cell_type": "markdown",
   "metadata": {},
   "source": [
    "# 第6章 机器学习1"
   ]
  },
  {
   "cell_type": "markdown",
   "metadata": {},
   "source": [
    "在这一章中，我们将探讨以下主题\n",
    "- 为建模准备数据\n",
    "- 查找最近邻\n",
    "- 用朴素贝叶斯分类文档\n",
    "- 构建决策树解决多类问题"
   ]
  },
  {
   "cell_type": "markdown",
   "metadata": {},
   "source": [
    "## 6.1 简介"
   ]
  },
  {
   "cell_type": "markdown",
   "metadata": {},
   "source": [
    "分类算法的大致步骤如下。\n",
    "1. 找到一个合适的算法。\n",
    "2. 从训练集中学习一种模型，然后用测试集验证这个模型。\n",
    "3. 应用这个模型来预测未知的实例或记录。"
   ]
  },
  {
   "cell_type": "markdown",
   "metadata": {},
   "source": [
    "## 6.2 为建模准备数据"
   ]
  },
  {
   "cell_type": "markdown",
   "metadata": {},
   "source": [
    "#### 6.2.1 准备工作"
   ]
  },
  {
   "cell_type": "markdown",
   "metadata": {},
   "source": [
    "#### 6.2.2 操作方法"
   ]
  },
  {
   "cell_type": "code",
   "execution_count": 4,
   "metadata": {
    "collapsed": true
   },
   "outputs": [],
   "source": [
    "from sklearn.cross_validation import train_test_split\n",
    "from sklearn.datasets import load_iris\n",
    "import numpy as np\n",
    "\n",
    "def get_iris_data():\n",
    "    \"\"\"\n",
    "    Returns Iris dataset\n",
    "    \"\"\"\n",
    "    # 加载iris数据集\n",
    "    data = load_iris()\n",
    "    \n",
    "    # 抽取依赖变量和独立变量\n",
    "    # y是类别标签\n",
    "    # x是实例/记录\n",
    "    x = data['data']\n",
    "    y = data['target']\n",
    "    \n",
    "    # 为了方便起见，我们将其合并\n",
    "    # 列合并\n",
    "    input_dataset = np.column_stack([x,y])\n",
    "    \n",
    "    # 把数据搅乱\n",
    "    # 我们希望在测试集和训练集中的记录随机分布\n",
    "    np.random.shuffle(input_dataset)\n",
    "\n",
    "    return input_dataset"
   ]
  },
  {
   "cell_type": "code",
   "execution_count": 5,
   "metadata": {},
   "outputs": [
    {
     "name": "stdout",
     "output_type": "stream",
     "text": [
      "Dataset size  (150, 5)\n",
      "Train size (120, 5)\n",
      "Test size (30, 5)\n"
     ]
    }
   ],
   "source": [
    "# 我们采用 80/20 分布\n",
    "# 80%的记录用来做训练\n",
    "# 20%的剩余记录用来做测试\n",
    "train_size = 0.8\n",
    "test_size = 1 - train_size\n",
    "\n",
    "# 获取数据\n",
    "input_dataset = get_iris_data()\n",
    "\n",
    "# 分割数据\n",
    "train,test = train_test_split(input_dataset,test_size=test_size)\n",
    "\n",
    "# 打印出原始数据集的大小\n",
    "print(\"Dataset size \", input_dataset.shape)\n",
    "\n",
    "# 打印出训练/测试集的大小\n",
    "print(\"Train size\", train.shape)\n",
    "print(\"Test size\", test.shape)"
   ]
  },
  {
   "cell_type": "code",
   "execution_count": 6,
   "metadata": {
    "collapsed": true
   },
   "outputs": [],
   "source": [
    "def get_class_distribution(y):\n",
    "    \"\"\"\n",
    "    Given an array of class labels\n",
    "    Return the class distribution\n",
    "    \"\"\"\n",
    "    distribution = {}\n",
    "    set_y = set(y)\n",
    "    for y_label in set_y:\n",
    "        no_elements = len(np.where(y == y_label)[0])\n",
    "        distribution[y_label] = no_elements\n",
    "    dist_percentage = {class_label: count/(1.0*sum(distribution.values())) for class_label,count in distribution.items()}\n",
    "    return dist_percentage"
   ]
  },
  {
   "cell_type": "code",
   "execution_count": 7,
   "metadata": {},
   "outputs": [
    {
     "name": "stdout",
     "output_type": "stream",
     "text": [
      "\n",
      "Train data set class label distribution\n",
      "=========================================\n",
      "\n",
      "Class label = 0, percentage records = 0.33\n",
      "Class label = 1, percentage records = 0.32\n",
      "Class label = 2, percentage records = 0.35\n",
      "\n",
      "Test data set class label distribution\n",
      "========================================\n",
      "\n",
      "Class label = 0, percentage records = 0.33\n",
      "Class label = 1, percentage records = 0.40\n",
      "Class label = 2, percentage records = 0.27\n"
     ]
    }
   ],
   "source": [
    "def print_class_label_split(train,test):\n",
    "    \"\"\"\n",
    "    Print the class distribution\n",
    "    in test and train dataset\n",
    "    \"\"\"\n",
    "    y_train = train[:,-1]\n",
    "    \n",
    "    train_distribution = get_class_distribution(y_train)\n",
    "    print(\"\\nTrain data set class label distribution\")\n",
    "    print(\"=========================================\\n\")\n",
    "    for k,v in train_distribution.items():\n",
    "        print(\"Class label = %d, percentage records = %.2f\"%(k,v))\n",
    "        \n",
    "    y_test = test[:,-1]\n",
    "    \n",
    "    test_distribution = get_class_distribution(y_test)\n",
    "    \n",
    "    print(\"\\nTest data set class label distribution\")\n",
    "    print(\"========================================\\n\")\n",
    "    for k,v in test_distribution.items():\n",
    "        print(\"Class label = %d, percentage records = %.2f\"%(k,v))\n",
    "\n",
    "print_class_label_split(train,test)    "
   ]
  },
  {
   "cell_type": "code",
   "execution_count": 9,
   "metadata": {},
   "outputs": [
    {
     "name": "stdout",
     "output_type": "stream",
     "text": [
      "\n",
      "Train data set class label distribution\n",
      "=========================================\n",
      "\n",
      "Class label = 0, percentage records = 0.33\n",
      "Class label = 1, percentage records = 0.33\n",
      "Class label = 2, percentage records = 0.33\n",
      "\n",
      "Test data set class label distribution\n",
      "========================================\n",
      "\n",
      "Class label = 0, percentage records = 0.33\n",
      "Class label = 1, percentage records = 0.33\n",
      "Class label = 2, percentage records = 0.33\n"
     ]
    }
   ],
   "source": [
    "# 执行数据分割\n",
    "from sklearn.cross_validation import StratifiedShuffleSplit\n",
    "stratified_split = StratifiedShuffleSplit(input_dataset[:,-1],test_size=test_size,n_iter=1)\n",
    "\n",
    "for train_indx,test_indx in stratified_split:\n",
    "    train = input_dataset[train_indx]\n",
    "    test = input_dataset[test_indx]\n",
    "    \n",
    "print_class_label_split(train,test)"
   ]
  },
  {
   "cell_type": "markdown",
   "metadata": {},
   "source": [
    "#### 6.2.3 工作原理"
   ]
  },
  {
   "cell_type": "markdown",
   "metadata": {},
   "source": [
    "#### 6.2.4 更多内容"
   ]
  },
  {
   "cell_type": "markdown",
   "metadata": {},
   "source": [
    "## 6.3 查找最近邻"
   ]
  },
  {
   "cell_type": "markdown",
   "metadata": {
    "collapsed": true
   },
   "source": [
    "#### 6.3.1 准备工作"
   ]
  },
  {
   "cell_type": "code",
   "execution_count": 6,
   "metadata": {
    "scrolled": true
   },
   "outputs": [
    {
     "data": {
      "image/png": "[encoded data removed]",
      "text/plain": [
       "<matplotlib.figure.Figure at 0x946f7f0>"
      ]
     },
     "metadata": {},
     "output_type": "display_data"
    }
   ],
   "source": [
    "from sklearn.datasets import make_classification\n",
    "\n",
    "import numpy as np\n",
    "import matplotlib.pyplot as plt\n",
    "import itertools\n",
    "\n",
    "from sklearn.ensemble import BaggingClassifier\n",
    "from sklearn.neighbors import KNeighborsClassifier\n",
    "\n",
    "def get_data():\n",
    "    \"\"\"\n",
    "    Make a sample classification dataset\n",
    "    Returns : Independent varible y, dependent variable x\n",
    "    \"\"\"    \n",
    "    x, y = make_classification(n_features=4)\n",
    "    return x, y\n",
    "\n",
    "def plot_data(x, y):\n",
    "    \"\"\"\n",
    "    plot a scatter plot of all varible combinations\n",
    "    \"\"\"\n",
    "    subplot_start = 231\n",
    "    col_numbers = range(4)\n",
    "    col_pairs = itertools.combinations(col_numbers,2)\n",
    "    \n",
    "    for col_pair in col_pairs:\n",
    "        plt.subplot(subplot_start)\n",
    "        plt.scatter(x[:,col_pair[0]], x[:,col_pair[1]], s=10, c=y)\n",
    "        title_string = str(col_pair[0]) + \"-\" + str(col_pair[1])\n",
    "        plt.title(title_string)\n",
    "        x_label = str(col_pair[0])\n",
    "        y_label = str(col_pair[1])\n",
    "        plt.xlabel(x_label)\n",
    "        plt.ylabel(y_label)\n",
    "        subplot_start += 1\n",
    "        \n",
    "    plt.show()\n",
    "    \n",
    "x, y = get_data()\n",
    "plot_data(x, y)"
   ]
  },
  {
   "cell_type": "markdown",
   "metadata": {},
   "source": [
    "#### 6.3.2 操作方法"
   ]
  },
  {
   "cell_type": "code",
   "execution_count": 9,
   "metadata": {},
   "outputs": [
    {
     "data": {
      "image/png": "[encoded data removed]",
      "text/plain": [
       "<matplotlib.figure.Figure at 0x9184128>"
      ]
     },
     "metadata": {},
     "output_type": "display_data"
    },
    {
     "name": "stdout",
     "output_type": "stream",
     "text": [
      "Model evaluation on training set\n",
      "================================\n",
      "             precision    recall  f1-score   support\n",
      "\n",
      "        0.0       0.98      1.00      0.99        40\n",
      "        1.0       1.00      0.97      0.99        40\n",
      "\n",
      "avg / total       0.99      0.99      0.99        80\n",
      "\n",
      "\n",
      "Model evaluation on test set\n",
      "================================\n",
      "             precision    recall  f1-score   support\n",
      "\n",
      "        0.0       1.00      1.00      1.00        10\n",
      "        1.0       1.00      1.00      1.00        10\n",
      "\n",
      "avg / total       1.00      1.00      1.00        20\n",
      "\n"
     ]
    }
   ],
   "source": [
    "from sklearn.cross_validation import  StratifiedShuffleSplit\n",
    "from sklearn.neighbors import KNeighborsClassifier\n",
    "from sklearn.metrics import classification_report\n",
    "\n",
    "def get_train_test(x, y):\n",
    "    \"\"\"\n",
    "    Perpare a stratified train and test split\n",
    "    \"\"\"\n",
    "    train_size = 0.8\n",
    "    test_size = 1 - train_size\n",
    "    input_dataset = np.column_stack([x,y])\n",
    "    stratified_split = StratifiedShuffleSplit(input_dataset[:,-1],test_size=test_size,n_iter=1)\n",
    "    \n",
    "    for train_indx, test_indx in stratified_split:\n",
    "        train_x = input_dataset[train_indx,:-1]\n",
    "        train_y = input_dataset[train_indx,-1]\n",
    "        test_x = input_dataset[test_indx,:-1]\n",
    "        test_y = input_dataset[test_indx,-1]\n",
    "    \n",
    "    return train_x, train_y, test_x, test_y\n",
    "\n",
    "def build_model(x, y, k=2):\n",
    "    \"\"\"\n",
    "    Fit a nearest neighbour model\n",
    "    \"\"\"\n",
    "    knn = KNeighborsClassifier(n_neighbors=k)\n",
    "    knn.fit(x,y)\n",
    "    return knn\n",
    "\n",
    "def test_model(x, y, knn_model):\n",
    "    y_predicted = knn_model.predict(x)\n",
    "    print(classification_report(y,y_predicted))\n",
    "        \n",
    "# if __name__ = \"__main__\":\n",
    "# 加载数据\n",
    "x, y = get_data()\n",
    "    \n",
    "# 绘制数据的散点图\n",
    "plot_data(x,y)\n",
    "    \n",
    "# 将数据分为训练集和测试集\n",
    "train_x, train_y, test_x, test_y = get_train_test(x,y)\n",
    "    \n",
    "# 建模\n",
    "knn_model = build_model(train_x,train_y)\n",
    "    \n",
    "# 测试模型\n",
    "print(\"Model evaluation on training set\")\n",
    "print(\"================================\")\n",
    "test_model(train_x,train_y,knn_model)\n",
    "    \n",
    "print()\n",
    "print(\"Model evaluation on test set\")\n",
    "print(\"================================\")\n",
    "test_model(test_x,test_y,knn_model)"
   ]
  },
  {
   "cell_type": "markdown",
   "metadata": {},
   "source": [
    "#### 6.3.3 工作原理"
   ]
  },
  {
   "cell_type": "code",
   "execution_count": 1,
   "metadata": {},
   "outputs": [
    {
     "data": {
      "text/plain": [
       "'C:\\\\Users\\\\Administrator\\\\Documents\\\\Python\\\\Machine Learning\\\\Python数据科学指南'"
      ]
     },
     "execution_count": 1,
     "metadata": {},
     "output_type": "execute_result"
    }
   ],
   "source": [
    "pwd"
   ]
  },
  {
   "cell_type": "markdown",
   "metadata": {},
   "source": [
    "## 6.4 用朴素贝叶斯分类文档"
   ]
  },
  {
   "cell_type": "markdown",
   "metadata": {},
   "source": [
    "$$P(X|Y)=\\frac{P(Y|X)*P(X)}{P(Y)}$$"
   ]
  },
  {
   "cell_type": "markdown",
   "metadata": {},
   "source": [
    "#### 6.4.1 准备工作"
   ]
  },
  {
   "cell_type": "markdown",
   "metadata": {},
   "source": [
    "#### 6.4.2 操作方法"
   ]
  },
  {
   "cell_type": "markdown",
   "metadata": {},
   "source": [
    "#### 6.4.3 工作原理"
   ]
  },
  {
   "cell_type": "code",
   "execution_count": 39,
   "metadata": {
    "collapsed": true
   },
   "outputs": [],
   "source": [
    "from nltk.corpus import movie_reviews\n",
    "from sklearn.cross_validation import StratifiedShuffleSplit\n",
    "import nltk\n",
    "from nltk.corpus import stopwords\n",
    "from nltk.collocations import BigramCollocationFinder\n",
    "from nltk.metrics import BigramAssocMeasures"
   ]
  },
  {
   "cell_type": "markdown",
   "metadata": {},
   "source": [
    "get_data()函数，影评数据保存成正面和负面两类。第1层循环遍历这两类，在第2层循环中检索出分类的文件ID，再用文件ID检索出词。"
   ]
  },
  {
   "cell_type": "code",
   "execution_count": 49,
   "metadata": {
    "collapsed": true
   },
   "outputs": [],
   "source": [
    "def get_data():    \n",
    "    \"\"\"\n",
    "    Get movies review data\n",
    "    \"\"\"    \n",
    "    dataset = []\n",
    "    y_labels = []\n",
    "    \n",
    "    # 抽取分类\n",
    "    for cat in movie_reviews.categories():\n",
    "        \n",
    "        # 对于每个类别下的文件\n",
    "        for fileid in movie_reviews.fileids(cat):\n",
    "            \n",
    "            # 获取术语这个分类的词语\n",
    "            words = list(movie_reviews.words(fileid))\n",
    "            dataset.append((words,cat))\n",
    "            y_labels.append(cat)\n",
    "            \n",
    "    return dataset,y_labels"
   ]
  },
  {
   "cell_type": "code",
   "execution_count": null,
   "metadata": {
    "collapsed": true
   },
   "outputs": [],
   "source": [
    "将数据集分割成测试集和训练集。"
   ]
  },
  {
   "cell_type": "code",
   "execution_count": 41,
   "metadata": {
    "collapsed": true
   },
   "outputs": [],
   "source": [
    "def get_train_test(input_dataset,ylabels):\n",
    "    \"\"\"\n",
    "    Perpare a stratified train and test split\n",
    "    \"\"\"\n",
    "    train_size = 0.7\n",
    "    test_size = 1 - train_size\n",
    "    stratified_split = StratifiedShuffleSplit(ylabels,test_size=test_size,n_iter=1,random_state=77)\n",
    "    \n",
    "    for train_indx,test_indx in stratified_split:\n",
    "        train = [input_dataset[i] for i in train_indx]\n",
    "        train_y = [ylabels[i] for i in train_indx]\n",
    "        \n",
    "        test = [input_dataset[i] for i in test_indx]\n",
    "        test_y = [ylabels[i] for i in test_indx]\n",
    "    \n",
    "    return train,test,train_y,test_y"
   ]
  },
  {
   "cell_type": "code",
   "execution_count": 42,
   "metadata": {
    "collapsed": true
   },
   "outputs": [],
   "source": [
    "def build_word_features(instance):\n",
    "    \"\"\"\n",
    "    Build feature dictionary\n",
    "    Features are binary, name of the feature is word itself and value is 1.\n",
    "    Features are stored in a dictionary called feature_set\n",
    "    \"\"\"\n",
    "    # 用字典来保存特征\n",
    "    feature_set = {}\n",
    "    \n",
    "    # 词列表的实例元组里的第1个子项\n",
    "    words = instance[0]\n",
    "    \n",
    "    # 把特征保存到字典中\n",
    "    for word in words:\n",
    "        feature_set[word] = 1\n",
    "        \n",
    "    # 实例元组里的第2个子项是类别标签\n",
    "    return (feature_set, instance[1])   "
   ]
  },
  {
   "cell_type": "code",
   "execution_count": 43,
   "metadata": {
    "collapsed": true
   },
   "outputs": [],
   "source": [
    "def build_negate_features(instance):\n",
    "    \"\"\"\n",
    "    If a word is preceeded by either 'not' or 'no' this function adds a prefix 'Not_' to that word\n",
    "    It will also not insert the previous negation word 'not' or 'no' in feature dictionary\n",
    "    \"\"\"\n",
    "    # 对单词进行检索，即实例元组中的第1个子项\n",
    "    words = instance[0]\n",
    "    final_words = []\n",
    "    \n",
    "    # 用一个布尔变量追踪上一个词是不是负面词\n",
    "    negate = False\n",
    "    \n",
    "    # 生成负面词的列表\n",
    "    negate_words = ['no', 'not']\n",
    "    \n",
    "    # 对词进行循环的时候，遇到一个负面词，负面标识变量值变为True\n",
    "    # 否定词不会加入到特征字典中\n",
    "    # 当负面标识变量值为True时，词的前面加上一个“Not_\"前缀\n",
    "    for word in words:\n",
    "        if negate:\n",
    "            word = 'Not_' + word\n",
    "            negate = False\n",
    "        if word not in negate_words:\n",
    "            final_words.append(word)\n",
    "        else:\n",
    "            negate = True\n",
    "            \n",
    "    # 特征字典\n",
    "    feature_set = {}\n",
    "    for word in final_words:\n",
    "        feature_set[word] = 1\n",
    "    return (feature_set,instance[1])"
   ]
  },
  {
   "cell_type": "code",
   "execution_count": 50,
   "metadata": {
    "collapsed": true
   },
   "outputs": [],
   "source": [
    "def remove_stop_words(in_data):\n",
    "    \"\"\"\n",
    "    Utility function to remove stop words from the given list of words\n",
    "    \"\"\"\n",
    "    stopword_list = stopwords.words('english')\n",
    "    negate_words = ['no', 'not']\n",
    "    \n",
    "    # 我们不希望删除负面词，我们建立一个新的停用词列表来排除负面词\n",
    "    new_stopwords = [word for word in stopword_list if word not in negate_words]\n",
    "    label = in_data[1]\n",
    "    \n",
    "    # 删除停用词\n",
    "    words = [word for word in in_data[0] if word not in new_stopwords]\n",
    "    \n",
    "    return (words, label)"
   ]
  },
  {
   "cell_type": "code",
   "execution_count": 52,
   "metadata": {
    "collapsed": true
   },
   "outputs": [],
   "source": [
    "def build_keyphrase_features(instance):\n",
    "    \"\"\"\n",
    "    A function to extract key phrases from the given text.\n",
    "    Key Phrases are words of importance according to a measure\n",
    "    In this key our phrase of is our length 2, i.e two words or bigrams\n",
    "    \"\"\"\n",
    "    feature_set = {}\n",
    "    instance = remove_stop_words(instance)\n",
    "    words = instance[0]\n",
    "    \n",
    "    bigram_finder = BigramCollocationFinder.from_words(words)\n",
    "    \n",
    "    # 我们采用二元特征的原始频率记数\n",
    "    # 例如：二元特征按出现的频率降序排列，选择前400个\n",
    "    bigrams = bigram_finder.nbest(BigramAssocMeasures.raw_freq, 400)\n",
    "    for bigram in bigrams:\n",
    "        feature_set[bigram] = 1\n",
    "    return (feature_set, instance[1])"
   ]
  },
  {
   "cell_type": "code",
   "execution_count": 44,
   "metadata": {
    "collapsed": true
   },
   "outputs": [],
   "source": [
    "def build_model(features):\n",
    "    \"\"\"\n",
    "    Build a naive bayes model with the given feature set.\n",
    "    \"\"\"\n",
    "    model = nltk.NaiveBayesClassifier.train(features)\n",
    "    return model"
   ]
  },
  {
   "cell_type": "code",
   "execution_count": 45,
   "metadata": {
    "collapsed": true
   },
   "outputs": [],
   "source": [
    "def probe_model(model, features, dataset_type='Train'):\n",
    "    \"\"\"\n",
    "    A utility function to check the goodness of our model.\n",
    "    \"\"\"\n",
    "    accuracy = nltk.classify.accuracy(model, features)\n",
    "    print(dataset_type, \"Accuracy = %0.2f\"%(accuracy * 100) + \"%\")"
   ]
  },
  {
   "cell_type": "code",
   "execution_count": 47,
   "metadata": {
    "collapsed": true
   },
   "outputs": [],
   "source": [
    "def show_features(model, no_features=5):\n",
    "    \"\"\"\n",
    "    A utility function to see how important various features are for our model.\n",
    "    \"\"\"\n",
    "    print(\"\\nFeature Importance\")\n",
    "    print(\"===================\\n\")\n",
    "    print(model.show_most_informative_features(no_features))"
   ]
  },
  {
   "cell_type": "code",
   "execution_count": 46,
   "metadata": {
    "collapsed": true
   },
   "outputs": [],
   "source": [
    "def build_model_cycle_1(train_data,dev_data):\n",
    "    \"\"\"\n",
    "    First pass at trying out our model\n",
    "    \"\"\"\n",
    "    # 为训练集建立特征\n",
    "    train_features = map(build_word_features, train_data)\n",
    "    \n",
    "    # 为测试集建立特征\n",
    "    dev_features = map(build_negate_features, dev_data)\n",
    "    \n",
    "    #建模\n",
    "    model = build_model(train_features)\n",
    "    \n",
    "    # 模型预测\n",
    "    probe_model(model, train_features)\n",
    "    probe_model(model, dev_features, 'Dev')\n",
    "    \n",
    "    return model"
   ]
  },
  {
   "cell_type": "code",
   "execution_count": 55,
   "metadata": {
    "collapsed": true
   },
   "outputs": [],
   "source": [
    "def build_model_cycle_2(train_data,dev_data):\n",
    "    \"\"\"\n",
    "    Second pass at trying out our model\n",
    "    \"\"\"\n",
    "    # 为训练集建立特征\n",
    "    train_features = map(build_negate_features, train_data)\n",
    "    \n",
    "    # 为测试集建立特征\n",
    "    dev_features = map(build_negate_features, dev_data)\n",
    "    \n",
    "    # 建模\n",
    "    model = build_model(train_features)\n",
    "    \n",
    "    # 模型探测\n",
    "    probe_model(model, train_features)\n",
    "    probe_model(model, dev_features, 'Dev')\n",
    "    \n",
    "    return model"
   ]
  },
  {
   "cell_type": "code",
   "execution_count": 53,
   "metadata": {
    "collapsed": true
   },
   "outputs": [],
   "source": [
    "def build_model_cycle_3(train_data, dev_data):\n",
    "    \"\"\"\n",
    "    Third pass at trying out our model\n",
    "    \"\"\"\n",
    "    # 为训练集建立特征\n",
    "    train_features = map(build_keyphrase_features, train_data)\n",
    "    \n",
    "    # 为测试集建立特征\n",
    "    dev_features = map(build_keyphrase_features, dev_data)\n",
    "    \n",
    "    # 建模\n",
    "    model = build_model(train_features)\n",
    "    \n",
    "    # 模型探测\n",
    "    probe_model(model, train_features)\n",
    "    probe_model(model, dev_features, 'Dev') \n",
    "    test_features = map(build_keyphrase_features, test_data)\n",
    "    probe_model(model, test_features, 'Test')\n",
    "    \n",
    "    return model"
   ]
  },
  {
   "cell_type": "code",
   "execution_count": 56,
   "metadata": {
    "scrolled": false
   },
   "outputs": [
    {
     "name": "stdout",
     "output_type": "stream",
     "text": [
      "Original Data Size = 2000\n",
      "Training Data Size = 1399\n",
      "Dev Data Size = 420\n",
      "Testing Data Size = 181\n",
      "Train Accuracy = 0.00%\n",
      "Dev Accuracy = 0.00%\n",
      "\n",
      "Feature Importance\n",
      "===================\n",
      "\n",
      "Most Informative Features\n",
      "               stupidity = 1                 neg : pos    =     15.6 : 1.0\n",
      "                  warned = 1                 neg : pos    =     11.7 : 1.0\n",
      "             wonderfully = 1                 pos : neg    =     11.5 : 1.0\n",
      "             outstanding = 1                 pos : neg    =     11.0 : 1.0\n",
      "            unconvincing = 1                 neg : pos    =     11.0 : 1.0\n",
      "None\n",
      "Train Accuracy = 0.00%\n",
      "Dev Accuracy = 0.00%\n",
      "\n",
      "Feature Importance\n",
      "===================\n",
      "\n",
      "Most Informative Features\n",
      "               stupidity = 1                 neg : pos    =     15.6 : 1.0\n",
      "             wonderfully = 1                 pos : neg    =     14.7 : 1.0\n",
      "               Not_funny = 1                 neg : pos    =     13.0 : 1.0\n",
      "                  warned = 1                 neg : pos    =     11.7 : 1.0\n",
      "             outstanding = 1                 pos : neg    =     11.0 : 1.0\n",
      "None\n",
      "Train Accuracy = 0.00%\n",
      "Dev Accuracy = 0.00%\n",
      "Test Accuracy = 0.00%\n",
      "\n",
      "Feature Importance\n",
      "===================\n",
      "\n",
      "Most Informative Features\n",
      "        ('one', 'worst') = 1                 neg : pos    =     13.0 : 1.0\n",
      "       ('waste', 'time') = 1                 neg : pos    =     13.0 : 1.0\n",
      "        ('perfect', ',') = 1                 pos : neg    =     11.7 : 1.0\n",
      "        ('.', 'cameron') = 1                 pos : neg    =     11.7 : 1.0\n",
      "          ('-', 'notch') = 1                 pos : neg    =     11.7 : 1.0\n",
      "None\n"
     ]
    }
   ],
   "source": [
    "# 加载数据\n",
    "input_dataset, y_labels = get_data()\n",
    "\n",
    "# 训练数据\n",
    "train_data, all_test_data, train_y, all_test_y = get_train_test(input_dataset, y_labels)\n",
    "\n",
    "# Dev 数据\n",
    "dev_data, test_data, dev_y, test_y = get_train_test(all_test_data, all_test_y)\n",
    "\n",
    "# 查看不同数据集的大小\n",
    "print(\"Original Data Size =\", len(input_dataset))\n",
    "print(\"Training Data Size =\", len(train_data))\n",
    "print(\"Dev Data Size =\", len(dev_data))\n",
    "print(\"Testing Data Size =\", len(test_data))\n",
    "\n",
    "# 建模的不同过程\n",
    "model_cycle_1 = build_model_cycle_1(train_data, dev_data)\n",
    "\n",
    "# 打印输出模型的信息\n",
    "show_features(model_cycle_1)\n",
    "\n",
    "model_cycle_2 = build_model_cycle_2(train_data, dev_data)\n",
    "show_features(model_cycle_2)\n",
    "\n",
    "model_cycle_3 = build_model_cycle_3(train_data, dev_data)\n",
    "show_features(model_cycle_3)"
   ]
  },
  {
   "cell_type": "markdown",
   "metadata": {
    "collapsed": true
   },
   "source": [
    "## 6.5 构建决策树解决多类问题"
   ]
  },
  {
   "cell_type": "code",
   "execution_count": 1,
   "metadata": {
    "collapsed": true
   },
   "outputs": [],
   "source": [
    "from sklearn.datasets import load_iris\n",
    "from sklearn.cross_validation import StratifiedShuffleSplit\n",
    "import numpy as np\n",
    "from sklearn import tree\n",
    "from sklearn.metrics import accuracy_score,classification_report,confusion_matrix\n",
    "import pprint"
   ]
  },
  {
   "cell_type": "code",
   "execution_count": 2,
   "metadata": {
    "collapsed": true
   },
   "outputs": [],
   "source": [
    "def get_data():\n",
    "    \"\"\"\n",
    "    Get Iris data\n",
    "    \"\"\"\n",
    "    data = load_iris()\n",
    "    x = data['data']\n",
    "    y = data['target']\n",
    "    label_names = data['target_names']\n",
    "    return x,y,label_names.tolist()\n",
    "\n",
    "def get_train_test(x,y):\n",
    "    \"\"\"\n",
    "    Perpare a stratified train and test split\n",
    "    \"\"\"\n",
    "    train_size = 0.8\n",
    "    test_size = 1 - train_size\n",
    "    input_dataset = np.column_stack([x,y])\n",
    "    stratified_split = StratifiedShuffleSplit(input_dataset[:,-1],test_size=test_size,n_iter=1,random_state=77)\n",
    "    \n",
    "    for train_indx,test_indx in stratified_split:\n",
    "        train_x = input_dataset[train_indx,:-1]\n",
    "        train_y = input_dataset[train_indx,-1]\n",
    "        test_x = input_dataset[test_indx,:-1]\n",
    "        test_y = input_dataset[test_indx,-1]\n",
    "    \n",
    "    return train_x,train_y,test_x,test_y\n",
    "\n",
    "def build_model(x,y):\n",
    "    \"\"\"\n",
    "    Fit the model for the given attribute class label pairs\n",
    "    \"\"\"\n",
    "    model = tree.DecisionTreeClassifier(criterion=\"entropy\")\n",
    "    model = model.fit(x,y)\n",
    "    return model\n",
    "\n",
    "def test_model(x,y,model,label_names):\n",
    "    \"\"\"\n",
    "    Inspect the model for accuracy\n",
    "    \"\"\"\n",
    "    y_predicted = model.predict(x)\n",
    "    print(\"Model accuracy = %0.2f\"%(accuracy_score(y,y_predicted) * 100) + \"%\\n\")\n",
    "    print(\"\\nConfusion Matrix\")\n",
    "    print(\"=================\")\n",
    "    print(pprint.pprint(confusion_matrix(y,y_predicted)))\n",
    "    print(\"\\nClassification Report\")\n",
    "    print(\"=================\")\n",
    "    \n",
    "    print(classification_report(y,y_predicted,target_names=label_names))"
   ]
  },
  {
   "cell_type": "code",
   "execution_count": 4,
   "metadata": {
    "scrolled": false
   },
   "outputs": [
    {
     "name": "stdout",
     "output_type": "stream",
     "text": [
      "Model accuracy = 100.00%\n",
      "\n",
      "\n",
      "Confusion Matrix\n",
      "=================\n",
      "array([[40,  0,  0],\n",
      "       [ 0, 40,  0],\n",
      "       [ 0,  0, 40]])\n",
      "None\n",
      "\n",
      "Classification Report\n",
      "=================\n",
      "             precision    recall  f1-score   support\n",
      "\n",
      "     setosa       1.00      1.00      1.00        40\n",
      " versicolor       1.00      1.00      1.00        40\n",
      "  virginica       1.00      1.00      1.00        40\n",
      "\n",
      "avg / total       1.00      1.00      1.00       120\n",
      "\n",
      "Model accuracy = 96.67%\n",
      "\n",
      "\n",
      "Confusion Matrix\n",
      "=================\n",
      "array([[10,  0,  0],\n",
      "       [ 0,  9,  1],\n",
      "       [ 0,  0, 10]])\n",
      "None\n",
      "\n",
      "Classification Report\n",
      "=================\n",
      "             precision    recall  f1-score   support\n",
      "\n",
      "     setosa       1.00      1.00      1.00        10\n",
      " versicolor       1.00      0.90      0.95        10\n",
      "  virginica       0.91      1.00      0.95        10\n",
      "\n",
      "avg / total       0.97      0.97      0.97        30\n",
      "\n"
     ]
    }
   ],
   "source": [
    "# 加载数据\n",
    "x,y,label_names = get_data()\n",
    "\n",
    "# 将数据分割为训练集和测试集\n",
    "train_x,train_y,test_x,test_y = get_train_test(x,y)\n",
    "\n",
    "# 建模\n",
    "model = build_model(train_x,train_y)\n",
    "\n",
    "# 在训练集上评估模型\n",
    "test_model(train_x,train_y,model,label_names)\n",
    "\n",
    "# 在测试集上评估模型\n",
    "test_model(test_x,test_y,model,label_names)"
   ]
  },
  {
   "cell_type": "code",
   "execution_count": null,
   "metadata": {
    "collapsed": true
   },
   "outputs": [],
   "source": []
  }
 ],
 "metadata": {
  "kernelspec": {
   "display_name": "Python 3",
   "language": "python",
   "name": "python3"
  },
  "language_info": {
   "codemirror_mode": {
    "name": "ipython",
    "version": 3
   },
   "file_extension": ".py",
   "mimetype": "text/x-python",
   "name": "python",
   "nbconvert_exporter": "python",
   "pygments_lexer": "ipython3",
   "version": "3.6.1"
  }
 },
 "nbformat": 4,
 "nbformat_minor": 2
}
