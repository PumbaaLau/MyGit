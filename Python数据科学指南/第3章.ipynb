{
 "cells": [
  {
   "cell_type": "code",
   "execution_count": 1,
   "metadata": {},
   "outputs": [
    {
     "name": "stdout",
     "output_type": "stream",
     "text": [
      " 驱动器 C 中的卷是 系统\n",
      " 卷的序列号是 58C5-1D6B\n",
      "\n",
      " C:\\Users\\Administrator\\Documents\\Python\\Python数据科学指南 的目录\n",
      "\n",
      "2017/12/13 周三  23:05    <DIR>          .\n",
      "2017/12/13 周三  23:05    <DIR>          ..\n",
      "2017/12/13 周三  23:05    <DIR>          .ipynb_checkpoints\n",
      "2017/12/08 周五  00:13            10,421 第1章 Python在数据科学中的应用.ipynb\n",
      "2017/12/10 周日  22:50           133,020 第2章 Python环境.ipynb\n",
      "2017/12/13 周三  23:04                72 第3章.ipynb\n",
      "               3 个文件        143,513 字节\n",
      "               3 个目录  6,259,544,064 可用字节\n"
     ]
    }
   ],
   "source": [
    "ls"
   ]
  },
  {
   "cell_type": "code",
   "execution_count": 2,
   "metadata": {
    "collapsed": true
   },
   "outputs": [],
   "source": [
    "import numpy as np\n",
    "from matplotlib.pylab import frange\n",
    "import matplotlib.pyplot as plt"
   ]
  },
  {
   "cell_type": "code",
   "execution_count": 3,
   "metadata": {
    "collapsed": true
   },
   "outputs": [],
   "source": [
    "fill_data = lambda x: int(x.strip() or 0)"
   ]
  },
  {
   "cell_type": "code",
   "execution_count": 4,
   "metadata": {
    "collapsed": true
   },
   "outputs": [],
   "source": [
    "data = np.genfromtxt('president.txt',dtype=(int,int),converters={1:fill_data},delimiter=\",\")"
   ]
  },
  {
   "cell_type": "code",
   "execution_count": 5,
   "metadata": {},
   "outputs": [
    {
     "data": {
      "text/plain": [
       "array([[1946,   41],\n",
       "       [1947,   23],\n",
       "       [1948,   16],\n",
       "       [1949,   28],\n",
       "       [1950,   20],\n",
       "       [1951,   11],\n",
       "       [1952,   19],\n",
       "       [1953,   14],\n",
       "       [1954,   39],\n",
       "       [1955,   32],\n",
       "       [1956,    0],\n",
       "       [1957,   14],\n",
       "       [1958,    0],\n",
       "       [1959,   16],\n",
       "       [1960,    6],\n",
       "       [1961,   25],\n",
       "       [1962,   24],\n",
       "       [1963,   18],\n",
       "       [1964,   17],\n",
       "       [1965,   38],\n",
       "       [1966,   31],\n",
       "       [1967,   27],\n",
       "       [1968,   26],\n",
       "       [1969,   17],\n",
       "       [1970,   21],\n",
       "       [1971,   20],\n",
       "       [1972,   17],\n",
       "       [1973,   23],\n",
       "       [1974,   16],\n",
       "       [1975,   13],\n",
       "       [1976,   13],\n",
       "       [1977,   21],\n",
       "       [1978,   11],\n",
       "       [1979,   13],\n",
       "       [1980,   11],\n",
       "       [1981,    8],\n",
       "       [1982,    8],\n",
       "       [1983,   14],\n",
       "       [1984,    9],\n",
       "       [1985,    7],\n",
       "       [1986,    5],\n",
       "       [1987,    5],\n",
       "       [1988,   54],\n",
       "       [1989,   34],\n",
       "       [1990,   18],\n",
       "       [1991,   20],\n",
       "       [1992,   27],\n",
       "       [1993,   30],\n",
       "       [1994,   22],\n",
       "       [1995,   25],\n",
       "       [1996,   19],\n",
       "       [1997,   26]])"
      ]
     },
     "execution_count": 5,
     "metadata": {},
     "output_type": "execute_result"
    }
   ],
   "source": [
    "data"
   ]
  },
  {
   "cell_type": "code",
   "execution_count": 9,
   "metadata": {},
   "outputs": [
    {
     "data": {
      "text/plain": [
       "array([[1953,   14],\n",
       "       [1954,   39],\n",
       "       [1955,   32],\n",
       "       [1956,    0],\n",
       "       [1957,   14],\n",
       "       [1958,    0],\n",
       "       [1959,   16],\n",
       "       [1960,    6]])"
      ]
     },
     "execution_count": 9,
     "metadata": {},
     "output_type": "execute_result"
    }
   ],
   "source": [
    "data[7:15]"
   ]
  },
  {
   "cell_type": "code",
   "execution_count": 6,
   "metadata": {
    "collapsed": true
   },
   "outputs": [],
   "source": [
    "x = data[:,0]"
   ]
  },
  {
   "cell_type": "code",
   "execution_count": 7,
   "metadata": {
    "collapsed": true
   },
   "outputs": [],
   "source": [
    "y = data[:,1]"
   ]
  },
  {
   "cell_type": "code",
   "execution_count": 15,
   "metadata": {},
   "outputs": [
    {
     "data": {
      "text/plain": [
       "<matplotlib.text.Text at 0x80dbdd8>"
      ]
     },
     "execution_count": 15,
     "metadata": {},
     "output_type": "execute_result"
    }
   ],
   "source": [
    "plt.close('all')\n",
    "plt.figure(1)\n",
    "plt.title('All data')\n",
    "plt.plot(x,y,'ro')\n",
    "plt.xlabel('year')\n",
    "plt.ylabel('No Presedential Request')"
   ]
  },
  {
   "cell_type": "code",
   "execution_count": 10,
   "metadata": {},
   "outputs": [
    {
     "data": {
      "image/png": "[encoded data removed]",
      "text/plain": [
       "<matplotlib.figure.Figure at 0x7785e48>"
      ]
     },
     "metadata": {},
     "output_type": "display_data"
    }
   ],
   "source": [
    "plt.show()"
   ]
  },
  {
   "cell_type": "code",
   "execution_count": 12,
   "metadata": {
    "collapsed": true
   },
   "outputs": [],
   "source": [
    "perc_25 = np.percentile(y,25)\n",
    "perc_50 = np.percentile(y,50)\n",
    "perc_75 = np.percentile(y,75)"
   ]
  },
  {
   "cell_type": "code",
   "execution_count": 16,
   "metadata": {},
   "outputs": [
    {
     "data": {
      "text/plain": [
       "<matplotlib.legend.Legend at 0x814b160>"
      ]
     },
     "execution_count": 16,
     "metadata": {},
     "output_type": "execute_result"
    }
   ],
   "source": [
    "plt.axhline(perc_25,label='25th perc',c='r')\n",
    "plt.axhline(perc_50,label='50th perc',c='g')\n",
    "plt.axhline(perc_75,label='75th perc',c='m')\n",
    "plt.legend(loc='best')"
   ]
  },
  {
   "cell_type": "code",
   "execution_count": 17,
   "metadata": {},
   "outputs": [
    {
     "data": {
      "image/png": "[encoded data removed]",
      "text/plain": [
       "<matplotlib.figure.Figure at 0x80b9320>"
      ]
     },
     "metadata": {},
     "output_type": "display_data"
    }
   ],
   "source": [
    "plt.show()"
   ]
  },
  {
   "cell_type": "code",
   "execution_count": 18,
   "metadata": {},
   "outputs": [
    {
     "data": {
      "text/plain": [
       "array([41, 23, 16, 28, 20, 11, 19, 14, 39, 32,  0, 14,  0, 16,  6, 25, 24,\n",
       "       18, 17, 38, 31, 27, 26, 17, 21, 20, 17, 23, 16, 13, 13, 21, 11, 13,\n",
       "       11,  8,  8, 14,  9,  7,  5,  5, 54, 34, 18, 20, 27, 30, 22, 25, 19,\n",
       "       26])"
      ]
     },
     "execution_count": 18,
     "metadata": {},
     "output_type": "execute_result"
    }
   ],
   "source": [
    "y"
   ]
  },
  {
   "cell_type": "code",
   "execution_count": 19,
   "metadata": {
    "collapsed": true
   },
   "outputs": [],
   "source": [
    "y_masked = np.ma.masked_where(y==0,y)"
   ]
  },
  {
   "cell_type": "code",
   "execution_count": 20,
   "metadata": {},
   "outputs": [
    {
     "data": {
      "text/plain": [
       "masked_array(data = [41 23 16 28 20 11 19 14 39 32 -- 14 -- 16 6 25 24 18 17 38 31 27 26 17 21\n",
       " 20 17 23 16 13 13 21 11 13 11 8 8 14 9 7 5 5 54 34 18 20 27 30 22 25 19 26],\n",
       "             mask = [False False False False False False False False False False  True False\n",
       "  True False False False False False False False False False False False\n",
       " False False False False False False False False False False False False\n",
       " False False False False False False False False False False False False\n",
       " False False False False],\n",
       "       fill_value = 999999)"
      ]
     },
     "execution_count": 20,
     "metadata": {},
     "output_type": "execute_result"
    }
   ],
   "source": [
    "y_masked"
   ]
  },
  {
   "cell_type": "code",
   "execution_count": 21,
   "metadata": {
    "collapsed": true
   },
   "outputs": [],
   "source": [
    "y_masked = np.ma.masked_where(y_masked==54,y_masked)"
   ]
  },
  {
   "cell_type": "code",
   "execution_count": 22,
   "metadata": {},
   "outputs": [
    {
     "data": {
      "text/plain": [
       "masked_array(data = [41 23 16 28 20 11 19 14 39 32 -- 14 -- 16 6 25 24 18 17 38 31 27 26 17 21\n",
       " 20 17 23 16 13 13 21 11 13 11 8 8 14 9 7 5 5 -- 34 18 20 27 30 22 25 19 26],\n",
       "             mask = [False False False False False False False False False False  True False\n",
       "  True False False False False False False False False False False False\n",
       " False False False False False False False False False False False False\n",
       " False False False False False False  True False False False False False\n",
       " False False False False],\n",
       "       fill_value = 999999)"
      ]
     },
     "execution_count": 22,
     "metadata": {},
     "output_type": "execute_result"
    }
   ],
   "source": [
    "y_masked"
   ]
  },
  {
   "cell_type": "code",
   "execution_count": 23,
   "metadata": {},
   "outputs": [
    {
     "data": {
      "image/png": "[encoded data removed]",
      "text/plain": [
       "<matplotlib.figure.Figure at 0x81763c8>"
      ]
     },
     "metadata": {},
     "output_type": "display_data"
    }
   ],
   "source": [
    "plt.figure(2)\n",
    "plt.title('Masked data')\n",
    "plt.plot(x,y_masked,'ro')\n",
    "plt.xlabel('year')\n",
    "plt.ylabel('No Presedential Request')\n",
    "plt.ylim(0,60)\n",
    "\n",
    "plt.axhline(perc_25,label='25th perc',c='r')\n",
    "plt.axhline(perc_50,label='50th perc',c='g')\n",
    "plt.axhline(perc_75,label='75th perc',c='m')\n",
    "plt.legend(loc='best')\n",
    "plt.show()"
   ]
  },
  {
   "cell_type": "code",
   "execution_count": 24,
   "metadata": {
    "collapsed": true
   },
   "outputs": [],
   "source": [
    "from collections import Counter\n",
    "from collections import OrderedDict\n",
    "from matplotlib.pylab import frange"
   ]
  },
  {
   "cell_type": "code",
   "execution_count": 25,
   "metadata": {
    "collapsed": true
   },
   "outputs": [],
   "source": [
    "x_freq = Counter(y)"
   ]
  },
  {
   "cell_type": "code",
   "execution_count": 26,
   "metadata": {},
   "outputs": [
    {
     "data": {
      "text/plain": [
       "Counter({0: 2,\n",
       "         5: 2,\n",
       "         6: 1,\n",
       "         7: 1,\n",
       "         8: 2,\n",
       "         9: 1,\n",
       "         11: 3,\n",
       "         13: 3,\n",
       "         14: 3,\n",
       "         16: 3,\n",
       "         17: 3,\n",
       "         18: 2,\n",
       "         19: 2,\n",
       "         20: 3,\n",
       "         21: 2,\n",
       "         22: 1,\n",
       "         23: 2,\n",
       "         24: 1,\n",
       "         25: 2,\n",
       "         26: 2,\n",
       "         27: 2,\n",
       "         28: 1,\n",
       "         30: 1,\n",
       "         31: 1,\n",
       "         32: 1,\n",
       "         34: 1,\n",
       "         38: 1,\n",
       "         39: 1,\n",
       "         41: 1,\n",
       "         54: 1})"
      ]
     },
     "execution_count": 26,
     "metadata": {},
     "output_type": "execute_result"
    }
   ],
   "source": [
    "x_freq"
   ]
  },
  {
   "cell_type": "code",
   "execution_count": 32,
   "metadata": {
    "collapsed": true
   },
   "outputs": [],
   "source": [
    "x_ = np.array(list(x_freq.keys()))\n",
    "y_ = np.array(list(x_freq.values()))"
   ]
  },
  {
   "cell_type": "code",
   "execution_count": 31,
   "metadata": {},
   "outputs": [
    {
     "data": {
      "text/plain": [
       "array([41, 23, 16, 28, 20, 11, 19, 14, 39, 32,  0,  6, 25, 24, 18, 17, 38,\n",
       "       31, 27, 26, 21, 13,  8,  9,  7,  5, 54, 34, 30, 22])"
      ]
     },
     "execution_count": 31,
     "metadata": {},
     "output_type": "execute_result"
    }
   ],
   "source": [
    "x_"
   ]
  },
  {
   "cell_type": "code",
   "execution_count": 33,
   "metadata": {},
   "outputs": [
    {
     "data": {
      "text/plain": [
       "array([1, 2, 3, 1, 3, 3, 2, 3, 1, 1, 2, 1, 2, 1, 2, 3, 1, 1, 2, 2, 2, 3, 2,\n",
       "       1, 1, 2, 1, 1, 1, 1])"
      ]
     },
     "execution_count": 33,
     "metadata": {},
     "output_type": "execute_result"
    }
   ],
   "source": [
    "y_"
   ]
  },
  {
   "cell_type": "code",
   "execution_count": 34,
   "metadata": {
    "collapsed": true
   },
   "outputs": [],
   "source": [
    "x_group = OrderedDict()\n",
    "group = 5\n",
    "group_count = 1\n",
    "keys = []\n",
    "values = []\n",
    "for i,xx in enumerate(x):\n",
    "    keys.append(xx)\n",
    "    values.append(y[i])"
   ]
  },
  {
   "cell_type": "code",
   "execution_count": null,
   "metadata": {
    "collapsed": true
   },
   "outputs": [],
   "source": []
  }
 ],
 "metadata": {
  "kernelspec": {
   "display_name": "Python 3",
   "language": "python",
   "name": "python3"
  },
  "language_info": {
   "codemirror_mode": {
    "name": "ipython",
    "version": 3
   },
   "file_extension": ".py",
   "mimetype": "text/x-python",
   "name": "python",
   "nbconvert_exporter": "python",
   "pygments_lexer": "ipython3",
   "version": "3.6.1"
  }
 },
 "nbformat": 4,
 "nbformat_minor": 2
}
