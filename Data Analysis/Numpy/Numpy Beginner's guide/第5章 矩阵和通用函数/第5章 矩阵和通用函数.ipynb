{
 "cells": [
  {
   "cell_type": "markdown",
   "metadata": {},
   "source": [
    "# 第5章 矩阵和通用函数"
   ]
  },
  {
   "cell_type": "markdown",
   "metadata": {},
   "source": [
    "本章涵盖以下内容：\n",
    "- 矩阵创建；\n",
    "- 矩阵运算；\n",
    "- 基本通用函数；\n",
    "- 三角函数；\n",
    "- 位运算函数；\n",
    "- 比较函数。"
   ]
  },
  {
   "cell_type": "markdown",
   "metadata": {},
   "source": [
    "## 5.1 矩阵"
   ]
  },
  {
   "cell_type": "markdown",
   "metadata": {},
   "source": [
    "　　在NumPy中，矩阵是ndarray的子类，可以由专用的字符串格式来创建。与数学概念中的矩阵一样， NumPy中的矩阵也是二维的。如你所料，矩阵的乘法运算和NumPy中的普通乘法运算不同。幂运算当然也不一样。我们可以使用mat、 matrix以及bmat函数来创建矩阵。"
   ]
  },
  {
   "cell_type": "markdown",
   "metadata": {},
   "source": [
    "## 5.2 动手实践：创建矩阵"
   ]
  },
  {
   "cell_type": "markdown",
   "metadata": {},
   "source": [
    "(1) 在创建矩阵的专用字符串中，矩阵的行与行之间用分号隔开，行内的元素之间用空格隔\n",
    "开。使用如下的字符串调用mat函数创建矩阵："
   ]
  },
  {
   "cell_type": "code",
   "execution_count": 1,
   "metadata": {},
   "outputs": [
    {
     "name": "stdout",
     "output_type": "stream",
     "text": [
      "Creation from string [[1 2 3]\n",
      " [4 5 6]\n",
      " [7 8 9]]\n"
     ]
    }
   ],
   "source": [
    "import numpy as np\n",
    "\n",
    "A = np.mat('1 2 3; 4 5 6; 7 8 9')\n",
    "print(\"Creation from string\", A)"
   ]
  },
  {
   "cell_type": "markdown",
   "metadata": {},
   "source": [
    "(2) 用T属性获取转置矩阵："
   ]
  },
  {
   "cell_type": "code",
   "execution_count": 2,
   "metadata": {},
   "outputs": [
    {
     "name": "stdout",
     "output_type": "stream",
     "text": [
      "transpose A [[1 4 7]\n",
      " [2 5 8]\n",
      " [3 6 9]]\n"
     ]
    }
   ],
   "source": [
    "print(\"transpose A\", A.T)"
   ]
  },
  {
   "cell_type": "markdown",
   "metadata": {},
   "source": [
    "(3) 用I属性获取逆矩阵："
   ]
  },
  {
   "cell_type": "code",
   "execution_count": 3,
   "metadata": {},
   "outputs": [
    {
     "name": "stdout",
     "output_type": "stream",
     "text": [
      "Inverse A [[  3.15251974e+15  -6.30503948e+15   3.15251974e+15]\n",
      " [ -6.30503948e+15   1.26100790e+16  -6.30503948e+15]\n",
      " [  3.15251974e+15  -6.30503948e+15   3.15251974e+15]]\n"
     ]
    }
   ],
   "source": [
    "print(\"Inverse A\", A.I)"
   ]
  },
  {
   "cell_type": "markdown",
   "metadata": {},
   "source": [
    "(4) 除了使用字符串创建矩阵以外，我们还可以使用NumPy数组进行创建："
   ]
  },
  {
   "cell_type": "code",
   "execution_count": 4,
   "metadata": {},
   "outputs": [
    {
     "name": "stdout",
     "output_type": "stream",
     "text": [
      "Creation from array [[0 1 2]\n",
      " [3 4 5]\n",
      " [6 7 8]]\n"
     ]
    }
   ],
   "source": [
    "print(\"Creation from array\", np.mat(np.arange(9).reshape(3, 3)))"
   ]
  },
  {
   "cell_type": "markdown",
   "metadata": {},
   "source": [
    "## 刚才做了些什么"
   ]
  },
  {
   "cell_type": "markdown",
   "metadata": {},
   "source": [
    "　　我们使用mat函数创建了矩阵，用T属性获取了转置矩阵，用I属性获取了逆矩阵。示例代码见matrixcreation.py文件。"
   ]
  },
  {
   "cell_type": "code",
   "execution_count": 6,
   "metadata": {},
   "outputs": [
    {
     "name": "stdout",
     "output_type": "stream",
     "text": [
      "Creation from string [[1 2 3]\n",
      " [4 5 6]\n",
      " [7 8 9]]\n",
      "Transpose A [[1 4 7]\n",
      " [2 5 8]\n",
      " [3 6 9]]\n",
      "Inverse A [[  3.15251974e+15  -6.30503948e+15   3.15251974e+15]\n",
      " [ -6.30503948e+15   1.26100790e+16  -6.30503948e+15]\n",
      " [  3.15251974e+15  -6.30503948e+15   3.15251974e+15]]\n",
      "Check Inverse [[ 0.   1.  -0.5]\n",
      " [ 0.   2.  -1. ]\n",
      " [ 0.   3.   2.5]]\n",
      "Creation from array [[0 1 2]\n",
      " [3 4 5]\n",
      " [6 7 8]]\n"
     ]
    }
   ],
   "source": [
    "import numpy as np\n",
    "\n",
    "A = np.mat('1 2 3; 4 5 6; 7 8 9')\n",
    "print(\"Creation from string\", A)\n",
    "print(\"Transpose A\", A.T)\n",
    "print(\"Inverse A\", A.I)\n",
    "print(\"Check Inverse\", np.dot(A, A.I))\n",
    "print(\"Creation from array\", np.mat(np.arange(9).reshape(3, 3)))"
   ]
  },
  {
   "cell_type": "code",
   "execution_count": 13,
   "metadata": {},
   "outputs": [
    {
     "data": {
      "text/plain": [
       "matrix([[  3.15251974e+15,  -6.30503948e+15,   3.15251974e+15],\n",
       "        [ -6.30503948e+15,   1.26100790e+16,  -6.30503948e+15],\n",
       "        [  3.15251974e+15,  -6.30503948e+15,   3.15251974e+15]])"
      ]
     },
     "execution_count": 13,
     "metadata": {},
     "output_type": "execute_result"
    }
   ],
   "source": [
    "np.linalg.inv(A)"
   ]
  },
  {
   "cell_type": "code",
   "execution_count": 14,
   "metadata": {},
   "outputs": [
    {
     "data": {
      "text/plain": [
       "matrix([[  3.15251974e+15,  -6.30503948e+15,   3.15251974e+15],\n",
       "        [ -6.30503948e+15,   1.26100790e+16,  -6.30503948e+15],\n",
       "        [  3.15251974e+15,  -6.30503948e+15,   3.15251974e+15]])"
      ]
     },
     "execution_count": 14,
     "metadata": {},
     "output_type": "execute_result"
    }
   ],
   "source": [
    "A.I"
   ]
  },
  {
   "cell_type": "code",
   "execution_count": 15,
   "metadata": {},
   "outputs": [
    {
     "data": {
      "text/plain": [
       "matrix([[1, 2, 3],\n",
       "        [4, 5, 6],\n",
       "        [7, 8, 9]])"
      ]
     },
     "execution_count": 15,
     "metadata": {},
     "output_type": "execute_result"
    }
   ],
   "source": [
    "A"
   ]
  },
  {
   "cell_type": "code",
   "execution_count": 16,
   "metadata": {},
   "outputs": [
    {
     "data": {
      "text/plain": [
       "-9.5161973539299405e-16"
      ]
     },
     "execution_count": 16,
     "metadata": {},
     "output_type": "execute_result"
    }
   ],
   "source": [
    "np.linalg.det(A)"
   ]
  },
  {
   "cell_type": "markdown",
   "metadata": {},
   "source": [
    "## 5.3 从已有矩阵创建新矩阵"
   ]
  },
  {
   "cell_type": "markdown",
   "metadata": {},
   "source": [
    "　　有些时候，我们希望利用一些已有的较小的矩阵来创建一个新的大矩阵。这可以用bmat函数来实现。这里的b表示“分块”， bmat即分块矩阵（block matrix）。"
   ]
  },
  {
   "cell_type": "markdown",
   "metadata": {},
   "source": [
    "## 5.4 动手实践：从已有矩阵创建新矩阵"
   ]
  },
  {
   "cell_type": "markdown",
   "metadata": {},
   "source": [
    "(1) 首先，创建一个2×2的单位矩阵："
   ]
  },
  {
   "cell_type": "code",
   "execution_count": 17,
   "metadata": {},
   "outputs": [
    {
     "name": "stdout",
     "output_type": "stream",
     "text": [
      "A [[ 1.  0.]\n",
      " [ 0.  1.]]\n"
     ]
    }
   ],
   "source": [
    "A = np.eye(2)\n",
    "print(\"A\", A)"
   ]
  },
  {
   "cell_type": "markdown",
   "metadata": {},
   "source": [
    "创建另一个与A同型的矩阵，并乘以2："
   ]
  },
  {
   "cell_type": "code",
   "execution_count": 20,
   "metadata": {},
   "outputs": [
    {
     "name": "stdout",
     "output_type": "stream",
     "text": [
      "B [[ 2.  0.]\n",
      " [ 0.  2.]]\n"
     ]
    }
   ],
   "source": [
    "B = 2 * A\n",
    "print(\"B\", B)"
   ]
  },
  {
   "cell_type": "markdown",
   "metadata": {},
   "source": [
    "(2) 使用字符串创建复合矩阵，该字符串的格式与mat函数中一致，只是在这里你可以用矩\n",
    "阵变量名代替数字："
   ]
  },
  {
   "cell_type": "code",
   "execution_count": 21,
   "metadata": {},
   "outputs": [
    {
     "name": "stdout",
     "output_type": "stream",
     "text": [
      "Compound matrix\n",
      " [[ 1.  0.  2.  0.]\n",
      " [ 0.  1.  0.  2.]\n",
      " [ 1.  0.  2.  0.]\n",
      " [ 0.  1.  0.  2.]]\n"
     ]
    }
   ],
   "source": [
    "print(\"Compound matrix\\n\", np.bmat(\"A B; A B\"))"
   ]
  },
  {
   "cell_type": "markdown",
   "metadata": {},
   "source": [
    "#### 刚才做了些什么"
   ]
  },
  {
   "cell_type": "markdown",
   "metadata": {},
   "source": [
    "　　我们使用bmat函数，从两个小矩阵创建了一个分块复合矩阵。我们用矩阵变量名替代了数字，并将字符串传给bmat函数。示例代码见bmatcreation.py文件。"
   ]
  },
  {
   "cell_type": "code",
   "execution_count": 22,
   "metadata": {},
   "outputs": [
    {
     "name": "stdout",
     "output_type": "stream",
     "text": [
      "A [[ 1.  0.]\n",
      " [ 0.  1.]]\n",
      "B [[ 2.  0.]\n",
      " [ 0.  2.]]\n",
      "Compound matrix\n",
      " [[ 1.  0.  2.  0.]\n",
      " [ 0.  1.  0.  2.]\n",
      " [ 1.  0.  2.  0.]\n",
      " [ 0.  1.  0.  2.]]\n"
     ]
    }
   ],
   "source": [
    "import numpy as np\n",
    "\n",
    "A = np.eye(2)\n",
    "print(\"A\", A)\n",
    "\n",
    "B = 2 * A\n",
    "print(\"B\", B)\n",
    "\n",
    "print(\"Compound matrix\\n\", np.bmat(\"A B; A B\"))"
   ]
  },
  {
   "cell_type": "markdown",
   "metadata": {},
   "source": [
    "# 5.5 通用函数"
   ]
  },
  {
   "cell_type": "markdown",
   "metadata": {},
   "source": [
    "　　通用函数的输入是一组标量，输出也是一组标量，它们通常可以对应于基本数学运算，如加、减、乘、除等。"
   ]
  },
  {
   "cell_type": "markdown",
   "metadata": {},
   "source": [
    "## 5.6 动手实践：创建通用函数"
   ]
  },
  {
   "cell_type": "markdown",
   "metadata": {},
   "source": [
    "我们可以使用NumPy中的frompyfunc函数， 通过一个Python函数来创建通用函数，步骤如下。"
   ]
  },
  {
   "cell_type": "markdown",
   "metadata": {},
   "source": [
    "(1) 定义一个回答宇宙、生命及万物的终极问题的Python函数（问题和答案来源于《银河系\n",
    "漫游指南》，如果你没看过，可以忽略）："
   ]
  },
  {
   "cell_type": "markdown",
   "metadata": {},
   "source": [
    "def ultimate_answer(a):"
   ]
  },
  {
   "cell_type": "markdown",
   "metadata": {},
   "source": [
    "(2) 使用zeros_like函数创建一个和a形状相同，并且元素全部为0的数组result："
   ]
  },
  {
   "cell_type": "markdown",
   "metadata": {},
   "source": [
    "result = np.zeros_like(a)"
   ]
  },
  {
   "cell_type": "markdown",
   "metadata": {},
   "source": [
    "(3) 现在，我们将刚刚生成的数组中的所有元素设置为“终极答案”其值为42，并返回这个\n",
    "结果。完整的函数代码如下所示。 flat属性为我们提供了一个扁平迭代器，可以逐个设置数组元素的值："
   ]
  },
  {
   "cell_type": "markdown",
   "metadata": {},
   "source": [
    "def ultimate_answer(a):\n",
    "    result = np.zeros_like(a)\n",
    "    result.flat = 42\n",
    "    return result"
   ]
  },
  {
   "cell_type": "markdown",
   "metadata": {},
   "source": [
    "(4) 使用frompyfunc创建通用函数。指定输入参数的个数为1，随后的1为输出参数的个数："
   ]
  },
  {
   "cell_type": "markdown",
   "metadata": {},
   "source": [
    "ufunc = np.frompyfunc(ultimate_answer, 1, 1)\n",
    "print \"The answer\", ufunc(np.arange(4))"
   ]
  },
  {
   "cell_type": "markdown",
   "metadata": {},
   "source": [
    "#### 刚才做了些什么"
   ]
  },
  {
   "cell_type": "code",
   "execution_count": 28,
   "metadata": {},
   "outputs": [
    {
     "name": "stdout",
     "output_type": "stream",
     "text": [
      "The answer [array(42) array(42) array(42) array(42)]\n",
      "The answer [[array(42) array(42)]\n",
      " [array(42) array(42)]]\n"
     ]
    }
   ],
   "source": [
    "import numpy as np\n",
    "\n",
    "def ultimate_answer(a):\n",
    "    result = np.zeros_like(a)\n",
    "    result.flat = 42\n",
    "    \n",
    "    return result\n",
    "\n",
    "ufunc = np.frompyfunc(ultimate_answer, 1, 1)\n",
    "print(\"The answer\", ufunc(np.arange(4)))\n",
    "print(\"The answer\", ufunc(np.arange(4).reshape(2, 2)))"
   ]
  },
  {
   "cell_type": "markdown",
   "metadata": {},
   "source": [
    "## 5.7 通用函数的方法"
   ]
  },
  {
   "cell_type": "markdown",
   "metadata": {},
   "source": [
    "　　函数竟然也可以拥有方法？如前所述，其实通用函数并非真正的函数，而是能够表示函数的对象。通用函数有四个方法，不过这些方法只对输入两个参数、输出一个参数的ufunc对象有效，例如add函数。其他不符合条件的ufunc对象调用这些方法时将抛出ValueError异常。因此只能在二元通用函数上调用这些方法。以下将逐一介绍这4个方法：\n",
    "- reduce\n",
    "- accumulate\n",
    "- reduceat\n",
    "- outer"
   ]
  },
  {
   "cell_type": "markdown",
   "metadata": {},
   "source": [
    "## 5.8 动手实践：在 add 上调用通用函数的方法"
   ]
  },
  {
   "cell_type": "markdown",
   "metadata": {},
   "source": [
    "#### 刚才做了些什么"
   ]
  },
  {
   "cell_type": "markdown",
   "metadata": {},
   "source": [
    "　　我们在通用函数add上调用了四个方法： reduce、 accumulate、 reduceat以及outer。示例代码见ufuncmethods.py文件。"
   ]
  },
  {
   "cell_type": "markdown",
   "metadata": {},
   "source": [
    "(4) outer方法返回一个数组，它的秩（rank）等于两个输入数组的秩的和。它会作用于两个\n",
    "输入数组之间存在的所有元素对。在add函数上调用outer方法："
   ]
  },
  {
   "cell_type": "code",
   "execution_count": null,
   "metadata": {
    "collapsed": true
   },
   "outputs": [],
   "source": []
  },
  {
   "cell_type": "code",
   "execution_count": 30,
   "metadata": {
    "scrolled": true
   },
   "outputs": [
    {
     "name": "stdout",
     "output_type": "stream",
     "text": [
      "Reduce 36\n",
      "Accumulate [ 0  1  3  6 10 15 21 28 36]\n",
      "Reduceat [10  5 20 15]\n",
      "Reduceat step I 10\n",
      "Reduceat step II 5\n",
      "Reduceat step III 20\n",
      "Reduceat step IV 15\n",
      "Outer [[ 0  1  2  3  4  5  6  7  8]\n",
      " [ 1  2  3  4  5  6  7  8  9]\n",
      " [ 2  3  4  5  6  7  8  9 10]]\n"
     ]
    }
   ],
   "source": [
    "import numpy as np\n",
    "\n",
    "a = np.arange(9)\n",
    "print(\"Reduce\", np.add.reduce(a))\n",
    "print(\"Accumulate\", np.add.accumulate(a))\n",
    "print(\"Reduceat\", np.add.reduceat(a, [0, 5, 2, 7]))\n",
    "print(\"Reduceat step I\", np.add.reduce(a[0:5]))\n",
    "print(\"Reduceat step II\", a[5])\n",
    "print(\"Reduceat step III\", np.add.reduce(a[2:7]))\n",
    "print(\"Reduceat step IV\", np.add.reduce(a[7:]))\n",
    "print(\"Outer\", np.add.outer(np.arange(3), a))"
   ]
  },
  {
   "cell_type": "code",
   "execution_count": null,
   "metadata": {
    "collapsed": true
   },
   "outputs": [],
   "source": []
  },
  {
   "cell_type": "code",
   "execution_count": null,
   "metadata": {
    "collapsed": true
   },
   "outputs": [],
   "source": []
  },
  {
   "cell_type": "code",
   "execution_count": null,
   "metadata": {
    "collapsed": true
   },
   "outputs": [],
   "source": []
  },
  {
   "cell_type": "code",
   "execution_count": null,
   "metadata": {
    "collapsed": true
   },
   "outputs": [],
   "source": []
  },
  {
   "cell_type": "code",
   "execution_count": null,
   "metadata": {
    "collapsed": true
   },
   "outputs": [],
   "source": []
  },
  {
   "cell_type": "code",
   "execution_count": null,
   "metadata": {
    "collapsed": true
   },
   "outputs": [],
   "source": []
  },
  {
   "cell_type": "code",
   "execution_count": null,
   "metadata": {
    "collapsed": true
   },
   "outputs": [],
   "source": []
  },
  {
   "cell_type": "code",
   "execution_count": null,
   "metadata": {
    "collapsed": true
   },
   "outputs": [],
   "source": []
  },
  {
   "cell_type": "code",
   "execution_count": null,
   "metadata": {
    "collapsed": true
   },
   "outputs": [],
   "source": []
  },
  {
   "cell_type": "code",
   "execution_count": null,
   "metadata": {
    "collapsed": true
   },
   "outputs": [],
   "source": []
  },
  {
   "cell_type": "code",
   "execution_count": null,
   "metadata": {
    "collapsed": true
   },
   "outputs": [],
   "source": []
  },
  {
   "cell_type": "code",
   "execution_count": null,
   "metadata": {
    "collapsed": true
   },
   "outputs": [],
   "source": []
  },
  {
   "cell_type": "code",
   "execution_count": null,
   "metadata": {
    "collapsed": true
   },
   "outputs": [],
   "source": []
  },
  {
   "cell_type": "code",
   "execution_count": null,
   "metadata": {
    "collapsed": true
   },
   "outputs": [],
   "source": []
  },
  {
   "cell_type": "code",
   "execution_count": null,
   "metadata": {
    "collapsed": true
   },
   "outputs": [],
   "source": []
  },
  {
   "cell_type": "code",
   "execution_count": null,
   "metadata": {
    "collapsed": true
   },
   "outputs": [],
   "source": []
  },
  {
   "cell_type": "code",
   "execution_count": null,
   "metadata": {
    "collapsed": true
   },
   "outputs": [],
   "source": []
  },
  {
   "cell_type": "code",
   "execution_count": null,
   "metadata": {
    "collapsed": true
   },
   "outputs": [],
   "source": []
  },
  {
   "cell_type": "code",
   "execution_count": null,
   "metadata": {
    "collapsed": true
   },
   "outputs": [],
   "source": []
  },
  {
   "cell_type": "code",
   "execution_count": null,
   "metadata": {
    "collapsed": true
   },
   "outputs": [],
   "source": []
  },
  {
   "cell_type": "code",
   "execution_count": null,
   "metadata": {
    "collapsed": true
   },
   "outputs": [],
   "source": []
  },
  {
   "cell_type": "code",
   "execution_count": null,
   "metadata": {
    "collapsed": true
   },
   "outputs": [],
   "source": []
  },
  {
   "cell_type": "code",
   "execution_count": null,
   "metadata": {
    "collapsed": true
   },
   "outputs": [],
   "source": []
  },
  {
   "cell_type": "code",
   "execution_count": null,
   "metadata": {
    "collapsed": true
   },
   "outputs": [],
   "source": []
  },
  {
   "cell_type": "code",
   "execution_count": null,
   "metadata": {
    "collapsed": true
   },
   "outputs": [],
   "source": []
  },
  {
   "cell_type": "code",
   "execution_count": null,
   "metadata": {
    "collapsed": true
   },
   "outputs": [],
   "source": []
  },
  {
   "cell_type": "code",
   "execution_count": null,
   "metadata": {
    "collapsed": true
   },
   "outputs": [],
   "source": []
  },
  {
   "cell_type": "code",
   "execution_count": null,
   "metadata": {
    "collapsed": true
   },
   "outputs": [],
   "source": []
  },
  {
   "cell_type": "code",
   "execution_count": null,
   "metadata": {
    "collapsed": true
   },
   "outputs": [],
   "source": []
  },
  {
   "cell_type": "code",
   "execution_count": null,
   "metadata": {
    "collapsed": true
   },
   "outputs": [],
   "source": []
  },
  {
   "cell_type": "code",
   "execution_count": null,
   "metadata": {
    "collapsed": true
   },
   "outputs": [],
   "source": []
  },
  {
   "cell_type": "code",
   "execution_count": null,
   "metadata": {
    "collapsed": true
   },
   "outputs": [],
   "source": []
  },
  {
   "cell_type": "code",
   "execution_count": null,
   "metadata": {
    "collapsed": true
   },
   "outputs": [],
   "source": []
  },
  {
   "cell_type": "code",
   "execution_count": null,
   "metadata": {
    "collapsed": true
   },
   "outputs": [],
   "source": []
  },
  {
   "cell_type": "code",
   "execution_count": null,
   "metadata": {
    "collapsed": true
   },
   "outputs": [],
   "source": []
  },
  {
   "cell_type": "code",
   "execution_count": null,
   "metadata": {
    "collapsed": true
   },
   "outputs": [],
   "source": []
  },
  {
   "cell_type": "code",
   "execution_count": null,
   "metadata": {
    "collapsed": true
   },
   "outputs": [],
   "source": []
  },
  {
   "cell_type": "code",
   "execution_count": null,
   "metadata": {
    "collapsed": true
   },
   "outputs": [],
   "source": []
  },
  {
   "cell_type": "code",
   "execution_count": null,
   "metadata": {
    "collapsed": true
   },
   "outputs": [],
   "source": []
  },
  {
   "cell_type": "code",
   "execution_count": 19,
   "metadata": {},
   "outputs": [
    {
     "data": {
      "image/png": "[encoded data removed]",
      "text/plain": [
       "<matplotlib.figure.Figure at 0x199069e8e48>"
      ]
     },
     "metadata": {},
     "output_type": "display_data"
    }
   ],
   "source": [
    "from matplotlib import pyplot as plt     \n",
    "from matplotlib import animation     \n",
    "import numpy as np\n",
    "\n",
    "# first set up the figure, the axis, and the plot element we want to animate     \n",
    "fig = plt.figure()   \n",
    "ax1 = fig.add_subplot(2,1,1,xlim=(0, 2), ylim=(-4, 4))  \n",
    "ax2 = fig.add_subplot(2,1,2,xlim=(0, 2), ylim=(-4, 4))  \n",
    "line, = ax1.plot([], [], lw=2)    \n",
    "line2, = ax2.plot([], [], lw=2)    \n",
    "def init():    \n",
    "    line.set_data([], [])    \n",
    "    line2.set_data([], [])    \n",
    "    return line,line2  \n",
    "  \n",
    "# animation function.  this is called sequentially     \n",
    "def animate(i):  \n",
    "  \n",
    "    x = np.linspace(0, 2, 100)     \n",
    "    y = np.sin(2 * np.pi * (x - 0.01 * i))    \n",
    "    line.set_data(x, y)        \n",
    "  \n",
    "  \n",
    "    x2 = np.linspace(0, 2, 100)     \n",
    "    y2 = np.cos(2 * np.pi * (x2 - 0.01 * i))* np.sin(2 * np.pi * (x - 0.01 * i))    \n",
    "    line2.set_data(x2, y2)     \n",
    "    return line,line2  \n",
    "  \n",
    "anim1=animation.FuncAnimation(fig, animate, init_func=init,  frames=50, interval=10)    \n",
    "plt.show() "
   ]
  },
  {
   "cell_type": "code",
   "execution_count": null,
   "metadata": {
    "collapsed": true
   },
   "outputs": [],
   "source": []
  }
 ],
 "metadata": {
  "kernelspec": {
   "display_name": "Python 3",
   "language": "python",
   "name": "python3"
  },
  "language_info": {
   "codemirror_mode": {
    "name": "ipython",
    "version": 3
   },
   "file_extension": ".py",
   "mimetype": "text/x-python",
   "name": "python",
   "nbconvert_exporter": "python",
   "pygments_lexer": "ipython3",
   "version": "3.6.1"
  }
 },
 "nbformat": 4,
 "nbformat_minor": 2
}
