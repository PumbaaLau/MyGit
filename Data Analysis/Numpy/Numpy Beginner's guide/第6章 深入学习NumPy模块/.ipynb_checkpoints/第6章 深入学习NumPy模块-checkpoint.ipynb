{
 "cells": [
  {
   "cell_type": "markdown",
   "metadata": {},
   "source": [
    "# 第6章 深入学习NumPy模块"
   ]
  },
  {
   "cell_type": "markdown",
   "metadata": {},
   "source": [
    "本章涵盖以下内容：\n",
    "-  linalg 模块；\n",
    "-  fft 模块；\n",
    "-  随机数；\n",
    "-  连续分布和离散分布。"
   ]
  },
  {
   "cell_type": "markdown",
   "metadata": {},
   "source": [
    "## 6.1 线性代数"
   ]
  },
  {
   "cell_type": "markdown",
   "metadata": {},
   "source": [
    "线性代数是数学的一个重要分支。 numpy.linalg 模块包含线性代数的函数。使用这个模块，我们可以计算逆矩阵、求特征值、解线性方程组以及求解行列式等。"
   ]
  },
  {
   "cell_type": "markdown",
   "metadata": {},
   "source": [
    "## 6.2 动手实践：计算逆矩阵"
   ]
  },
  {
   "cell_type": "markdown",
   "metadata": {},
   "source": [
    "#### 刚才做了些什么"
   ]
  },
  {
   "cell_type": "code",
   "execution_count": 15,
   "metadata": {},
   "outputs": [
    {
     "name": "stdout",
     "output_type": "stream",
     "text": [
      "A\n",
      " [[ 0  1  2]\n",
      " [ 1  0  3]\n",
      " [ 4 -3  8]]\n",
      "inverse of A\n",
      " [[-4.5  7.  -1.5]\n",
      " [-2.   4.  -1. ]\n",
      " [ 1.5 -2.   0.5]]\n",
      "Check\n",
      " [[ 1.  0.  0.]\n",
      " [ 0.  1.  0.]\n",
      " [ 0.  0.  1.]]\n"
     ]
    }
   ],
   "source": [
    "import numpy as np\n",
    "\n",
    "A = np.mat(\"0 1 2; 1 0 3; 4 -3 8\")\n",
    "print(\"A\\n\", A)\n",
    "\n",
    "inverse = np.linalg.inv(A)\n",
    "print(\"inverse of A\\n\", inverse)\n",
    "\n",
    "print(\"Check\\n\", A * inverse)"
   ]
  },
  {
   "cell_type": "markdown",
   "metadata": {},
   "source": [
    "## 6.3 求解线性方程组"
   ]
  },
  {
   "cell_type": "markdown",
   "metadata": {},
   "source": [
    "矩阵可以对向量进行线性变换，这对应于数学中的线性方程组。 numpy.linalg 中的函数solve 可以求解形如 Ax = b 的线性方程组，其中 A 为矩阵，b 为一维或二维的数组，x 是未知变量。我们将练习使用 dot 函数，用于计算两个浮点数数组的点积。"
   ]
  },
  {
   "cell_type": "markdown",
   "metadata": {},
   "source": [
    "## 6.4 动手实践：求解线性方程组"
   ]
  },
  {
   "cell_type": "markdown",
   "metadata": {},
   "source": [
    "#### 刚才做了些什么"
   ]
  },
  {
   "cell_type": "code",
   "execution_count": 16,
   "metadata": {},
   "outputs": [
    {
     "name": "stdout",
     "output_type": "stream",
     "text": [
      "A\n",
      " [[ 1 -2  1]\n",
      " [ 0  2 -8]\n",
      " [-4  5  9]]\n",
      "b\n",
      " [ 0  8 -9]\n",
      "Solution [ 29.  16.   3.]\n",
      "Check\n",
      " [[ 0.  8. -9.]]\n"
     ]
    }
   ],
   "source": [
    "import numpy as np\n",
    "\n",
    "A = np.mat(\"1 -2 1; 0 2 -8; -4 5 9\")\n",
    "print(\"A\\n\", A)\n",
    "\n",
    "b = np.array([0, 8, -9])\n",
    "print(\"b\\n\", b)\n",
    "\n",
    "x = np.linalg.solve(A, b)\n",
    "print(\"Solution\", x)\n",
    "\n",
    "print(\"Check\\n\", np.dot(A, x))"
   ]
  },
  {
   "cell_type": "markdown",
   "metadata": {},
   "source": [
    "## 6.5 特征值和特征向量"
   ]
  },
  {
   "cell_type": "markdown",
   "metadata": {},
   "source": [
    "## 6.6 动手实践：求解特征值和特征向量"
   ]
  },
  {
   "cell_type": "markdown",
   "metadata": {},
   "source": [
    "#### 刚才做了些什么"
   ]
  },
  {
   "cell_type": "code",
   "execution_count": 21,
   "metadata": {},
   "outputs": [
    {
     "name": "stdout",
     "output_type": "stream",
     "text": [
      "A\n",
      " [[ 3 -2]\n",
      " [ 1  0]]\n",
      "Eigenvalues [ 2.  1.]\n",
      "First tuple of eig [ 2.  1.]\n",
      "Second tuple of eig\n",
      " [[ 0.89442719  0.70710678]\n",
      " [ 0.4472136   0.70710678]]\n",
      "Left [[ 1.78885438]\n",
      " [ 0.89442719]]\n",
      "Right [[ 1.78885438]\n",
      " [ 0.89442719]]\n",
      "\n",
      "Left [[ 0.70710678]\n",
      " [ 0.70710678]]\n",
      "Right [[ 0.70710678]\n",
      " [ 0.70710678]]\n",
      "\n"
     ]
    }
   ],
   "source": [
    "import numpy as np\n",
    "\n",
    "A = np.mat(\"3 -2; 1 0\")\n",
    "print(\"A\\n\", A)\n",
    "\n",
    "print(\"Eigenvalues\", np.linalg.eigvals(A))\n",
    "\n",
    "eigenvalues, eigenvectors = np.linalg.eig(A)\n",
    "print(\"First tuple of eig\", eigenvalues)\n",
    "print(\"Second tuple of eig\\n\", eigenvectors)\n",
    "\n",
    "for i in range(len(eigenvalues)):\n",
    "    print(\"Left\", np.dot(A, eigenvectors[:, i]))\n",
    "    print(\"Right\", eigenvalues[i] * eigenvectors[:, i])\n",
    "    print()"
   ]
  },
  {
   "cell_type": "markdown",
   "metadata": {},
   "source": [
    "## 6.7 奇异值分解"
   ]
  },
  {
   "cell_type": "markdown",
   "metadata": {},
   "source": [
    "## 6.8 动手实践：分解矩阵"
   ]
  },
  {
   "cell_type": "markdown",
   "metadata": {},
   "source": [
    "#### 刚才做了些什么"
   ]
  },
  {
   "cell_type": "code",
   "execution_count": 27,
   "metadata": {},
   "outputs": [
    {
     "name": "stdout",
     "output_type": "stream",
     "text": [
      "A\n",
      " [[ 4 11 14]\n",
      " [ 8  7 -2]]\n",
      "U\n",
      " [[-0.9486833  -0.31622777]\n",
      " [-0.31622777  0.9486833 ]]\n",
      "Sigma\n",
      " [ 18.97366596   9.48683298]\n",
      "V\n",
      " [[-0.33333333 -0.66666667 -0.66666667]\n",
      " [ 0.66666667  0.33333333 -0.66666667]]\n",
      "Product\n",
      " [[  4.  11.  14.]\n",
      " [  8.   7.  -2.]]\n"
     ]
    }
   ],
   "source": [
    "import numpy as np\n",
    "\n",
    "A = np.mat(\"4 11 14; 8 7 -2\")\n",
    "print(\"A\\n\", A)\n",
    "\n",
    "U, Sigma, V = np.linalg.svd(A, full_matrices=False)\n",
    "\n",
    "print(\"U\\n\", U)\n",
    "print(\"Sigma\\n\", Sigma)\n",
    "print(\"V\\n\", V)\n",
    "\n",
    "print(\"Product\\n\", U * np.diag(Sigma) * V)"
   ]
  },
  {
   "cell_type": "markdown",
   "metadata": {
    "collapsed": true
   },
   "source": [
    "## 6.9 广义逆矩阵"
   ]
  },
  {
   "cell_type": "markdown",
   "metadata": {},
   "source": [
    "## 6.10 动手实践：计算广义逆矩阵"
   ]
  },
  {
   "cell_type": "markdown",
   "metadata": {},
   "source": [
    "#### 刚才做了些什么"
   ]
  },
  {
   "cell_type": "code",
   "execution_count": 4,
   "metadata": {},
   "outputs": [
    {
     "name": "stdout",
     "output_type": "stream",
     "text": [
      "A\n",
      " [[ 4 11 14]\n",
      " [ 8  7 -2]]\n",
      "Pseudo inverse\n",
      " [[-0.00555556  0.07222222]\n",
      " [ 0.02222222  0.04444444]\n",
      " [ 0.05555556 -0.05555556]]\n",
      "Check [[  1.00000000e+00  -4.44089210e-16]\n",
      " [ -1.38777878e-16   1.00000000e+00]]\n"
     ]
    }
   ],
   "source": [
    "import numpy as np\n",
    "\n",
    "A = np.mat(\"4 11 14; 8 7 -2\")\n",
    "print(\"A\\n\", A)\n",
    "\n",
    "pesudoinv = np.linalg.pinv(A)\n",
    "print(\"Pseudo inverse\\n\", pesudoinv)\n",
    "\n",
    "print(\"Check\", A * pesudoinv)"
   ]
  },
  {
   "cell_type": "markdown",
   "metadata": {},
   "source": [
    "## 6.11 行列式"
   ]
  },
  {
   "cell_type": "markdown",
   "metadata": {},
   "source": [
    "## 6.12 动手实践：计算矩阵的行列式"
   ]
  },
  {
   "cell_type": "markdown",
   "metadata": {},
   "source": [
    "#### 刚才做了些什么"
   ]
  },
  {
   "cell_type": "code",
   "execution_count": 5,
   "metadata": {},
   "outputs": [
    {
     "name": "stdout",
     "output_type": "stream",
     "text": [
      "A\n",
      " [[3 4]\n",
      " [5 6]]\n",
      "Deerminant -2.0\n"
     ]
    }
   ],
   "source": [
    "import numpy as np\n",
    "\n",
    "A = np.mat(\"3 4; 5 6\")\n",
    "print(\"A\\n\", A)\n",
    "\n",
    "print(\"Deerminant\", np.linalg.det(A))"
   ]
  },
  {
   "cell_type": "markdown",
   "metadata": {},
   "source": [
    "## 6.13 快速傅里叶变换"
   ]
  },
  {
   "cell_type": "markdown",
   "metadata": {},
   "source": [
    "## 6.14 动手实践：计算傅里叶变换"
   ]
  },
  {
   "cell_type": "markdown",
   "metadata": {},
   "source": [
    "#### 刚才做了些什么"
   ]
  },
  {
   "cell_type": "code",
   "execution_count": 7,
   "metadata": {},
   "outputs": [
    {
     "name": "stdout",
     "output_type": "stream",
     "text": [
      "True\n"
     ]
    },
    {
     "name": "stderr",
     "output_type": "stream",
     "text": [
      "D:\\Anaconda3\\lib\\site-packages\\numpy\\core\\numeric.py:531: ComplexWarning: Casting complex values to real discards the imaginary part\n",
      "  return array(a, dtype, copy=False, order=order)\n"
     ]
    },
    {
     "data": {
      "image/png": "[encoded data removed]",
      "text/plain": [
       "<matplotlib.figure.Figure at 0x26345adb748>"
      ]
     },
     "metadata": {},
     "output_type": "display_data"
    }
   ],
   "source": [
    "import numpy as np\n",
    "import matplotlib.pyplot as plt\n",
    "\n",
    "x = np.linspace(0, 2 * np.pi, 30)\n",
    "wave = np.cos(x)\n",
    "\n",
    "transformed = np.fft.fft(wave)\n",
    "print(np.all(np.abs(np.fft.ifft(transformed) - wave) < 10 ** -9))\n",
    "\n",
    "plt.plot(transformed)\n",
    "plt.show()"
   ]
  },
  {
   "cell_type": "markdown",
   "metadata": {},
   "source": [
    "## 6.17 随机数"
   ]
  },
  {
   "cell_type": "markdown",
   "metadata": {},
   "source": [
    "　　随机数在蒙特卡罗方法（Monto Carlo method）、随机积分等很多方面都有应用。真随机数的产生很困难，因此在实际应用中我们通常使用伪随机数。在大部分应用场景下，伪随机数已经足够随机，当然一些特殊应用除外。有关随机数的函数可以在NumPy的random模块中找到。随机数发生器的核心算法是基于马特赛特旋转演算法（Mersenne Twister algorithm）的。随机数可以从离散分布或连续分布中产生。分布函数有一个可选的参数size，用于指定需要产生的随机数的数量。该参数允许设置为一个整数或元组，生成的随机数将填满指定形状的数组。支持的离散分布包括几何分布、超几何分布和二项分布等。"
   ]
  },
  {
   "cell_type": "markdown",
   "metadata": {},
   "source": [
    "## 6.18 动手实践：硬币赌博游戏"
   ]
  },
  {
   "cell_type": "markdown",
   "metadata": {},
   "source": [
    "(1) 初始化一个全0的数组来存放剩余资本。以参数10000调用binomial函数，意味着我们将在赌场中玩10000轮硬币赌博游戏。"
   ]
  },
  {
   "cell_type": "code",
   "execution_count": 9,
   "metadata": {
    "collapsed": true
   },
   "outputs": [],
   "source": [
    "cash = np.zeros(10000)\n",
    "cash[0] = 1000\n",
    "outcome = np.random.binomial(9, 0.5, size=len(cash))"
   ]
  },
  {
   "cell_type": "code",
   "execution_count": 10,
   "metadata": {},
   "outputs": [
    {
     "data": {
      "text/plain": [
       "array([3, 2, 3, ..., 5, 5, 2])"
      ]
     },
     "execution_count": 10,
     "metadata": {},
     "output_type": "execute_result"
    }
   ],
   "source": [
    "outcome"
   ]
  },
  {
   "cell_type": "markdown",
   "metadata": {},
   "source": [
    "(2) 模拟每一轮抛硬币的结果并更新cash数组。打印出outcome的最小值和最大值，以检查输出中是否有任何异常值："
   ]
  },
  {
   "cell_type": "code",
   "execution_count": 11,
   "metadata": {},
   "outputs": [
    {
     "name": "stdout",
     "output_type": "stream",
     "text": [
      "0 9\n"
     ]
    }
   ],
   "source": [
    "for i in range(1, len(cash)):\n",
    "    if outcome[i] < 5:\n",
    "        cash[i] = cash[i - 1] - 1\n",
    "    elif outcome[i] < 10:\n",
    "        cash[i] = cash[i - 1] + 1\n",
    "    else:\n",
    "        raise AssertionError(\"Unexpected outcome\" + outcome)\n",
    "        \n",
    "print(outcome.min(), outcome.max())"
   ]
  },
  {
   "cell_type": "markdown",
   "metadata": {},
   "source": [
    "(3) 使用Matplotlib绘制cash数组："
   ]
  },
  {
   "cell_type": "code",
   "execution_count": 13,
   "metadata": {},
   "outputs": [
    {
     "data": {
      "image/png": "[encoded data removed]",
      "text/plain": [
       "<matplotlib.figure.Figure at 0x26346b189e8>"
      ]
     },
     "metadata": {},
     "output_type": "display_data"
    }
   ],
   "source": [
    "plt.plot(np.arange(len(cash)), cash)\n",
    "plt.show()"
   ]
  },
  {
   "cell_type": "markdown",
   "metadata": {},
   "source": [
    "#### 刚才做了些什么"
   ]
  },
  {
   "cell_type": "code",
   "execution_count": 16,
   "metadata": {},
   "outputs": [
    {
     "name": "stdout",
     "output_type": "stream",
     "text": [
      "0 9\n"
     ]
    },
    {
     "data": {
      "image/png": "[encoded data removed]",
      "text/plain": [
       "<matplotlib.figure.Figure at 0x26346d5c5c0>"
      ]
     },
     "metadata": {},
     "output_type": "display_data"
    }
   ],
   "source": [
    "import numpy as np\n",
    "import matplotlib.pyplot as plt\n",
    "\n",
    "cash = np.zeros(10000)\n",
    "cash[0] = 1000\n",
    "outcome = np.random.binomial(9, 0.5, size=len(cash))\n",
    "\n",
    "for i in range(1, len(cash)):\n",
    "    if outcome[i] < 5:\n",
    "        cash[i] = cash[i - 1] - 1\n",
    "    elif outcome[i] < 10:\n",
    "        cash[i] = cash[i - 1] + 1\n",
    "    else:\n",
    "        raise AssertionError(\"Unexpected outcome \" + outcome)\n",
    "        \n",
    "print(outcome.min(), outcome.max())\n",
    "\n",
    "plt.plot(np.arange(len(cash)), cash)\n",
    "plt.show()"
   ]
  },
  {
   "cell_type": "markdown",
   "metadata": {},
   "source": [
    "## 6.19 超几何分布"
   ]
  },
  {
   "cell_type": "markdown",
   "metadata": {},
   "source": [
    "　　超几何分布（hypergeometric distribution）是一种离散概率分布，它描述的是一个罐子里有两种物件，无放回地从中抽取指定数量的物件后，抽出指定种类物件的数量。 NumPy random模块中的hypergeometric函数可以模拟这种分布。"
   ]
  },
  {
   "cell_type": "markdown",
   "metadata": {},
   "source": [
    "## 6.20 动手实践：模拟游戏秀节目"
   ]
  },
  {
   "cell_type": "markdown",
   "metadata": {},
   "source": [
    "(1) 使用hypergeometric函数初始化游戏的结果矩阵。该函数的第一个参数为罐中普通球\n",
    "的数量，第二个参数为“倒霉球”的数量，第三个参数为每次采样（摸球）的数量。"
   ]
  },
  {
   "cell_type": "code",
   "execution_count": 30,
   "metadata": {},
   "outputs": [
    {
     "name": "stdout",
     "output_type": "stream",
     "text": [
      "outcomes [3 3 3 3 3 3 3 3 3 3 3 3 3 3 3 3 3 3 3 2 3 3 2 3 3 2 3 3 3 3 2 3 3 3 3 3 3\n",
      " 2 3 3 3 3 3 3 3 3 3 3 3 3 3 3 3 3 2 2 3 3 3 3 3 3 3 3 3 3 3 3 3 3 2 3 3 3\n",
      " 3 3 3 3 3 3 3 3 2 3 3 3 3 3 3 3 3 3 3 3 3 3 3 3 3 2]\n"
     ]
    }
   ],
   "source": [
    "points = np.zeros(100)\n",
    "outcomes = np.random.hypergeometric(25, 1, 3, size=len(points))\n",
    "print(\"outcomes\", outcomes)"
   ]
  },
  {
   "cell_type": "markdown",
   "metadata": {},
   "source": [
    "(2) 根据上一步产生的游戏结果计算相应的得分。"
   ]
  },
  {
   "cell_type": "code",
   "execution_count": 31,
   "metadata": {},
   "outputs": [],
   "source": [
    "for i in range(len(points)):\n",
    "    if outcomes[i] == 3:\n",
    "        points[i] = points[i - 1] + 1\n",
    "    elif outcomes[i] == 2:\n",
    "        points[i] = points[i - 1] - 6\n",
    "    else:\n",
    "        print(outcomes[i])"
   ]
  },
  {
   "cell_type": "markdown",
   "metadata": {},
   "source": [
    "(3) 使用Matplotlib绘制points数组。"
   ]
  },
  {
   "cell_type": "code",
   "execution_count": 32,
   "metadata": {},
   "outputs": [
    {
     "data": {
      "image/png": "[encoded data removed]",
      "text/plain": [
       "<matplotlib.figure.Figure at 0x26347ffa2b0>"
      ]
     },
     "metadata": {},
     "output_type": "display_data"
    }
   ],
   "source": [
    "plt.plot(np.arange(len(points)), points)\n",
    "plt.show()"
   ]
  },
  {
   "cell_type": "markdown",
   "metadata": {},
   "source": [
    "#### 刚才做了些什么"
   ]
  },
  {
   "cell_type": "code",
   "execution_count": 22,
   "metadata": {},
   "outputs": [
    {
     "data": {
      "image/png": "[encoded data removed]",
      "text/plain": [
       "<matplotlib.figure.Figure at 0x26346f49b00>"
      ]
     },
     "metadata": {},
     "output_type": "display_data"
    }
   ],
   "source": [
    "import numpy as np\n",
    "import matplotlib.pyplot as plt\n",
    "\n",
    "points = np.zeros(100)\n",
    "outcomes = np.random.hypergeometric(25, 1, 3, size=len(points))\n",
    "\n",
    "for i in range(len(points)):\n",
    "    if outcomes[i] == 3:\n",
    "        points[i] = points[i - 1] + 1\n",
    "    elif outcomes[i] == 2:\n",
    "        points[i] = points[i - 1] - 6\n",
    "    else:\n",
    "        print(outcomes[i])\n",
    "        \n",
    "plt.plot(np.arange(len(points)), points)\n",
    "plt.show()"
   ]
  },
  {
   "cell_type": "markdown",
   "metadata": {},
   "source": [
    "## 6.21 连续分布"
   ]
  },
  {
   "cell_type": "code",
   "execution_count": null,
   "metadata": {
    "collapsed": true
   },
   "outputs": [],
   "source": []
  },
  {
   "cell_type": "code",
   "execution_count": null,
   "metadata": {
    "collapsed": true
   },
   "outputs": [],
   "source": []
  },
  {
   "cell_type": "code",
   "execution_count": null,
   "metadata": {
    "collapsed": true
   },
   "outputs": [],
   "source": []
  },
  {
   "cell_type": "code",
   "execution_count": null,
   "metadata": {
    "collapsed": true
   },
   "outputs": [],
   "source": []
  },
  {
   "cell_type": "code",
   "execution_count": null,
   "metadata": {
    "collapsed": true
   },
   "outputs": [],
   "source": []
  },
  {
   "cell_type": "code",
   "execution_count": null,
   "metadata": {
    "collapsed": true
   },
   "outputs": [],
   "source": []
  },
  {
   "cell_type": "code",
   "execution_count": null,
   "metadata": {
    "collapsed": true
   },
   "outputs": [],
   "source": []
  },
  {
   "cell_type": "code",
   "execution_count": null,
   "metadata": {
    "collapsed": true
   },
   "outputs": [],
   "source": []
  },
  {
   "cell_type": "code",
   "execution_count": null,
   "metadata": {
    "collapsed": true
   },
   "outputs": [],
   "source": []
  },
  {
   "cell_type": "code",
   "execution_count": null,
   "metadata": {
    "collapsed": true
   },
   "outputs": [],
   "source": []
  },
  {
   "cell_type": "code",
   "execution_count": null,
   "metadata": {
    "collapsed": true
   },
   "outputs": [],
   "source": []
  },
  {
   "cell_type": "code",
   "execution_count": null,
   "metadata": {
    "collapsed": true
   },
   "outputs": [],
   "source": []
  },
  {
   "cell_type": "code",
   "execution_count": null,
   "metadata": {
    "collapsed": true
   },
   "outputs": [],
   "source": []
  },
  {
   "cell_type": "code",
   "execution_count": null,
   "metadata": {
    "collapsed": true
   },
   "outputs": [],
   "source": []
  },
  {
   "cell_type": "code",
   "execution_count": null,
   "metadata": {
    "collapsed": true
   },
   "outputs": [],
   "source": []
  },
  {
   "cell_type": "code",
   "execution_count": null,
   "metadata": {
    "collapsed": true
   },
   "outputs": [],
   "source": []
  },
  {
   "cell_type": "code",
   "execution_count": null,
   "metadata": {
    "collapsed": true
   },
   "outputs": [],
   "source": []
  },
  {
   "cell_type": "code",
   "execution_count": null,
   "metadata": {
    "collapsed": true
   },
   "outputs": [],
   "source": []
  },
  {
   "cell_type": "code",
   "execution_count": null,
   "metadata": {
    "collapsed": true
   },
   "outputs": [],
   "source": []
  },
  {
   "cell_type": "code",
   "execution_count": null,
   "metadata": {
    "collapsed": true
   },
   "outputs": [],
   "source": []
  },
  {
   "cell_type": "code",
   "execution_count": null,
   "metadata": {
    "collapsed": true
   },
   "outputs": [],
   "source": []
  },
  {
   "cell_type": "code",
   "execution_count": null,
   "metadata": {
    "collapsed": true
   },
   "outputs": [],
   "source": []
  },
  {
   "cell_type": "code",
   "execution_count": null,
   "metadata": {
    "collapsed": true
   },
   "outputs": [],
   "source": []
  },
  {
   "cell_type": "code",
   "execution_count": null,
   "metadata": {
    "collapsed": true
   },
   "outputs": [],
   "source": []
  },
  {
   "cell_type": "code",
   "execution_count": null,
   "metadata": {
    "collapsed": true
   },
   "outputs": [],
   "source": []
  },
  {
   "cell_type": "code",
   "execution_count": null,
   "metadata": {
    "collapsed": true
   },
   "outputs": [],
   "source": []
  },
  {
   "cell_type": "code",
   "execution_count": null,
   "metadata": {
    "collapsed": true
   },
   "outputs": [],
   "source": []
  },
  {
   "cell_type": "code",
   "execution_count": null,
   "metadata": {
    "collapsed": true
   },
   "outputs": [],
   "source": []
  },
  {
   "cell_type": "code",
   "execution_count": null,
   "metadata": {
    "collapsed": true
   },
   "outputs": [],
   "source": []
  },
  {
   "cell_type": "code",
   "execution_count": null,
   "metadata": {
    "collapsed": true
   },
   "outputs": [],
   "source": []
  },
  {
   "cell_type": "code",
   "execution_count": null,
   "metadata": {
    "collapsed": true
   },
   "outputs": [],
   "source": []
  },
  {
   "cell_type": "code",
   "execution_count": null,
   "metadata": {
    "collapsed": true
   },
   "outputs": [],
   "source": []
  },
  {
   "cell_type": "code",
   "execution_count": null,
   "metadata": {
    "collapsed": true
   },
   "outputs": [],
   "source": []
  },
  {
   "cell_type": "code",
   "execution_count": null,
   "metadata": {
    "collapsed": true
   },
   "outputs": [],
   "source": []
  },
  {
   "cell_type": "code",
   "execution_count": null,
   "metadata": {
    "collapsed": true
   },
   "outputs": [],
   "source": []
  },
  {
   "cell_type": "code",
   "execution_count": null,
   "metadata": {
    "collapsed": true
   },
   "outputs": [],
   "source": []
  }
 ],
 "metadata": {
  "kernelspec": {
   "display_name": "Python 3",
   "language": "python",
   "name": "python3"
  },
  "language_info": {
   "codemirror_mode": {
    "name": "ipython",
    "version": 3
   },
   "file_extension": ".py",
   "mimetype": "text/x-python",
   "name": "python",
   "nbconvert_exporter": "python",
   "pygments_lexer": "ipython3",
   "version": "3.6.1"
  }
 },
 "nbformat": 4,
 "nbformat_minor": 2
}
