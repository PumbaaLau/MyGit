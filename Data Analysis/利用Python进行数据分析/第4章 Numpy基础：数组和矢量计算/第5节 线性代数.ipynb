{
 "cells": [
  {
   "cell_type": "markdown",
   "metadata": {},
   "source": [
    "# 线性代数"
   ]
  },
  {
   "cell_type": "code",
   "execution_count": 1,
   "metadata": {
    "collapsed": true
   },
   "outputs": [],
   "source": [
    "import numpy as np"
   ]
  },
  {
   "cell_type": "code",
   "execution_count": 2,
   "metadata": {
    "collapsed": true
   },
   "outputs": [],
   "source": [
    "x = np.array([[1., 2., 3.], [4., 5., 6.]])\n",
    "\n",
    "y = np.array([[6., 23.], [-1, 7], [8 ,9]])"
   ]
  },
  {
   "cell_type": "code",
   "execution_count": 3,
   "metadata": {},
   "outputs": [
    {
     "data": {
      "text/plain": [
       "array([[ 1.,  2.,  3.],\n",
       "       [ 4.,  5.,  6.]])"
      ]
     },
     "execution_count": 3,
     "metadata": {},
     "output_type": "execute_result"
    }
   ],
   "source": [
    "x"
   ]
  },
  {
   "cell_type": "code",
   "execution_count": 4,
   "metadata": {},
   "outputs": [
    {
     "data": {
      "text/plain": [
       "array([[  6.,  23.],\n",
       "       [ -1.,   7.],\n",
       "       [  8.,   9.]])"
      ]
     },
     "execution_count": 4,
     "metadata": {},
     "output_type": "execute_result"
    }
   ],
   "source": [
    "y"
   ]
  },
  {
   "cell_type": "code",
   "execution_count": 5,
   "metadata": {},
   "outputs": [
    {
     "data": {
      "text/plain": [
       "array([[  28.,   64.],\n",
       "       [  67.,  181.]])"
      ]
     },
     "execution_count": 5,
     "metadata": {},
     "output_type": "execute_result"
    }
   ],
   "source": [
    "x.dot(y)"
   ]
  },
  {
   "cell_type": "code",
   "execution_count": 6,
   "metadata": {},
   "outputs": [
    {
     "data": {
      "text/plain": [
       "array([[  28.,   64.],\n",
       "       [  67.,  181.]])"
      ]
     },
     "execution_count": 6,
     "metadata": {},
     "output_type": "execute_result"
    }
   ],
   "source": [
    "np.dot(x, y)"
   ]
  },
  {
   "cell_type": "code",
   "execution_count": 7,
   "metadata": {},
   "outputs": [
    {
     "data": {
      "text/plain": [
       "array([  6.,  15.])"
      ]
     },
     "execution_count": 7,
     "metadata": {},
     "output_type": "execute_result"
    }
   ],
   "source": [
    "np.dot(x, np.ones(3))"
   ]
  },
  {
   "cell_type": "code",
   "execution_count": 8,
   "metadata": {},
   "outputs": [
    {
     "data": {
      "text/plain": [
       "(2,)"
      ]
     },
     "execution_count": 8,
     "metadata": {},
     "output_type": "execute_result"
    }
   ],
   "source": [
    "np.dot(x, np.ones(3)).shape"
   ]
  },
  {
   "cell_type": "markdown",
   "metadata": {},
   "source": [
    "numpy.linalg中有一组标准的矩阵分解运算以及诸如求逆和行列式之类的东西。"
   ]
  },
  {
   "cell_type": "code",
   "execution_count": 9,
   "metadata": {},
   "outputs": [
    {
     "data": {
      "text/plain": [
       "array([[ 0.41541444, -2.10134245,  0.17872742, -0.34249204, -0.61254865],\n",
       "       [ 1.62432873, -1.43096511, -0.35978288,  0.14270996,  0.3156682 ],\n",
       "       [ 1.30678077, -1.02691084,  1.06586171,  0.22613196, -1.77087724],\n",
       "       [ 1.00897459,  0.00981112, -0.14507118,  1.50925664,  0.05680925],\n",
       "       [-0.6321014 ,  0.47133159, -1.58505039, -2.31859387,  0.20221118]])"
      ]
     },
     "execution_count": 9,
     "metadata": {},
     "output_type": "execute_result"
    }
   ],
   "source": [
    "X = np.random.randn(5, 5)\n",
    "\n",
    "X"
   ]
  },
  {
   "cell_type": "code",
   "execution_count": 10,
   "metadata": {},
   "outputs": [
    {
     "data": {
      "text/plain": [
       "array([[ 5.93627088, -4.82726327,  1.73822733,  3.3734247 , -2.12635982],\n",
       "       [-4.82726327,  7.74009684, -1.70378336, -0.79475633,  2.74986321],\n",
       "       [ 1.73822733, -1.70378336,  3.8308788 ,  3.58460658, -2.43931779],\n",
       "       [ 3.3734247 , -0.79475633,  3.58460658,  7.84253575, -0.52871577],\n",
       "       [-2.12635982,  2.74986321, -2.43931779, -0.52871577,  3.6549851 ]])"
      ]
     },
     "execution_count": 10,
     "metadata": {},
     "output_type": "execute_result"
    }
   ],
   "source": [
    "mat = X.T.dot(X)\n",
    "\n",
    "mat"
   ]
  },
  {
   "cell_type": "code",
   "execution_count": 11,
   "metadata": {},
   "outputs": [
    {
     "data": {
      "text/plain": [
       "array([[ 0.93537977,  0.46192735,  0.88322766, -0.71319527,  0.68293364],\n",
       "       [ 0.46192735,  0.40835152,  0.37385938, -0.31706018,  0.16515527],\n",
       "       [ 0.88322766,  0.37385938,  2.02097181, -1.17056645,  1.41201484],\n",
       "       [-0.71319527, -0.31706018, -1.17056645,  0.88122566, -0.83012741],\n",
       "       [ 0.68293364,  0.16515527,  1.41201484, -0.83012741,  1.36894121]])"
      ]
     },
     "execution_count": 11,
     "metadata": {},
     "output_type": "execute_result"
    }
   ],
   "source": [
    "np.linalg.inv(mat)"
   ]
  },
  {
   "cell_type": "code",
   "execution_count": 12,
   "metadata": {},
   "outputs": [
    {
     "data": {
      "text/plain": [
       "array([[  1.00000000e+00,  -3.31635553e-17,  -3.57144815e-17,\n",
       "          4.52100376e-16,  -1.38283114e-15],\n",
       "       [ -1.33670995e-16,   1.00000000e+00,  -3.23023509e-16,\n",
       "          4.57178328e-17,   2.24496186e-16],\n",
       "       [ -2.52451930e-16,  -1.31626695e-16,   1.00000000e+00,\n",
       "          2.59010671e-16,  -6.91009759e-16],\n",
       "       [ -4.61457878e-16,  -1.10084305e-16,  -9.52683477e-16,\n",
       "          1.00000000e+00,  -1.57697546e-15],\n",
       "       [ -2.56231748e-16,  -1.72793731e-16,  -7.14853351e-16,\n",
       "         -2.81252310e-17,   1.00000000e+00]])"
      ]
     },
     "execution_count": 12,
     "metadata": {},
     "output_type": "execute_result"
    }
   ],
   "source": [
    "mat.dot(np.linalg.inv(mat))"
   ]
  },
  {
   "cell_type": "code",
   "execution_count": 13,
   "metadata": {},
   "outputs": [
    {
     "data": {
      "text/plain": [
       "array([[-8.80139859,  8.80646852, -4.82666528, -6.55275013,  4.50978856],\n",
       "       [ 0.        , -4.09315832, -1.18340895, -5.24692473, -1.57833464],\n",
       "       [ 0.        ,  0.        , -3.83437941, -3.26388847,  2.25264155],\n",
       "       [ 0.        ,  0.        ,  0.        , -2.3503664 , -1.88948593],\n",
       "       [ 0.        ,  0.        ,  0.        ,  0.        ,  0.44496896]])"
      ]
     },
     "execution_count": 13,
     "metadata": {},
     "output_type": "execute_result"
    }
   ],
   "source": [
    "q, r = np.linalg.qr(mat)\n",
    "\n",
    "r"
   ]
  },
  {
   "cell_type": "markdown",
   "metadata": {
    "collapsed": true
   },
   "source": [
    "| 函数 | 说明 |\n",
    "| :-: | :- |\n",
    "| diag | 以一维数组的形式返回方阵的对角线（或非对角线）元素，或将一维数组转换为方阵（非对角线元素为0） |\n",
    "| dot | 矩阵乘法 |\n",
    "| trace | 计算对角线元素的和 |\n",
    "| det | 计算矩阵行列式 |\n",
    "| eig | 计算方阵的特征值和特征向量 |\n",
    "| inv | 计算方阵的逆 |\n",
    "| pinv | 计算矩阵的Moore-Penrose伪逆 |\n",
    "| qr | 计算QR分解 |\n",
    "| svd | 计算奇异值分解（SVD） |\n",
    "| solve | 解线性方程组Ax=b，其中A为一个方阵 |\n",
    "| lstsq | 计算Ax=b的最小二乘解 |"
   ]
  },
  {
   "cell_type": "code",
   "execution_count": null,
   "metadata": {
    "collapsed": true
   },
   "outputs": [],
   "source": []
  }
 ],
 "metadata": {
  "kernelspec": {
   "display_name": "Python 3",
   "language": "python",
   "name": "python3"
  },
  "language_info": {
   "codemirror_mode": {
    "name": "ipython",
    "version": 3
   },
   "file_extension": ".py",
   "mimetype": "text/x-python",
   "name": "python",
   "nbconvert_exporter": "python",
   "pygments_lexer": "ipython3",
   "version": "3.6.1"
  }
 },
 "nbformat": 4,
 "nbformat_minor": 2
}
