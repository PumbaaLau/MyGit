{
 "cells": [
  {
   "cell_type": "markdown",
   "metadata": {},
   "source": [
    "# 线性代数"
   ]
  },
  {
   "cell_type": "code",
   "execution_count": 1,
   "metadata": {
    "collapsed": true
   },
   "outputs": [],
   "source": [
    "import numpy as np"
   ]
  },
  {
   "cell_type": "code",
   "execution_count": 2,
   "metadata": {
    "collapsed": true
   },
   "outputs": [],
   "source": [
    "x = np.array([[1., 2., 3.], [4., 5., 6.]])\n",
    "\n",
    "y = np.array([[6., 23.], [-1, 7], [8 ,9]])"
   ]
  },
  {
   "cell_type": "code",
   "execution_count": 3,
   "metadata": {},
   "outputs": [
    {
     "data": {
      "text/plain": [
       "array([[ 1.,  2.,  3.],\n",
       "       [ 4.,  5.,  6.]])"
      ]
     },
     "execution_count": 3,
     "metadata": {},
     "output_type": "execute_result"
    }
   ],
   "source": [
    "x"
   ]
  },
  {
   "cell_type": "code",
   "execution_count": 4,
   "metadata": {},
   "outputs": [
    {
     "data": {
      "text/plain": [
       "array([[  6.,  23.],\n",
       "       [ -1.,   7.],\n",
       "       [  8.,   9.]])"
      ]
     },
     "execution_count": 4,
     "metadata": {},
     "output_type": "execute_result"
    }
   ],
   "source": [
    "y"
   ]
  },
  {
   "cell_type": "code",
   "execution_count": 5,
   "metadata": {},
   "outputs": [
    {
     "data": {
      "text/plain": [
       "array([[  28.,   64.],\n",
       "       [  67.,  181.]])"
      ]
     },
     "execution_count": 5,
     "metadata": {},
     "output_type": "execute_result"
    }
   ],
   "source": [
    "x.dot(y)"
   ]
  },
  {
   "cell_type": "code",
   "execution_count": 6,
   "metadata": {},
   "outputs": [
    {
     "data": {
      "text/plain": [
       "array([[  28.,   64.],\n",
       "       [  67.,  181.]])"
      ]
     },
     "execution_count": 6,
     "metadata": {},
     "output_type": "execute_result"
    }
   ],
   "source": [
    "np.dot(x, y)"
   ]
  },
  {
   "cell_type": "code",
   "execution_count": 7,
   "metadata": {},
   "outputs": [
    {
     "data": {
      "text/plain": [
       "array([  6.,  15.])"
      ]
     },
     "execution_count": 7,
     "metadata": {},
     "output_type": "execute_result"
    }
   ],
   "source": [
    "np.dot(x, np.ones(3))"
   ]
  },
  {
   "cell_type": "code",
   "execution_count": 8,
   "metadata": {},
   "outputs": [
    {
     "data": {
      "text/plain": [
       "array([[ 0.34802603, -0.33780637, -0.49906276,  0.50835072,  1.52623174],\n",
       "       [ 0.34930778,  1.26493426, -1.06051017, -0.64372256,  0.09009179],\n",
       "       [ 0.97621202, -1.19118199,  0.17042414, -1.0653286 ,  1.38975357],\n",
       "       [-0.05418238, -2.4826761 , -0.05827855,  1.32754472, -1.84405045],\n",
       "       [-1.11893447, -1.08890561,  0.18047798,  2.32445323, -0.58721092]])"
      ]
     },
     "execution_count": 8,
     "metadata": {},
     "output_type": "execute_result"
    }
   ],
   "source": [
    "X = np.random.randn(5, 5)\n",
    "\n",
    "X"
   ]
  },
  {
   "cell_type": "code",
   "execution_count": 9,
   "metadata": {
    "collapsed": true
   },
   "outputs": [],
   "source": [
    "mat = X.T.dot(X)"
   ]
  },
  {
   "cell_type": "code",
   "execution_count": 10,
   "metadata": {},
   "outputs": [
    {
     "data": {
      "text/plain": [
       "array([[ 35.96084864,  11.91779701,  16.47445051,  19.01771419,\n",
       "         -4.57855431],\n",
       "       [ 11.91779701,   4.10973541,   5.58078758,   6.39227026,\n",
       "         -1.51999879],\n",
       "       [ 16.47445051,   5.58078758,   8.36224504,   8.75329371,\n",
       "         -2.05898438],\n",
       "       [ 19.01771419,   6.39227026,   8.75329371,  10.26579759,\n",
       "         -2.33455594],\n",
       "       [ -4.57855431,  -1.51999879,  -2.05898438,  -2.33455594,\n",
       "          0.76128325]])"
      ]
     },
     "execution_count": 10,
     "metadata": {},
     "output_type": "execute_result"
    }
   ],
   "source": [
    "np.linalg.inv(mat)"
   ]
  },
  {
   "cell_type": "code",
   "execution_count": 11,
   "metadata": {},
   "outputs": [
    {
     "data": {
      "text/plain": [
       "array([[  1.00000000e+00,  -1.06617703e-15,   2.70934775e-15,\n",
       "         -5.29879026e-15,  -9.80328434e-17],\n",
       "       [ -8.04203896e-15,   1.00000000e+00,   6.97693693e-15,\n",
       "          1.36516348e-14,  -2.99123400e-15],\n",
       "       [ -2.35284404e-15,   1.99516061e-15,   1.00000000e+00,\n",
       "          2.34628265e-15,  -8.12594745e-18],\n",
       "       [ -1.20907960e-15,   3.12250051e-15,  -7.21372528e-15,\n",
       "          1.00000000e+00,   2.37097533e-16],\n",
       "       [ -1.01245974e-14,  -3.02079956e-15,   2.04362831e-15,\n",
       "         -1.50996137e-14,   1.00000000e+00]])"
      ]
     },
     "execution_count": 11,
     "metadata": {},
     "output_type": "execute_result"
    }
   ],
   "source": [
    "mat.dot(np.linalg.inv(mat))"
   ]
  },
  {
   "cell_type": "code",
   "execution_count": 12,
   "metadata": {},
   "outputs": [
    {
     "data": {
      "text/plain": [
       "array([[ -5.28305692,  -6.96261463,   1.29671152,  11.05447261,\n",
       "         -8.93401586],\n",
       "       [  0.        , -10.219196  ,   1.32230927,   4.70988649,\n",
       "         -2.33708664],\n",
       "       [  0.        ,   0.        ,  -1.3196586 ,   1.14309441,\n",
       "         -0.05436586],\n",
       "       [  0.        ,   0.        ,   0.        ,  -0.99512328,\n",
       "         -4.16993143],\n",
       "       [  0.        ,   0.        ,   0.        ,   0.        ,\n",
       "          0.17266374]])"
      ]
     },
     "execution_count": 12,
     "metadata": {},
     "output_type": "execute_result"
    }
   ],
   "source": [
    "q, r = np.linalg.qr(mat)\n",
    "\n",
    "r"
   ]
  },
  {
   "cell_type": "code",
   "execution_count": null,
   "metadata": {
    "collapsed": true
   },
   "outputs": [],
   "source": []
  }
 ],
 "metadata": {
  "kernelspec": {
   "display_name": "Python 3",
   "language": "python",
   "name": "python3"
  },
  "language_info": {
   "codemirror_mode": {
    "name": "ipython",
    "version": 3
   },
   "file_extension": ".py",
   "mimetype": "text/x-python",
   "name": "python",
   "nbconvert_exporter": "python",
   "pygments_lexer": "ipython3",
   "version": "3.6.1"
  }
 },
 "nbformat": 4,
 "nbformat_minor": 2
}
