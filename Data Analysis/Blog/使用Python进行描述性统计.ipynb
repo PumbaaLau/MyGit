{
 "cells": [
  {
   "cell_type": "markdown",
   "metadata": {},
   "source": [
    "## 2 使用NumPy和SciPy进行数值分析"
   ]
  },
  {
   "cell_type": "markdown",
   "metadata": {},
   "source": [
    "#### 2.1 基本概念"
   ]
  },
  {
   "cell_type": "code",
   "execution_count": 1,
   "metadata": {
    "collapsed": true
   },
   "outputs": [],
   "source": [
    "import numpy as np"
   ]
  },
  {
   "cell_type": "code",
   "execution_count": 2,
   "metadata": {
    "collapsed": true
   },
   "outputs": [],
   "source": [
    "#使用List来创造一组数据\n",
    "data = [1, 2, 3]\n",
    "\n",
    "#使用ndarray来创造一组数据\n",
    "data = np.array([1, 2, 3])\n",
    "\n",
    "#创造一组服从正态分布的定量数据\n",
    "data = np.random.normal(0, 10, size=10)\n",
    "\n",
    "#创造一组服从均匀分布的定性数据\n",
    "data = np.random.randint(0, 10, size=10)"
   ]
  },
  {
   "cell_type": "markdown",
   "metadata": {},
   "source": [
    "#### 2.2 中心位置（均值、中位数、众数）"
   ]
  },
  {
   "cell_type": "code",
   "execution_count": 3,
   "metadata": {},
   "outputs": [
    {
     "data": {
      "text/plain": [
       "array([2, 2, 0, 0, 6, 4, 0, 6, 7, 3])"
      ]
     },
     "execution_count": 3,
     "metadata": {},
     "output_type": "execute_result"
    }
   ],
   "source": [
    "data"
   ]
  },
  {
   "cell_type": "code",
   "execution_count": 4,
   "metadata": {},
   "outputs": [
    {
     "name": "stdout",
     "output_type": "stream",
     "text": [
      "3.0\n",
      "2.5\n"
     ]
    }
   ],
   "source": [
    "#计算均值\n",
    "print(np.mean(data))\n",
    "\n",
    "#计算中位数\n",
    "print(np.median(data))"
   ]
  },
  {
   "cell_type": "code",
   "execution_count": 5,
   "metadata": {},
   "outputs": [
    {
     "data": {
      "text/plain": [
       "ModeResult(mode=array([0]), count=array([3]))"
      ]
     },
     "execution_count": 5,
     "metadata": {},
     "output_type": "execute_result"
    }
   ],
   "source": [
    "from scipy.stats import mode\n",
    "\n",
    "#计算众数\n",
    "mode(data)"
   ]
  },
  {
   "cell_type": "markdown",
   "metadata": {},
   "source": [
    "#### 2.3 发散程度（极差、方差、标准差、变异系数）"
   ]
  },
  {
   "cell_type": "markdown",
   "metadata": {},
   "source": [
    "　　对数据的中心位置有所了解以后，一般我们会想要知道数据以中心位置为标准有多发散。如果以中心位置来预测新数据，那么发散程度决定了预测的准确性。数据的发散程度可用极差（PTP）、方差（Variance）、标准差（STD）、变异系数（CV）来衡量，它们的计算方法如下：  \n",
    "  \n",
    "$$PTP = Max(Data) - Min(Data)$$  \n",
    "\n",
    "$$Variance = \\frac{\\sum_{i}^N(Data[i] - Mean)^2}{N}$$  \n",
    "\n",
    "$$STD = \\sqrt{Variance}$$  \n",
    "\n",
    "$$CV=\\frac{STD}{Mean}$$  \n",
    "\n",
    "　　极差是只考虑了最大值和最小值的发散程度指标，相对来说，方差包含了更多的信息，标准差基于方差但是与原始数据同量级，变异系数基于标准差但是进行了无量纲处理。使用NumPy计算极差、方差、标准差和变异系数："
   ]
  },
  {
   "cell_type": "code",
   "execution_count": 6,
   "metadata": {},
   "outputs": [
    {
     "name": "stdout",
     "output_type": "stream",
     "text": [
      "7\n",
      "7\n",
      "6.4\n",
      "6.4\n",
      "2.52982212813\n",
      "2.52982212813\n",
      "1.18585412256\n",
      "1.18585412256\n"
     ]
    }
   ],
   "source": [
    "#极差\n",
    "print(np.ptp(data))\n",
    "print(data.ptp())\n",
    "\n",
    "#方差\n",
    "print(np.var(data))\n",
    "print(data.var())\n",
    "\n",
    "#标准差\n",
    "print(np.std(data))\n",
    "print(data.std())\n",
    "\n",
    "#变异系数\n",
    "print(np.mean(data) / np.std(data))\n",
    "print(data.mean() / data.std())"
   ]
  },
  {
   "cell_type": "markdown",
   "metadata": {},
   "source": [
    "#### 2.4 偏差程度（z-分数）"
   ]
  },
  {
   "cell_type": "markdown",
   "metadata": {},
   "source": [
    "　　之前提到均值容易受异常值影响，那么如何衡量偏差，偏差到多少算异常是两个必须要解决的问题。定义z-分数（Z-Score）为测量值距均值相差的标准差数目：  \n",
    "\n",
    "$$Z-Score = \\frac{X - Mean}{STD}$$  \n",
    "　　当标准差不为0且不为较接近于0的数时，z-分数是有意义的，使用NumPy计算z-分数："
   ]
  },
  {
   "cell_type": "code",
   "execution_count": 7,
   "metadata": {},
   "outputs": [
    {
     "name": "stdout",
     "output_type": "stream",
     "text": [
      "-0.395284707521\n"
     ]
    },
    {
     "data": {
      "text/plain": [
       "array([-0.39528471, -0.39528471, -1.18585412, -1.18585412,  1.18585412,\n",
       "        0.39528471, -1.18585412,  1.18585412,  1.58113883,  0.        ])"
      ]
     },
     "execution_count": 7,
     "metadata": {},
     "output_type": "execute_result"
    }
   ],
   "source": [
    "#计算第一个值的z-分数\n",
    "print((data[0] - np.mean(data)) / np.std(data))\n",
    "\n",
    "#计算所有的z-分数\n",
    "(data - np.mean(data)) / data.std()"
   ]
  },
  {
   "cell_type": "markdown",
   "metadata": {},
   "source": [
    "<font color=red>**通常来说，z-分数的绝对值大于3将视为异常。**</font>"
   ]
  },
  {
   "cell_type": "markdown",
   "metadata": {},
   "source": [
    "#### 2.5 相关程度"
   ]
  },
  {
   "cell_type": "markdown",
   "metadata": {},
   "source": [
    "　　有两组数据时，我们关心这两组数据是否相关，相关程度有多少。用协方差（COV）和相关系数（CORRCOEF）来衡量相关程度：  \n",
    "  \n",
    "$$COV=\\frac{\\sum_{i}^{N}(Data_{1}[i] - Mean_{1}) * (Data_{2}[i] - Mean_{2})}{N}$$  \n",
    "\n",
    "$$CORRCOEF = \\frac{COV}{STD_1 * STD_2}$$"
   ]
  },
  {
   "cell_type": "markdown",
   "metadata": {},
   "source": [
    "　　协方差的绝对值越大表示相关程度越大，协方差为正值表示正相关，负值为负相关，0为不相关。相关系数是基于协方差但进行了无量纲处理。使用NumPy计算协方差和相关系数："
   ]
  },
  {
   "cell_type": "code",
   "execution_count": 8,
   "metadata": {},
   "outputs": [
    {
     "name": "stdout",
     "output_type": "stream",
     "text": [
      "data1 [5 1 2 3 8 6 1 0 9 4]\n",
      "data2 [4 6 6 8 8 3 1 3 5 8]\n"
     ]
    }
   ],
   "source": [
    "data1 = np.random.randint(0,10,10)\n",
    "data2 = np.random.randint(0,10,10)\n",
    "\n",
    "print(\"data1\", data1)\n",
    "print(\"data2\", data2)"
   ]
  },
  {
   "cell_type": "code",
   "execution_count": 9,
   "metadata": {},
   "outputs": [
    {
     "name": "stdout",
     "output_type": "stream",
     "text": [
      "6.4\n",
      "1.0\n"
     ]
    }
   ],
   "source": [
    "#计算两组数的协方差\n",
    "#参数bias=1表示结果需要除以N，否则只计算了分子部分\n",
    "#返回结果为矩阵，第i行第j列的数据表示第i组数与第j组数的协方差。对角线为方差\n",
    "print(np.cov(data, bias=1))\n",
    "\n",
    "#计算两组数的相关系数\n",
    "#返回结果为矩阵，第i行第j列的数据表示第i组数与第j组数的相关系数。对角线为1\n",
    "print(np.corrcoef(data))"
   ]
  },
  {
   "cell_type": "markdown",
   "metadata": {},
   "source": [
    "#### 2.6 回顾"
   ]
  },
  {
   "cell_type": "markdown",
   "metadata": {},
   "source": [
    "![2.6 回顾](./Image/2.6 回顾.png)"
   ]
  },
  {
   "cell_type": "markdown",
   "metadata": {},
   "source": [
    "## 3 使用Matplotlib进行图分析"
   ]
  },
  {
   "cell_type": "markdown",
   "metadata": {},
   "source": [
    "#### 3.1 基本概念"
   ]
  },
  {
   "cell_type": "markdown",
   "metadata": {},
   "source": [
    "　　使用图分析可以更加直观地展示数据的分布（频数分析）和关系（关系分析）。柱状图和饼形图是对定性数据进行频数分析的常用工具，使用前需将每一类的频数计算出来。直方图和累积曲线是对定量数据进行频数分析的常用工具，直方图对应密度函数而累积曲线对应分布函数。散点图可用来对两组数据的关系进行描述。在没有分析目标时，需要对数据进行探索性的分析，箱形图将帮助我们完成这一任务。\n",
    "\n",
    "　　在此，我们使用一组容量为10000的男学生身高，体重，成绩数据来讲解如何使Matplotlib绘制以上图形，创建数据的代码如下："
   ]
  },
  {
   "cell_type": "code",
   "execution_count": 11,
   "metadata": {
    "collapsed": true
   },
   "outputs": [],
   "source": [
    "def genData():\n",
    "    heights = []\n",
    "    weights = []\n",
    "    grades = []\n",
    "    N = 10000\n",
    "    \n",
    "    for i in range(N):\n",
    "        while True:\n",
    "            #身高服从均值172，标准差为6的正态分布\n",
    "            height = np.random.normal(172, 6)\n",
    "            if 0 < height:\n",
    "                break\n",
    "        while True:\n",
    "            #体重由身高作为自变量的线性回归模型产生，误差服从标准正态分布\n",
    "            weight = (height - 80) * 0.7 + np.random.normal(0, 1)\n",
    "            if 0 < weight:\n",
    "                break\n",
    "        while True:\n",
    "            #分数服从均值为70，标准差为15的正态分布\n",
    "            score = np.random.normal(70, 15)\n",
    "            if 0 <= score and score <= 100:\n",
    "                grade = 'E' if score < 60 else ('D' if score < 70 else ('C' if score < 80 else ('B' if score < 90 else 'A')))\n",
    "            break\n",
    "            \n",
    "        heights.append(height)\n",
    "        weights.append(weight)\n",
    "        grades.append(grade)\n",
    "    \n",
    "    return np.array(heights), np.array(weights), np.array(grades)\n",
    "\n",
    "heights, weights, grades = genData()"
   ]
  },
  {
   "cell_type": "code",
   "execution_count": 12,
   "metadata": {},
   "outputs": [
    {
     "data": {
      "text/plain": [
       "10000"
      ]
     },
     "execution_count": 12,
     "metadata": {},
     "output_type": "execute_result"
    }
   ],
   "source": [
    "len(heights)"
   ]
  },
  {
   "cell_type": "markdown",
   "metadata": {},
   "source": [
    "#### 3.2 频数分析"
   ]
  },
  {
   "cell_type": "markdown",
   "metadata": {},
   "source": [
    "##### 3.2.1 定性分析（柱状图、饼形图）"
   ]
  },
  {
   "cell_type": "markdown",
   "metadata": {},
   "source": [
    "　　柱状图是以柱的高度来指代某种类型的频数，使用Matplotlib对成绩这一定性变量绘制柱状图的代码如下："
   ]
  },
  {
   "cell_type": "code",
   "execution_count": 16,
   "metadata": {},
   "outputs": [
    {
     "data": {
      "image/png": "[encoded data removed]",
      "text/plain": [
       "<matplotlib.figure.Figure at 0x23c50ff3518>"
      ]
     },
     "metadata": {},
     "output_type": "display_data"
    }
   ],
   "source": [
    "import matplotlib.pyplot as plt\n",
    " \n",
    "#绘制柱状图\n",
    "def drawBar(grades):\n",
    "    xticks = ['A', 'B', 'C', 'D', 'E']\n",
    "    gradeGroup = {}\n",
    "    \n",
    "    #对每一类成绩进行频数统计\n",
    "    for grade in grades:\n",
    "        gradeGroup[grade] = gradeGroup.get(grade, 0) + 1\n",
    "        \n",
    "    #创建柱状图\n",
    "    #第一个参数为柱的横坐标\n",
    "    #第二个参数为柱的高度\n",
    "    #参数align为柱的对齐方式，以第一个参数为参考标准\n",
    "    plt.bar(list(range(5)), [gradeGroup.get(xtick, 0) for xtick in xticks], color='b', edgecolor='black', align='center')\n",
    "\n",
    "    #设置柱的文字说明\n",
    "    #第一个参数为文字说明的横坐标\n",
    "    #第二个参数为文字说明的内容\n",
    "    plt.xticks(list(range(5)), xticks)\n",
    "\n",
    "    #设置横坐标的文字说明\n",
    "    plt.xlabel('Grade')\n",
    "    \n",
    "    #设置纵坐标的文字说明\n",
    "    plt.ylabel('Frequency')\n",
    "    \n",
    "    #设置标题\n",
    "    plt.title('Grades Of Male Students')\n",
    "    \n",
    "    #绘图\n",
    "    plt.show()\n",
    "\n",
    "drawBar(grades)"
   ]
  },
  {
   "cell_type": "markdown",
   "metadata": {
    "collapsed": true
   },
   "source": [
    "　　而饼形图是以扇形的面积来指代某种类型的频率，使用Matplotlib对成绩这一定性变量绘制饼形图的代码如下："
   ]
  },
  {
   "cell_type": "code",
   "execution_count": 20,
   "metadata": {},
   "outputs": [
    {
     "data": {
      "image/png": "[encoded data removed]",
      "text/plain": [
       "<matplotlib.figure.Figure at 0x23c51322cc0>"
      ]
     },
     "metadata": {},
     "output_type": "display_data"
    }
   ],
   "source": [
    "#绘制饼形图\n",
    "def drawPie(grades):\n",
    "    labels = ['A', 'B', 'C', 'D', 'E']\n",
    "    gradeGroup = {}\n",
    "    for grade in grades:\n",
    "        gradeGroup[grade] = gradeGroup.get(grade, 0) + 1\n",
    "        \n",
    "    #创建饼形图\n",
    "    #第一个参数为扇形的面积\n",
    "    #labels参数为扇形的说明文字\n",
    "    #autopct参数为扇形占比的显示格式\n",
    "    plt.pie([gradeGroup.get(label, 0) for label in labels], labels=labels, autopct='%1.1f%%')\n",
    "    plt.title('Grades Of Male Students')\n",
    "    plt.show()\n",
    "    \n",
    "drawPie(grades)"
   ]
  },
  {
   "cell_type": "markdown",
   "metadata": {
    "collapsed": true
   },
   "source": [
    "##### 3.2.2 定量分析（直方图、累积曲线）"
   ]
  },
  {
   "cell_type": "markdown",
   "metadata": {
    "collapsed": true
   },
   "source": [
    "　　直方图类似于柱状图，是用柱的高度来指代频数，不同的是其将定量数据划分为若干连续的区间，在这些连续的区间上绘制柱。使用Matplotlib对身高这一定量变量绘制直方图的代码如下："
   ]
  },
  {
   "cell_type": "code",
   "execution_count": 33,
   "metadata": {},
   "outputs": [
    {
     "data": {
      "image/png": "[encoded data removed]",
      "text/plain": [
       "<matplotlib.figure.Figure at 0x23c51104080>"
      ]
     },
     "metadata": {},
     "output_type": "display_data"
    }
   ],
   "source": [
    "#绘制直方图\n",
    "def drawHist(heights):\n",
    "    #创建直方图\n",
    "    #第一个参数为待绘制的定量数据，不同于定性数据，这里并没有事先进行频数统计\n",
    "    #第二个参数为划分的区间个数\n",
    "    plt.hist(heights, 100, facecolor='violet', edgecolor='black',histtype='barstacked')\n",
    "    plt.xlabel('Heights')\n",
    "    plt.ylabel('Frequency')\n",
    "    plt.title('Heights Of Male Students')\n",
    "    plt.show()\n",
    "    \n",
    "drawHist(heights)"
   ]
  },
  {
   "cell_type": "markdown",
   "metadata": {
    "collapsed": true
   },
   "source": [
    "使用Matplotlib对身高这一定量变量绘制累积曲线的代码如下："
   ]
  },
  {
   "cell_type": "code",
   "execution_count": 29,
   "metadata": {},
   "outputs": [
    {
     "data": {
      "image/png": "[encoded data removed]",
      "text/plain": [
       "<matplotlib.figure.Figure at 0x23c517fb080>"
      ]
     },
     "metadata": {},
     "output_type": "display_data"
    }
   ],
   "source": [
    "#绘制累积曲线\n",
    "def drawCumulativeHist(heights):\n",
    "    #创建累积曲线\n",
    "    #第一个参数为待绘制的定量数据\n",
    "    #第二个参数为划分的区间个数\n",
    "    #normed参数为是否无量纲化\n",
    "    #histtype参数为'step'，绘制阶梯状的曲线\n",
    "    #cumulative参数为是否累积\n",
    "    plt.hist(heights, 20, normed=True, histtype='step', cumulative=True)\n",
    "    plt.xlabel('Heights')\n",
    "    plt.ylabel('Frequency')\n",
    "    plt.title('Heights Of Male Students')\n",
    "    plt.show()\n",
    "    \n",
    "drawCumulativeHist(heights)"
   ]
  },
  {
   "cell_type": "markdown",
   "metadata": {
    "collapsed": true
   },
   "source": [
    "#### 3.3 关系分析（散点图）"
   ]
  },
  {
   "cell_type": "markdown",
   "metadata": {},
   "source": [
    "　　在散点图中，分别以自变量和因变量作为横纵坐标。当自变量与因变量线性相关时，在散点图中，点近似分布在一条直线上。我们以身高作为自变量，体重作为因变量，讨论身高对体重的影响。使用Matplotlib绘制散点图的代码如下："
   ]
  },
  {
   "cell_type": "code",
   "execution_count": 34,
   "metadata": {},
   "outputs": [
    {
     "data": {
      "image/png": "[encoded data removed]",
      "text/plain": [
       "<matplotlib.figure.Figure at 0x23c51368be0>"
      ]
     },
     "metadata": {},
     "output_type": "display_data"
    }
   ],
   "source": [
    "#绘制散点图\n",
    "def drawScatter(heights, weights):\n",
    "    #创建散点图\n",
    "    #第一个参数为点的横坐标\n",
    "    #第二个参数为点的纵坐标\n",
    "    plt.scatter(heights, weights, c='b', edgecolor='black')\n",
    "    plt.xlabel('Heights')\n",
    "    plt.ylabel('Weights')\n",
    "    plt.title('Heights & Weights Of Male Students')\n",
    "    plt.show()\n",
    "    \n",
    "drawScatter(heights, weights)"
   ]
  },
  {
   "cell_type": "markdown",
   "metadata": {},
   "source": [
    "#### 3.4 探索分析（箱形图）"
   ]
  },
  {
   "cell_type": "markdown",
   "metadata": {},
   "source": [
    "　　在不明确数据分析的目标时，我们对数据进行一些探索性的分析，通过我们可以知道数据的中心位置，发散程度以及偏差程度。使用Matplotlib绘制关于身高的箱形图的代码如下："
   ]
  },
  {
   "cell_type": "code",
   "execution_count": 35,
   "metadata": {},
   "outputs": [
    {
     "data": {
      "image/png": "[encoded data removed]",
      "text/plain": [
       "<matplotlib.figure.Figure at 0x23c512f3e10>"
      ]
     },
     "metadata": {},
     "output_type": "display_data"
    }
   ],
   "source": [
    "#绘制箱形图\n",
    "def drawBox(heights):\n",
    "    #创建箱形图\n",
    "    #第一个参数为待绘制的定量数据\n",
    "    #第二个参数为数据的文字说明\n",
    "    plt.boxplot([heights], labels=['Heights'])\n",
    "    plt.title('Heights Of Male Students')\n",
    "    plt.show()\n",
    "    \n",
    "drawBox(heights)"
   ]
  },
  {
   "cell_type": "markdown",
   "metadata": {},
   "source": [
    "绘制出来的箱形图中，包含3种信息：\n",
    "\n",
    "1. Q2所指的红线为中位数。  \n",
    "2. Q1所指的蓝框下侧为下四分位数，Q3所指的蓝框上侧为上四分位数，Q3-Q1为四分为差。四分位差也是衡量数据的发散程度的指标之一。  \n",
    "3. 上界线和下界线是距离中位数1.5倍四分位差的线，高于上界线或者低于下界线的数据为异常值。"
   ]
  },
  {
   "cell_type": "markdown",
   "metadata": {},
   "source": [
    "#### 3.5 回顾"
   ]
  },
  {
   "cell_type": "markdown",
   "metadata": {},
   "source": [
    "![3.5 回顾](./Image/3.5 回顾.png)"
   ]
  },
  {
   "cell_type": "markdown",
   "metadata": {},
   "source": [
    "#### 4 总结"
   ]
  },
  {
   "cell_type": "markdown",
   "metadata": {},
   "source": [
    "　　描述性统计是容易操作，直观简洁的数据分析手段。但是由于简单，对多元变量的关系难以描述。现实生活中，自变量通常是多元的：决定体重不仅有身高，还有饮食习惯，肥胖基因等等因素。通过一些高级的数据处理手段，我们可以对多元变量进行处理，例如特征工程中，可以使用互信息方法来选择多个对因变量有较强相关性的自变量作为特征，还可以使用主成分分析法来消除一些冗余的自变量来降低运算复杂度。"
   ]
  },
  {
   "cell_type": "code",
   "execution_count": 36,
   "metadata": {},
   "outputs": [
    {
     "data": {
      "text/plain": [
       "'C:\\\\Users\\\\hasee\\\\Documents\\\\Python Scripts\\\\MyGit\\\\Data Analysis\\\\Blog'"
      ]
     },
     "execution_count": 36,
     "metadata": {},
     "output_type": "execute_result"
    }
   ],
   "source": [
    "pwd"
   ]
  },
  {
   "cell_type": "code",
   "execution_count": null,
   "metadata": {
    "collapsed": true
   },
   "outputs": [],
   "source": []
  }
 ],
 "metadata": {
  "kernelspec": {
   "display_name": "Python 3",
   "language": "python",
   "name": "python3"
  },
  "language_info": {
   "codemirror_mode": {
    "name": "ipython",
    "version": 3
   },
   "file_extension": ".py",
   "mimetype": "text/x-python",
   "name": "python",
   "nbconvert_exporter": "python",
   "pygments_lexer": "ipython3",
   "version": "3.6.1"
  }
 },
 "nbformat": 4,
 "nbformat_minor": 2
}
