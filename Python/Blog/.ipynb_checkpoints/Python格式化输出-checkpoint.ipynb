{
 "cells": [
  {
   "cell_type": "markdown",
   "metadata": {},
   "source": [
    "# Python格式化输出"
   ]
  },
  {
   "cell_type": "markdown",
   "metadata": {},
   "source": [
    "格式\t描述\n",
    "%%\t百分号标记\n",
    "%c\t字符及其ASCII码\n",
    "%s\t字符串\n",
    "%d\t有符号整数(十进制)\n",
    "%u\t无符号整数(十进制)\n",
    "%o\t无符号整数(八进制)\n",
    "%x\t无符号整数(十六进制)\n",
    "%X\t无符号整数(十六进制大写字符)\n",
    "%e\t浮点数字(科学计数法)\n",
    "%E\t浮点数字(科学计数法，用E代替e)\n",
    "%f\t浮点数字(用小数点符号)\n",
    "%g\t浮点数字(根据值的大小采用%e或%f)\n",
    "%G\t浮点数字(类似于%g)\n",
    "%p\t指针(用十六进制打印值的内存地址)\n",
    "%n\t存储输出字符的数量放进参数列表的下一个变量中"
   ]
  },
  {
   "cell_type": "markdown",
   "metadata": {},
   "source": [
    "## 1. 打印字符串"
   ]
  },
  {
   "cell_type": "code",
   "execution_count": 11,
   "metadata": {},
   "outputs": [
    {
     "name": "stdout",
     "output_type": "stream",
     "text": [
      "His name is Aviad\n"
     ]
    }
   ],
   "source": [
    "print (\"His name is %s\" % (\"Aviad\"))"
   ]
  },
  {
   "cell_type": "markdown",
   "metadata": {},
   "source": [
    "## 2.打印整数"
   ]
  },
  {
   "cell_type": "code",
   "execution_count": 12,
   "metadata": {},
   "outputs": [
    {
     "name": "stdout",
     "output_type": "stream",
     "text": [
      "He is 25 years old\n"
     ]
    }
   ],
   "source": [
    "print (\"He is %d years old\" % (25))"
   ]
  },
  {
   "cell_type": "markdown",
   "metadata": {},
   "source": [
    "## 3.打印浮点数"
   ]
  },
  {
   "cell_type": "code",
   "execution_count": 13,
   "metadata": {},
   "outputs": [
    {
     "name": "stdout",
     "output_type": "stream",
     "text": [
      "His height is 1.830000 m\n"
     ]
    }
   ],
   "source": [
    "print (\"His height is %f m\" % (1.83))"
   ]
  },
  {
   "cell_type": "markdown",
   "metadata": {},
   "source": [
    "## 4.打印浮点数（指定保留小数点位数）"
   ]
  },
  {
   "cell_type": "code",
   "execution_count": 14,
   "metadata": {},
   "outputs": [
    {
     "name": "stdout",
     "output_type": "stream",
     "text": [
      "His height is 1.83 m\n"
     ]
    }
   ],
   "source": [
    "print (\"His height is %.2f m\" % (1.83))"
   ]
  },
  {
   "cell_type": "markdown",
   "metadata": {},
   "source": [
    "## 5.指定占位符宽度"
   ]
  },
  {
   "cell_type": "code",
   "execution_count": 15,
   "metadata": {},
   "outputs": [
    {
     "name": "stdout",
     "output_type": "stream",
     "text": [
      "Name:     Aviad Age:      25 Height:    1.83\n"
     ]
    }
   ],
   "source": [
    "print (\"Name:%10s Age:%8d Height:%8.2f\" % (\"Aviad\",25,1.83))"
   ]
  },
  {
   "cell_type": "markdown",
   "metadata": {},
   "source": [
    "## 6.指定占位符宽度（左对齐）"
   ]
  },
  {
   "cell_type": "code",
   "execution_count": 16,
   "metadata": {},
   "outputs": [
    {
     "name": "stdout",
     "output_type": "stream",
     "text": [
      "Name:Aviad      Age:25       Height:1.83    \n"
     ]
    }
   ],
   "source": [
    "print (\"Name:%-10s Age:%-8d Height:%-8.2f\"%(\"Aviad\",25,1.83))"
   ]
  },
  {
   "cell_type": "markdown",
   "metadata": {},
   "source": [
    "## 7.指定占位符（只能用0当占位符？）"
   ]
  },
  {
   "cell_type": "code",
   "execution_count": 17,
   "metadata": {},
   "outputs": [
    {
     "name": "stdout",
     "output_type": "stream",
     "text": [
      "Name:Aviad      Age:00000025 Height:00001.83\n"
     ]
    }
   ],
   "source": [
    "print (\"Name:%-10s Age:%08d Height:%08.2f\"%(\"Aviad\",25,1.83))"
   ]
  },
  {
   "cell_type": "markdown",
   "metadata": {},
   "source": [
    "## 8.科学计数法"
   ]
  },
  {
   "cell_type": "code",
   "execution_count": 18,
   "metadata": {},
   "outputs": [
    {
     "data": {
      "text/plain": [
       "'1.50e-03'"
      ]
     },
     "execution_count": 18,
     "metadata": {},
     "output_type": "execute_result"
    }
   ],
   "source": [
    "format(0.0015,'.2e')"
   ]
  }
 ],
 "metadata": {
  "kernelspec": {
   "display_name": "Python 3",
   "language": "python",
   "name": "python3"
  },
  "language_info": {
   "codemirror_mode": {
    "name": "ipython",
    "version": 3
   },
   "file_extension": ".py",
   "mimetype": "text/x-python",
   "name": "python",
   "nbconvert_exporter": "python",
   "pygments_lexer": "ipython3",
   "version": "3.6.1"
  }
 },
 "nbformat": 4,
 "nbformat_minor": 2
}
