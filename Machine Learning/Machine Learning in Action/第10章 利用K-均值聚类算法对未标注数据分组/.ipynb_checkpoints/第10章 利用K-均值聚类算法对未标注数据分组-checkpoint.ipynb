{
 "cells": [
  {
   "cell_type": "markdown",
   "metadata": {},
   "source": [
    "# 第10章 利用K-均值聚类算法对未标注数据分组"
   ]
  },
  {
   "cell_type": "markdown",
   "metadata": {},
   "source": [
    "本章内容：\n",
    "- K-均值聚类算法\n",
    "- 对聚类得到的簇进行后处理\n",
    "- 二分K-均值聚类算法\n",
    "- 对地理位置进行聚类"
   ]
  },
  {
   "cell_type": "markdown",
   "metadata": {},
   "source": [
    "#### 簇识别"
   ]
  },
  {
   "cell_type": "markdown",
   "metadata": {},
   "source": [
    "**簇识别**给出聚类结果的含义。假定有一些数据，现在将相似数据归到一起，簇识别会告诉我们这些簇到底都是些什么。"
   ]
  },
  {
   "cell_type": "markdown",
   "metadata": {},
   "source": [
    "聚类与分类的最大不同在于，分类的目标事先已知，而聚类则不一样。因为其产生的结果与分类相同，而只是类别没有预先定义，聚类有时也被称为无监督分类（unsupervised classification）。"
   ]
  },
  {
   "cell_type": "markdown",
   "metadata": {},
   "source": [
    "## 10.1 K-均值聚类算法"
   ]
  },
  {
   "cell_type": "markdown",
   "metadata": {},
   "source": [
    "<center>**K-均值聚类**</center>\n",
    "- 优点：容易实现。\n",
    "- 缺点：可能收敛到局部最小值，在大规模数据集上收敛较慢。\n",
    "- 适用数据类型：数值型数据。"
   ]
  },
  {
   "cell_type": "markdown",
   "metadata": {},
   "source": [
    "<center>**K-均值聚类的一般流程**</center>\n",
    "1. 收集数据：使用任意方法。\n",
    "2. 准备数据：需要数值型数据来计算距离，也可以将标称型数据映射为二值型数据再用于距离计算。\n",
    "3. 分析数据：使用任意方法。\n",
    "4. 训练算法：不适用于无监督学习，即无监督学习没有训练过程。\n",
    "5. 测试算法：应用聚类算法、观察结果。可以使用量化的误差指标如误差平方和（后面会介绍）来评价算法的结果。\n",
    "6. 使用算法：可以用于所希望的任何应用。通常情况下，簇质心可以代表整个簇的数据来做出决策。"
   ]
  },
  {
   "cell_type": "markdown",
   "metadata": {},
   "source": [
    "##### 程序清单10-1 K-均值聚类支持函数"
   ]
  },
  {
   "cell_type": "code",
   "execution_count": 4,
   "metadata": {
    "collapsed": true
   },
   "outputs": [],
   "source": [
    "from numpy import *\n",
    "\n",
    "def loadDataSet(fileName):      #general function to parse tab -delimited floats\n",
    "    dataMat = []                #assume last column is target value\n",
    "    fr = open(fileName)\n",
    "    for line in fr.readlines():\n",
    "        curLine = line.strip().split('\\t')\n",
    "        fltLine = list(map(float,curLine)) #map all elements to float()\n",
    "        dataMat.append(fltLine)\n",
    "    return dataMat\n",
    "\n",
    "def distEclud(vecA, vecB):\n",
    "    return sqrt(sum(power(vecA - vecB, 2))) #la.norm(vecA-vecB)\n",
    "\n",
    "def randCent(dataSet, k):\n",
    "    n = shape(dataSet)[1]\n",
    "    centroids = mat(zeros((k,n)))#create centroid mat\n",
    "    for j in range(n):#create random cluster centers, within bounds of each dimension\n",
    "        minJ = min(dataSet[:,j]) \n",
    "        rangeJ = float(max(dataSet[:,j]) - minJ)\n",
    "        centroids[:,j] = mat(minJ + rangeJ * random.rand(k,1))\n",
    "    return centroids"
   ]
  },
  {
   "cell_type": "code",
   "execution_count": 5,
   "metadata": {
    "collapsed": true
   },
   "outputs": [],
   "source": [
    "datMat = mat(loadDataSet(r'C:\\Users\\hasee\\testSet.txt'))"
   ]
  },
  {
   "cell_type": "code",
   "execution_count": 6,
   "metadata": {},
   "outputs": [
    {
     "data": {
      "text/plain": [
       "matrix([[-5.379713]])"
      ]
     },
     "execution_count": 6,
     "metadata": {},
     "output_type": "execute_result"
    }
   ],
   "source": [
    "min(datMat[:,0])"
   ]
  },
  {
   "cell_type": "code",
   "execution_count": 7,
   "metadata": {},
   "outputs": [
    {
     "data": {
      "text/plain": [
       "matrix([[-4.232586]])"
      ]
     },
     "execution_count": 7,
     "metadata": {},
     "output_type": "execute_result"
    }
   ],
   "source": [
    "min(datMat[:,1])"
   ]
  },
  {
   "cell_type": "code",
   "execution_count": 8,
   "metadata": {},
   "outputs": [
    {
     "data": {
      "text/plain": [
       "matrix([[ 4.838138]])"
      ]
     },
     "execution_count": 8,
     "metadata": {},
     "output_type": "execute_result"
    }
   ],
   "source": [
    "max(datMat[:,0])"
   ]
  },
  {
   "cell_type": "code",
   "execution_count": 9,
   "metadata": {},
   "outputs": [
    {
     "data": {
      "text/plain": [
       "matrix([[ 5.1904]])"
      ]
     },
     "execution_count": 9,
     "metadata": {},
     "output_type": "execute_result"
    }
   ],
   "source": [
    "max(datMat[:,1])"
   ]
  },
  {
   "cell_type": "code",
   "execution_count": 10,
   "metadata": {},
   "outputs": [
    {
     "data": {
      "text/plain": [
       "matrix([[ 0.71769475, -1.36486115],\n",
       "        [ 1.43805802, -1.65933302]])"
      ]
     },
     "execution_count": 10,
     "metadata": {},
     "output_type": "execute_result"
    }
   ],
   "source": [
    "randCent(datMat, 2)"
   ]
  },
  {
   "cell_type": "code",
   "execution_count": 11,
   "metadata": {},
   "outputs": [
    {
     "data": {
      "text/plain": [
       "5.184632816681332"
      ]
     },
     "execution_count": 11,
     "metadata": {},
     "output_type": "execute_result"
    }
   ],
   "source": [
    "distEclud(datMat[0], datMat[1])"
   ]
  },
  {
   "cell_type": "markdown",
   "metadata": {
    "collapsed": true
   },
   "source": [
    "##### 程序清单10-2 K-均值聚类算法"
   ]
  },
  {
   "cell_type": "code",
   "execution_count": 13,
   "metadata": {},
   "outputs": [],
   "source": [
    "def kMeans(dataSet, k, distMeas=distEclud, createCent=randCent):\n",
    "    m = shape(dataSet)[0]\n",
    "    clusterAssment = mat(zeros((m,2)))#create mat to assign data points \n",
    "                                      #to a centroid, also holds SE of each point\n",
    "    centroids = createCent(dataSet, k)\n",
    "    clusterChanged = True\n",
    "    while clusterChanged:\n",
    "        clusterChanged = False\n",
    "        for i in range(m):#for each data point assign it to the closest centroid\n",
    "            minDist = inf; minIndex = -1\n",
    "            for j in range(k):\n",
    "                distJI = distMeas(centroids[j,:],dataSet[i,:])\n",
    "                if distJI < minDist:\n",
    "                    minDist = distJI; minIndex = j\n",
    "            if clusterAssment[i,0] != minIndex: clusterChanged = True\n",
    "            clusterAssment[i,:] = minIndex,minDist**2\n",
    "        print(centroids)\n",
    "        for cent in range(k):#recalculate centroids\n",
    "            ptsInClust = dataSet[nonzero(clusterAssment[:,0].A==cent)[0]]#get all the point in this cluster\n",
    "            centroids[cent,:] = mean(ptsInClust, axis=0) #assign centroid to mean \n",
    "    return centroids, clusterAssment"
   ]
  },
  {
   "cell_type": "code",
   "execution_count": null,
   "metadata": {
    "collapsed": true
   },
   "outputs": [],
   "source": [
    "while clusterChanged:\n",
    "    clusterChanged = False\n",
    "    for i in range(m):\n",
    "        minDist = inf\n",
    "        minIndex = -1\n",
    "        for j in range(k):\n",
    "            distJI = distEclud(centroids[j,:], datMat[i,:])\n",
    "            if distJI < minDist:\n",
    "                minDist = distJI\n",
    "                minIndex = j\n",
    "        if clusterAssment[i,0] != minIndex:\n",
    "            clusterChanged = True\n",
    "        clusterAssment[i,:] = minIndex.minDist**2\n",
    "    print(centroids)\n",
    "    for cent in range(k):\n",
    "        ptsInClust = datMat[nonzero(clusterAssment[:,0].A==cent)[0]]\n",
    "        centroids[cent,:] = mean(ptsInClust, axis=0)\n",
    "    "
   ]
  },
  {
   "cell_type": "code",
   "execution_count": 34,
   "metadata": {},
   "outputs": [
    {
     "data": {
      "image/png": "[encoded data removed]",
      "text/plain": [
       "<matplotlib.figure.Figure at 0x2237e5d8518>"
      ]
     },
     "metadata": {},
     "output_type": "display_data"
    }
   ],
   "source": [
    "import matplotlib.pyplot as plt\n",
    "plt.scatter(datMat[:,0].tolist(), datMat[:,1].tolist())\n",
    "plt.show()"
   ]
  },
  {
   "cell_type": "code",
   "execution_count": 48,
   "metadata": {},
   "outputs": [
    {
     "data": {
      "image/png": "[encoded data removed]",
      "text/plain": [
       "<matplotlib.figure.Figure at 0x2237f2d4278>"
      ]
     },
     "metadata": {},
     "output_type": "display_data"
    }
   ],
   "source": [
    "plt.scatter(datMat[:,0].tolist(), datMat[:,1].tolist(), c=clusterAssment[:,0].tolist())\n",
    "plt.show()"
   ]
  },
  {
   "cell_type": "code",
   "execution_count": 42,
   "metadata": {},
   "outputs": [
    {
     "data": {
      "text/plain": [
       "matrix([[  1.00000000e+00,   2.32019150e+00],\n",
       "        [  0.00000000e+00,   1.39004893e+00],\n",
       "        [  3.00000000e+00,   6.63839104e+00],\n",
       "        [  2.00000000e+00,   4.16140951e+00],\n",
       "        [  1.00000000e+00,   2.76967820e+00],\n",
       "        [  0.00000000e+00,   2.80101213e+00],\n",
       "        [  3.00000000e+00,   5.85909807e+00],\n",
       "        [  2.00000000e+00,   1.50646425e+00],\n",
       "        [  1.00000000e+00,   2.29348924e+00],\n",
       "        [  0.00000000e+00,   6.45967483e-01],\n",
       "        [  3.00000000e+00,   1.74010499e+00],\n",
       "        [  2.00000000e+00,   3.77769471e-01],\n",
       "        [  1.00000000e+00,   2.51695402e+00],\n",
       "        [  0.00000000e+00,   1.38716420e-01],\n",
       "        [  3.00000000e+00,   9.47633071e+00],\n",
       "        [  2.00000000e+00,   9.97310599e+00],\n",
       "        [  1.00000000e+00,   2.39726914e+00],\n",
       "        [  0.00000000e+00,   3.10242360e+00],\n",
       "        [  3.00000000e+00,   4.11084375e-01],\n",
       "        [  2.00000000e+00,   4.74890795e-01],\n",
       "        [  1.00000000e+00,   1.38706133e-01],\n",
       "        [  0.00000000e+00,   5.10240996e-01],\n",
       "        [  3.00000000e+00,   1.05700176e+00],\n",
       "        [  2.00000000e+00,   2.90181828e-02],\n",
       "        [  1.00000000e+00,   1.31601105e+00],\n",
       "        [  0.00000000e+00,   9.08203769e-01],\n",
       "        [  3.00000000e+00,   5.02608557e-01],\n",
       "        [  2.00000000e+00,   4.57942717e-01],\n",
       "        [  1.00000000e+00,   2.13786618e-01],\n",
       "        [  0.00000000e+00,   4.05632356e+00],\n",
       "        [  3.00000000e+00,   5.14171888e+00],\n",
       "        [  2.00000000e+00,   5.56237495e-01],\n",
       "        [  1.00000000e+00,   4.76142736e-01],\n",
       "        [  0.00000000e+00,   1.54414110e+00],\n",
       "        [  3.00000000e+00,   6.10930460e+00],\n",
       "        [  2.00000000e+00,   9.47660177e-01],\n",
       "        [  1.00000000e+00,   4.87745774e+00],\n",
       "        [  0.00000000e+00,   3.12703929e+00],\n",
       "        [  3.00000000e+00,   6.45118831e-03],\n",
       "        [  2.00000000e+00,   3.01415411e-01],\n",
       "        [  1.00000000e+00,   8.84955695e-01],\n",
       "        [  0.00000000e+00,   7.98870968e-02],\n",
       "        [  3.00000000e+00,   5.23673430e-01],\n",
       "        [  2.00000000e+00,   3.24171404e+00],\n",
       "        [  1.00000000e+00,   9.32523506e-02],\n",
       "        [  0.00000000e+00,   9.13705455e-01],\n",
       "        [  3.00000000e+00,   1.25766593e+00],\n",
       "        [  2.00000000e+00,   4.09563895e-01],\n",
       "        [  1.00000000e+00,   9.46987842e-01],\n",
       "        [  0.00000000e+00,   2.63836399e+00],\n",
       "        [  3.00000000e+00,   5.20371222e-01],\n",
       "        [  2.00000000e+00,   1.86796790e+00],\n",
       "        [  1.00000000e+00,   5.46768776e+00],\n",
       "        [  0.00000000e+00,   5.73153563e+00],\n",
       "        [  3.00000000e+00,   3.12040332e-01],\n",
       "        [  2.00000000e+00,   3.93986735e-01],\n",
       "        [  1.00000000e+00,   1.32864695e+00],\n",
       "        [  0.00000000e+00,   2.38032454e-02],\n",
       "        [  3.00000000e+00,   1.07872914e+00],\n",
       "        [  2.00000000e+00,   4.35369355e-01],\n",
       "        [  1.00000000e+00,   4.55502856e-01],\n",
       "        [  0.00000000e+00,   1.96212809e-02],\n",
       "        [  3.00000000e+00,   1.95213538e+00],\n",
       "        [  2.00000000e+00,   1.54154401e+00],\n",
       "        [  1.00000000e+00,   1.26364010e+00],\n",
       "        [  0.00000000e+00,   1.33108375e+00],\n",
       "        [  3.00000000e+00,   3.02422139e-01],\n",
       "        [  2.00000000e+00,   5.58860689e-01],\n",
       "        [  1.00000000e+00,   9.52516316e-02],\n",
       "        [  0.00000000e+00,   6.25129762e-01],\n",
       "        [  3.00000000e+00,   8.41875177e-01],\n",
       "        [  2.00000000e+00,   2.06159470e+00],\n",
       "        [  1.00000000e+00,   6.39227291e+00],\n",
       "        [  0.00000000e+00,   2.01200372e-01],\n",
       "        [  3.00000000e+00,   3.51030769e+00],\n",
       "        [  2.00000000e+00,   9.83287604e-01],\n",
       "        [  1.00000000e+00,   7.06014703e-02],\n",
       "        [  0.00000000e+00,   2.59901305e-01],\n",
       "        [  3.00000000e+00,   3.74491207e+00],\n",
       "        [  2.00000000e+00,   2.32143993e+00]])"
      ]
     },
     "execution_count": 42,
     "metadata": {},
     "output_type": "execute_result"
    }
   ],
   "source": [
    "clusterAssment"
   ]
  },
  {
   "cell_type": "code",
   "execution_count": 35,
   "metadata": {},
   "outputs": [
    {
     "data": {
      "text/plain": [
       "matrix([[ 2.6265299 ,  3.10868015],\n",
       "        [-3.38237045, -2.9473363 ],\n",
       "        [-2.46154315,  2.78737555],\n",
       "        [ 2.80293085, -2.7315146 ]])"
      ]
     },
     "execution_count": 35,
     "metadata": {},
     "output_type": "execute_result"
    }
   ],
   "source": [
    "myCentroids"
   ]
  },
  {
   "cell_type": "code",
   "execution_count": 30,
   "metadata": {},
   "outputs": [
    {
     "data": {
      "text/plain": [
       "matrix([[ 1.658985,  4.285136],\n",
       "        [-3.453687,  3.424321],\n",
       "        [ 4.838138, -1.151539],\n",
       "        [-5.379713, -3.362104],\n",
       "        [ 0.972564,  2.924086],\n",
       "        [-3.567919,  1.531611],\n",
       "        [ 0.450614, -3.302219],\n",
       "        [-3.487105, -1.724432],\n",
       "        [ 2.668759,  1.594842],\n",
       "        [-3.156485,  3.191137],\n",
       "        [ 3.165506, -3.999838],\n",
       "        [-2.786837, -3.099354],\n",
       "        [ 4.208187,  2.984927],\n",
       "        [-2.123337,  2.943366],\n",
       "        [ 0.704199, -0.479481],\n",
       "        [-0.39237 , -3.963704],\n",
       "        [ 2.831667,  1.574018],\n",
       "        [-0.790153,  3.343144],\n",
       "        [ 2.943496, -3.357075],\n",
       "        [-3.195883, -2.283926],\n",
       "        [ 2.336445,  2.875106],\n",
       "        [-1.786345,  2.554248],\n",
       "        [ 2.190101, -1.90602 ],\n",
       "        [-3.403367, -2.778288],\n",
       "        [ 1.778124,  3.880832],\n",
       "        [-1.688346,  2.230267],\n",
       "        [ 2.592976, -2.054368],\n",
       "        [-4.007257, -3.207066],\n",
       "        [ 2.257734,  3.387564],\n",
       "        [-2.679011,  0.785119],\n",
       "        [ 0.939512, -4.023563],\n",
       "        [-3.674424, -2.261084],\n",
       "        [ 2.046259,  2.735279],\n",
       "        [-3.18947 ,  1.780269],\n",
       "        [ 4.372646, -0.822248],\n",
       "        [-2.579316, -3.497576],\n",
       "        [ 1.889034,  5.1904  ],\n",
       "        [-0.798747,  2.185588],\n",
       "        [ 2.83652 , -2.658556],\n",
       "        [-3.837877, -3.253815],\n",
       "        [ 2.096701,  3.886007],\n",
       "        [-2.709034,  2.923887],\n",
       "        [ 3.367037, -3.184789],\n",
       "        [-2.121479, -4.232586],\n",
       "        [ 2.329546,  3.179764],\n",
       "        [-3.284816,  3.273099],\n",
       "        [ 3.091414, -3.815232],\n",
       "        [-3.762093, -2.432191],\n",
       "        [ 3.542056,  2.778832],\n",
       "        [-1.736822,  4.241041],\n",
       "        [ 2.127073, -2.98368 ],\n",
       "        [-4.323818, -3.938116],\n",
       "        [ 3.792121,  5.135768],\n",
       "        [-4.786473,  3.358547],\n",
       "        [ 2.624081, -3.260715],\n",
       "        [-4.009299, -2.978115],\n",
       "        [ 2.493525,  1.96371 ],\n",
       "        [-2.513661,  2.642162],\n",
       "        [ 1.864375, -3.176309],\n",
       "        [-3.171184, -3.572452],\n",
       "        [ 2.89422 ,  2.489128],\n",
       "        [-2.562539,  2.884438],\n",
       "        [ 3.491078, -3.947487],\n",
       "        [-2.565729, -2.012114],\n",
       "        [ 3.332948,  3.983102],\n",
       "        [-1.616805,  3.573188],\n",
       "        [ 2.280615, -2.559444],\n",
       "        [-2.651229, -3.103198],\n",
       "        [ 2.321395,  3.154987],\n",
       "        [-1.685703,  2.939697],\n",
       "        [ 3.031012, -3.620252],\n",
       "        [-4.599622, -2.185829],\n",
       "        [ 4.196223,  1.126677],\n",
       "        [-2.133863,  3.093686],\n",
       "        [ 4.668892, -2.562705],\n",
       "        [-2.793241, -2.149706],\n",
       "        [ 2.884105,  3.043438],\n",
       "        [-2.967647,  2.848696],\n",
       "        [ 4.479332, -1.764772],\n",
       "        [-4.905566, -2.91107 ]])"
      ]
     },
     "execution_count": 30,
     "metadata": {},
     "output_type": "execute_result"
    }
   ],
   "source": [
    "datMat"
   ]
  },
  {
   "cell_type": "code",
   "execution_count": 24,
   "metadata": {
    "collapsed": true
   },
   "outputs": [],
   "source": [
    "clusterChanged = True"
   ]
  },
  {
   "cell_type": "code",
   "execution_count": 23,
   "metadata": {},
   "outputs": [
    {
     "data": {
      "text/plain": [
       "matrix([[ 4.02252394,  4.81981638],\n",
       "        [ 2.80669653,  2.54140389],\n",
       "        [-0.01475761, -0.44938114],\n",
       "        [ 3.23126273,  2.86040196]])"
      ]
     },
     "execution_count": 23,
     "metadata": {},
     "output_type": "execute_result"
    }
   ],
   "source": [
    "centroids = randCent(datMat,4)\n",
    "centroids"
   ]
  },
  {
   "cell_type": "code",
   "execution_count": 19,
   "metadata": {},
   "outputs": [
    {
     "data": {
      "text/plain": [
       "matrix([[ 0.,  0.],\n",
       "        [ 0.,  0.],\n",
       "        [ 0.,  0.],\n",
       "        [ 0.,  0.],\n",
       "        [ 0.,  0.],\n",
       "        [ 0.,  0.],\n",
       "        [ 0.,  0.],\n",
       "        [ 0.,  0.],\n",
       "        [ 0.,  0.],\n",
       "        [ 0.,  0.],\n",
       "        [ 0.,  0.],\n",
       "        [ 0.,  0.],\n",
       "        [ 0.,  0.],\n",
       "        [ 0.,  0.],\n",
       "        [ 0.,  0.],\n",
       "        [ 0.,  0.],\n",
       "        [ 0.,  0.],\n",
       "        [ 0.,  0.],\n",
       "        [ 0.,  0.],\n",
       "        [ 0.,  0.],\n",
       "        [ 0.,  0.],\n",
       "        [ 0.,  0.],\n",
       "        [ 0.,  0.],\n",
       "        [ 0.,  0.],\n",
       "        [ 0.,  0.],\n",
       "        [ 0.,  0.],\n",
       "        [ 0.,  0.],\n",
       "        [ 0.,  0.],\n",
       "        [ 0.,  0.],\n",
       "        [ 0.,  0.],\n",
       "        [ 0.,  0.],\n",
       "        [ 0.,  0.],\n",
       "        [ 0.,  0.],\n",
       "        [ 0.,  0.],\n",
       "        [ 0.,  0.],\n",
       "        [ 0.,  0.],\n",
       "        [ 0.,  0.],\n",
       "        [ 0.,  0.],\n",
       "        [ 0.,  0.],\n",
       "        [ 0.,  0.],\n",
       "        [ 0.,  0.],\n",
       "        [ 0.,  0.],\n",
       "        [ 0.,  0.],\n",
       "        [ 0.,  0.],\n",
       "        [ 0.,  0.],\n",
       "        [ 0.,  0.],\n",
       "        [ 0.,  0.],\n",
       "        [ 0.,  0.],\n",
       "        [ 0.,  0.],\n",
       "        [ 0.,  0.],\n",
       "        [ 0.,  0.],\n",
       "        [ 0.,  0.],\n",
       "        [ 0.,  0.],\n",
       "        [ 0.,  0.],\n",
       "        [ 0.,  0.],\n",
       "        [ 0.,  0.],\n",
       "        [ 0.,  0.],\n",
       "        [ 0.,  0.],\n",
       "        [ 0.,  0.],\n",
       "        [ 0.,  0.],\n",
       "        [ 0.,  0.],\n",
       "        [ 0.,  0.],\n",
       "        [ 0.,  0.],\n",
       "        [ 0.,  0.],\n",
       "        [ 0.,  0.],\n",
       "        [ 0.,  0.],\n",
       "        [ 0.,  0.],\n",
       "        [ 0.,  0.],\n",
       "        [ 0.,  0.],\n",
       "        [ 0.,  0.],\n",
       "        [ 0.,  0.],\n",
       "        [ 0.,  0.],\n",
       "        [ 0.,  0.],\n",
       "        [ 0.,  0.],\n",
       "        [ 0.,  0.],\n",
       "        [ 0.,  0.],\n",
       "        [ 0.,  0.],\n",
       "        [ 0.,  0.],\n",
       "        [ 0.,  0.],\n",
       "        [ 0.,  0.]])"
      ]
     },
     "execution_count": 19,
     "metadata": {},
     "output_type": "execute_result"
    }
   ],
   "source": [
    "clusterAssment = mat(zeros((m,2)))\n",
    "clusterAssment"
   ]
  },
  {
   "cell_type": "code",
   "execution_count": 18,
   "metadata": {},
   "outputs": [],
   "source": [
    "m = shape(datMat)\n",
    "m = m[0]"
   ]
  },
  {
   "cell_type": "code",
   "execution_count": 39,
   "metadata": {},
   "outputs": [
    {
     "name": "stdout",
     "output_type": "stream",
     "text": [
      "[[ 0.06077931  2.94229244]\n",
      " [ 3.12727824  4.35112449]\n",
      " [-1.57007551 -0.65200135]\n",
      " [ 3.66245239 -3.44386847]]\n",
      "[[-2.15677217  3.03192211]\n",
      " [ 2.71358074  3.11839563]\n",
      " [-3.18248375 -2.30538367]\n",
      " [ 2.91339042 -2.85004268]]\n",
      "[[-2.46154315  2.78737555]\n",
      " [ 2.6265299   3.10868015]\n",
      " [-3.38237045 -2.9473363 ]\n",
      " [ 2.80293085 -2.7315146 ]]\n"
     ]
    }
   ],
   "source": [
    "myCentroids, clusterAssment = kMeans(datMat, 4)"
   ]
  },
  {
   "cell_type": "code",
   "execution_count": 40,
   "metadata": {},
   "outputs": [
    {
     "data": {
      "text/plain": [
       "matrix([[  1.00000000e+00,   2.32019150e+00],\n",
       "        [  0.00000000e+00,   1.39004893e+00],\n",
       "        [  3.00000000e+00,   6.63839104e+00],\n",
       "        [  2.00000000e+00,   4.16140951e+00],\n",
       "        [  1.00000000e+00,   2.76967820e+00],\n",
       "        [  0.00000000e+00,   2.80101213e+00],\n",
       "        [  3.00000000e+00,   5.85909807e+00],\n",
       "        [  2.00000000e+00,   1.50646425e+00],\n",
       "        [  1.00000000e+00,   2.29348924e+00],\n",
       "        [  0.00000000e+00,   6.45967483e-01],\n",
       "        [  3.00000000e+00,   1.74010499e+00],\n",
       "        [  2.00000000e+00,   3.77769471e-01],\n",
       "        [  1.00000000e+00,   2.51695402e+00],\n",
       "        [  0.00000000e+00,   1.38716420e-01],\n",
       "        [  3.00000000e+00,   9.47633071e+00],\n",
       "        [  2.00000000e+00,   9.97310599e+00],\n",
       "        [  1.00000000e+00,   2.39726914e+00],\n",
       "        [  0.00000000e+00,   3.10242360e+00],\n",
       "        [  3.00000000e+00,   4.11084375e-01],\n",
       "        [  2.00000000e+00,   4.74890795e-01],\n",
       "        [  1.00000000e+00,   1.38706133e-01],\n",
       "        [  0.00000000e+00,   5.10240996e-01],\n",
       "        [  3.00000000e+00,   1.05700176e+00],\n",
       "        [  2.00000000e+00,   2.90181828e-02],\n",
       "        [  1.00000000e+00,   1.31601105e+00],\n",
       "        [  0.00000000e+00,   9.08203769e-01],\n",
       "        [  3.00000000e+00,   5.02608557e-01],\n",
       "        [  2.00000000e+00,   4.57942717e-01],\n",
       "        [  1.00000000e+00,   2.13786618e-01],\n",
       "        [  0.00000000e+00,   4.05632356e+00],\n",
       "        [  3.00000000e+00,   5.14171888e+00],\n",
       "        [  2.00000000e+00,   5.56237495e-01],\n",
       "        [  1.00000000e+00,   4.76142736e-01],\n",
       "        [  0.00000000e+00,   1.54414110e+00],\n",
       "        [  3.00000000e+00,   6.10930460e+00],\n",
       "        [  2.00000000e+00,   9.47660177e-01],\n",
       "        [  1.00000000e+00,   4.87745774e+00],\n",
       "        [  0.00000000e+00,   3.12703929e+00],\n",
       "        [  3.00000000e+00,   6.45118831e-03],\n",
       "        [  2.00000000e+00,   3.01415411e-01],\n",
       "        [  1.00000000e+00,   8.84955695e-01],\n",
       "        [  0.00000000e+00,   7.98870968e-02],\n",
       "        [  3.00000000e+00,   5.23673430e-01],\n",
       "        [  2.00000000e+00,   3.24171404e+00],\n",
       "        [  1.00000000e+00,   9.32523506e-02],\n",
       "        [  0.00000000e+00,   9.13705455e-01],\n",
       "        [  3.00000000e+00,   1.25766593e+00],\n",
       "        [  2.00000000e+00,   4.09563895e-01],\n",
       "        [  1.00000000e+00,   9.46987842e-01],\n",
       "        [  0.00000000e+00,   2.63836399e+00],\n",
       "        [  3.00000000e+00,   5.20371222e-01],\n",
       "        [  2.00000000e+00,   1.86796790e+00],\n",
       "        [  1.00000000e+00,   5.46768776e+00],\n",
       "        [  0.00000000e+00,   5.73153563e+00],\n",
       "        [  3.00000000e+00,   3.12040332e-01],\n",
       "        [  2.00000000e+00,   3.93986735e-01],\n",
       "        [  1.00000000e+00,   1.32864695e+00],\n",
       "        [  0.00000000e+00,   2.38032454e-02],\n",
       "        [  3.00000000e+00,   1.07872914e+00],\n",
       "        [  2.00000000e+00,   4.35369355e-01],\n",
       "        [  1.00000000e+00,   4.55502856e-01],\n",
       "        [  0.00000000e+00,   1.96212809e-02],\n",
       "        [  3.00000000e+00,   1.95213538e+00],\n",
       "        [  2.00000000e+00,   1.54154401e+00],\n",
       "        [  1.00000000e+00,   1.26364010e+00],\n",
       "        [  0.00000000e+00,   1.33108375e+00],\n",
       "        [  3.00000000e+00,   3.02422139e-01],\n",
       "        [  2.00000000e+00,   5.58860689e-01],\n",
       "        [  1.00000000e+00,   9.52516316e-02],\n",
       "        [  0.00000000e+00,   6.25129762e-01],\n",
       "        [  3.00000000e+00,   8.41875177e-01],\n",
       "        [  2.00000000e+00,   2.06159470e+00],\n",
       "        [  1.00000000e+00,   6.39227291e+00],\n",
       "        [  0.00000000e+00,   2.01200372e-01],\n",
       "        [  3.00000000e+00,   3.51030769e+00],\n",
       "        [  2.00000000e+00,   9.83287604e-01],\n",
       "        [  1.00000000e+00,   7.06014703e-02],\n",
       "        [  0.00000000e+00,   2.59901305e-01],\n",
       "        [  3.00000000e+00,   3.74491207e+00],\n",
       "        [  2.00000000e+00,   2.32143993e+00]])"
      ]
     },
     "execution_count": 40,
     "metadata": {},
     "output_type": "execute_result"
    }
   ],
   "source": [
    "clusterAssment"
   ]
  },
  {
   "cell_type": "code",
   "execution_count": null,
   "metadata": {
    "collapsed": true
   },
   "outputs": [],
   "source": []
  },
  {
   "cell_type": "code",
   "execution_count": null,
   "metadata": {
    "collapsed": true
   },
   "outputs": [],
   "source": []
  },
  {
   "cell_type": "code",
   "execution_count": null,
   "metadata": {
    "collapsed": true
   },
   "outputs": [],
   "source": []
  },
  {
   "cell_type": "code",
   "execution_count": null,
   "metadata": {
    "collapsed": true
   },
   "outputs": [],
   "source": []
  },
  {
   "cell_type": "code",
   "execution_count": null,
   "metadata": {
    "collapsed": true
   },
   "outputs": [],
   "source": []
  },
  {
   "cell_type": "code",
   "execution_count": null,
   "metadata": {
    "collapsed": true
   },
   "outputs": [],
   "source": []
  },
  {
   "cell_type": "code",
   "execution_count": null,
   "metadata": {
    "collapsed": true
   },
   "outputs": [],
   "source": []
  },
  {
   "cell_type": "code",
   "execution_count": null,
   "metadata": {
    "collapsed": true
   },
   "outputs": [],
   "source": []
  },
  {
   "cell_type": "code",
   "execution_count": null,
   "metadata": {
    "collapsed": true
   },
   "outputs": [],
   "source": []
  },
  {
   "cell_type": "code",
   "execution_count": null,
   "metadata": {
    "collapsed": true
   },
   "outputs": [],
   "source": []
  },
  {
   "cell_type": "code",
   "execution_count": null,
   "metadata": {
    "collapsed": true
   },
   "outputs": [],
   "source": []
  },
  {
   "cell_type": "code",
   "execution_count": null,
   "metadata": {
    "collapsed": true
   },
   "outputs": [],
   "source": []
  }
 ],
 "metadata": {
  "kernelspec": {
   "display_name": "Python 3",
   "language": "python",
   "name": "python3"
  },
  "language_info": {
   "codemirror_mode": {
    "name": "ipython",
    "version": 3
   },
   "file_extension": ".py",
   "mimetype": "text/x-python",
   "name": "python",
   "nbconvert_exporter": "python",
   "pygments_lexer": "ipython3",
   "version": "3.6.1"
  }
 },
 "nbformat": 4,
 "nbformat_minor": 2
}
