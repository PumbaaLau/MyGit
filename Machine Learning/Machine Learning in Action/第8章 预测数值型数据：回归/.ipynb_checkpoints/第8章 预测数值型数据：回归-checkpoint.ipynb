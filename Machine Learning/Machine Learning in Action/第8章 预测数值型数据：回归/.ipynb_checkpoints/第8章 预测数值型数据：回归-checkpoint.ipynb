{
 "cells": [
  {
   "cell_type": "markdown",
   "metadata": {},
   "source": [
    "# 第8章 预测数值型数据：回归"
   ]
  },
  {
   "cell_type": "markdown",
   "metadata": {},
   "source": [
    "本章内容：\n",
    "- 线性回归\n",
    "- 局部加权线性回归\n",
    "- 岭回归和逐步线性回归\n",
    "- 预测鲍鱼年龄和玩具售价"
   ]
  },
  {
   "cell_type": "markdown",
   "metadata": {},
   "source": [
    "## 8.1 用线性回归找到最佳拟合直线"
   ]
  },
  {
   "cell_type": "markdown",
   "metadata": {},
   "source": [
    "<center>**线性回归**</center>\n",
    "- 优点：结果易于理解，计算上不复杂。\n",
    "- 缺点：对非线性的数据拟合不好。\n",
    "- 使用数据类型：数值型和标称型数据。"
   ]
  },
  {
   "cell_type": "markdown",
   "metadata": {},
   "source": [
    "<center>**回归的一般方法**</center>\n",
    "(1)收集数据：采用任意方法收集数据。  \n",
    "(2)准备数据：回归需要数值型数据，标称型数据将被转成二值型数据。  \n",
    "(3)分析数据：绘出数据的可视化二维图将有助于对数据做出理解和分析，在采用缩减法求得新回归系数之后，可以将新拟合线绘在图上作为对比。  \n",
    "(4)训练算法：找到回归系数。  \n",
    "(5)测试算法：使用R2或者预测值和数据的拟合度，来分析模型的效果。  \n",
    "(6)使用算法：使用回归，可以在给定输入的时候预测出一个数值，这是对分类方法的提升，因为这样可以预测连续型数据而不仅仅是离散的类别标签。"
   ]
  },
  {
   "cell_type": "markdown",
   "metadata": {},
   "source": [
    "###### 程序清单8-1 标准回归函数和数据导入函数"
   ]
  },
  {
   "cell_type": "code",
   "execution_count": 3,
   "metadata": {
    "collapsed": true
   },
   "outputs": [],
   "source": [
    "import numpy as np\n",
    "\n",
    "def loadDataSet(filename):\n",
    "    numFeat = len(open(filename).readline().split('\\t')) - 1\n",
    "    dataMat = []\n",
    "    labelMat = []\n",
    "    fr = open(filename)\n",
    "    for line in fr.readlines():\n",
    "        lineArr = []\n",
    "        curLine = line.strip().split('\\t')\n",
    "        for i in range(numFeat):\n",
    "            lineArr.append(float(curLine[i]))\n",
    "        dataMat.append(lineArr)\n",
    "        labelMat.append(float(curLine[-1]))\n",
    "    return dataMat, labelMat\n",
    "\n",
    "def standRegres(xArr, yArr):\n",
    "    xMat = np.mat(xArr)\n",
    "    yMat = np.mat(yArr).T\n",
    "    xTx = xMat.T * xMat\n",
    "    if np.linalg.det(xTx) == 0.0:\n",
    "        print(\"This matrix is singular, cannot do inverse\")\n",
    "        return \n",
    "    ws = xTx.I * (xMat.T * yMat)\n",
    "    return ws"
   ]
  },
  {
   "cell_type": "code",
   "execution_count": 5,
   "metadata": {
    "collapsed": true
   },
   "outputs": [],
   "source": [
    "xArr, yArr = loadDataSet('./Data/ex0.txt')"
   ]
  },
  {
   "cell_type": "code",
   "execution_count": 6,
   "metadata": {},
   "outputs": [
    {
     "data": {
      "text/plain": [
       "[[1.0, 0.067732], [1.0, 0.42781]]"
      ]
     },
     "execution_count": 6,
     "metadata": {},
     "output_type": "execute_result"
    }
   ],
   "source": [
    "xArr[0:2]"
   ]
  },
  {
   "cell_type": "code",
   "execution_count": 7,
   "metadata": {
    "collapsed": true
   },
   "outputs": [],
   "source": [
    "ws = standRegres(xArr, yArr)"
   ]
  },
  {
   "cell_type": "code",
   "execution_count": 9,
   "metadata": {},
   "outputs": [
    {
     "data": {
      "text/plain": [
       "matrix([[ 3.00774324],\n",
       "        [ 1.69532264]])"
      ]
     },
     "execution_count": 9,
     "metadata": {},
     "output_type": "execute_result"
    }
   ],
   "source": [
    "ws"
   ]
  },
  {
   "cell_type": "code",
   "execution_count": 10,
   "metadata": {
    "scrolled": true
   },
   "outputs": [
    {
     "data": {
      "text/plain": [
       "matrix([[ 3.12257084],\n",
       "        [ 3.73301922],\n",
       "        [ 4.69582855],\n",
       "        [ 4.25946098],\n",
       "        [ 4.67099547],\n",
       "        [ 3.89977285],\n",
       "        [ 3.65007895],\n",
       "        [ 3.06514517],\n",
       "        [ 3.23286683],\n",
       "        [ 3.24221654],\n",
       "        [ 3.42785945],\n",
       "        [ 4.10677005],\n",
       "        [ 4.24737842],\n",
       "        [ 3.40925159],\n",
       "        [ 4.6518468 ],\n",
       "        [ 4.03763819],\n",
       "        [ 3.61572324],\n",
       "        [ 3.25838991],\n",
       "        [ 4.08905393],\n",
       "        [ 3.39829811],\n",
       "        [ 3.12681762],\n",
       "        [ 3.12159094],\n",
       "        [ 4.57689489],\n",
       "        [ 4.22453225],\n",
       "        [ 3.03380205],\n",
       "        [ 3.575795  ],\n",
       "        [ 3.07638008],\n",
       "        [ 3.36812645],\n",
       "        [ 4.05412689],\n",
       "        [ 3.92524508],\n",
       "        [ 3.08463121],\n",
       "        [ 3.22264573],\n",
       "        [ 3.95116656],\n",
       "        [ 4.53547307],\n",
       "        [ 4.63266931],\n",
       "        [ 3.47321272],\n",
       "        [ 3.67637171],\n",
       "        [ 4.48687834],\n",
       "        [ 3.70271024],\n",
       "        [ 4.54873897],\n",
       "        [ 3.29055527],\n",
       "        [ 4.13515992],\n",
       "        [ 3.4548456 ],\n",
       "        [ 3.39972557],\n",
       "        [ 3.9451346 ],\n",
       "        [ 3.08868473],\n",
       "        [ 3.62780072],\n",
       "        [ 3.84693134],\n",
       "        [ 3.84432733],\n",
       "        [ 4.35061   ],\n",
       "        [ 4.31256527],\n",
       "        [ 3.43466109],\n",
       "        [ 3.31620889],\n",
       "        [ 4.37786401],\n",
       "        [ 3.57417766],\n",
       "        [ 3.58183035],\n",
       "        [ 3.77501915],\n",
       "        [ 4.18560255],\n",
       "        [ 4.00951278],\n",
       "        [ 3.52978055],\n",
       "        [ 3.25926809],\n",
       "        [ 4.1981649 ],\n",
       "        [ 4.23099312],\n",
       "        [ 4.13833018],\n",
       "        [ 3.2195416 ],\n",
       "        [ 4.0559375 ],\n",
       "        [ 3.65380697],\n",
       "        [ 3.66153255],\n",
       "        [ 4.32530562],\n",
       "        [ 3.20455155],\n",
       "        [ 3.20353097],\n",
       "        [ 4.13260677],\n",
       "        [ 3.43985386],\n",
       "        [ 4.69270407],\n",
       "        [ 3.50859919],\n",
       "        [ 4.62257705],\n",
       "        [ 3.52828697],\n",
       "        [ 3.47779009],\n",
       "        [ 3.48090949],\n",
       "        [ 3.30565212],\n",
       "        [ 3.27286288],\n",
       "        [ 4.25069447],\n",
       "        [ 4.44561758],\n",
       "        [ 4.31514894],\n",
       "        [ 3.73587075],\n",
       "        [ 3.28268389],\n",
       "        [ 4.56246261],\n",
       "        [ 3.54184447],\n",
       "        [ 3.34930498],\n",
       "        [ 3.51131849],\n",
       "        [ 3.57846852],\n",
       "        [ 4.13701291],\n",
       "        [ 3.99762179],\n",
       "        [ 3.15189822],\n",
       "        [ 4.17244007],\n",
       "        [ 4.61771487],\n",
       "        [ 3.32970536],\n",
       "        [ 4.43864133],\n",
       "        [ 3.57277394],\n",
       "        [ 3.73170535],\n",
       "        [ 3.79838917],\n",
       "        [ 3.94128791],\n",
       "        [ 3.47940404],\n",
       "        [ 4.56535313],\n",
       "        [ 4.51074001],\n",
       "        [ 3.97320914],\n",
       "        [ 3.12027706],\n",
       "        [ 3.57694952],\n",
       "        [ 3.73141375],\n",
       "        [ 3.6786604 ],\n",
       "        [ 4.18467182],\n",
       "        [ 3.47015945],\n",
       "        [ 3.86132972],\n",
       "        [ 3.1215316 ],\n",
       "        [ 3.07271818],\n",
       "        [ 4.02344833],\n",
       "        [ 4.61330533],\n",
       "        [ 4.14577773],\n",
       "        [ 3.74488818],\n",
       "        [ 3.87130839],\n",
       "        [ 4.27828923],\n",
       "        [ 3.10609569],\n",
       "        [ 3.82654678],\n",
       "        [ 3.79907916],\n",
       "        [ 3.61427374],\n",
       "        [ 4.61681295],\n",
       "        [ 3.71523529],\n",
       "        [ 4.56822162],\n",
       "        [ 3.27294765],\n",
       "        [ 4.1209972 ],\n",
       "        [ 4.05277064],\n",
       "        [ 4.45457905],\n",
       "        [ 3.23372127],\n",
       "        [ 4.1826137 ],\n",
       "        [ 3.31027187],\n",
       "        [ 3.34600419],\n",
       "        [ 3.13188155],\n",
       "        [ 3.49347861],\n",
       "        [ 3.31633604],\n",
       "        [ 4.06142526],\n",
       "        [ 3.5919243 ],\n",
       "        [ 3.68342425],\n",
       "        [ 3.82212368],\n",
       "        [ 3.26772097],\n",
       "        [ 3.29907766],\n",
       "        [ 4.47772699],\n",
       "        [ 3.38724969],\n",
       "        [ 3.90338389],\n",
       "        [ 4.5169059 ],\n",
       "        [ 3.1880442 ],\n",
       "        [ 4.56385616],\n",
       "        [ 3.03292726],\n",
       "        [ 3.97014739],\n",
       "        [ 3.12447299],\n",
       "        [ 4.03092979],\n",
       "        [ 3.90973965],\n",
       "        [ 4.11201199],\n",
       "        [ 4.53561039],\n",
       "        [ 3.35416039],\n",
       "        [ 4.18782512],\n",
       "        [ 4.64190543],\n",
       "        [ 4.67151593],\n",
       "        [ 4.68257113],\n",
       "        [ 4.68771813],\n",
       "        [ 4.25553631],\n",
       "        [ 3.43763299],\n",
       "        [ 4.15161473],\n",
       "        [ 4.60027508],\n",
       "        [ 3.4068544 ],\n",
       "        [ 3.195112  ],\n",
       "        [ 3.37736257],\n",
       "        [ 4.48229758],\n",
       "        [ 3.3414336 ],\n",
       "        [ 4.6321641 ],\n",
       "        [ 4.6567378 ],\n",
       "        [ 4.27210978],\n",
       "        [ 3.76330447],\n",
       "        [ 3.80548918],\n",
       "        [ 3.93887547],\n",
       "        [ 3.5768478 ],\n",
       "        [ 4.5076613 ],\n",
       "        [ 4.56560234],\n",
       "        [ 3.75676222],\n",
       "        [ 3.20541447],\n",
       "        [ 3.61682859],\n",
       "        [ 4.38911078],\n",
       "        [ 3.66404502],\n",
       "        [ 4.67296204],\n",
       "        [ 4.33158679],\n",
       "        [ 4.11405146],\n",
       "        [ 4.4827248 ],\n",
       "        [ 4.03299809],\n",
       "        [ 3.44040992],\n",
       "        [ 4.24625442],\n",
       "        [ 3.84494273],\n",
       "        [ 3.44346998],\n",
       "        [ 4.42119307],\n",
       "        [ 3.12657688],\n",
       "        [ 3.90129695],\n",
       "        [ 3.20467701]])"
      ]
     },
     "execution_count": 10,
     "metadata": {},
     "output_type": "execute_result"
    }
   ],
   "source": [
    "xMat = np.mat(xArr)\n",
    "yMat = np.mat(yArr)\n",
    "yHat = xMat * ws\n",
    "yHat"
   ]
  },
  {
   "cell_type": "code",
   "execution_count": 18,
   "metadata": {},
   "outputs": [
    {
     "data": {
      "image/png": "[encoded data removed]",
      "text/plain": [
       "<matplotlib.figure.Figure at 0x25a8013f208>"
      ]
     },
     "metadata": {},
     "output_type": "display_data"
    }
   ],
   "source": [
    "import matplotlib.pyplot as plt\n",
    "\n",
    "fig = plt.figure()\n",
    "ax = fig.add_subplot(111)\n",
    "ax.scatter(xMat[:,1].flatten().A[0], yMat.T[:,0].flatten().A[0], c='b', edgecolors=\"black\")\n",
    "\n",
    "xCopy = xMat.copy()\n",
    "xCopy.sort(0)\n",
    "yHat = xCopy * ws\n",
    "ax.plot(xCopy[:, 1], yHat, color='r')\n",
    "\n",
    "plt.show()"
   ]
  },
  {
   "cell_type": "code",
   "execution_count": 19,
   "metadata": {},
   "outputs": [
    {
     "data": {
      "text/plain": [
       "array([[ 1.        ,  0.98647356],\n",
       "       [ 0.98647356,  1.        ]])"
      ]
     },
     "execution_count": 19,
     "metadata": {},
     "output_type": "execute_result"
    }
   ],
   "source": [
    "yHat = xMat * ws\n",
    "np.corrcoef(yHat.T, yMat)"
   ]
  },
  {
   "cell_type": "markdown",
   "metadata": {},
   "source": [
    "## 8.2 局部加权线性回归"
   ]
  },
  {
   "cell_type": "markdown",
   "metadata": {},
   "source": [
    "线性回归的一个问题是有可能出现欠拟合现象，因为它求的是具有最小均方误差的无偏估计。"
   ]
  },
  {
   "cell_type": "markdown",
   "metadata": {},
   "source": [
    "###### 程序清单8-2 局部加权线性回归函数"
   ]
  },
  {
   "cell_type": "code",
   "execution_count": 23,
   "metadata": {
    "collapsed": true
   },
   "outputs": [],
   "source": [
    "def lwlr(testPoint, xArr, yArr, k=1.0):\n",
    "    xMat = np.mat(xArr)\n",
    "    yMat = np.mat(yArr).T\n",
    "    m = np.shape(xMat)[0]\n",
    "    weights = np.mat(np.eye(m))\n",
    "    for j in range(m):\n",
    "        diffMat = testPoint - xMat[j, :]\n",
    "        weights[j,j] = np.exp(diffMat * diffMat.T / (-2.0 * k ** 2))\n",
    "    xTx = xMat.T * (weights * xMat)\n",
    "    if np.linalg.det(xTx) == 0.0:\n",
    "        print(\"This matrix is singular, cannot do inverse\")\n",
    "        return \n",
    "    ws = xTx.I * (xMat.T * (weights * yMat))\n",
    "    return testPoint * ws\n",
    "\n",
    "def lwlrTest(testArr, xArr, yArr, k=1.0):\n",
    "    m = np.shape(testArr)[0]\n",
    "    yHat = np.zeros(m)\n",
    "    for i in range(m):\n",
    "        yHat[i] = lwlr(testArr[i], xArr, yArr, k)\n",
    "    return yHat        "
   ]
  },
  {
   "cell_type": "code",
   "execution_count": 21,
   "metadata": {},
   "outputs": [
    {
     "data": {
      "text/plain": [
       "3.176513"
      ]
     },
     "execution_count": 21,
     "metadata": {},
     "output_type": "execute_result"
    }
   ],
   "source": [
    "xArr, yArr = loadDataSet('./Data/ex0.txt')\n",
    "yArr[0]"
   ]
  },
  {
   "cell_type": "code",
   "execution_count": 24,
   "metadata": {},
   "outputs": [
    {
     "data": {
      "text/plain": [
       "matrix([[ 3.12204471]])"
      ]
     },
     "execution_count": 24,
     "metadata": {},
     "output_type": "execute_result"
    }
   ],
   "source": [
    "lwlr(xArr[0], xArr, yArr, 1.0)"
   ]
  },
  {
   "cell_type": "code",
   "execution_count": 25,
   "metadata": {},
   "outputs": [
    {
     "data": {
      "text/plain": [
       "matrix([[ 3.20175729]])"
      ]
     },
     "execution_count": 25,
     "metadata": {},
     "output_type": "execute_result"
    }
   ],
   "source": [
    "lwlr(xArr[0], xArr, yArr, 0.001)"
   ]
  },
  {
   "cell_type": "code",
   "execution_count": 27,
   "metadata": {
    "collapsed": true
   },
   "outputs": [],
   "source": [
    "yHat = lwlrTest(xArr, xArr, yArr, 0.003)"
   ]
  },
  {
   "cell_type": "code",
   "execution_count": null,
   "metadata": {
    "collapsed": true
   },
   "outputs": [],
   "source": []
  },
  {
   "cell_type": "code",
   "execution_count": null,
   "metadata": {
    "collapsed": true
   },
   "outputs": [],
   "source": []
  },
  {
   "cell_type": "code",
   "execution_count": null,
   "metadata": {
    "collapsed": true
   },
   "outputs": [],
   "source": []
  },
  {
   "cell_type": "code",
   "execution_count": null,
   "metadata": {
    "collapsed": true
   },
   "outputs": [],
   "source": []
  },
  {
   "cell_type": "markdown",
   "metadata": {
    "collapsed": true
   },
   "source": [
    "## 8.3 示例：预测鲍鱼的年龄"
   ]
  },
  {
   "cell_type": "code",
   "execution_count": 1,
   "metadata": {
    "collapsed": true
   },
   "outputs": [],
   "source": [
    "def rssError(yArr, yHatArr):\n",
    "    return ((yArr - yHatArr) ** 2).sum()"
   ]
  },
  {
   "cell_type": "code",
   "execution_count": null,
   "metadata": {
    "collapsed": true
   },
   "outputs": [],
   "source": [
    "abX, abY = loadDataSet('./Data/abalone.txt')\n",
    "yHat01 = lwlr"
   ]
  },
  {
   "cell_type": "code",
   "execution_count": null,
   "metadata": {
    "collapsed": true
   },
   "outputs": [],
   "source": []
  },
  {
   "cell_type": "code",
   "execution_count": null,
   "metadata": {
    "collapsed": true
   },
   "outputs": [],
   "source": []
  },
  {
   "cell_type": "code",
   "execution_count": null,
   "metadata": {
    "collapsed": true
   },
   "outputs": [],
   "source": []
  },
  {
   "cell_type": "code",
   "execution_count": null,
   "metadata": {
    "collapsed": true
   },
   "outputs": [],
   "source": []
  },
  {
   "cell_type": "code",
   "execution_count": null,
   "metadata": {
    "collapsed": true
   },
   "outputs": [],
   "source": []
  },
  {
   "cell_type": "code",
   "execution_count": null,
   "metadata": {
    "collapsed": true
   },
   "outputs": [],
   "source": []
  },
  {
   "cell_type": "code",
   "execution_count": null,
   "metadata": {
    "collapsed": true
   },
   "outputs": [],
   "source": []
  },
  {
   "cell_type": "code",
   "execution_count": null,
   "metadata": {
    "collapsed": true
   },
   "outputs": [],
   "source": []
  },
  {
   "cell_type": "code",
   "execution_count": null,
   "metadata": {
    "collapsed": true
   },
   "outputs": [],
   "source": []
  },
  {
   "cell_type": "code",
   "execution_count": null,
   "metadata": {
    "collapsed": true
   },
   "outputs": [],
   "source": []
  },
  {
   "cell_type": "code",
   "execution_count": null,
   "metadata": {
    "collapsed": true
   },
   "outputs": [],
   "source": []
  },
  {
   "cell_type": "code",
   "execution_count": null,
   "metadata": {
    "collapsed": true
   },
   "outputs": [],
   "source": []
  },
  {
   "cell_type": "code",
   "execution_count": null,
   "metadata": {
    "collapsed": true
   },
   "outputs": [],
   "source": []
  },
  {
   "cell_type": "code",
   "execution_count": null,
   "metadata": {
    "collapsed": true
   },
   "outputs": [],
   "source": []
  },
  {
   "cell_type": "code",
   "execution_count": null,
   "metadata": {
    "collapsed": true
   },
   "outputs": [],
   "source": []
  },
  {
   "cell_type": "code",
   "execution_count": null,
   "metadata": {
    "collapsed": true
   },
   "outputs": [],
   "source": []
  },
  {
   "cell_type": "code",
   "execution_count": null,
   "metadata": {
    "collapsed": true
   },
   "outputs": [],
   "source": []
  },
  {
   "cell_type": "code",
   "execution_count": null,
   "metadata": {
    "collapsed": true
   },
   "outputs": [],
   "source": []
  },
  {
   "cell_type": "code",
   "execution_count": null,
   "metadata": {
    "collapsed": true
   },
   "outputs": [],
   "source": []
  },
  {
   "cell_type": "code",
   "execution_count": null,
   "metadata": {
    "collapsed": true
   },
   "outputs": [],
   "source": []
  },
  {
   "cell_type": "code",
   "execution_count": null,
   "metadata": {
    "collapsed": true
   },
   "outputs": [],
   "source": []
  },
  {
   "cell_type": "code",
   "execution_count": null,
   "metadata": {
    "collapsed": true
   },
   "outputs": [],
   "source": []
  },
  {
   "cell_type": "code",
   "execution_count": null,
   "metadata": {
    "collapsed": true
   },
   "outputs": [],
   "source": []
  },
  {
   "cell_type": "code",
   "execution_count": null,
   "metadata": {
    "collapsed": true
   },
   "outputs": [],
   "source": []
  }
 ],
 "metadata": {
  "kernelspec": {
   "display_name": "Python 3",
   "language": "python",
   "name": "python3"
  },
  "language_info": {
   "codemirror_mode": {
    "name": "ipython",
    "version": 3
   },
   "file_extension": ".py",
   "mimetype": "text/x-python",
   "name": "python",
   "nbconvert_exporter": "python",
   "pygments_lexer": "ipython3",
   "version": "3.6.1"
  }
 },
 "nbformat": 4,
 "nbformat_minor": 2
}
