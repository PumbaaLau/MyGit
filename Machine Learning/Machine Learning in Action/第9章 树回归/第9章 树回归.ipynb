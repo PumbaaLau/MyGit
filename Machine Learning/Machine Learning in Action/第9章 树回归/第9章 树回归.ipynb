{
 "cells": [
  {
   "cell_type": "markdown",
   "metadata": {},
   "source": [
    "# 第9章 树回归"
   ]
  },
  {
   "cell_type": "markdown",
   "metadata": {},
   "source": [
    "本章内容：\n",
    "- CART算法\n",
    "- 回归与模型树\n",
    "- 树剪枝算法\n",
    "- Python中GUI的使用"
   ]
  },
  {
   "cell_type": "markdown",
   "metadata": {},
   "source": [
    "## 9.1 复杂数据的局部性建模"
   ]
  },
  {
   "cell_type": "markdown",
   "metadata": {},
   "source": [
    "<center>**树回归**</center>\n",
    "优点：可以对复杂和非线性的数据建模。  \n",
    "缺点：结果不易理解。  \n",
    "适用数据类型：数值型和标称型数据。  "
   ]
  },
  {
   "cell_type": "markdown",
   "metadata": {},
   "source": [
    "## 9.2 连续和离散型特征的树的构建"
   ]
  },
  {
   "cell_type": "code",
   "execution_count": 1,
   "metadata": {
    "collapsed": true
   },
   "outputs": [],
   "source": [
    "class treeNode():\n",
    "    def __init__(self, feat, val, right, left):\n",
    "        featureToSplitOn = feat\n",
    "        valueOfSplit = val\n",
    "        rightBranch = right\n",
    "        leftBranch = left"
   ]
  },
  {
   "cell_type": "markdown",
   "metadata": {},
   "source": [
    "###### 程序清单9-1 CART算法的实现代码"
   ]
  },
  {
   "cell_type": "code",
   "execution_count": 23,
   "metadata": {},
   "outputs": [],
   "source": [
    "import numpy as np\n",
    "\n",
    "def loadDataSet(filename):\n",
    "    dataMat = []\n",
    "    fr = open(filename)\n",
    "    for line in fr.readlines():\n",
    "        curLine = line.strip().split('\\t')\n",
    "        fltLine = list(map(np.float, curLine))\n",
    "        dataMat.append(fltLine)\n",
    "    return dataMat\n",
    "\n",
    "def binSplitDataSet(dataSet, feature, value):\n",
    "#     mat0 = dataSet[np.nonzero(dataSet[:, feature] > value)[0], :][0]\n",
    "    mat0 = dataSet[np.nonzero(dataSet[:, feature] > value)[0], :]\n",
    "#     mat1 = dataSet[np.nonzero(dataSet[:, feature] <= value)[0], :][0]\n",
    "    mat1 = dataSet[np.nonzero(dataSet[:, feature] <= value)[0], :]\n",
    "    return mat0, mat1\n",
    "\n",
    "def regLeaf(dataSet):#returns the value used for each leaf\n",
    "    return np.mean(dataSet[:,-1])\n",
    "\n",
    "def regErr(dataSet):\n",
    "    return np.var(dataSet[:,-1]) * np.shape(dataSet)[0]\n",
    "\n",
    "def createTree(dataSet, leafType=regLeaf, errType=regErr, ops=(1,4)):\n",
    "    feat, val = chooseBestSplit(dataSet, leafType, errType, ops)\n",
    "    if feat == None:\n",
    "        return val\n",
    "    retTree = {}\n",
    "    retTree['spInd'] = feat\n",
    "    retTree['spVal'] = val\n",
    "    lSet, rSet = binSplitDataSet(dataSet, feat, val)\n",
    "    retTree['left'] = createTree(lSet, leafType, errType, ops)\n",
    "    retTree['right'] = createTree(rSet, leafType, errType, ops)\n",
    "    return retTree"
   ]
  },
  {
   "cell_type": "code",
   "execution_count": 10,
   "metadata": {
    "scrolled": true
   },
   "outputs": [
    {
     "data": {
      "text/plain": [
       "matrix([[ 1.,  0.,  0.,  0.],\n",
       "        [ 0.,  1.,  0.,  0.],\n",
       "        [ 0.,  0.,  1.,  0.],\n",
       "        [ 0.,  0.,  0.,  1.]])"
      ]
     },
     "execution_count": 10,
     "metadata": {},
     "output_type": "execute_result"
    }
   ],
   "source": [
    "testMat = np.mat(np.eye(4))\n",
    "testMat"
   ]
  },
  {
   "cell_type": "code",
   "execution_count": 11,
   "metadata": {
    "collapsed": true
   },
   "outputs": [],
   "source": [
    "mat0, mat1 = binSplitDataSet(testMat, 1, 0.5)"
   ]
  },
  {
   "cell_type": "code",
   "execution_count": 12,
   "metadata": {},
   "outputs": [
    {
     "data": {
      "text/plain": [
       "matrix([[ 0.,  1.,  0.,  0.]])"
      ]
     },
     "execution_count": 12,
     "metadata": {},
     "output_type": "execute_result"
    }
   ],
   "source": [
    "mat0"
   ]
  },
  {
   "cell_type": "code",
   "execution_count": 13,
   "metadata": {},
   "outputs": [
    {
     "data": {
      "text/plain": [
       "matrix([[ 1.,  0.,  0.,  0.],\n",
       "        [ 0.,  0.,  1.,  0.],\n",
       "        [ 0.,  0.,  0.,  1.]])"
      ]
     },
     "execution_count": 13,
     "metadata": {},
     "output_type": "execute_result"
    }
   ],
   "source": [
    "mat1"
   ]
  },
  {
   "cell_type": "markdown",
   "metadata": {},
   "source": [
    "## 9.3 将CART算法用于回归"
   ]
  },
  {
   "cell_type": "markdown",
   "metadata": {},
   "source": [
    "#### 9.3.1 构建树"
   ]
  },
  {
   "cell_type": "markdown",
   "metadata": {},
   "source": [
    "###### 程序清单9-2 回归树的切分函数"
   ]
  },
  {
   "cell_type": "code",
   "execution_count": 21,
   "metadata": {},
   "outputs": [],
   "source": [
    "def regLeaf(dataSet):\n",
    "    return np.mean(dataSet[:, -1])\n",
    "\n",
    "def regErr(dataSet):\n",
    "    return np.var(dataSet[:, -1]) * np.shape(dataSet)[0]\n",
    "\n",
    "def chooseBestSplit(dataSet, leafType=regLeaf, errType=regErr, ops=(1,4)):\n",
    "    tolS = ops[0]\n",
    "    tolN = ops[1]\n",
    "    if len(set(dataSet[:, -1].T.tolist()[0])) == 1:\n",
    "        return None, leafType(dataSet)\n",
    "    m, n = np.shape(dataSet)\n",
    "    S = errType(dataSet)\n",
    "    bestS = np.inf\n",
    "    bestIndex = 0\n",
    "    bestValue = 0\n",
    "    for featIndex in range(n - 1):\n",
    "        for splitVal in set(dataSet[:, featIndex]):\n",
    "            mat0, mat1 = binSplitDataSet(dataSet, featIndex, splitVal)\n",
    "            if (np.shape(mat0)[0] < tolN) or (np.shape(mat1)[0] < tolN):\n",
    "                continue\n",
    "            newS = errType(mat0) + errType(mat1)\n",
    "            if newS < beatS:\n",
    "                bestIndex = featIndex\n",
    "                bestValue = splitVal\n",
    "                bestS = newS\n",
    "    if (S - bestS) < tolS:\n",
    "        return None, leafType(dataSet)\n",
    "    mat0, mat1 = binSplitDataSet(dataSet, bestIndex, bestValue)\n",
    "    if (np.shape(mat0)[0] < tolN) or (np.shape(mat1)[0] < tolN):\n",
    "        return None, leafType(dataSet)\n",
    "    return bestIndex, bestValue"
   ]
  },
  {
   "cell_type": "code",
   "execution_count": 18,
   "metadata": {},
   "outputs": [
    {
     "data": {
      "text/plain": [
       "matrix([[  3.60980000e-02,   1.55096000e-01],\n",
       "        [  9.93349000e-01,   1.07755300e+00],\n",
       "        [  5.30897000e-01,   8.93462000e-01],\n",
       "        [  7.12386000e-01,   5.64858000e-01],\n",
       "        [  3.43554000e-01,  -3.71700000e-01],\n",
       "        [  9.80160000e-02,  -3.32760000e-01],\n",
       "        [  6.91115000e-01,   8.34391000e-01],\n",
       "        [  9.13580000e-02,   9.99350000e-02],\n",
       "        [  7.27098000e-01,   1.00056700e+00],\n",
       "        [  9.51949000e-01,   9.45255000e-01],\n",
       "        [  7.68596000e-01,   7.60219000e-01],\n",
       "        [  5.41314000e-01,   8.93748000e-01],\n",
       "        [  1.46366000e-01,   3.42830000e-02],\n",
       "        [  6.73195000e-01,   9.15077000e-01],\n",
       "        [  1.83510000e-01,   1.84843000e-01],\n",
       "        [  3.39563000e-01,   2.06783000e-01],\n",
       "        [  5.17921000e-01,   1.49358600e+00],\n",
       "        [  7.03755000e-01,   1.10167800e+00],\n",
       "        [  8.30700000e-03,   6.99760000e-02],\n",
       "        [  2.43909000e-01,  -2.94670000e-02],\n",
       "        [  3.06964000e-01,  -1.77321000e-01],\n",
       "        [  3.64920000e-02,   4.08155000e-01],\n",
       "        [  2.95511000e-01,   2.88200000e-03],\n",
       "        [  8.37522000e-01,   1.22937300e+00],\n",
       "        [  2.02054000e-01,  -8.77440000e-02],\n",
       "        [  9.19384000e-01,   1.02988900e+00],\n",
       "        [  3.77201000e-01,  -2.43550000e-01],\n",
       "        [  8.14825000e-01,   1.09520600e+00],\n",
       "        [  6.11270000e-01,   9.82036000e-01],\n",
       "        [  7.22430000e-02,  -4.20983000e-01],\n",
       "        [  4.10230000e-01,   3.31722000e-01],\n",
       "        [  8.69077000e-01,   1.11482500e+00],\n",
       "        [  6.20599000e-01,   1.33442100e+00],\n",
       "        [  1.01149000e-01,   6.88340000e-02],\n",
       "        [  8.20802000e-01,   1.32590700e+00],\n",
       "        [  5.20044000e-01,   9.61983000e-01],\n",
       "        [  4.88130000e-01,  -9.77910000e-02],\n",
       "        [  8.19823000e-01,   8.35264000e-01],\n",
       "        [  9.75022000e-01,   6.73579000e-01],\n",
       "        [  9.53112000e-01,   1.06469000e+00],\n",
       "        [  4.75976000e-01,  -1.63707000e-01],\n",
       "        [  2.73147000e-01,  -4.55219000e-01],\n",
       "        [  8.04586000e-01,   9.24033000e-01],\n",
       "        [  7.47950000e-02,  -3.49692000e-01],\n",
       "        [  6.25336000e-01,   6.23696000e-01],\n",
       "        [  6.56218000e-01,   9.58506000e-01],\n",
       "        [  8.34078000e-01,   1.01058000e+00],\n",
       "        [  7.81930000e-01,   1.07448800e+00],\n",
       "        [  9.84900000e-03,   5.65940000e-02],\n",
       "        [  3.02217000e-01,  -1.48650000e-01],\n",
       "        [  6.78287000e-01,   9.07727000e-01],\n",
       "        [  1.80506000e-01,   1.03676000e-01],\n",
       "        [  1.93641000e-01,  -3.27589000e-01],\n",
       "        [  3.43479000e-01,   1.75264000e-01],\n",
       "        [  1.45809000e-01,   1.36979000e-01],\n",
       "        [  9.96757000e-01,   1.03553300e+00],\n",
       "        [  5.90210000e-01,   1.33666100e+00],\n",
       "        [  2.38070000e-01,  -3.58459000e-01],\n",
       "        [  5.61362000e-01,   1.07052900e+00],\n",
       "        [  3.77597000e-01,   8.85050000e-02],\n",
       "        [  9.91420000e-02,   2.52800000e-02],\n",
       "        [  5.39558000e-01,   1.05384600e+00],\n",
       "        [  7.90240000e-01,   5.33214000e-01],\n",
       "        [  2.42204000e-01,   2.09359000e-01],\n",
       "        [  1.52324000e-01,   1.32858000e-01],\n",
       "        [  2.52649000e-01,  -5.56130000e-02],\n",
       "        [  8.95930000e-01,   1.07727500e+00],\n",
       "        [  1.33300000e-01,  -2.23143000e-01],\n",
       "        [  5.59763000e-01,   1.25315100e+00],\n",
       "        [  6.43665000e-01,   1.02424100e+00],\n",
       "        [  8.77241000e-01,   7.97005000e-01],\n",
       "        [  6.13765000e-01,   1.62109100e+00],\n",
       "        [  6.45762000e-01,   1.02688600e+00],\n",
       "        [  6.51376000e-01,   1.31538400e+00],\n",
       "        [  6.97718000e-01,   1.21243400e+00],\n",
       "        [  7.42527000e-01,   1.08705600e+00],\n",
       "        [  9.01056000e-01,   1.05590000e+00],\n",
       "        [  3.62314000e-01,  -5.56464000e-01],\n",
       "        [  9.48268000e-01,   6.31862000e-01],\n",
       "        [  2.34000000e-04,   6.09030000e-02],\n",
       "        [  7.50078000e-01,   9.06291000e-01],\n",
       "        [  3.25412000e-01,  -2.19245000e-01],\n",
       "        [  7.26828000e-01,   1.01711200e+00],\n",
       "        [  3.48013000e-01,   4.89390000e-02],\n",
       "        [  4.58121000e-01,  -6.14560000e-02],\n",
       "        [  2.80738000e-01,  -2.28880000e-01],\n",
       "        [  5.67704000e-01,   9.69058000e-01],\n",
       "        [  7.50918000e-01,   7.48104000e-01],\n",
       "        [  5.75805000e-01,   8.99090000e-01],\n",
       "        [  5.07940000e-01,   1.10726500e+00],\n",
       "        [  7.17690000e-02,  -1.10946000e-01],\n",
       "        [  5.53520000e-01,   1.39127300e+00],\n",
       "        [  4.01152000e-01,  -1.21640000e-01],\n",
       "        [  4.06649000e-01,  -3.66317000e-01],\n",
       "        [  6.52121000e-01,   1.00434600e+00],\n",
       "        [  3.47837000e-01,  -1.53405000e-01],\n",
       "        [  8.19310000e-02,  -2.69756000e-01],\n",
       "        [  8.21648000e-01,   1.28089500e+00],\n",
       "        [  4.80140000e-02,   6.44960000e-02],\n",
       "        [  1.30962000e-01,   1.84241000e-01],\n",
       "        [  7.73422000e-01,   1.12594300e+00],\n",
       "        [  7.89625000e-01,   5.52614000e-01],\n",
       "        [  9.69940000e-02,   2.27167000e-01],\n",
       "        [  6.25791000e-01,   1.24473100e+00],\n",
       "        [  5.89575000e-01,   1.18581200e+00],\n",
       "        [  3.23181000e-01,   1.80811000e-01],\n",
       "        [  8.22443000e-01,   1.08664800e+00],\n",
       "        [  3.60323000e-01,  -2.04830000e-01],\n",
       "        [  9.50153000e-01,   1.02290600e+00],\n",
       "        [  5.27505000e-01,   8.79560000e-01],\n",
       "        [  8.60049000e-01,   7.17490000e-01],\n",
       "        [  7.04400000e-03,   9.41500000e-02],\n",
       "        [  4.38367000e-01,   3.40140000e-02],\n",
       "        [  5.74573000e-01,   1.06613000e+00],\n",
       "        [  5.36689000e-01,   8.67284000e-01],\n",
       "        [  7.82167000e-01,   8.86049000e-01],\n",
       "        [  9.89888000e-01,   7.44207000e-01],\n",
       "        [  7.61474000e-01,   1.05826200e+00],\n",
       "        [  9.85425000e-01,   1.22794600e+00],\n",
       "        [  1.32543000e-01,  -3.29372000e-01],\n",
       "        [  3.46986000e-01,  -1.50389000e-01],\n",
       "        [  7.68784000e-01,   8.99705000e-01],\n",
       "        [  8.48921000e-01,   1.17095900e+00],\n",
       "        [  4.49280000e-01,   6.90980000e-02],\n",
       "        [  6.61720000e-02,   5.24390000e-02],\n",
       "        [  8.13719000e-01,   7.06601000e-01],\n",
       "        [  6.61923000e-01,   7.67040000e-01],\n",
       "        [  5.29491000e-01,   1.02220600e+00],\n",
       "        [  8.46455000e-01,   7.20030000e-01],\n",
       "        [  4.48656000e-01,   2.69740000e-02],\n",
       "        [  7.95072000e-01,   9.65721000e-01],\n",
       "        [  1.18156000e-01,  -7.74090000e-02],\n",
       "        [  8.42480000e-02,  -1.95470000e-02],\n",
       "        [  8.45815000e-01,   9.52617000e-01],\n",
       "        [  5.76946000e-01,   1.23412900e+00],\n",
       "        [  7.72083000e-01,   1.29901800e+00],\n",
       "        [  6.96648000e-01,   8.45423000e-01],\n",
       "        [  5.95012000e-01,   1.21343500e+00],\n",
       "        [  6.48675000e-01,   1.28740700e+00],\n",
       "        [  8.97094000e-01,   1.24020900e+00],\n",
       "        [  5.52990000e-01,   1.03615800e+00],\n",
       "        [  3.32982000e-01,   2.10084000e-01],\n",
       "        [  6.56150000e-02,  -3.06970000e-01],\n",
       "        [  2.78661000e-01,   2.53628000e-01],\n",
       "        [  7.73168000e-01,   1.14091700e+00],\n",
       "        [  2.03693000e-01,  -6.40360000e-02],\n",
       "        [  3.55688000e-01,  -1.19399000e-01],\n",
       "        [  9.88852000e-01,   1.06906200e+00],\n",
       "        [  5.18735000e-01,   1.03717900e+00],\n",
       "        [  5.14563000e-01,   1.15664800e+00],\n",
       "        [  9.76414000e-01,   8.62911000e-01],\n",
       "        [  9.19074000e-01,   1.12341300e+00],\n",
       "        [  6.97777000e-01,   8.27805000e-01],\n",
       "        [  9.28097000e-01,   8.83225000e-01],\n",
       "        [  9.00272000e-01,   9.96871000e-01],\n",
       "        [  3.44102000e-01,  -6.15390000e-02],\n",
       "        [  1.48049000e-01,   2.04298000e-01],\n",
       "        [  1.30052000e-01,  -2.61670000e-02],\n",
       "        [  3.02001000e-01,   3.17135000e-01],\n",
       "        [  3.37100000e-01,   2.63320000e-02],\n",
       "        [  3.14924000e-01,  -1.95200000e-03],\n",
       "        [  2.69681000e-01,  -1.65971000e-01],\n",
       "        [  1.96005000e-01,  -4.88470000e-02],\n",
       "        [  1.29061000e-01,   3.05107000e-01],\n",
       "        [  9.36783000e-01,   1.02625800e+00],\n",
       "        [  3.05540000e-01,  -1.15991000e-01],\n",
       "        [  6.83921000e-01,   1.41438200e+00],\n",
       "        [  6.22398000e-01,   7.66330000e-01],\n",
       "        [  9.02532000e-01,   8.61601000e-01],\n",
       "        [  7.12503000e-01,   9.33490000e-01],\n",
       "        [  5.90062000e-01,   7.05531000e-01],\n",
       "        [  7.23120000e-01,   1.30724800e+00],\n",
       "        [  1.88218000e-01,   1.13685000e-01],\n",
       "        [  6.43601000e-01,   7.82552000e-01],\n",
       "        [  5.20207000e-01,   1.20955700e+00],\n",
       "        [  2.33115000e-01,  -3.48147000e-01],\n",
       "        [  4.65625000e-01,  -1.52940000e-01],\n",
       "        [  8.84512000e-01,   1.11783300e+00],\n",
       "        [  6.63200000e-01,   7.01634000e-01],\n",
       "        [  2.68857000e-01,   7.34470000e-02],\n",
       "        [  7.29234000e-01,   9.31956000e-01],\n",
       "        [  4.29664000e-01,  -1.88659000e-01],\n",
       "        [  7.37189000e-01,   1.20078100e+00],\n",
       "        [  3.78595000e-01,  -2.96094000e-01],\n",
       "        [  9.30173000e-01,   1.03564500e+00],\n",
       "        [  7.74301000e-01,   8.36763000e-01],\n",
       "        [  2.73940000e-01,  -8.57130000e-02],\n",
       "        [  8.24442000e-01,   1.08215300e+00],\n",
       "        [  6.26011000e-01,   8.40544000e-01],\n",
       "        [  6.79390000e-01,   1.30721700e+00],\n",
       "        [  5.78252000e-01,   9.21885000e-01],\n",
       "        [  7.85541000e-01,   1.16529600e+00],\n",
       "        [  5.97409000e-01,   9.74770000e-01],\n",
       "        [  1.40830000e-02,  -1.32525000e-01],\n",
       "        [  6.63870000e-01,   1.18712900e+00],\n",
       "        [  5.52381000e-01,   1.36963000e+00],\n",
       "        [  6.83886000e-01,   9.99985000e-01],\n",
       "        [  2.10334000e-01,  -6.89900000e-03],\n",
       "        [  6.04529000e-01,   1.21268500e+00],\n",
       "        [  2.50744000e-01,   4.62970000e-02]])"
      ]
     },
     "execution_count": 18,
     "metadata": {},
     "output_type": "execute_result"
    }
   ],
   "source": [
    "myDat = loadDataSet('./Data/ex00.txt')\n",
    "myMat = np.mat(myDat)\n",
    "myMat"
   ]
  },
  {
   "cell_type": "code",
   "execution_count": 24,
   "metadata": {
    "scrolled": true
   },
   "outputs": [
    {
     "ename": "TypeError",
     "evalue": "unhashable type: 'matrix'",
     "output_type": "error",
     "traceback": [
      "\u001b[1;31m---------------------------------------------------------------------------\u001b[0m",
      "\u001b[1;31mTypeError\u001b[0m                                 Traceback (most recent call last)",
      "\u001b[1;32m<ipython-input-24-b7acc7b9a208>\u001b[0m in \u001b[0;36m<module>\u001b[1;34m()\u001b[0m\n\u001b[1;32m----> 1\u001b[1;33m \u001b[0mcreateTree\u001b[0m\u001b[1;33m(\u001b[0m\u001b[0mmyMat\u001b[0m\u001b[1;33m)\u001b[0m\u001b[1;33m\u001b[0m\u001b[0m\n\u001b[0m",
      "\u001b[1;32m<ipython-input-23-8f1ab55def03>\u001b[0m in \u001b[0;36mcreateTree\u001b[1;34m(dataSet, leafType, errType, ops)\u001b[0m\n\u001b[0;32m     24\u001b[0m \u001b[1;33m\u001b[0m\u001b[0m\n\u001b[0;32m     25\u001b[0m \u001b[1;32mdef\u001b[0m \u001b[0mcreateTree\u001b[0m\u001b[1;33m(\u001b[0m\u001b[0mdataSet\u001b[0m\u001b[1;33m,\u001b[0m \u001b[0mleafType\u001b[0m\u001b[1;33m=\u001b[0m\u001b[0mregLeaf\u001b[0m\u001b[1;33m,\u001b[0m \u001b[0merrType\u001b[0m\u001b[1;33m=\u001b[0m\u001b[0mregErr\u001b[0m\u001b[1;33m,\u001b[0m \u001b[0mops\u001b[0m\u001b[1;33m=\u001b[0m\u001b[1;33m(\u001b[0m\u001b[1;36m1\u001b[0m\u001b[1;33m,\u001b[0m\u001b[1;36m4\u001b[0m\u001b[1;33m)\u001b[0m\u001b[1;33m)\u001b[0m\u001b[1;33m:\u001b[0m\u001b[1;33m\u001b[0m\u001b[0m\n\u001b[1;32m---> 26\u001b[1;33m     \u001b[0mfeat\u001b[0m\u001b[1;33m,\u001b[0m \u001b[0mval\u001b[0m \u001b[1;33m=\u001b[0m \u001b[0mchooseBestSplit\u001b[0m\u001b[1;33m(\u001b[0m\u001b[0mdataSet\u001b[0m\u001b[1;33m,\u001b[0m \u001b[0mleafType\u001b[0m\u001b[1;33m,\u001b[0m \u001b[0merrType\u001b[0m\u001b[1;33m,\u001b[0m \u001b[0mops\u001b[0m\u001b[1;33m)\u001b[0m\u001b[1;33m\u001b[0m\u001b[0m\n\u001b[0m\u001b[0;32m     27\u001b[0m     \u001b[1;32mif\u001b[0m \u001b[0mfeat\u001b[0m \u001b[1;33m==\u001b[0m \u001b[1;32mNone\u001b[0m\u001b[1;33m:\u001b[0m\u001b[1;33m\u001b[0m\u001b[0m\n\u001b[0;32m     28\u001b[0m         \u001b[1;32mreturn\u001b[0m \u001b[0mval\u001b[0m\u001b[1;33m\u001b[0m\u001b[0m\n",
      "\u001b[1;32m<ipython-input-21-9ed779545624>\u001b[0m in \u001b[0;36mchooseBestSplit\u001b[1;34m(dataSet, leafType, errType, ops)\u001b[0m\n\u001b[0;32m     16\u001b[0m     \u001b[0mbestValue\u001b[0m \u001b[1;33m=\u001b[0m \u001b[1;36m0\u001b[0m\u001b[1;33m\u001b[0m\u001b[0m\n\u001b[0;32m     17\u001b[0m     \u001b[1;32mfor\u001b[0m \u001b[0mfeatIndex\u001b[0m \u001b[1;32min\u001b[0m \u001b[0mrange\u001b[0m\u001b[1;33m(\u001b[0m\u001b[0mn\u001b[0m \u001b[1;33m-\u001b[0m \u001b[1;36m1\u001b[0m\u001b[1;33m)\u001b[0m\u001b[1;33m:\u001b[0m\u001b[1;33m\u001b[0m\u001b[0m\n\u001b[1;32m---> 18\u001b[1;33m         \u001b[1;32mfor\u001b[0m \u001b[0msplitVal\u001b[0m \u001b[1;32min\u001b[0m \u001b[0mset\u001b[0m\u001b[1;33m(\u001b[0m\u001b[0mdataSet\u001b[0m\u001b[1;33m[\u001b[0m\u001b[1;33m:\u001b[0m\u001b[1;33m,\u001b[0m \u001b[0mfeatIndex\u001b[0m\u001b[1;33m]\u001b[0m\u001b[1;33m)\u001b[0m\u001b[1;33m:\u001b[0m\u001b[1;33m\u001b[0m\u001b[0m\n\u001b[0m\u001b[0;32m     19\u001b[0m             \u001b[0mmat0\u001b[0m\u001b[1;33m,\u001b[0m \u001b[0mmat1\u001b[0m \u001b[1;33m=\u001b[0m \u001b[0mbinSplitDataSet\u001b[0m\u001b[1;33m(\u001b[0m\u001b[0mdataSet\u001b[0m\u001b[1;33m,\u001b[0m \u001b[0mfeatIndex\u001b[0m\u001b[1;33m,\u001b[0m \u001b[0msplitVal\u001b[0m\u001b[1;33m)\u001b[0m\u001b[1;33m\u001b[0m\u001b[0m\n\u001b[0;32m     20\u001b[0m             \u001b[1;32mif\u001b[0m \u001b[1;33m(\u001b[0m\u001b[0mnp\u001b[0m\u001b[1;33m.\u001b[0m\u001b[0mshape\u001b[0m\u001b[1;33m(\u001b[0m\u001b[0mmat0\u001b[0m\u001b[1;33m)\u001b[0m\u001b[1;33m[\u001b[0m\u001b[1;36m0\u001b[0m\u001b[1;33m]\u001b[0m \u001b[1;33m<\u001b[0m \u001b[0mtolN\u001b[0m\u001b[1;33m)\u001b[0m \u001b[1;32mor\u001b[0m \u001b[1;33m(\u001b[0m\u001b[0mnp\u001b[0m\u001b[1;33m.\u001b[0m\u001b[0mshape\u001b[0m\u001b[1;33m(\u001b[0m\u001b[0mmat1\u001b[0m\u001b[1;33m)\u001b[0m\u001b[1;33m[\u001b[0m\u001b[1;36m0\u001b[0m\u001b[1;33m]\u001b[0m \u001b[1;33m<\u001b[0m \u001b[0mtolN\u001b[0m\u001b[1;33m)\u001b[0m\u001b[1;33m:\u001b[0m\u001b[1;33m\u001b[0m\u001b[0m\n",
      "\u001b[1;31mTypeError\u001b[0m: unhashable type: 'matrix'"
     ]
    }
   ],
   "source": [
    "createTree(myMat)"
   ]
  },
  {
   "cell_type": "code",
   "execution_count": null,
   "metadata": {
    "collapsed": true
   },
   "outputs": [],
   "source": []
  },
  {
   "cell_type": "code",
   "execution_count": null,
   "metadata": {
    "collapsed": true
   },
   "outputs": [],
   "source": []
  },
  {
   "cell_type": "code",
   "execution_count": null,
   "metadata": {
    "collapsed": true
   },
   "outputs": [],
   "source": []
  },
  {
   "cell_type": "code",
   "execution_count": null,
   "metadata": {
    "collapsed": true
   },
   "outputs": [],
   "source": []
  },
  {
   "cell_type": "code",
   "execution_count": null,
   "metadata": {
    "collapsed": true
   },
   "outputs": [],
   "source": []
  },
  {
   "cell_type": "code",
   "execution_count": null,
   "metadata": {
    "collapsed": true
   },
   "outputs": [],
   "source": []
  },
  {
   "cell_type": "code",
   "execution_count": null,
   "metadata": {
    "collapsed": true
   },
   "outputs": [],
   "source": []
  },
  {
   "cell_type": "code",
   "execution_count": null,
   "metadata": {
    "collapsed": true
   },
   "outputs": [],
   "source": []
  },
  {
   "cell_type": "code",
   "execution_count": null,
   "metadata": {
    "collapsed": true
   },
   "outputs": [],
   "source": []
  },
  {
   "cell_type": "code",
   "execution_count": null,
   "metadata": {
    "collapsed": true
   },
   "outputs": [],
   "source": []
  },
  {
   "cell_type": "code",
   "execution_count": null,
   "metadata": {
    "collapsed": true
   },
   "outputs": [],
   "source": []
  },
  {
   "cell_type": "code",
   "execution_count": null,
   "metadata": {
    "collapsed": true
   },
   "outputs": [],
   "source": []
  },
  {
   "cell_type": "code",
   "execution_count": null,
   "metadata": {
    "collapsed": true
   },
   "outputs": [],
   "source": []
  },
  {
   "cell_type": "code",
   "execution_count": null,
   "metadata": {
    "collapsed": true
   },
   "outputs": [],
   "source": []
  },
  {
   "cell_type": "code",
   "execution_count": null,
   "metadata": {
    "collapsed": true
   },
   "outputs": [],
   "source": []
  },
  {
   "cell_type": "code",
   "execution_count": null,
   "metadata": {
    "collapsed": true
   },
   "outputs": [],
   "source": []
  },
  {
   "cell_type": "code",
   "execution_count": null,
   "metadata": {
    "collapsed": true
   },
   "outputs": [],
   "source": []
  },
  {
   "cell_type": "code",
   "execution_count": null,
   "metadata": {
    "collapsed": true
   },
   "outputs": [],
   "source": []
  },
  {
   "cell_type": "code",
   "execution_count": null,
   "metadata": {
    "collapsed": true
   },
   "outputs": [],
   "source": []
  },
  {
   "cell_type": "code",
   "execution_count": null,
   "metadata": {
    "collapsed": true
   },
   "outputs": [],
   "source": []
  },
  {
   "cell_type": "code",
   "execution_count": null,
   "metadata": {
    "collapsed": true
   },
   "outputs": [],
   "source": []
  },
  {
   "cell_type": "code",
   "execution_count": null,
   "metadata": {
    "collapsed": true
   },
   "outputs": [],
   "source": []
  },
  {
   "cell_type": "code",
   "execution_count": null,
   "metadata": {
    "collapsed": true
   },
   "outputs": [],
   "source": []
  },
  {
   "cell_type": "code",
   "execution_count": null,
   "metadata": {
    "collapsed": true
   },
   "outputs": [],
   "source": []
  },
  {
   "cell_type": "code",
   "execution_count": null,
   "metadata": {
    "collapsed": true
   },
   "outputs": [],
   "source": []
  },
  {
   "cell_type": "code",
   "execution_count": null,
   "metadata": {
    "collapsed": true
   },
   "outputs": [],
   "source": []
  },
  {
   "cell_type": "code",
   "execution_count": null,
   "metadata": {
    "collapsed": true
   },
   "outputs": [],
   "source": []
  },
  {
   "cell_type": "code",
   "execution_count": null,
   "metadata": {
    "collapsed": true
   },
   "outputs": [],
   "source": []
  },
  {
   "cell_type": "code",
   "execution_count": null,
   "metadata": {
    "collapsed": true
   },
   "outputs": [],
   "source": []
  },
  {
   "cell_type": "code",
   "execution_count": null,
   "metadata": {
    "collapsed": true
   },
   "outputs": [],
   "source": []
  },
  {
   "cell_type": "code",
   "execution_count": null,
   "metadata": {
    "collapsed": true
   },
   "outputs": [],
   "source": []
  },
  {
   "cell_type": "code",
   "execution_count": null,
   "metadata": {
    "collapsed": true
   },
   "outputs": [],
   "source": []
  },
  {
   "cell_type": "code",
   "execution_count": null,
   "metadata": {
    "collapsed": true
   },
   "outputs": [],
   "source": []
  },
  {
   "cell_type": "code",
   "execution_count": null,
   "metadata": {
    "collapsed": true
   },
   "outputs": [],
   "source": []
  },
  {
   "cell_type": "code",
   "execution_count": null,
   "metadata": {
    "collapsed": true
   },
   "outputs": [],
   "source": []
  },
  {
   "cell_type": "code",
   "execution_count": null,
   "metadata": {
    "collapsed": true
   },
   "outputs": [],
   "source": []
  },
  {
   "cell_type": "code",
   "execution_count": null,
   "metadata": {
    "collapsed": true
   },
   "outputs": [],
   "source": []
  },
  {
   "cell_type": "code",
   "execution_count": null,
   "metadata": {
    "collapsed": true
   },
   "outputs": [],
   "source": []
  },
  {
   "cell_type": "code",
   "execution_count": null,
   "metadata": {
    "collapsed": true
   },
   "outputs": [],
   "source": []
  },
  {
   "cell_type": "code",
   "execution_count": null,
   "metadata": {
    "collapsed": true
   },
   "outputs": [],
   "source": []
  },
  {
   "cell_type": "code",
   "execution_count": null,
   "metadata": {
    "collapsed": true
   },
   "outputs": [],
   "source": []
  },
  {
   "cell_type": "code",
   "execution_count": null,
   "metadata": {
    "collapsed": true
   },
   "outputs": [],
   "source": []
  },
  {
   "cell_type": "code",
   "execution_count": null,
   "metadata": {
    "collapsed": true
   },
   "outputs": [],
   "source": []
  },
  {
   "cell_type": "code",
   "execution_count": null,
   "metadata": {
    "collapsed": true
   },
   "outputs": [],
   "source": []
  },
  {
   "cell_type": "code",
   "execution_count": null,
   "metadata": {
    "collapsed": true
   },
   "outputs": [],
   "source": []
  },
  {
   "cell_type": "code",
   "execution_count": null,
   "metadata": {
    "collapsed": true
   },
   "outputs": [],
   "source": []
  },
  {
   "cell_type": "code",
   "execution_count": null,
   "metadata": {
    "collapsed": true
   },
   "outputs": [],
   "source": []
  },
  {
   "cell_type": "code",
   "execution_count": null,
   "metadata": {
    "collapsed": true
   },
   "outputs": [],
   "source": []
  }
 ],
 "metadata": {
  "kernelspec": {
   "display_name": "Python 3",
   "language": "python",
   "name": "python3"
  },
  "language_info": {
   "codemirror_mode": {
    "name": "ipython",
    "version": 3
   },
   "file_extension": ".py",
   "mimetype": "text/x-python",
   "name": "python",
   "nbconvert_exporter": "python",
   "pygments_lexer": "ipython3",
   "version": "3.6.1"
  }
 },
 "nbformat": 4,
 "nbformat_minor": 2
}
