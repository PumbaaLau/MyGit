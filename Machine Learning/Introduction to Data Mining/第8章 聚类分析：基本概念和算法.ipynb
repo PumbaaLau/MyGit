{
 "cells": [
  {
   "cell_type": "markdown",
   "metadata": {},
   "source": [
    "# 第8章 聚类分析：基本概念和算法"
   ]
  },
  {
   "cell_type": "markdown",
   "metadata": {},
   "source": [
    "## 8.1 概述"
   ]
  },
  {
   "cell_type": "markdown",
   "metadata": {},
   "source": [
    "#### 8.1.1 什么是聚类分析"
   ]
  },
  {
   "cell_type": "markdown",
   "metadata": {},
   "source": [
    "　　**聚类分析**仅根据在数据中发现的描述对象及其关系的信息，将数据对象分组。其目标是，组内的对象相互之间是相似的（相关的），而不同组中的对象是不同的（不相关的）。组内的相似性（同质性）越大，组间差别越大，聚类就越好。"
   ]
  },
  {
   "cell_type": "markdown",
   "metadata": {},
   "source": [
    "#### 8.1.2 不同的聚类类型"
   ]
  },
  {
   "cell_type": "markdown",
   "metadata": {},
   "source": [
    "- **层次的与划分的**  \n",
    "\n",
    "　　**划分聚类（partition clustering）**简单地将数据对象集划分成不重叠的子集（簇），使得每个数据对象恰在一个子集中。  \n",
    "　　如果允许簇具有子簇，则我们得到一个**层次聚类（hierarchical clustering）**。层次聚类是嵌套簇的集簇，组织成一棵树。除叶节点外，树中每一个结点（簇）都是其子女（子簇）的并，而树根是包含所有对象的簇。\n",
    "  \n",
    "- **互斥的、重叠的与模糊的** \n",
    "\n",
    "\n",
    "- **完全的与部分的**"
   ]
  },
  {
   "cell_type": "markdown",
   "metadata": {},
   "source": [
    "#### 8.1.3 不同的簇类型"
   ]
  },
  {
   "cell_type": "markdown",
   "metadata": {},
   "source": [
    "- **明显分离的**  \n",
    "\n",
    "\n",
    "- **基于原型的**  \n",
    "\n",
    "　　簇是对象的集合，其中每个对象到定义该簇的原型的距离比到其他簇的原型的距离更近（或更加相似）。对于具有连续属性的数据，簇的原型通常是质心，即簇中所有点的平均值。当质心没有意义时（例如当数据具有分类属性时），原型通常是中心点，即簇中最有代表性的点。对于许多数据类型，原型可以视为最靠近中心的点；在这种情况下，通常把基于原型的簇看作**基于中心的簇（center-based cluster）**。毫无疑问，这种簇趋向于呈球状。图8-2b给出一个基于中心的簇的例子。  \n",
    "\n",
    "- **基于图的**  \n",
    "\n",
    "\n",
    "- **基于密度的** \n",
    "\n",
    "\n",
    "- **共同性质的（概念簇）**"
   ]
  },
  {
   "cell_type": "markdown",
   "metadata": {},
   "source": [
    "![Alt text](./Image/8-2.png)"
   ]
  },
  {
   "cell_type": "code",
   "execution_count": 2,
   "metadata": {},
   "outputs": [
    {
     "data": {
      "text/plain": [
       "'C:\\\\Users\\\\hasee\\\\Documents\\\\Python Scripts\\\\MyGit\\\\Machine Learning\\\\Introduction to Data Mining'"
      ]
     },
     "execution_count": 2,
     "metadata": {},
     "output_type": "execute_result"
    }
   ],
   "source": [
    "pwd"
   ]
  },
  {
   "cell_type": "markdown",
   "metadata": {},
   "source": [
    "##### 线路图"
   ]
  },
  {
   "cell_type": "markdown",
   "metadata": {},
   "source": [
    "本章我们使用如下三种简单但重要的技术来介绍聚类分析涉及的一些概念。\n",
    "- **K均值。**K均值是基于原型的、划分的聚类技术。它试图发现用户指定个数（K）的簇（由质心代表）。  \n",
    "\n",
    "\n",
    "- **凝聚的层次聚类。**这种聚类方法涉及一组密切相关的聚类技术，它们通过如下步骤产生层次聚类：开始，每个点作为一个单点簇；然后，重复地合并两个最靠近的簇，直到产生单个的、包含所有点的簇。其中某些技术可以用基于图的聚类解释，而另一些可以用基于原型的方法解释。  \n",
    "\n",
    "\n",
    "- **DBSCAN。**这是一种产生划分聚类的基于密度的聚类算法，簇的个数由算法自动地确定。低密度区域中的点被视为噪声而忽略，因此DBSCAN不产生完全聚类。"
   ]
  },
  {
   "cell_type": "markdown",
   "metadata": {
    "collapsed": true
   },
   "source": [
    "## 8.2 K均值"
   ]
  },
  {
   "cell_type": "markdown",
   "metadata": {},
   "source": [
    "　　基于原型的聚类技术创建数据对象的单层划分。存在许多这样的技术，但是两个最突出的是K均值和K中心点:  \n",
    "- **K均值**  \n",
    "\n",
    "　　K均值用质心定义原型，其中质心是一组点的均值。通常，K均值聚类用于n维连续空间中的对象.  \n",
    "  \n",
    "- **K中心点**  \n",
    "\n",
    "　　K中心点使用中心点定义原型，其中中心点是一组点中最有代表性的点。K中心点聚类可以用于广泛的数据，因为它只需要对象之间的临近性度量。"
   ]
  },
  {
   "cell_type": "markdown",
   "metadata": {
    "collapsed": true
   },
   "source": [
    "#### 8.2.1 基本K均值算法"
   ]
  },
  {
   "cell_type": "markdown",
   "metadata": {},
   "source": [
    "　　Ｋ均值算法比较简单，我们从介绍它的基本算法开始。首先，选择Ｋ个初始质心，其中Ｋ是用户指定的参数，即所期望的簇的个数。每个点指派到最近的质心，而指派到一个质心的点集为一个簇。然后，根据指派到簇的点，更新每个簇的质心。重复指派和更新步骤，直到簇不发生变化，或等家地，直到质心不发生变化。"
   ]
  },
  {
   "cell_type": "markdown",
   "metadata": {
    "collapsed": true
   },
   "source": [
    "##### 算法8.1 基本K均值算法"
   ]
  },
  {
   "cell_type": "markdown",
   "metadata": {
    "collapsed": true
   },
   "source": [
    "1. 选择K个点作为初始质心。\n",
    "2. repeat：\n",
    "3. 　　将每个点指派到最近的质心，形成K个簇。\n",
    "4. 　　重新计算每个簇的质心。\n",
    "5. until 质心不发生变化。"
   ]
  },
  {
   "cell_type": "markdown",
   "metadata": {},
   "source": [
    "　　对于邻近性函数和质心类型的某些组合，Ｋ均值总是收敛到一个解，即Ｋ均值到达一种状态，其中所有点都不会从一个簇转移到另一个，因此质心不再改变。然而，由于大部分收敛都发生在早期阶段，因此通常用较弱的条件替换算法的第５行。例如，用“直到仅有１％的点改变簇”。"
   ]
  },
  {
   "cell_type": "markdown",
   "metadata": {},
   "source": [
    "![Alt text](./Image/8-3.png)"
   ]
  },
  {
   "cell_type": "markdown",
   "metadata": {
    "collapsed": true
   },
   "source": [
    "我们将更详细地考虑基本K均值算法的每个步骤，并分析算法的时间和空间复杂度。"
   ]
  },
  {
   "cell_type": "markdown",
   "metadata": {
    "collapsed": true
   },
   "source": [
    "##### 1. 指派点到最近的质心"
   ]
  },
  {
   "cell_type": "code",
   "execution_count": null,
   "metadata": {
    "collapsed": true
   },
   "outputs": [],
   "source": []
  },
  {
   "cell_type": "markdown",
   "metadata": {
    "collapsed": true
   },
   "source": [
    "##### 2. 质心和目标函数"
   ]
  },
  {
   "cell_type": "markdown",
   "metadata": {},
   "source": [
    "###### 欧几里得空间中的数据"
   ]
  },
  {
   "cell_type": "markdown",
   "metadata": {},
   "source": [
    "　　考虑邻近性度量为欧几里得距离的数据。我们使用**误差的平方和（Sum of the Squared Error， SSE）**作为度量聚类质量的目标函数。SSE也称**散布（scatter）**。换言之，我们**计算每个数据点的误差，即它到最近质心的欧几里得距离，然后计算误差的平方和**。给定由两次运行Ｋ均值产生的两个不同的簇集，我们更喜欢误差的平方和最小的那个，因为这说明聚类的原型（质心）可以更好地代表簇中点。使用表8-1中的记号，SSE形式地定义如下：\n",
    "$$SSE = \\sum_{i=1}^K\\sum_{x\\in C_i}dist(c_i,x)^2\\tag{8-1}$$"
   ]
  },
  {
   "cell_type": "markdown",
   "metadata": {},
   "source": [
    "#### 8.2.3 二分Ｋ均值"
   ]
  },
  {
   "cell_type": "markdown",
   "metadata": {},
   "source": [
    "　　二分Ｋ均值算法是基本Ｋ均值算法的直接扩充，它基于一种简单想法：为了得到Ｋ个簇，将所有点的集合分裂成两个簇，从这些簇中选取一个继续分裂，如此下去，知道产生Ｋ个簇。二分Ｋ均值的细节由算法8.2给出。"
   ]
  },
  {
   "cell_type": "markdown",
   "metadata": {},
   "source": [
    "##### 算法8.2 二分Ｋ均值算法"
   ]
  },
  {
   "cell_type": "markdown",
   "metadata": {},
   "source": [
    "1：初始化簇表，使之包含由所有的点组成的簇。  \n",
    "2：**repeat**  \n",
    "3：　从簇表中取出一个簇。  \n",
    "4：　｛对选定的簇进行多次二分“试验”。｝  \n",
    "5：　**for** i=1 to 试验次数 **do**  \n",
    "6：　　使用基本Ｋ均值，二分选定的簇。  \n",
    "7：　**end for**  \n",
    "8：　从二分试验中选择具有最小总SSE的两个簇。  \n",
    "9：　将这两个簇添加到簇表中。  \n",
    "10：**until**　簇表中包含Ｋ个簇。"
   ]
  },
  {
   "cell_type": "markdown",
   "metadata": {
    "collapsed": true
   },
   "source": [
    "#### 8.2.5 优点与缺点"
   ]
  },
  {
   "cell_type": "markdown",
   "metadata": {
    "collapsed": true
   },
   "source": [
    "　　K均值简单并且可以用于各种数据类型。它也相当有效，尽管常常多次运行。K均值的某些变种（包括二分Ｋ均值）甚至更有效，并且不太受初始化问题的影响。然而，Ｋ均值并不适合所有的数据类型。它不能处理非球形簇、不同尺寸和不同密度的簇，机关指定足够大的簇个数时它通常可以发现纯子簇。对包含离群点的数据进行聚类时，Ｋ均值也有问题。在这种情况下，离群点检测和删除大有帮助。最后，Ｋ均值仅限于具有中心（质心）概念的数据。一种相关的Ｋ中心点聚类技术没有这种限制，但开销更大。"
   ]
  },
  {
   "cell_type": "code",
   "execution_count": null,
   "metadata": {
    "collapsed": true
   },
   "outputs": [],
   "source": []
  },
  {
   "cell_type": "code",
   "execution_count": null,
   "metadata": {
    "collapsed": true
   },
   "outputs": [],
   "source": []
  },
  {
   "cell_type": "code",
   "execution_count": null,
   "metadata": {
    "collapsed": true
   },
   "outputs": [],
   "source": []
  },
  {
   "cell_type": "code",
   "execution_count": null,
   "metadata": {
    "collapsed": true
   },
   "outputs": [],
   "source": []
  },
  {
   "cell_type": "code",
   "execution_count": null,
   "metadata": {
    "collapsed": true
   },
   "outputs": [],
   "source": []
  },
  {
   "cell_type": "code",
   "execution_count": null,
   "metadata": {
    "collapsed": true
   },
   "outputs": [],
   "source": []
  },
  {
   "cell_type": "code",
   "execution_count": null,
   "metadata": {
    "collapsed": true
   },
   "outputs": [],
   "source": []
  },
  {
   "cell_type": "code",
   "execution_count": null,
   "metadata": {
    "collapsed": true
   },
   "outputs": [],
   "source": []
  },
  {
   "cell_type": "code",
   "execution_count": null,
   "metadata": {
    "collapsed": true
   },
   "outputs": [],
   "source": []
  },
  {
   "cell_type": "code",
   "execution_count": null,
   "metadata": {
    "collapsed": true
   },
   "outputs": [],
   "source": []
  },
  {
   "cell_type": "code",
   "execution_count": null,
   "metadata": {
    "collapsed": true
   },
   "outputs": [],
   "source": []
  },
  {
   "cell_type": "code",
   "execution_count": null,
   "metadata": {
    "collapsed": true
   },
   "outputs": [],
   "source": []
  },
  {
   "cell_type": "code",
   "execution_count": null,
   "metadata": {
    "collapsed": true
   },
   "outputs": [],
   "source": []
  },
  {
   "cell_type": "code",
   "execution_count": null,
   "metadata": {
    "collapsed": true
   },
   "outputs": [],
   "source": []
  }
 ],
 "metadata": {
  "kernelspec": {
   "display_name": "Python 3",
   "language": "python",
   "name": "python3"
  },
  "language_info": {
   "codemirror_mode": {
    "name": "ipython",
    "version": 3
   },
   "file_extension": ".py",
   "mimetype": "text/x-python",
   "name": "python",
   "nbconvert_exporter": "python",
   "pygments_lexer": "ipython3",
   "version": "3.6.1"
  }
 },
 "nbformat": 4,
 "nbformat_minor": 2
}
