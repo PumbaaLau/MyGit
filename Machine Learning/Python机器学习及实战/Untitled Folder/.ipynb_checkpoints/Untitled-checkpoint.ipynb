{
 "cells": [
  {
   "cell_type": "markdown",
   "metadata": {},
   "source": [
    "###### 代码77：Titanic罹难乘客预测竞赛编码示例"
   ]
  },
  {
   "cell_type": "code",
   "execution_count": 4,
   "metadata": {},
   "outputs": [
    {
     "name": "stdout",
     "output_type": "stream",
     "text": [
      "<class 'pandas.core.frame.DataFrame'>\n",
      "RangeIndex: 891 entries, 0 to 890\n",
      "Data columns (total 11 columns):\n",
      "survived    891 non-null int64\n",
      "pclass      891 non-null int64\n",
      "name        891 non-null object\n",
      "sex         891 non-null object\n",
      "age         714 non-null float64\n",
      "sibsp       891 non-null int64\n",
      "parch       891 non-null int64\n",
      "ticket      891 non-null object\n",
      "fare        891 non-null float64\n",
      "cabin       204 non-null object\n",
      "embarked    889 non-null object\n",
      "dtypes: float64(2), int64(4), object(5)\n",
      "memory usage: 76.6+ KB\n",
      "None\n",
      "<bound method DataFrame.info of      pclass                                               name     sex   age  \\\n",
      "0         3                                   Kelly, Mr. James    male  34.5   \n",
      "1         3                   Wilkes, Mrs. James (Ellen Needs)  female  47.0   \n",
      "2         2                          Myles, Mr. Thomas Francis    male  62.0   \n",
      "3         3                                   Wirz, Mr. Albert    male  27.0   \n",
      "4         3       Hirvonen, Mrs. Alexander (Helga E Lindqvist)  female  22.0   \n",
      "5         3                         Svensson, Mr. Johan Cervin    male  14.0   \n",
      "6         3                               Connolly, Miss. Kate  female  30.0   \n",
      "7         2                       Caldwell, Mr. Albert Francis    male  26.0   \n",
      "8         3          Abrahim, Mrs. Joseph (Sophie Halaut Easu)  female  18.0   \n",
      "9         3                            Davies, Mr. John Samuel    male  21.0   \n",
      "10        3                                   Ilieff, Mr. Ylio    male   NaN   \n",
      "11        1                         Jones, Mr. Charles Cresson    male  46.0   \n",
      "12        1      Snyder, Mrs. John Pillsbury (Nelle Stevenson)  female  23.0   \n",
      "13        2                               Howard, Mr. Benjamin    male  63.0   \n",
      "14        1  Chaffee, Mrs. Herbert Fuller (Carrie Constance...  female  47.0   \n",
      "15        2      del Carlo, Mrs. Sebastiano (Argenia Genovesi)  female  24.0   \n",
      "16        2                                  Keane, Mr. Daniel    male  35.0   \n",
      "17        3                                  Assaf, Mr. Gerios    male  21.0   \n",
      "18        3                       Ilmakangas, Miss. Ida Livija  female  27.0   \n",
      "19        3              Assaf Khalil, Mrs. Mariana (Miriam\")\"  female  45.0   \n",
      "20        1                             Rothschild, Mr. Martin    male  55.0   \n",
      "21        3                          Olsen, Master. Artur Karl    male   9.0   \n",
      "22        1               Flegenheim, Mrs. Alfred (Antoinette)  female   NaN   \n",
      "23        1                    Williams, Mr. Richard Norris II    male  21.0   \n",
      "24        1    Ryerson, Mrs. Arthur Larned (Emily Maria Borie)  female  48.0   \n",
      "25        3                            Robins, Mr. Alexander A    male  50.0   \n",
      "26        1                       Ostby, Miss. Helene Ragnhild  female  22.0   \n",
      "27        3                                  Daher, Mr. Shedid    male  22.5   \n",
      "28        1                            Brady, Mr. John Bertram    male  41.0   \n",
      "29        3                                  Samaan, Mr. Elias    male   NaN   \n",
      "..      ...                                                ...     ...   ...   \n",
      "388       3                               Canavan, Mr. Patrick    male  21.0   \n",
      "389       3                        Palsson, Master. Paul Folke    male   6.0   \n",
      "390       1                         Payne, Mr. Vivian Ponsonby    male  23.0   \n",
      "391       1     Lines, Mrs. Ernest H (Elizabeth Lindsey James)  female  51.0   \n",
      "392       3                      Abbott, Master. Eugene Joseph    male  13.0   \n",
      "393       2                               Gilbert, Mr. William    male  47.0   \n",
      "394       3                           Kink-Heilmann, Mr. Anton    male  29.0   \n",
      "395       1     Smith, Mrs. Lucien Philip (Mary Eloise Hughes)  female  18.0   \n",
      "396       3                               Colbert, Mr. Patrick    male  24.0   \n",
      "397       1  Frolicher-Stehli, Mrs. Maxmillian (Margaretha ...  female  48.0   \n",
      "398       3                     Larsson-Rondberg, Mr. Edvard A    male  22.0   \n",
      "399       3                           Conlon, Mr. Thomas Henry    male  31.0   \n",
      "400       1                            Bonnell, Miss. Caroline  female  30.0   \n",
      "401       2                                    Gale, Mr. Harry    male  38.0   \n",
      "402       1                     Gibson, Miss. Dorothy Winifred  female  22.0   \n",
      "403       1                             Carrau, Mr. Jose Pedro    male  17.0   \n",
      "404       1                       Frauenthal, Mr. Isaac Gerald    male  43.0   \n",
      "405       2       Nourney, Mr. Alfred (Baron von Drachstedt\")\"    male  20.0   \n",
      "406       2                          Ware, Mr. William Jeffery    male  23.0   \n",
      "407       1                         Widener, Mr. George Dunton    male  50.0   \n",
      "408       3                    Riordan, Miss. Johanna Hannah\"\"  female   NaN   \n",
      "409       3                          Peacock, Miss. Treasteall  female   3.0   \n",
      "410       3                             Naughton, Miss. Hannah  female   NaN   \n",
      "411       1    Minahan, Mrs. William Edward (Lillian E Thorpe)  female  37.0   \n",
      "412       3                     Henriksson, Miss. Jenny Lovisa  female  28.0   \n",
      "413       3                                 Spector, Mr. Woolf    male   NaN   \n",
      "414       1                       Oliva y Ocana, Dona. Fermina  female  39.0   \n",
      "415       3                       Saether, Mr. Simon Sivertsen    male  38.5   \n",
      "416       3                                Ware, Mr. Frederick    male   NaN   \n",
      "417       3                           Peter, Master. Michael J    male   NaN   \n",
      "\n",
      "     sibsp  parch              ticket      fare            cabin embarked  \n",
      "0        0      0              330911    7.8292              NaN        Q  \n",
      "1        1      0              363272    7.0000              NaN        S  \n",
      "2        0      0              240276    9.6875              NaN        Q  \n",
      "3        0      0              315154    8.6625              NaN        S  \n",
      "4        1      1             3101298   12.2875              NaN        S  \n",
      "5        0      0                7538    9.2250              NaN        S  \n",
      "6        0      0              330972    7.6292              NaN        Q  \n",
      "7        1      1              248738   29.0000              NaN        S  \n",
      "8        0      0                2657    7.2292              NaN        C  \n",
      "9        2      0           A/4 48871   24.1500              NaN        S  \n",
      "10       0      0              349220    7.8958              NaN        S  \n",
      "11       0      0                 694   26.0000              NaN        S  \n",
      "12       1      0               21228   82.2667              B45        S  \n",
      "13       1      0               24065   26.0000              NaN        S  \n",
      "14       1      0         W.E.P. 5734   61.1750              E31        S  \n",
      "15       1      0       SC/PARIS 2167   27.7208              NaN        C  \n",
      "16       0      0              233734   12.3500              NaN        Q  \n",
      "17       0      0                2692    7.2250              NaN        C  \n",
      "18       1      0    STON/O2. 3101270    7.9250              NaN        S  \n",
      "19       0      0                2696    7.2250              NaN        C  \n",
      "20       1      0            PC 17603   59.4000              NaN        C  \n",
      "21       0      1             C 17368    3.1708              NaN        S  \n",
      "22       0      0            PC 17598   31.6833              NaN        S  \n",
      "23       0      1            PC 17597   61.3792              NaN        C  \n",
      "24       1      3            PC 17608  262.3750  B57 B59 B63 B66        C  \n",
      "25       1      0           A/5. 3337   14.5000              NaN        S  \n",
      "26       0      1              113509   61.9792              B36        C  \n",
      "27       0      0                2698    7.2250              NaN        C  \n",
      "28       0      0              113054   30.5000              A21        S  \n",
      "29       2      0                2662   21.6792              NaN        C  \n",
      "..     ...    ...                 ...       ...              ...      ...  \n",
      "388      0      0              364858    7.7500              NaN        Q  \n",
      "389      3      1              349909   21.0750              NaN        S  \n",
      "390      0      0               12749   93.5000              B24        S  \n",
      "391      0      1            PC 17592   39.4000              D28        S  \n",
      "392      0      2           C.A. 2673   20.2500              NaN        S  \n",
      "393      0      0          C.A. 30769   10.5000              NaN        S  \n",
      "394      3      1              315153   22.0250              NaN        S  \n",
      "395      1      0               13695   60.0000              C31        S  \n",
      "396      0      0              371109    7.2500              NaN        Q  \n",
      "397      1      1               13567   79.2000              B41        C  \n",
      "398      0      0              347065    7.7750              NaN        S  \n",
      "399      0      0               21332    7.7333              NaN        Q  \n",
      "400      0      0               36928  164.8667               C7        S  \n",
      "401      1      0               28664   21.0000              NaN        S  \n",
      "402      0      1              112378   59.4000              NaN        C  \n",
      "403      0      0              113059   47.1000              NaN        S  \n",
      "404      1      0               17765   27.7208              D40        C  \n",
      "405      0      0       SC/PARIS 2166   13.8625              D38        C  \n",
      "406      1      0               28666   10.5000              NaN        S  \n",
      "407      1      1              113503  211.5000              C80        C  \n",
      "408      0      0              334915    7.7208              NaN        Q  \n",
      "409      1      1  SOTON/O.Q. 3101315   13.7750              NaN        S  \n",
      "410      0      0              365237    7.7500              NaN        Q  \n",
      "411      1      0               19928   90.0000              C78        Q  \n",
      "412      0      0              347086    7.7750              NaN        S  \n",
      "413      0      0           A.5. 3236    8.0500              NaN        S  \n",
      "414      0      0            PC 17758  108.9000             C105        C  \n",
      "415      0      0  SOTON/O.Q. 3101262    7.2500              NaN        S  \n",
      "416      0      0              359309    8.0500              NaN        S  \n",
      "417      1      1                2668   22.3583              NaN        C  \n",
      "\n",
      "[418 rows x 10 columns]>\n"
     ]
    }
   ],
   "source": [
    "# 导入pandas方便数据读取核\n",
    "import pandas as pd\n",
    "\n",
    "# 分别对训练核测试数据从本地进行读取\n",
    "train = pd.read_csv('./Data/train.csv')\n",
    "test = pd.read_csv('./Data/test.csv')\n",
    "\n",
    "# 先分别输出训练与测试数据的基本信息。这是一个好习惯，可以对数据的规模、各个特征的数据类型以及是否有缺失等，有一个总体的了解。\n",
    "print(train.info())\n",
    "print(test.info)"
   ]
  },
  {
   "cell_type": "code",
   "execution_count": 5,
   "metadata": {},
   "outputs": [
    {
     "name": "stdout",
     "output_type": "stream",
     "text": [
      "<class 'pandas.core.frame.DataFrame'>\n",
      "RangeIndex: 891 entries, 0 to 890\n",
      "Data columns (total 11 columns):\n",
      "survived    891 non-null int64\n",
      "pclass      891 non-null int64\n",
      "name        891 non-null object\n",
      "sex         891 non-null object\n",
      "age         714 non-null float64\n",
      "sibsp       891 non-null int64\n",
      "parch       891 non-null int64\n",
      "ticket      891 non-null object\n",
      "fare        891 non-null float64\n",
      "cabin       204 non-null object\n",
      "embarked    889 non-null object\n",
      "dtypes: float64(2), int64(4), object(5)\n",
      "memory usage: 76.6+ KB\n",
      "None\n"
     ]
    }
   ],
   "source": [
    "print(train.info())"
   ]
  },
  {
   "cell_type": "code",
   "execution_count": 6,
   "metadata": {},
   "outputs": [
    {
     "name": "stdout",
     "output_type": "stream",
     "text": [
      "<bound method DataFrame.info of      pclass                                               name     sex   age  \\\n",
      "0         3                                   Kelly, Mr. James    male  34.5   \n",
      "1         3                   Wilkes, Mrs. James (Ellen Needs)  female  47.0   \n",
      "2         2                          Myles, Mr. Thomas Francis    male  62.0   \n",
      "3         3                                   Wirz, Mr. Albert    male  27.0   \n",
      "4         3       Hirvonen, Mrs. Alexander (Helga E Lindqvist)  female  22.0   \n",
      "5         3                         Svensson, Mr. Johan Cervin    male  14.0   \n",
      "6         3                               Connolly, Miss. Kate  female  30.0   \n",
      "7         2                       Caldwell, Mr. Albert Francis    male  26.0   \n",
      "8         3          Abrahim, Mrs. Joseph (Sophie Halaut Easu)  female  18.0   \n",
      "9         3                            Davies, Mr. John Samuel    male  21.0   \n",
      "10        3                                   Ilieff, Mr. Ylio    male   NaN   \n",
      "11        1                         Jones, Mr. Charles Cresson    male  46.0   \n",
      "12        1      Snyder, Mrs. John Pillsbury (Nelle Stevenson)  female  23.0   \n",
      "13        2                               Howard, Mr. Benjamin    male  63.0   \n",
      "14        1  Chaffee, Mrs. Herbert Fuller (Carrie Constance...  female  47.0   \n",
      "15        2      del Carlo, Mrs. Sebastiano (Argenia Genovesi)  female  24.0   \n",
      "16        2                                  Keane, Mr. Daniel    male  35.0   \n",
      "17        3                                  Assaf, Mr. Gerios    male  21.0   \n",
      "18        3                       Ilmakangas, Miss. Ida Livija  female  27.0   \n",
      "19        3              Assaf Khalil, Mrs. Mariana (Miriam\")\"  female  45.0   \n",
      "20        1                             Rothschild, Mr. Martin    male  55.0   \n",
      "21        3                          Olsen, Master. Artur Karl    male   9.0   \n",
      "22        1               Flegenheim, Mrs. Alfred (Antoinette)  female   NaN   \n",
      "23        1                    Williams, Mr. Richard Norris II    male  21.0   \n",
      "24        1    Ryerson, Mrs. Arthur Larned (Emily Maria Borie)  female  48.0   \n",
      "25        3                            Robins, Mr. Alexander A    male  50.0   \n",
      "26        1                       Ostby, Miss. Helene Ragnhild  female  22.0   \n",
      "27        3                                  Daher, Mr. Shedid    male  22.5   \n",
      "28        1                            Brady, Mr. John Bertram    male  41.0   \n",
      "29        3                                  Samaan, Mr. Elias    male   NaN   \n",
      "..      ...                                                ...     ...   ...   \n",
      "388       3                               Canavan, Mr. Patrick    male  21.0   \n",
      "389       3                        Palsson, Master. Paul Folke    male   6.0   \n",
      "390       1                         Payne, Mr. Vivian Ponsonby    male  23.0   \n",
      "391       1     Lines, Mrs. Ernest H (Elizabeth Lindsey James)  female  51.0   \n",
      "392       3                      Abbott, Master. Eugene Joseph    male  13.0   \n",
      "393       2                               Gilbert, Mr. William    male  47.0   \n",
      "394       3                           Kink-Heilmann, Mr. Anton    male  29.0   \n",
      "395       1     Smith, Mrs. Lucien Philip (Mary Eloise Hughes)  female  18.0   \n",
      "396       3                               Colbert, Mr. Patrick    male  24.0   \n",
      "397       1  Frolicher-Stehli, Mrs. Maxmillian (Margaretha ...  female  48.0   \n",
      "398       3                     Larsson-Rondberg, Mr. Edvard A    male  22.0   \n",
      "399       3                           Conlon, Mr. Thomas Henry    male  31.0   \n",
      "400       1                            Bonnell, Miss. Caroline  female  30.0   \n",
      "401       2                                    Gale, Mr. Harry    male  38.0   \n",
      "402       1                     Gibson, Miss. Dorothy Winifred  female  22.0   \n",
      "403       1                             Carrau, Mr. Jose Pedro    male  17.0   \n",
      "404       1                       Frauenthal, Mr. Isaac Gerald    male  43.0   \n",
      "405       2       Nourney, Mr. Alfred (Baron von Drachstedt\")\"    male  20.0   \n",
      "406       2                          Ware, Mr. William Jeffery    male  23.0   \n",
      "407       1                         Widener, Mr. George Dunton    male  50.0   \n",
      "408       3                    Riordan, Miss. Johanna Hannah\"\"  female   NaN   \n",
      "409       3                          Peacock, Miss. Treasteall  female   3.0   \n",
      "410       3                             Naughton, Miss. Hannah  female   NaN   \n",
      "411       1    Minahan, Mrs. William Edward (Lillian E Thorpe)  female  37.0   \n",
      "412       3                     Henriksson, Miss. Jenny Lovisa  female  28.0   \n",
      "413       3                                 Spector, Mr. Woolf    male   NaN   \n",
      "414       1                       Oliva y Ocana, Dona. Fermina  female  39.0   \n",
      "415       3                       Saether, Mr. Simon Sivertsen    male  38.5   \n",
      "416       3                                Ware, Mr. Frederick    male   NaN   \n",
      "417       3                           Peter, Master. Michael J    male   NaN   \n",
      "\n",
      "     sibsp  parch              ticket      fare            cabin embarked  \n",
      "0        0      0              330911    7.8292              NaN        Q  \n",
      "1        1      0              363272    7.0000              NaN        S  \n",
      "2        0      0              240276    9.6875              NaN        Q  \n",
      "3        0      0              315154    8.6625              NaN        S  \n",
      "4        1      1             3101298   12.2875              NaN        S  \n",
      "5        0      0                7538    9.2250              NaN        S  \n",
      "6        0      0              330972    7.6292              NaN        Q  \n",
      "7        1      1              248738   29.0000              NaN        S  \n",
      "8        0      0                2657    7.2292              NaN        C  \n",
      "9        2      0           A/4 48871   24.1500              NaN        S  \n",
      "10       0      0              349220    7.8958              NaN        S  \n",
      "11       0      0                 694   26.0000              NaN        S  \n",
      "12       1      0               21228   82.2667              B45        S  \n",
      "13       1      0               24065   26.0000              NaN        S  \n",
      "14       1      0         W.E.P. 5734   61.1750              E31        S  \n",
      "15       1      0       SC/PARIS 2167   27.7208              NaN        C  \n",
      "16       0      0              233734   12.3500              NaN        Q  \n",
      "17       0      0                2692    7.2250              NaN        C  \n",
      "18       1      0    STON/O2. 3101270    7.9250              NaN        S  \n",
      "19       0      0                2696    7.2250              NaN        C  \n",
      "20       1      0            PC 17603   59.4000              NaN        C  \n",
      "21       0      1             C 17368    3.1708              NaN        S  \n",
      "22       0      0            PC 17598   31.6833              NaN        S  \n",
      "23       0      1            PC 17597   61.3792              NaN        C  \n",
      "24       1      3            PC 17608  262.3750  B57 B59 B63 B66        C  \n",
      "25       1      0           A/5. 3337   14.5000              NaN        S  \n",
      "26       0      1              113509   61.9792              B36        C  \n",
      "27       0      0                2698    7.2250              NaN        C  \n",
      "28       0      0              113054   30.5000              A21        S  \n",
      "29       2      0                2662   21.6792              NaN        C  \n",
      "..     ...    ...                 ...       ...              ...      ...  \n",
      "388      0      0              364858    7.7500              NaN        Q  \n",
      "389      3      1              349909   21.0750              NaN        S  \n",
      "390      0      0               12749   93.5000              B24        S  \n",
      "391      0      1            PC 17592   39.4000              D28        S  \n",
      "392      0      2           C.A. 2673   20.2500              NaN        S  \n",
      "393      0      0          C.A. 30769   10.5000              NaN        S  \n",
      "394      3      1              315153   22.0250              NaN        S  \n",
      "395      1      0               13695   60.0000              C31        S  \n",
      "396      0      0              371109    7.2500              NaN        Q  \n",
      "397      1      1               13567   79.2000              B41        C  \n",
      "398      0      0              347065    7.7750              NaN        S  \n",
      "399      0      0               21332    7.7333              NaN        Q  \n",
      "400      0      0               36928  164.8667               C7        S  \n",
      "401      1      0               28664   21.0000              NaN        S  \n",
      "402      0      1              112378   59.4000              NaN        C  \n",
      "403      0      0              113059   47.1000              NaN        S  \n",
      "404      1      0               17765   27.7208              D40        C  \n",
      "405      0      0       SC/PARIS 2166   13.8625              D38        C  \n",
      "406      1      0               28666   10.5000              NaN        S  \n",
      "407      1      1              113503  211.5000              C80        C  \n",
      "408      0      0              334915    7.7208              NaN        Q  \n",
      "409      1      1  SOTON/O.Q. 3101315   13.7750              NaN        S  \n",
      "410      0      0              365237    7.7500              NaN        Q  \n",
      "411      1      0               19928   90.0000              C78        Q  \n",
      "412      0      0              347086    7.7750              NaN        S  \n",
      "413      0      0           A.5. 3236    8.0500              NaN        S  \n",
      "414      0      0            PC 17758  108.9000             C105        C  \n",
      "415      0      0  SOTON/O.Q. 3101262    7.2500              NaN        S  \n",
      "416      0      0              359309    8.0500              NaN        S  \n",
      "417      1      1                2668   22.3583              NaN        C  \n",
      "\n",
      "[418 rows x 10 columns]>\n"
     ]
    }
   ],
   "source": [
    "print(test.info)"
   ]
  },
  {
   "cell_type": "code",
   "execution_count": null,
   "metadata": {
    "collapsed": true
   },
   "outputs": [],
   "source": []
  },
  {
   "cell_type": "code",
   "execution_count": null,
   "metadata": {
    "collapsed": true
   },
   "outputs": [],
   "source": []
  },
  {
   "cell_type": "code",
   "execution_count": null,
   "metadata": {
    "collapsed": true
   },
   "outputs": [],
   "source": []
  },
  {
   "cell_type": "code",
   "execution_count": null,
   "metadata": {
    "collapsed": true
   },
   "outputs": [],
   "source": []
  },
  {
   "cell_type": "code",
   "execution_count": null,
   "metadata": {
    "collapsed": true
   },
   "outputs": [],
   "source": []
  },
  {
   "cell_type": "code",
   "execution_count": null,
   "metadata": {
    "collapsed": true
   },
   "outputs": [],
   "source": []
  },
  {
   "cell_type": "code",
   "execution_count": null,
   "metadata": {
    "collapsed": true
   },
   "outputs": [],
   "source": []
  },
  {
   "cell_type": "code",
   "execution_count": null,
   "metadata": {
    "collapsed": true
   },
   "outputs": [],
   "source": []
  },
  {
   "cell_type": "code",
   "execution_count": null,
   "metadata": {
    "collapsed": true
   },
   "outputs": [],
   "source": []
  },
  {
   "cell_type": "code",
   "execution_count": null,
   "metadata": {
    "collapsed": true
   },
   "outputs": [],
   "source": []
  },
  {
   "cell_type": "code",
   "execution_count": null,
   "metadata": {
    "collapsed": true
   },
   "outputs": [],
   "source": []
  },
  {
   "cell_type": "code",
   "execution_count": null,
   "metadata": {
    "collapsed": true
   },
   "outputs": [],
   "source": []
  },
  {
   "cell_type": "code",
   "execution_count": null,
   "metadata": {
    "collapsed": true
   },
   "outputs": [],
   "source": []
  },
  {
   "cell_type": "code",
   "execution_count": null,
   "metadata": {
    "collapsed": true
   },
   "outputs": [],
   "source": []
  },
  {
   "cell_type": "code",
   "execution_count": null,
   "metadata": {
    "collapsed": true
   },
   "outputs": [],
   "source": []
  },
  {
   "cell_type": "code",
   "execution_count": null,
   "metadata": {
    "collapsed": true
   },
   "outputs": [],
   "source": []
  },
  {
   "cell_type": "code",
   "execution_count": null,
   "metadata": {
    "collapsed": true
   },
   "outputs": [],
   "source": []
  },
  {
   "cell_type": "code",
   "execution_count": null,
   "metadata": {
    "collapsed": true
   },
   "outputs": [],
   "source": []
  },
  {
   "cell_type": "code",
   "execution_count": null,
   "metadata": {
    "collapsed": true
   },
   "outputs": [],
   "source": []
  },
  {
   "cell_type": "code",
   "execution_count": null,
   "metadata": {
    "collapsed": true
   },
   "outputs": [],
   "source": []
  },
  {
   "cell_type": "code",
   "execution_count": null,
   "metadata": {
    "collapsed": true
   },
   "outputs": [],
   "source": []
  },
  {
   "cell_type": "code",
   "execution_count": null,
   "metadata": {
    "collapsed": true
   },
   "outputs": [],
   "source": []
  },
  {
   "cell_type": "code",
   "execution_count": null,
   "metadata": {
    "collapsed": true
   },
   "outputs": [],
   "source": []
  },
  {
   "cell_type": "code",
   "execution_count": null,
   "metadata": {
    "collapsed": true
   },
   "outputs": [],
   "source": []
  },
  {
   "cell_type": "code",
   "execution_count": null,
   "metadata": {
    "collapsed": true
   },
   "outputs": [],
   "source": []
  },
  {
   "cell_type": "code",
   "execution_count": null,
   "metadata": {
    "collapsed": true
   },
   "outputs": [],
   "source": []
  },
  {
   "cell_type": "code",
   "execution_count": null,
   "metadata": {
    "collapsed": true
   },
   "outputs": [],
   "source": []
  },
  {
   "cell_type": "code",
   "execution_count": null,
   "metadata": {
    "collapsed": true
   },
   "outputs": [],
   "source": []
  },
  {
   "cell_type": "code",
   "execution_count": null,
   "metadata": {
    "collapsed": true
   },
   "outputs": [],
   "source": []
  }
 ],
 "metadata": {
  "kernelspec": {
   "display_name": "Python 3",
   "language": "python",
   "name": "python3"
  },
  "language_info": {
   "codemirror_mode": {
    "name": "ipython",
    "version": 3
   },
   "file_extension": ".py",
   "mimetype": "text/x-python",
   "name": "python",
   "nbconvert_exporter": "python",
   "pygments_lexer": "ipython3",
   "version": "3.6.1"
  }
 },
 "nbformat": 4,
 "nbformat_minor": 2
}
