{
 "cells": [
  {
   "cell_type": "markdown",
   "metadata": {},
   "source": [
    "# 第3章 数据分析--探索与争鸣"
   ]
  },
  {
   "cell_type": "markdown",
   "metadata": {},
   "source": [
    "在这一章里，我们将探讨以下主题：\n",
    "- 用图表分析单变量数据\n",
    "- 数据分组和使用点阵图\n",
    "- 为多变量数据绘制散点阵图\n",
    "- 使用热图\n",
    "- 实施概要统计及绘图\n",
    "- 使用箱型图\n",
    "- 修补数据\n",
    "- 实施随机采样\n",
    "- 缩放数据\n",
    "- 数据标准化\n",
    "- 实施分词化\n",
    "- 删除停用词\n",
    "- 词提取\n",
    "- 实施词形还原\n",
    "- 词袋模型表示文本\n",
    "- 计算词频和反文档频率"
   ]
  },
  {
   "cell_type": "markdown",
   "metadata": {},
   "source": [
    "## 3.1 简介"
   ]
  },
  {
   "cell_type": "markdown",
   "metadata": {},
   "source": [
    "对数据进行不同粒度上的探索被称为**“探索性数据分析（Exploratory Data Analysis，EDA）”**。"
   ]
  },
  {
   "cell_type": "markdown",
   "metadata": {},
   "source": [
    "## 3.2 用图表分析单变量数据"
   ]
  },
  {
   "cell_type": "markdown",
   "metadata": {},
   "source": [
    "#### 3.2.1 准备工作"
   ]
  },
  {
   "cell_type": "markdown",
   "metadata": {},
   "source": [
    "#### 3.2.2 操作方法"
   ]
  },
  {
   "cell_type": "code",
   "execution_count": 2,
   "metadata": {},
   "outputs": [],
   "source": [
    "# 1.加载库\n",
    "import numpy as np\n",
    "from matplotlib.pylab import frange\n",
    "import matplotlib.pyplot as plt\n",
    "\n",
    "fill_data = lambda x: int(x.strip() or 0)\n",
    "data = np.genfromtxt('president.txt',dtype=(int,int),converters={1:fill_data},delimiter=\",\")\n",
    "x = data[:,0]\n",
    "y = data[:,1]"
   ]
  },
  {
   "cell_type": "code",
   "execution_count": 3,
   "metadata": {},
   "outputs": [
    {
     "data": {
      "image/png": "[encoded data removed]",
      "text/plain": [
       "<matplotlib.figure.Figure at 0x73d09b0>"
      ]
     },
     "metadata": {},
     "output_type": "display_data"
    }
   ],
   "source": [
    "# 2.绘制数据图形以观察趋势\n",
    "plt.close('all')\n",
    "plt.figure(1)\n",
    "plt.title('All data')\n",
    "plt.plot(x,y,'ro')\n",
    "plt.xlabel('year')\n",
    "plt.ylabel('No Presedential Request')\n",
    "plt.show()"
   ]
  },
  {
   "cell_type": "code",
   "execution_count": 5,
   "metadata": {},
   "outputs": [
    {
     "name": "stdout",
     "output_type": "stream",
     "text": [
      "\n",
      "25th Percentile = 13.00\n",
      "50th Percentile = 18.50\n",
      "75th Percentile = 25.25\n"
     ]
    }
   ],
   "source": [
    "# 3.计算出数据的百分位数（第25、50、75位）以了解数据分布\n",
    "perc_25 = np.percentile(y,25)\n",
    "perc_50 = np.percentile(y,50)\n",
    "perc_75 = np.percentile(y,75)\n",
    "print()\n",
    "print(\"25th Percentile = %0.2f\"%(perc_25))\n",
    "print(\"50th Percentile = %0.2f\"%(perc_50))\n",
    "print(\"75th Percentile = %0.2f\"%(perc_75))"
   ]
  },
  {
   "cell_type": "code",
   "execution_count": 6,
   "metadata": {},
   "outputs": [
    {
     "data": {
      "text/plain": [
       "<matplotlib.legend.Legend at 0x8088c50>"
      ]
     },
     "execution_count": 6,
     "metadata": {},
     "output_type": "execute_result"
    }
   ],
   "source": [
    "# 4.将这些百分位数添加到之前生成的图形中作为参考\n",
    "# 在图中画出第25、50、75位的百分位水平线\n",
    "plt.axhline(perc_25,label='25th perc',c='r')\n",
    "plt.axhline(perc_50,label='50th perc',c='g')\n",
    "plt.axhline(perc_75,label='75th perc',c='m')\n",
    "plt.legend(loc='best')"
   ]
  },
  {
   "cell_type": "code",
   "execution_count": 7,
   "metadata": {},
   "outputs": [
    {
     "data": {
      "image/png": "[encoded data removed]",
      "text/plain": [
       "<matplotlib.figure.Figure at 0x73d0940>"
      ]
     },
     "metadata": {},
     "output_type": "display_data"
    }
   ],
   "source": [
    "plt.show()"
   ]
  },
  {
   "cell_type": "markdown",
   "metadata": {},
   "source": [
    "## 3.8 修补数据"
   ]
  },
  {
   "cell_type": "markdown",
   "metadata": {},
   "source": [
    "#### 3.8.1 准备工作"
   ]
  },
  {
   "cell_type": "code",
   "execution_count": null,
   "metadata": {
    "collapsed": true
   },
   "outputs": [],
   "source": []
  }
 ],
 "metadata": {
  "kernelspec": {
   "display_name": "Python 3",
   "language": "python",
   "name": "python3"
  },
  "language_info": {
   "codemirror_mode": {
    "name": "ipython",
    "version": 3
   },
   "file_extension": ".py",
   "mimetype": "text/x-python",
   "name": "python",
   "nbconvert_exporter": "python",
   "pygments_lexer": "ipython3",
   "version": "3.6.1"
  }
 },
 "nbformat": 4,
 "nbformat_minor": 2
}
