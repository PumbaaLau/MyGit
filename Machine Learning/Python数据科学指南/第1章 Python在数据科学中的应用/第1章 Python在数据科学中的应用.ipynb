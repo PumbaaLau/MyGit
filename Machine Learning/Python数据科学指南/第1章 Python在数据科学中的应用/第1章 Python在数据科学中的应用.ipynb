{
 "cells": [
  {
   "cell_type": "markdown",
   "metadata": {},
   "source": [
    "# 第1章 Python在数据科学中的应用"
   ]
  },
  {
   "cell_type": "markdown",
   "metadata": {},
   "source": [
    "在这一章里，我们将探讨以下主题：\n",
    "- 使用字典对象\n",
    "- 使用字典的字典\n",
    "- 使用元组\n",
    "- 使用集合\n",
    "- 写一个列表\n",
    "- 从另一个列表创建列表——列表推导\n",
    "- 使用迭代器\n",
    "- 生成一个迭代器和生成器\n",
    "- 使用可迭代对象\n",
    "- 将函数作为变量传递\n",
    "- 在函数中嵌入函数\n",
    "- 将函数作为参数传递\n",
    "- 返回一个函数\n",
    "- 使用装饰器改变函数行为\n",
    "- 使用 lambda 创造匿名函数\n",
    "- 使用映射函数\n",
    "- 使用过滤器\n",
    "- 使用 zip 和 izip 函数\n",
    "- 从表格数据使用数组\n",
    "- 对列进行预处理\n",
    "- 列表排序\n",
    "- 采用健排序\n",
    "- 使用 itertools"
   ]
  },
  {
   "cell_type": "markdown",
   "metadata": {},
   "source": [
    "## 1.1 简介"
   ]
  },
  {
   "cell_type": "markdown",
   "metadata": {},
   "source": [
    "## 1.2 使用字典对象"
   ]
  },
  {
   "cell_type": "markdown",
   "metadata": {},
   "source": [
    "#### 1.2.1 准备工作"
   ]
  },
  {
   "cell_type": "markdown",
   "metadata": {},
   "source": [
    "#### 1.2.2 操作方法"
   ]
  },
  {
   "cell_type": "code",
   "execution_count": 5,
   "metadata": {},
   "outputs": [
    {
     "name": "stdout",
     "output_type": "stream",
     "text": [
      "{'Peter': 4, 'Piper': 4, 'picked': 3, 'a': 2, 'peck': 4, 'of': 4, 'pickled': 4, 'peppers': 4, 'A': 1, 'pickedIf': 1, 'Wheres': 1, 'the': 1}\n"
     ]
    }
   ],
   "source": [
    "# 1.加载一个句子到变量中\n",
    "sentence = \"Peter Piper picked a peck of pickled peppers A peck of pickled peppers Peter Piper picked\\\n",
    "If Peter Piper picked a peck of pickled peppers Wheres the peck of pickled peppers Peter Piper picked\"\n",
    "\n",
    "# 2.初始化一个字典对象\n",
    "word_dict = {}\n",
    "\n",
    "# 3.执行对词频的统计\n",
    "for word in sentence.split():\n",
    "    if word not in word_dict:\n",
    "        word_dict[word] = 1\n",
    "    else:\n",
    "        word_dict[word] += 1\n",
    "        \n",
    "# 4.打印输出词频结果\n",
    "print(word_dict)"
   ]
  },
  {
   "cell_type": "code",
   "execution_count": 13,
   "metadata": {
    "collapsed": true
   },
   "outputs": [],
   "source": [
    "sentences = \"Peter Piper picked a peck of pickled peppers A peck of pickled peppers Peter Piper picked If Peter Piper picked \\\n",
    "a peck of pickled peppers Wheres the peck of pickled peppers Peter Piper plcked\""
   ]
  },
  {
   "cell_type": "code",
   "execution_count": 14,
   "metadata": {
    "collapsed": true
   },
   "outputs": [],
   "source": [
    "word_dict = defaultdict(int)"
   ]
  },
  {
   "cell_type": "code",
   "execution_count": 15,
   "metadata": {
    "collapsed": true
   },
   "outputs": [],
   "source": [
    "for word in sentence.split():\n",
    "    word_dict[word] += 1"
   ]
  },
  {
   "cell_type": "code",
   "execution_count": 16,
   "metadata": {},
   "outputs": [
    {
     "data": {
      "text/plain": [
       "defaultdict(int,\n",
       "            {'A': 1,\n",
       "             'Peter': 4,\n",
       "             'Piper': 4,\n",
       "             'Wheres': 1,\n",
       "             'a': 2,\n",
       "             'of': 4,\n",
       "             'peck': 4,\n",
       "             'peppers': 4,\n",
       "             'picked': 3,\n",
       "             'pickedIf': 1,\n",
       "             'pickled': 4,\n",
       "             'the': 1})"
      ]
     },
     "execution_count": 16,
     "metadata": {},
     "output_type": "execute_result"
    }
   ],
   "source": [
    "word_dict"
   ]
  },
  {
   "cell_type": "code",
   "execution_count": 21,
   "metadata": {
    "collapsed": true
   },
   "outputs": [],
   "source": [
    "from collections import Counter"
   ]
  },
  {
   "cell_type": "code",
   "execution_count": 22,
   "metadata": {
    "collapsed": true
   },
   "outputs": [],
   "source": [
    "words = sentence.split()"
   ]
  },
  {
   "cell_type": "code",
   "execution_count": 23,
   "metadata": {},
   "outputs": [
    {
     "data": {
      "text/plain": [
       "['Peter',\n",
       " 'Piper',\n",
       " 'picked',\n",
       " 'a',\n",
       " 'peck',\n",
       " 'of',\n",
       " 'pickled',\n",
       " 'peppers',\n",
       " 'A',\n",
       " 'peck',\n",
       " 'of',\n",
       " 'pickled',\n",
       " 'peppers',\n",
       " 'Peter',\n",
       " 'Piper',\n",
       " 'pickedIf',\n",
       " 'Peter',\n",
       " 'Piper',\n",
       " 'picked',\n",
       " 'a',\n",
       " 'peck',\n",
       " 'of',\n",
       " 'pickled',\n",
       " 'peppers',\n",
       " 'Wheres',\n",
       " 'the',\n",
       " 'peck',\n",
       " 'of',\n",
       " 'pickled',\n",
       " 'peppers',\n",
       " 'Peter',\n",
       " 'Piper',\n",
       " 'picked']"
      ]
     },
     "execution_count": 23,
     "metadata": {},
     "output_type": "execute_result"
    }
   ],
   "source": [
    "words"
   ]
  },
  {
   "cell_type": "code",
   "execution_count": 24,
   "metadata": {
    "collapsed": true
   },
   "outputs": [],
   "source": [
    "word_count = Counter(words)"
   ]
  },
  {
   "cell_type": "code",
   "execution_count": 25,
   "metadata": {},
   "outputs": [
    {
     "data": {
      "text/plain": [
       "Counter({'A': 1,\n",
       "         'Peter': 4,\n",
       "         'Piper': 4,\n",
       "         'Wheres': 1,\n",
       "         'a': 2,\n",
       "         'of': 4,\n",
       "         'peck': 4,\n",
       "         'peppers': 4,\n",
       "         'picked': 3,\n",
       "         'pickedIf': 1,\n",
       "         'pickled': 4,\n",
       "         'the': 1})"
      ]
     },
     "execution_count": 25,
     "metadata": {},
     "output_type": "execute_result"
    }
   ],
   "source": [
    "word_count"
   ]
  },
  {
   "cell_type": "code",
   "execution_count": 26,
   "metadata": {},
   "outputs": [
    {
     "data": {
      "text/plain": [
       "collections.Counter"
      ]
     },
     "execution_count": 26,
     "metadata": {},
     "output_type": "execute_result"
    }
   ],
   "source": [
    "type(word_count)"
   ]
  },
  {
   "cell_type": "code",
   "execution_count": 27,
   "metadata": {},
   "outputs": [
    {
     "ename": "ValueError",
     "evalue": "too many values to unpack (expected 2)",
     "output_type": "error",
     "traceback": [
      "\u001b[1;31m---------------------------------------------------------------------------\u001b[0m",
      "\u001b[1;31mValueError\u001b[0m                                Traceback (most recent call last)",
      "\u001b[1;32m<ipython-input-27-f782d6bbc3b8>\u001b[0m in \u001b[0;36m<module>\u001b[1;34m()\u001b[0m\n\u001b[1;32m----> 1\u001b[1;33m \u001b[1;32mfor\u001b[0m \u001b[0mkey\u001b[0m\u001b[1;33m,\u001b[0m\u001b[0mvalue\u001b[0m \u001b[1;32min\u001b[0m \u001b[0mword_count\u001b[0m\u001b[1;33m:\u001b[0m\u001b[1;33m\u001b[0m\u001b[0m\n\u001b[0m\u001b[0;32m      2\u001b[0m     \u001b[0mprint\u001b[0m\u001b[1;33m(\u001b[0m\u001b[0mkey\u001b[0m\u001b[1;33m,\u001b[0m \u001b[1;34m','\u001b[0m\u001b[1;33m,\u001b[0m \u001b[0mvalue\u001b[0m\u001b[1;33m)\u001b[0m\u001b[1;33m\u001b[0m\u001b[0m\n",
      "\u001b[1;31mValueError\u001b[0m: too many values to unpack (expected 2)"
     ]
    }
   ],
   "source": [
    "for key,value in word_count:\n",
    "    print(key, ',', value)"
   ]
  },
  {
   "cell_type": "code",
   "execution_count": 28,
   "metadata": {
    "collapsed": true
   },
   "outputs": [],
   "source": [
    "str = 'programming'"
   ]
  },
  {
   "cell_type": "code",
   "execution_count": 29,
   "metadata": {
    "collapsed": true
   },
   "outputs": [],
   "source": [
    "str_count = Counter(str)"
   ]
  },
  {
   "cell_type": "code",
   "execution_count": 30,
   "metadata": {},
   "outputs": [
    {
     "data": {
      "text/plain": [
       "Counter({'a': 1, 'g': 2, 'i': 1, 'm': 2, 'n': 1, 'o': 1, 'p': 1, 'r': 2})"
      ]
     },
     "execution_count": 30,
     "metadata": {},
     "output_type": "execute_result"
    }
   ],
   "source": [
    "str_count"
   ]
  },
  {
   "cell_type": "code",
   "execution_count": 31,
   "metadata": {
    "collapsed": true
   },
   "outputs": [],
   "source": [
    "a = range(1,10)"
   ]
  },
  {
   "cell_type": "code",
   "execution_count": 32,
   "metadata": {},
   "outputs": [
    {
     "data": {
      "text/plain": [
       "range(1, 10)"
      ]
     },
     "execution_count": 32,
     "metadata": {},
     "output_type": "execute_result"
    }
   ],
   "source": [
    "a"
   ]
  },
  {
   "cell_type": "code",
   "execution_count": 33,
   "metadata": {},
   "outputs": [
    {
     "data": {
      "text/plain": [
       "[1, 2, 3, 4, 5, 6, 7, 8, 9]"
      ]
     },
     "execution_count": 33,
     "metadata": {},
     "output_type": "execute_result"
    }
   ],
   "source": [
    "list(a)"
   ]
  },
  {
   "cell_type": "markdown",
   "metadata": {
    "collapsed": true
   },
   "source": [
    "## 1.3 使用字典的字典"
   ]
  },
  {
   "cell_type": "markdown",
   "metadata": {},
   "source": [
    "#### 1.3.1 准备工作"
   ]
  },
  {
   "cell_type": "markdown",
   "metadata": {},
   "source": [
    "#### 1.3.2 操作方法"
   ]
  },
  {
   "cell_type": "code",
   "execution_count": 4,
   "metadata": {},
   "outputs": [
    {
     "name": "stdout",
     "output_type": "stream",
     "text": [
      "defaultdict(<function <lambda> at 0x0000000004BF0A60>, {'Alice': defaultdict(<class 'int'>, {'LOR1': 4, 'LOR2': 5, 'LOR3': 3, 'SW1': 5, 'SW2': 3})})\n"
     ]
    }
   ],
   "source": [
    "from collections import defaultdict\n",
    "user_movie_rating = defaultdict(lambda :defaultdict(int))\n",
    "\n",
    "# 初始化爱丽丝的评分\n",
    "user_movie_rating[\"Alice\"][\"LOR1\"] = 4\n",
    "user_movie_rating[\"Alice\"][\"LOR2\"] = 5\n",
    "user_movie_rating[\"Alice\"][\"LOR3\"] = 3\n",
    "user_movie_rating[\"Alice\"][\"SW1\"] = 5\n",
    "user_movie_rating[\"Alice\"][\"SW2\"] = 3\n",
    "print(user_movie_rating)"
   ]
  },
  {
   "cell_type": "markdown",
   "metadata": {},
   "source": [
    "#### 1.3.3 工作原理"
   ]
  },
  {
   "cell_type": "markdown",
   "metadata": {},
   "source": [
    "#### 1.3.4 参考资料"
   ]
  },
  {
   "cell_type": "markdown",
   "metadata": {},
   "source": [
    "## 1.4 使用元组"
   ]
  },
  {
   "cell_type": "markdown",
   "metadata": {},
   "source": [
    "#### 1.4.1 准备工作"
   ]
  },
  {
   "cell_type": "markdown",
   "metadata": {},
   "source": [
    "#### 1.4.2 操作方法"
   ]
  },
  {
   "cell_type": "code",
   "execution_count": 7,
   "metadata": {},
   "outputs": [
    {
     "name": "stdout",
     "output_type": "stream",
     "text": [
      "1\n",
      "c\n",
      "Cannot change value of tuple by index\n",
      "(1, 2, 'a', 1, 2, 'c')\n",
      "(2, 3, 4, 5, 6, 7, 8, 9, 10)\n",
      "(2, 3)\n",
      "(2, 4, 6)\n",
      "(1, 2, 3, 4, 5, 6, 7, 8, 9)\n",
      "1 10\n",
      "Element 1 is available in tuple a\n"
     ]
    }
   ],
   "source": [
    "# 1.创建一个元组\n",
    "a_tuple = (1, 2, 'a')\n",
    "b_tuple = 1, 2, 'c'\n",
    "\n",
    "# 2.利用索引访问元组的原始\n",
    "print(b_tuple[0])\n",
    "print(b_tuple[-1])\n",
    "\n",
    "# 3.元组的元素值是无法修改的，如下的语句将返回一个错误\n",
    "try:\n",
    "    b_tuple[0] = 20\n",
    "except:\n",
    "    print(\"Cannot change value of tuple by index\")\n",
    "    \n",
    "# 4.虽然元组是不可变的，但是元组的元素可以是一个可变的对象\n",
    "# 在如下的代码中，元组的元组是一个列表\n",
    "c_tuple = (1, 2, [10, 20, 30])\n",
    "c_tuple[2][0] = 100\n",
    "\n",
    "# 5.元组一旦被创建，无法像列表那样进行扩展\n",
    "# 不过，两个元组可以串联在一起\n",
    "print(a_tuple + b_tuple)\n",
    "\n",
    "# 6.对元组进行切片\n",
    "a = (1,2,3,4,5,6,7,8,9,10)\n",
    "print(a[1:])\n",
    "print(a[1:3])\n",
    "print(a[1:6:2])\n",
    "print(a[:-1])\n",
    "\n",
    "# 7.对元组求min和max值\n",
    "print(min(a), max(a))\n",
    "\n",
    "# 8.包含于与非包含于\n",
    "if 1 in a:\n",
    "    print(\"Element 1 is available in tuple a\")\n",
    "else:\n",
    "    print(\"Element 1 is not available in tuple a\")"
   ]
  },
  {
   "cell_type": "markdown",
   "metadata": {},
   "source": [
    "#### 1.4.3 工作原理"
   ]
  },
  {
   "cell_type": "code",
   "execution_count": null,
   "metadata": {
    "collapsed": true
   },
   "outputs": [],
   "source": []
  }
 ],
 "metadata": {
  "kernelspec": {
   "display_name": "Python 3",
   "language": "python",
   "name": "python3"
  },
  "language_info": {
   "codemirror_mode": {
    "name": "ipython",
    "version": 3
   },
   "file_extension": ".py",
   "mimetype": "text/x-python",
   "name": "python",
   "nbconvert_exporter": "python",
   "pygments_lexer": "ipython3",
   "version": "3.6.1"
  }
 },
 "nbformat": 4,
 "nbformat_minor": 2
}
