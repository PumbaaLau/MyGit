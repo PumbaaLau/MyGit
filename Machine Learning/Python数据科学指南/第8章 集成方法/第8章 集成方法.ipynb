{
 "cells": [
  {
   "cell_type": "markdown",
   "metadata": {},
   "source": [
    "# 第8章 集成方法"
   ]
  },
  {
   "cell_type": "markdown",
   "metadata": {},
   "source": [
    "在这一章中，我们将探讨一下主题：\n",
    "- 理解集成——挂袋法\n",
    "- 理解集成——提升法\n",
    "- 理解集成——梯度提升"
   ]
  },
  {
   "cell_type": "markdown",
   "metadata": {},
   "source": [
    "## 8.1 简介"
   ]
  },
  {
   "cell_type": "markdown",
   "metadata": {},
   "source": [
    "本章主要内容将覆盖集成方法。  \n",
    "\n",
    "基本的思路是拥有大量的模型，每一个都在训练集上产生差别不大的结果，一些模型相较其他的在某些方面的数据效果会更好一些。可以相信，最后从多个模型得到的输出结果肯定比仅从一个模型获得的结果要好。  "
   ]
  },
  {
   "cell_type": "markdown",
   "metadata": {},
   "source": [
    "## 8.2 理解集成——挂袋法"
   ]
  },
  {
   "cell_type": "markdown",
   "metadata": {},
   "source": [
    "假定数据自举 $m$ 次，这样就有 $m$ 个模型，也就有 $m$ 个 $y$，最后的预测值计算公式如下：\n",
    "$$Y_{final(x)} = \\frac{1}{m}\\sum_{i=1}^my_m(x)$$"
   ]
  },
  {
   "cell_type": "markdown",
   "metadata": {},
   "source": [
    "随机化是用来在建模过程中引入变化的另一种技术，一个例子就是在集成的每个模型里随机选择属性的子集，这样，不同模型使用不同的属性集合。这种技术被称为随机子空间方法。"
   ]
  },
  {
   "cell_type": "markdown",
   "metadata": {},
   "source": [
    "#### 8.2.1 准备工作"
   ]
  },
  {
   "cell_type": "markdown",
   "metadata": {},
   "source": [
    "#### 8.2.2 操作方法"
   ]
  },
  {
   "cell_type": "code",
   "execution_count": 2,
   "metadata": {
    "collapsed": true
   },
   "outputs": [],
   "source": [
    "from sklearn.datasets import make_classification\n",
    "from sklearn.neighbors import KNeighborsClassifier\n",
    "from sklearn.ensemble import BaggingClassifier\n",
    "from sklearn.metrics import classification_report\n",
    "from sklearn.cross_validation import train_test_split"
   ]
  },
  {
   "cell_type": "code",
   "execution_count": 3,
   "metadata": {
    "collapsed": true
   },
   "outputs": [],
   "source": [
    "def get_data():\n",
    "    \"\"\"\n",
    "    Make a sample classification dataset\n",
    "    Returns : Independent variable y, dependent variable x\n",
    "    \"\"\"\n",
    "    no_features = 30\n",
    "    redundant_features = int(0.1 * no_features)\n",
    "    informative_features = int(0.6 * no_features)\n",
    "    repeated_features = int(0.1 * no_features)\n",
    "    print(no_features, redundant_features, informative_features, repeated_features)\n",
    "    x, y = make_classification(n_samples=500,n_features=no_features,flip_y=0.03,n_informative=informative_features,\\\n",
    "                               n_redundant=redundant_features,n_repeated=repeated_features,random_state=7)\n",
    "    return x,y    "
   ]
  },
  {
   "cell_type": "code",
   "execution_count": 4,
   "metadata": {
    "collapsed": true
   },
   "outputs": [],
   "source": [
    "def build_single_model(x,y):\n",
    "    model = KNeighborsClassifier()\n",
    "    model.fit(x,y)\n",
    "    return model"
   ]
  },
  {
   "cell_type": "code",
   "execution_count": 5,
   "metadata": {
    "collapsed": true
   },
   "outputs": [],
   "source": [
    "def build_bagging_model(x,y):\n",
    "    bagging = BaggingClassifier(KNeighborsClassifier(),n_estimators=100,random_state=9,max_samples=1.0,max_features=0.7,bootstrap=True,\\\n",
    "                               bootstrap_features=True)\n",
    "    bagging.fit(x,y)\n",
    "    return bagging"
   ]
  },
  {
   "cell_type": "code",
   "execution_count": 6,
   "metadata": {
    "collapsed": true
   },
   "outputs": [],
   "source": [
    "def view_model(model):\n",
    "    print(\"\\n Sampled attributes in top 10 estimators\\n\")\n",
    "    for i,feature_set in enumerate(model.estimators_features_[0:10]):\n",
    "        print(\"estimator %d\"%(i+1), feature_set)"
   ]
  },
  {
   "cell_type": "code",
   "execution_count": 8,
   "metadata": {},
   "outputs": [
    {
     "name": "stdout",
     "output_type": "stream",
     "text": [
      "30 3 18 3\n",
      "\n",
      " Single Model Accuracy on training data\n",
      "\n",
      "             precision    recall  f1-score   support\n",
      "\n",
      "          0       0.88      0.87      0.88       181\n",
      "          1       0.87      0.88      0.87       169\n",
      "\n",
      "avg / total       0.87      0.87      0.87       350\n",
      "\n",
      "\n",
      " Bagging Model Accuracy on training data\n",
      "\n",
      "             precision    recall  f1-score   support\n",
      "\n",
      "          0       0.93      0.97      0.95       181\n",
      "          1       0.96      0.92      0.94       169\n",
      "\n",
      "avg / total       0.95      0.95      0.95       350\n",
      "\n",
      "\n",
      " Sampled attributes in top 10 estimators\n",
      "\n",
      "estimator 1 [25 20 10  6 17 18 11 17  9 14  3 10 10 23 22 18 17 11 21 20  1]\n",
      "estimator 2 [14  3 27 28 20 20 27 25  0 21  1 12 20 21 29  1  0 28 16  4  9]\n",
      "estimator 3 [29  5 23 19  2 16 21  4 13 27  1 15 24  5 14  1  4 25 22 26 29]\n",
      "estimator 4 [23 10 16  7 22 11  0 14 14 17  8 17 27 12 13 23  8  7 27  0 27]\n",
      "estimator 5 [ 3  0 26 13 23  7 27 15 18 11 26 18 26  3 22  6 11 21  6 12 19]\n",
      "estimator 6 [16  5 24 19 21  2  2 22 12 21 14 28  5 29  9 19 24 14 21  8 11]\n",
      "estimator 7 [ 7 23  2 17 22  2 12 14 25  5  7 10 25  5 17 16  9  0  9  9 15]\n",
      "estimator 8 [16 10  7  8  8 18  6  3 12 29 13 17 20  9  2 25  6 28 15  0 16]\n",
      "estimator 9 [22 29  2  5  6 11 18  4 19 27 17 28 20 15 21 26 14  5 28 15 21]\n",
      "estimator 10 [29 22 17 10 16 10 27  8  2 18 26  1  3  2  1 17  2 12 10 22 26]\n",
      "\n",
      " Single Model Accuracy on Dev data\n",
      "\n",
      "             precision    recall  f1-score   support\n",
      "\n",
      "          0       0.83      0.84      0.83        51\n",
      "          1       0.85      0.83      0.84        54\n",
      "\n",
      "avg / total       0.84      0.84      0.84       105\n",
      "\n",
      "\n",
      " Bagging Model Accuracy on Dev data\n",
      "\n",
      "             precision    recall  f1-score   support\n",
      "\n",
      "          0       0.83      0.88      0.86        51\n",
      "          1       0.88      0.83      0.86        54\n",
      "\n",
      "avg / total       0.86      0.86      0.86       105\n",
      "\n"
     ]
    }
   ],
   "source": [
    "x, y = get_data()\n",
    "\n",
    "# 将数据划分为训练集、dev集和测试集\n",
    "x_train,x_test_all,y_train,y_test_all = train_test_split(x,y,test_size=0.3,random_state=9)\n",
    "x_dev,x_test,y_dev,y_test = train_test_split(x_test_all,y_test_all,test_size=0.3,random_state=9)\n",
    "\n",
    "# 构建单个模型\n",
    "model = build_single_model(x_train,y_train)\n",
    "predicted_y = model.predict(x_train)\n",
    "print(\"\\n Single Model Accuracy on training data\\n\")\n",
    "print(classification_report(y_train,predicted_y))\n",
    "\n",
    "# 构建多个模型\n",
    "bagging = build_bagging_model(x_train,y_train)\n",
    "predicted_y = bagging.predict(x_train)\n",
    "print(\"\\n Bagging Model Accuracy on training data\\n\")\n",
    "print(classification_report(y_train,predicted_y))\n",
    "view_model(bagging)\n",
    "\n",
    "# 查看dev集上运行的情况\n",
    "print(\"\\n Single Model Accuracy on Dev data\\n\")\n",
    "predicted_y = model.predict(x_dev)\n",
    "print(classification_report(y_dev,predicted_y))\n",
    "\n",
    "print(\"\\n Bagging Model Accuracy on Dev data\\n\")\n",
    "predicted_y = bagging.predict(x_dev)\n",
    "print(classification_report(y_dev,predicted_y))"
   ]
  },
  {
   "cell_type": "markdown",
   "metadata": {},
   "source": [
    "#### 8.2.3 工作原理"
   ]
  },
  {
   "cell_type": "code",
   "execution_count": null,
   "metadata": {
    "collapsed": true
   },
   "outputs": [],
   "source": [
    "no_features = 30\n",
    "redundant_features = int(0.1 * no_features)\n",
    "informative_features = int(0.6 * no_features)\n",
    "repeated_features = int(0.1 * no_features)\n",
    "\n",
    "# n_samples是所需的实例数量\n",
    "# n_features是每个实例需要的属性数量\n",
    "# flip_y要求随机互换实例的%3，这是为了在数据中产生一些噪音。\n",
    "# n_informative指定了从30个特征中选择具有足够的信息量来进行分类的特征个数\n",
    "# n_redundant是关于冗余参数的，它们产生了高信息量特征的线性组合以构成特征之间的关联。\n",
    "# n_repeated重复特征是从高信息量特征和冗余特征中随机选择的副本。\n",
    "x, y = make_classification(n_samples=500,n_features=no_features,flip_y=0.03,n_informative=informative_features,\\\n",
    "                               n_redundant=redundant_features,n_repeated=repeated_features,random_state=7)"
   ]
  },
  {
   "cell_type": "markdown",
   "metadata": {},
   "source": [
    "#### 8.2.4 更多内容"
   ]
  },
  {
   "cell_type": "markdown",
   "metadata": {},
   "source": [
    "#### 8.2.5 参考资料"
   ]
  },
  {
   "cell_type": "markdown",
   "metadata": {
    "collapsed": true
   },
   "source": [
    "## 8.3 理解集成——提升法"
   ]
  },
  {
   "cell_type": "markdown",
   "metadata": {},
   "source": [
    "#### 8.3.1 准备工作"
   ]
  },
  {
   "cell_type": "markdown",
   "metadata": {},
   "source": [
    "#### 8.3.2 操作方法"
   ]
  },
  {
   "cell_type": "code",
   "execution_count": 1,
   "metadata": {
    "collapsed": true
   },
   "outputs": [],
   "source": [
    "from sklearn.datasets import make_classification\n",
    "from sklearn.ensemble import  AdaBoostClassifier\n",
    "from sklearn.metrics import classification_report, zero_one_loss\n",
    "from sklearn.cross_validation import train_test_split\n",
    "from sklearn.tree import DecisionTreeClassifier\n",
    "import numpy as np\n",
    "import matplotlib.pyplot as plt\n",
    "import itertools"
   ]
  },
  {
   "cell_type": "code",
   "execution_count": 17,
   "metadata": {
    "collapsed": true
   },
   "outputs": [],
   "source": [
    "def get_data():\n",
    "    \"\"\"\n",
    "    Make a sample classification dataset\n",
    "    Returns : Independent variable y, dependent variable x\n",
    "    \"\"\"\n",
    "    no_features = 30\n",
    "    redundant_features = int(0.1*no_features)\n",
    "    informative_features = int(0.6*no_features)\n",
    "    repeated_features = int(0.1*no_features)\n",
    "    print(no_features,redundant_features,informative_features,repeated_features)\n",
    "    x,y = make_classification(n_samples=500,n_features=no_features,flip_y=0.03,n_informative=informative_features,\\\n",
    "                               n_redundant=redundant_features,n_repeated=repeated_features,random_state=7)\n",
    "    return x,y\n",
    "\n",
    "def build_single_model(x,y):\n",
    "    model = DecisionTreeClassifier()\n",
    "    model.fit(x,y)\n",
    "    return model\n",
    "\n",
    "def build_boosting_model(x,y,no_estimators=20):\n",
    "    boosting = AdaBoostClassifier(DecisionTreeClassifier(max_depth=1,min_samples_leaf=1),random_state=9,\\\n",
    "                                  n_estimators=no_estimators,algorithm=\"SAMME\")\n",
    "    boosting.fit(x,y)\n",
    "    return boosting\n",
    "\n",
    "def view_model(model):\n",
    "    print(\"\\n Estimator Weights and Error\\n\")\n",
    "    for i,weight in enumerate(model.estimator_weights_):\n",
    "        print(\"estimator %d weight = %0.4f error = %0.4f\"%(i+1,weight,model.estimator_errors_[i]))\n",
    "        \n",
    "    plt.figure(1)\n",
    "    plt.title(\"Model weight vs error\")\n",
    "    plt.xlabel(\"Weight\")\n",
    "    plt.ylabel(\"Error\")\n",
    "    plt.plot(model.estimator_weights_,model.estimator_errors_)\n",
    "    \n",
    "def number_estimators_vs_err_rate(x,y,x_dev,y_dev):\n",
    "    no_estimators = list(range(20,120,10))\n",
    "    misclassy_rate = []\n",
    "    misclassy_rate_dev = []\n",
    "    \n",
    "    for no_estimator in no_estimators:\n",
    "        boosting = build_boosting_model(x,y,no_estimators=no_estimator)\n",
    "        predicted_y = boosting.predict(x)\n",
    "        predicted_y_dev = boosting.predict(x_dev)\n",
    "        misclassy_rate.append(zero_one_loss(y,predicted_y))\n",
    "        misclassy_rate_dev.append(zero_one_loss(y_dev,predicted_y_dev))\n",
    "        \n",
    "    plt.figure(2)\n",
    "    plt.title(\"No estimators vs Mis-classification rate\")\n",
    "    plt.xlabel(\"No of estimators\")\n",
    "    plt.ylabel(\"Mis-classification rate\")\n",
    "    plt.plot(no_estimators,misclassy_rate,label='Train')\n",
    "    plt.plot(no_estimators,misclassy_rate_dev,label='Dev')\n",
    "    plt.show()"
   ]
  },
  {
   "cell_type": "code",
   "execution_count": 7,
   "metadata": {},
   "outputs": [
    {
     "name": "stdout",
     "output_type": "stream",
     "text": [
      "30 3 18 3\n"
     ]
    }
   ],
   "source": [
    "x,y = get_data()\n",
    "# plot_data(x,y)\n",
    "\n",
    "# 将数据集划分为训练集、dev集合测试集\n",
    "x_train,x_test_all,y_train,y_test_all = train_test_split(x,y,test_size=0.3,random_state=9)\n",
    "x_dev,x_test,y_dev,y_test = train_test_split(x_test_all,y_test_all,test_size=.3,random_state=9)"
   ]
  },
  {
   "cell_type": "code",
   "execution_count": 10,
   "metadata": {},
   "outputs": [
    {
     "name": "stdout",
     "output_type": "stream",
     "text": [
      "\n",
      " Single Model Accuracy on training data\n",
      "\n",
      "             precision    recall  f1-score   support\n",
      "\n",
      "          0       1.00      1.00      1.00       181\n",
      "          1       1.00      1.00      1.00       169\n",
      "\n",
      "avg / total       1.00      1.00      1.00       350\n",
      "\n",
      "Fraction of misclassfication = 0.00 %\n"
     ]
    }
   ],
   "source": [
    "# 构建一个单独的模型\n",
    "model = build_single_model(x_train,y_train)\n",
    "predicted_y = model.predict(x_train)\n",
    "print(\"\\n Single Model Accuracy on training data\\n\")\n",
    "print(classification_report(y_train,predicted_y))\n",
    "print(\"Fraction of misclassfication = %0.2f\"%(zero_one_loss(y_train,predicted_y)*100),\"%\")"
   ]
  },
  {
   "cell_type": "code",
   "execution_count": 13,
   "metadata": {
    "scrolled": true
   },
   "outputs": [
    {
     "name": "stdout",
     "output_type": "stream",
     "text": [
      "\n",
      " Boosting Model Accuracy on training data\n",
      "\n",
      "             precision    recall  f1-score   support\n",
      "\n",
      "          0       0.98      0.98      0.98       181\n",
      "          1       0.98      0.98      0.98       169\n",
      "\n",
      "avg / total       0.98      0.98      0.98       350\n",
      "\n",
      "Fraction of misclassfication = 1.71 %\n",
      "\n",
      " Estimator Weights and Error\n",
      "\n",
      "estimator 1 weight = 0.8337 error = 0.3029\n",
      "estimator 2 weight = 0.8921 error = 0.2907\n",
      "estimator 3 weight = 0.6730 error = 0.3378\n",
      "estimator 4 weight = 0.6067 error = 0.3528\n",
      "estimator 5 weight = 0.5746 error = 0.3602\n",
      "estimator 6 weight = 0.5537 error = 0.3650\n",
      "estimator 7 weight = 0.5697 error = 0.3613\n",
      "estimator 8 weight = 0.5538 error = 0.3650\n",
      "estimator 9 weight = 0.5579 error = 0.3640\n",
      "estimator 10 weight = 0.4530 error = 0.3886\n",
      "estimator 11 weight = 0.4530 error = 0.3886\n",
      "estimator 12 weight = 0.3564 error = 0.4118\n",
      "estimator 13 weight = 0.4130 error = 0.3982\n",
      "estimator 14 weight = 0.3679 error = 0.4091\n",
      "estimator 15 weight = 0.3142 error = 0.4221\n",
      "estimator 16 weight = 0.3888 error = 0.4040\n",
      "estimator 17 weight = 0.4902 error = 0.3799\n",
      "estimator 18 weight = 0.2798 error = 0.4305\n",
      "estimator 19 weight = 0.4463 error = 0.3902\n",
      "estimator 20 weight = 0.2645 error = 0.4343\n",
      "estimator 21 weight = 0.4527 error = 0.3887\n",
      "estimator 22 weight = 0.2644 error = 0.4343\n",
      "estimator 23 weight = 0.2680 error = 0.4334\n",
      "estimator 24 weight = 0.4127 error = 0.3983\n",
      "estimator 25 weight = 0.4160 error = 0.3975\n",
      "estimator 26 weight = 0.1925 error = 0.4520\n",
      "estimator 27 weight = 0.2549 error = 0.4366\n",
      "estimator 28 weight = 0.3535 error = 0.4125\n",
      "estimator 29 weight = 0.3993 error = 0.4015\n",
      "estimator 30 weight = 0.1667 error = 0.4584\n",
      "estimator 31 weight = 0.3405 error = 0.4157\n",
      "estimator 32 weight = 0.2500 error = 0.4378\n",
      "estimator 33 weight = 0.2016 error = 0.4498\n",
      "estimator 34 weight = 0.4482 error = 0.3898\n",
      "estimator 35 weight = 0.3946 error = 0.4026\n",
      "estimator 36 weight = 0.3794 error = 0.4063\n",
      "estimator 37 weight = 0.4364 error = 0.3926\n",
      "estimator 38 weight = 0.1858 error = 0.4537\n",
      "estimator 39 weight = 0.3800 error = 0.4061\n",
      "estimator 40 weight = 0.3108 error = 0.4229\n",
      "estimator 41 weight = 0.3481 error = 0.4138\n",
      "estimator 42 weight = 0.3075 error = 0.4237\n",
      "estimator 43 weight = 0.3435 error = 0.4150\n",
      "estimator 44 weight = 0.3566 error = 0.4118\n",
      "estimator 45 weight = 0.1213 error = 0.4697\n",
      "estimator 46 weight = 0.1653 error = 0.4588\n",
      "estimator 47 weight = 0.2624 error = 0.4348\n",
      "estimator 48 weight = 0.2325 error = 0.4421\n",
      "estimator 49 weight = 0.2691 error = 0.4331\n",
      "estimator 50 weight = 0.3209 error = 0.4205\n",
      "estimator 51 weight = 0.3548 error = 0.4122\n",
      "estimator 52 weight = 0.2531 error = 0.4370\n",
      "estimator 53 weight = 0.3604 error = 0.4109\n",
      "estimator 54 weight = 0.3350 error = 0.4170\n",
      "estimator 55 weight = 0.4292 error = 0.3943\n",
      "estimator 56 weight = 0.2991 error = 0.4258\n",
      "estimator 57 weight = 0.3871 error = 0.4044\n",
      "estimator 58 weight = 0.1719 error = 0.4571\n",
      "estimator 59 weight = 0.4415 error = 0.3914\n",
      "estimator 60 weight = 0.3249 error = 0.4195\n",
      "estimator 61 weight = 0.2841 error = 0.4295\n",
      "estimator 62 weight = 0.2413 error = 0.4400\n",
      "estimator 63 weight = 0.2977 error = 0.4261\n",
      "estimator 64 weight = 0.2770 error = 0.4312\n",
      "estimator 65 weight = 0.1203 error = 0.4700\n",
      "estimator 66 weight = 0.1435 error = 0.4642\n",
      "estimator 67 weight = 0.2214 error = 0.4449\n",
      "estimator 68 weight = 0.3220 error = 0.4202\n",
      "estimator 69 weight = 0.1732 error = 0.4568\n",
      "estimator 70 weight = 0.3386 error = 0.4162\n",
      "estimator 71 weight = 0.1331 error = 0.4668\n",
      "estimator 72 weight = 0.2040 error = 0.4492\n",
      "estimator 73 weight = 0.3389 error = 0.4161\n",
      "estimator 74 weight = 0.3039 error = 0.4246\n",
      "estimator 75 weight = 0.3508 error = 0.4132\n",
      "estimator 76 weight = 0.2206 error = 0.4451\n",
      "estimator 77 weight = 0.1977 error = 0.4507\n",
      "estimator 78 weight = 0.2848 error = 0.4293\n",
      "estimator 79 weight = 0.2474 error = 0.4385\n",
      "estimator 80 weight = 0.3511 error = 0.4131\n",
      "estimator 81 weight = 0.3295 error = 0.4184\n",
      "estimator 82 weight = 0.3092 error = 0.4233\n",
      "estimator 83 weight = 0.2855 error = 0.4291\n",
      "estimator 84 weight = 0.3111 error = 0.4229\n",
      "estimator 85 weight = 0.3100 error = 0.4231\n"
     ]
    }
   ],
   "source": [
    "# 构建多个模型\n",
    "boosting = build_boosting_model(x_train,y_train,no_estimators=85)\n",
    "predicted_y = boosting.predict(x_train)\n",
    "print(\"\\n Boosting Model Accuracy on training data\\n\")\n",
    "print(classification_report(y_train,predicted_y))\n",
    "print(\"Fraction of misclassfication = %0.2f\"%(zero_one_loss(y_train,predicted_y)*100),\"%\")\n",
    "\n",
    "view_model(boosting)"
   ]
  },
  {
   "cell_type": "code",
   "execution_count": 18,
   "metadata": {},
   "outputs": [
    {
     "name": "stdout",
     "output_type": "stream",
     "text": [
      "\n",
      " Single Model Accuracy on Dev data\n",
      "\n",
      "             precision    recall  f1-score   support\n",
      "\n",
      "          0       0.62      0.73      0.67        51\n",
      "          1       0.69      0.57      0.63        54\n",
      "\n",
      "avg / total       0.65      0.65      0.65       105\n",
      "\n",
      "Fraction of misclassfication = 35.24 %\n",
      "\n",
      " Boosting Model Accuracy on Dev data\n",
      "\n",
      "             precision    recall  f1-score   support\n",
      "\n",
      "          0       0.77      0.86      0.81        51\n",
      "          1       0.85      0.76      0.80        54\n",
      "\n",
      "avg / total       0.81      0.81      0.81       105\n",
      "\n",
      "Fraction of misclassfication = 19.05 %\n"
     ]
    },
    {
     "data": {
      "image/png": "[encoded data removed]",
      "text/plain": [
       "<matplotlib.figure.Figure at 0x2175a1062e8>"
      ]
     },
     "metadata": {},
     "output_type": "display_data"
    },
    {
     "data": {
      "image/png": "[encoded data removed]",
      "text/plain": [
       "<matplotlib.figure.Figure at 0x2175a168ef0>"
      ]
     },
     "metadata": {},
     "output_type": "display_data"
    }
   ],
   "source": [
    "# 查看dev集上运行的情况\n",
    "predicted_y = model.predict(x_dev)\n",
    "print(\"\\n Single Model Accuracy on Dev data\\n\")\n",
    "print(classification_report(y_dev,predicted_y))\n",
    "print(\"Fraction of misclassfication = %0.2f\"%(zero_one_loss(y_dev,predicted_y)*100),\"%\")\n",
    "\n",
    "predicted_y = boosting.predict(x_dev)\n",
    "print(\"\\n Boosting Model Accuracy on Dev data\\n\")\n",
    "print(classification_report(y_dev,predicted_y))\n",
    "print(\"Fraction of misclassfication = %0.2f\"%(zero_one_loss(y_dev,predicted_y)*100),\"%\")\n",
    "\n",
    "number_estimators_vs_err_rate(x_train,y_train,x_dev,y_dev)"
   ]
  },
  {
   "cell_type": "markdown",
   "metadata": {
    "collapsed": true
   },
   "source": [
    "## 8.4 理解集成——梯度提升"
   ]
  },
  {
   "cell_type": "code",
   "execution_count": null,
   "metadata": {
    "collapsed": true
   },
   "outputs": [],
   "source": []
  }
 ],
 "metadata": {
  "kernelspec": {
   "display_name": "Python 3",
   "language": "python",
   "name": "python3"
  },
  "language_info": {
   "codemirror_mode": {
    "name": "ipython",
    "version": 3
   },
   "file_extension": ".py",
   "mimetype": "text/x-python",
   "name": "python",
   "nbconvert_exporter": "python",
   "pygments_lexer": "ipython3",
   "version": "3.6.1"
  }
 },
 "nbformat": 4,
 "nbformat_minor": 2
}
