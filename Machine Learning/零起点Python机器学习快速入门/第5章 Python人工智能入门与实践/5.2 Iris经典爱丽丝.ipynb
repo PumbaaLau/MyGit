{
 "cells": [
  {
   "cell_type": "markdown",
   "metadata": {},
   "source": [
    "# 5.2 Iris经典爱丽丝"
   ]
  },
  {
   "cell_type": "markdown",
   "metadata": {},
   "source": [
    "## 案例5-1 Iris爱丽丝"
   ]
  },
  {
   "cell_type": "code",
   "execution_count": 2,
   "metadata": {
    "collapsed": true
   },
   "outputs": [],
   "source": [
    "import numpy as np\n",
    "import pandas as pd"
   ]
  },
  {
   "cell_type": "code",
   "execution_count": 3,
   "metadata": {},
   "outputs": [
    {
     "name": "stdout",
     "output_type": "stream",
     "text": [
      "\n",
      "#1 df\n",
      "      x1   x2   x3   x4      xname\n",
      "145  6.7  3.0  5.2  2.3  virginica\n",
      "146  6.3  2.5  5.0  1.9  virginica\n",
      "147  6.5  3.0  5.2  2.0  virginica\n",
      "148  6.2  3.4  5.4  2.3  virginica\n",
      "149  5.9  3.0  5.1  1.8  virginica\n",
      "               x1          x2          x3          x4\n",
      "count  150.000000  150.000000  150.000000  150.000000\n",
      "mean     5.843333    3.054000    3.758667    1.198667\n",
      "std      0.828066    0.433594    1.764420    0.763161\n",
      "min      4.300000    2.000000    1.000000    0.100000\n",
      "25%      5.100000    2.800000    1.600000    0.300000\n",
      "50%      5.800000    3.000000    4.350000    1.300000\n",
      "75%      6.400000    3.300000    5.100000    1.800000\n",
      "max      7.900000    4.400000    6.900000    2.500000\n"
     ]
    }
   ],
   "source": [
    "#1\n",
    "fss = './Data/iris.csv'\n",
    "df = pd.read_csv(fss, index_col=False)\n",
    "print('\\n#1 df')\n",
    "print(df.tail())\n",
    "print(df.describe())"
   ]
  },
  {
   "cell_type": "code",
   "execution_count": 4,
   "metadata": {},
   "outputs": [
    {
     "name": "stdout",
     "output_type": "stream",
     "text": [
      "\n",
      "#2 xname\n",
      "versicolor    50\n",
      "setosa        50\n",
      "virginica     50\n",
      "Name: xname, dtype: int64\n"
     ]
    }
   ],
   "source": [
    "#2\n",
    "d10 = df['xname'].value_counts()\n",
    "print('\\n#2 xname')\n",
    "print(d10)"
   ]
  },
  {
   "cell_type": "code",
   "execution_count": 5,
   "metadata": {},
   "outputs": [
    {
     "data": {
      "text/html": [
       "<div>\n",
       "<style>\n",
       "    .dataframe thead tr:only-child th {\n",
       "        text-align: right;\n",
       "    }\n",
       "\n",
       "    .dataframe thead th {\n",
       "        text-align: left;\n",
       "    }\n",
       "\n",
       "    .dataframe tbody tr th {\n",
       "        vertical-align: top;\n",
       "    }\n",
       "</style>\n",
       "<table border=\"1\" class=\"dataframe\">\n",
       "  <thead>\n",
       "    <tr style=\"text-align: right;\">\n",
       "      <th></th>\n",
       "      <th>x1</th>\n",
       "      <th>x2</th>\n",
       "      <th>x3</th>\n",
       "      <th>x4</th>\n",
       "    </tr>\n",
       "  </thead>\n",
       "  <tbody>\n",
       "    <tr>\n",
       "      <th>count</th>\n",
       "      <td>150.000000</td>\n",
       "      <td>150.000000</td>\n",
       "      <td>150.000000</td>\n",
       "      <td>150.000000</td>\n",
       "    </tr>\n",
       "    <tr>\n",
       "      <th>mean</th>\n",
       "      <td>5.843333</td>\n",
       "      <td>3.054000</td>\n",
       "      <td>3.758667</td>\n",
       "      <td>1.198667</td>\n",
       "    </tr>\n",
       "    <tr>\n",
       "      <th>std</th>\n",
       "      <td>0.828066</td>\n",
       "      <td>0.433594</td>\n",
       "      <td>1.764420</td>\n",
       "      <td>0.763161</td>\n",
       "    </tr>\n",
       "    <tr>\n",
       "      <th>min</th>\n",
       "      <td>4.300000</td>\n",
       "      <td>2.000000</td>\n",
       "      <td>1.000000</td>\n",
       "      <td>0.100000</td>\n",
       "    </tr>\n",
       "    <tr>\n",
       "      <th>25%</th>\n",
       "      <td>5.100000</td>\n",
       "      <td>2.800000</td>\n",
       "      <td>1.600000</td>\n",
       "      <td>0.300000</td>\n",
       "    </tr>\n",
       "    <tr>\n",
       "      <th>50%</th>\n",
       "      <td>5.800000</td>\n",
       "      <td>3.000000</td>\n",
       "      <td>4.350000</td>\n",
       "      <td>1.300000</td>\n",
       "    </tr>\n",
       "    <tr>\n",
       "      <th>75%</th>\n",
       "      <td>6.400000</td>\n",
       "      <td>3.300000</td>\n",
       "      <td>5.100000</td>\n",
       "      <td>1.800000</td>\n",
       "    </tr>\n",
       "    <tr>\n",
       "      <th>max</th>\n",
       "      <td>7.900000</td>\n",
       "      <td>4.400000</td>\n",
       "      <td>6.900000</td>\n",
       "      <td>2.500000</td>\n",
       "    </tr>\n",
       "  </tbody>\n",
       "</table>\n",
       "</div>"
      ],
      "text/plain": [
       "               x1          x2          x3          x4\n",
       "count  150.000000  150.000000  150.000000  150.000000\n",
       "mean     5.843333    3.054000    3.758667    1.198667\n",
       "std      0.828066    0.433594    1.764420    0.763161\n",
       "min      4.300000    2.000000    1.000000    0.100000\n",
       "25%      5.100000    2.800000    1.600000    0.300000\n",
       "50%      5.800000    3.000000    4.350000    1.300000\n",
       "75%      6.400000    3.300000    5.100000    1.800000\n",
       "max      7.900000    4.400000    6.900000    2.500000"
      ]
     },
     "execution_count": 5,
     "metadata": {},
     "output_type": "execute_result"
    }
   ],
   "source": [
    "df.describe()"
   ]
  },
  {
   "cell_type": "markdown",
   "metadata": {},
   "source": [
    "## 案例5-2：爱丽丝进化与文本矢量化"
   ]
  },
  {
   "cell_type": "code",
   "execution_count": 6,
   "metadata": {
    "collapsed": true
   },
   "outputs": [],
   "source": [
    "#1\n",
    "fss = './Data/iris.csv'\n",
    "df = pd.read_csv(fss, index_col=False)"
   ]
  },
  {
   "cell_type": "code",
   "execution_count": 7,
   "metadata": {
    "collapsed": true
   },
   "outputs": [],
   "source": [
    "#2\n",
    "df.loc[df['xname']=='virginica', 'xid'] = 1\n",
    "df.loc[df['xname']=='setosa', 'xid'] = 2\n",
    "df.loc[df['xname']=='versicolor', 'xid'] = 3\n",
    "df['xid']=df['xid'].astype(int)\n",
    "df.to_csv('./Data/iris2.csv',index=False)"
   ]
  },
  {
   "cell_type": "code",
   "execution_count": 9,
   "metadata": {},
   "outputs": [
    {
     "name": "stdout",
     "output_type": "stream",
     "text": [
      "\n",
      "#3df\n",
      "      x1   x2   x3   x4      xname  xid\n",
      "145  6.7  3.0  5.2  2.3  virginica    1\n",
      "146  6.3  2.5  5.0  1.9  virginica    1\n",
      "147  6.5  3.0  5.2  2.0  virginica    1\n",
      "148  6.2  3.4  5.4  2.3  virginica    1\n",
      "149  5.9  3.0  5.1  1.8  virginica    1\n",
      "               x1          x2          x3          x4         xid\n",
      "count  150.000000  150.000000  150.000000  150.000000  150.000000\n",
      "mean     5.843333    3.054000    3.758667    1.198667    2.000000\n",
      "std      0.828066    0.433594    1.764420    0.763161    0.819232\n",
      "min      4.300000    2.000000    1.000000    0.100000    1.000000\n",
      "25%      5.100000    2.800000    1.600000    0.300000    1.000000\n",
      "50%      5.800000    3.000000    4.350000    1.300000    2.000000\n",
      "75%      6.400000    3.300000    5.100000    1.800000    3.000000\n",
      "max      7.900000    4.400000    6.900000    2.500000    3.000000\n"
     ]
    }
   ],
   "source": [
    "#3\n",
    "print('\\n#3df')       \n",
    "print(df.tail())\n",
    "print(df.describe())"
   ]
  },
  {
   "cell_type": "code",
   "execution_count": 10,
   "metadata": {},
   "outputs": [
    {
     "name": "stdout",
     "output_type": "stream",
     "text": [
      "\n",
      "4#xname\n",
      "versicolor    50\n",
      "setosa        50\n",
      "virginica     50\n",
      "Name: xname, dtype: int64\n"
     ]
    }
   ],
   "source": [
    "#4\n",
    "d10=df['xname'].value_counts()\n",
    "print('\\n4#xname')       \n",
    "print(d10)"
   ]
  },
  {
   "cell_type": "code",
   "execution_count": 11,
   "metadata": {},
   "outputs": [
    {
     "name": "stdout",
     "output_type": "stream",
     "text": [
      "\n",
      "5#xid\n",
      "3    50\n",
      "2    50\n",
      "1    50\n",
      "Name: xid, dtype: int64\n"
     ]
    }
   ],
   "source": [
    "#5\n",
    "d10=df['xid'].value_counts()\n",
    "print('\\n5#xid')       \n",
    "print(d10) "
   ]
  },
  {
   "cell_type": "markdown",
   "metadata": {},
   "source": [
    "## 案例5-3：Iris爱丽丝分解"
   ]
  },
  {
   "cell_type": "code",
   "execution_count": 12,
   "metadata": {
    "collapsed": true
   },
   "outputs": [],
   "source": [
    "#1\n",
    "fss = './Data/iris2.csv'\n",
    "df = pd.read_csv(fss, index_col=False)"
   ]
  },
  {
   "cell_type": "code",
   "execution_count": 13,
   "metadata": {},
   "outputs": [
    {
     "name": "stdout",
     "output_type": "stream",
     "text": [
      "\n",
      "2#df\n",
      "      x1   x2   x3   x4      xname  xid\n",
      "145  6.7  3.0  5.2  2.3  virginica    1\n",
      "146  6.3  2.5  5.0  1.9  virginica    1\n",
      "147  6.5  3.0  5.2  2.0  virginica    1\n",
      "148  6.2  3.4  5.4  2.3  virginica    1\n",
      "149  5.9  3.0  5.1  1.8  virginica    1\n"
     ]
    }
   ],
   "source": [
    "#2\n",
    "print('\\n2#df')\n",
    "print(df.tail())"
   ]
  },
  {
   "cell_type": "code",
   "execution_count": 14,
   "metadata": {},
   "outputs": [
    {
     "name": "stdout",
     "output_type": "stream",
     "text": [
      "\n",
      "3# xlst, ['x1', 'x2', 'x3', 'x4']\n",
      "ysgn, xid\n",
      "x\n",
      "      x1   x2   x3   x4\n",
      "145  6.7  3.0  5.2  2.3\n",
      "146  6.3  2.5  5.0  1.9\n",
      "147  6.5  3.0  5.2  2.0\n",
      "148  6.2  3.4  5.4  2.3\n",
      "149  5.9  3.0  5.1  1.8\n",
      "y\n",
      "145    1\n",
      "146    1\n",
      "147    1\n",
      "148    1\n",
      "149    1\n",
      "Name: xid, dtype: int64\n"
     ]
    }
   ],
   "source": [
    "#3\n",
    "xlst, ysgn = ['x1', 'x2', 'x3', 'x4'], 'xid'\n",
    "x, y = df[xlst], df[ysgn]\n",
    "\n",
    "print('\\n3# xlst,',xlst)\n",
    "print('ysgn,',ysgn)\n",
    "print('x')\n",
    "print(x.tail())\n",
    "print('y')\n",
    "print(y.tail())"
   ]
  },
  {
   "cell_type": "code",
   "execution_count": 15,
   "metadata": {},
   "outputs": [
    {
     "name": "stdout",
     "output_type": "stream",
     "text": [
      "\n",
      "4# type\n",
      "type(x_train), <class 'pandas.core.frame.DataFrame'>\n",
      "type(x_test), <class 'pandas.core.frame.DataFrame'>\n",
      "type(y_train), <class 'pandas.core.series.Series'>\n",
      "type(y_test), <class 'pandas.core.series.Series'>\n"
     ]
    }
   ],
   "source": [
    "#4\n",
    "from sklearn.model_selection import train_test_split\n",
    "\n",
    "x_train, x_test, y_train, y_test = train_test_split(x, y, random_state=1)\n",
    "x_test.index.name,y_test.index.name='xid','xid'\n",
    "print('\\n4# type')\n",
    "print('type(x_train),',type(x_train))\n",
    "print('type(x_test),',type(x_test))\n",
    "print('type(y_train),',type(y_train))\n",
    "print('type(y_test),',type(y_test))"
   ]
  },
  {
   "cell_type": "code",
   "execution_count": 16,
   "metadata": {},
   "outputs": [
    {
     "name": "stdout",
     "output_type": "stream",
     "text": [
      "\n",
      "5# fs0, ./Data/iris_\n"
     ]
    }
   ],
   "source": [
    "#5\n",
    "fs0='./Data/iris_'\n",
    "print('\\n5# fs0,',fs0)\n",
    "x_train.to_csv(fs0+'xtrain.csv',index=False);\n",
    "x_test.to_csv(fs0+'xtest.csv',index=False)\n",
    "y_train.to_csv(fs0+'ytrain.csv',index=False,header=True)\n",
    "y_test.to_csv(fs0+'ytest.csv',index=False,header=True)"
   ]
  },
  {
   "cell_type": "code",
   "execution_count": null,
   "metadata": {
    "collapsed": true
   },
   "outputs": [],
   "source": []
  }
 ],
 "metadata": {
  "kernelspec": {
   "display_name": "Python 3",
   "language": "python",
   "name": "python3"
  },
  "language_info": {
   "codemirror_mode": {
    "name": "ipython",
    "version": 3
   },
   "file_extension": ".py",
   "mimetype": "text/x-python",
   "name": "python",
   "nbconvert_exporter": "python",
   "pygments_lexer": "ipython3",
   "version": "3.6.1"
  }
 },
 "nbformat": 4,
 "nbformat_minor": 2
}
