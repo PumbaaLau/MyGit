{
 "cells": [
  {
   "cell_type": "markdown",
   "metadata": {},
   "source": [
    "# 3.1 采样"
   ]
  },
  {
   "cell_type": "markdown",
   "metadata": {},
   "source": [
    "## 3.1.1 随机采样"
   ]
  },
  {
   "cell_type": "code",
   "execution_count": 1,
   "metadata": {
    "collapsed": true
   },
   "outputs": [],
   "source": [
    "import random"
   ]
  },
  {
   "cell_type": "code",
   "execution_count": 2,
   "metadata": {
    "collapsed": true
   },
   "outputs": [],
   "source": [
    "def RandomSampling(dataMat, number):\n",
    "    try:\n",
    "        slice = random.sample(dataMat, number)\n",
    "        return slice\n",
    "    except:\n",
    "        print(\"sample larger than population\")"
   ]
  },
  {
   "cell_type": "code",
   "execution_count": 3,
   "metadata": {
    "collapsed": true
   },
   "outputs": [],
   "source": [
    "def RepetitionRandomSampling(dataMat, number):\n",
    "    sample = []\n",
    "    for i in range(number):\n",
    "        sample.append(dataMat[random.randint(0, len(dataMat) - 1)])\n",
    "    return sample"
   ]
  },
  {
   "cell_type": "code",
   "execution_count": 4,
   "metadata": {
    "collapsed": true
   },
   "outputs": [],
   "source": [
    "with open('./Data/data.txt') as file:\n",
    "    lines = file.readlines()"
   ]
  },
  {
   "cell_type": "code",
   "execution_count": 5,
   "metadata": {},
   "outputs": [
    {
     "data": {
      "text/plain": [
       "['0,0\\n',\n",
       " '1,1\\n',\n",
       " '2,2\\n',\n",
       " '3,3\\n',\n",
       " '4,4\\n',\n",
       " '5,5\\n',\n",
       " '6,6\\n',\n",
       " '7,7\\n',\n",
       " '8,8\\n',\n",
       " '9,9\\n',\n",
       " '10,10\\n',\n",
       " '11,11\\n',\n",
       " '12,12\\n',\n",
       " '13,13\\n',\n",
       " '14,14\\n',\n",
       " '15,15\\n',\n",
       " '16,16\\n',\n",
       " '17,17\\n',\n",
       " '18,18\\n',\n",
       " '19,19']"
      ]
     },
     "execution_count": 5,
     "metadata": {},
     "output_type": "execute_result"
    }
   ],
   "source": [
    "lines"
   ]
  },
  {
   "cell_type": "code",
   "execution_count": 6,
   "metadata": {
    "collapsed": true
   },
   "outputs": [],
   "source": [
    "dataMat = []\n",
    "\n",
    "for line in lines:\n",
    "    dataMat.append(line.strip().split(','))"
   ]
  },
  {
   "cell_type": "code",
   "execution_count": 7,
   "metadata": {},
   "outputs": [
    {
     "data": {
      "text/plain": [
       "[['0', '0'],\n",
       " ['1', '1'],\n",
       " ['2', '2'],\n",
       " ['3', '3'],\n",
       " ['4', '4'],\n",
       " ['5', '5'],\n",
       " ['6', '6'],\n",
       " ['7', '7'],\n",
       " ['8', '8'],\n",
       " ['9', '9'],\n",
       " ['10', '10'],\n",
       " ['11', '11'],\n",
       " ['12', '12'],\n",
       " ['13', '13'],\n",
       " ['14', '14'],\n",
       " ['15', '15'],\n",
       " ['16', '16'],\n",
       " ['17', '17'],\n",
       " ['18', '18'],\n",
       " ['19', '19']]"
      ]
     },
     "execution_count": 7,
     "metadata": {},
     "output_type": "execute_result"
    }
   ],
   "source": [
    "dataMat"
   ]
  },
  {
   "cell_type": "code",
   "execution_count": 41,
   "metadata": {},
   "outputs": [
    {
     "data": {
      "text/plain": [
       "[['3', '3'],\n",
       " ['18', '18'],\n",
       " ['5', '5'],\n",
       " ['19', '19'],\n",
       " ['6', '6'],\n",
       " ['13', '13'],\n",
       " ['4', '4']]"
      ]
     },
     "execution_count": 41,
     "metadata": {},
     "output_type": "execute_result"
    }
   ],
   "source": [
    "RandomSampling(dataMat, 7)"
   ]
  },
  {
   "cell_type": "code",
   "execution_count": 42,
   "metadata": {},
   "outputs": [
    {
     "data": {
      "text/plain": [
       "[['15', '15'],\n",
       " ['10', '10'],\n",
       " ['9', '9'],\n",
       " ['16', '16'],\n",
       " ['3', '3'],\n",
       " ['15', '15'],\n",
       " ['6', '6'],\n",
       " ['9', '9'],\n",
       " ['19', '19'],\n",
       " ['1', '1']]"
      ]
     },
     "execution_count": 42,
     "metadata": {},
     "output_type": "execute_result"
    }
   ],
   "source": [
    "RepetitionRandomSampling(dataMat, 10)"
   ]
  },
  {
   "cell_type": "markdown",
   "metadata": {},
   "source": [
    "## 3.1.2 系统采样"
   ]
  },
  {
   "cell_type": "code",
   "execution_count": null,
   "metadata": {
    "collapsed": true
   },
   "outputs": [],
   "source": []
  }
 ],
 "metadata": {
  "kernelspec": {
   "display_name": "Python 3",
   "language": "python",
   "name": "python3"
  },
  "language_info": {
   "codemirror_mode": {
    "name": "ipython",
    "version": 3
   },
   "file_extension": ".py",
   "mimetype": "text/x-python",
   "name": "python",
   "nbconvert_exporter": "python",
   "pygments_lexer": "ipython3",
   "version": "3.6.1"
  }
 },
 "nbformat": 4,
 "nbformat_minor": 2
}
