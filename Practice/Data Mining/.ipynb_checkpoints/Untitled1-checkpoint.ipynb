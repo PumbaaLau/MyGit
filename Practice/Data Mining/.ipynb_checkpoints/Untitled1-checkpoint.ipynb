{
 "cells": [
  {
   "cell_type": "code",
   "execution_count": 1,
   "metadata": {
    "collapsed": true
   },
   "outputs": [],
   "source": [
    "from sklearn.cluster import Birch\n",
    "from sklearn.cluster import KMeans"
   ]
  },
  {
   "cell_type": "code",
   "execution_count": 3,
   "metadata": {},
   "outputs": [
    {
     "data": {
      "text/plain": [
       "[[0.0888, 0.5885],\n",
       " [0.1399, 0.8291],\n",
       " [0.0747, 0.4974],\n",
       " [0.0983, 0.5772],\n",
       " [0.1276, 0.5703],\n",
       " [0.1671, 0.5835],\n",
       " [0.1906, 0.5276],\n",
       " [0.1061, 0.5523],\n",
       " [0.2446, 0.4007],\n",
       " [0.167, 0.477],\n",
       " [0.2485, 0.4313],\n",
       " [0.1227, 0.4909],\n",
       " [0.124, 0.5668],\n",
       " [0.1461, 0.5113],\n",
       " [0.2315, 0.3788],\n",
       " [0.0494, 0.559],\n",
       " [0.1107, 0.4799],\n",
       " [0.2521, 0.5735],\n",
       " [0.1007, 0.6318],\n",
       " [0.1067, 0.4326],\n",
       " [0.1956, 0.428]]"
      ]
     },
     "execution_count": 3,
     "metadata": {},
     "output_type": "execute_result"
    }
   ],
   "source": [
    "X = [[0.0888, 0.5885],  \n",
    "     [0.1399, 0.8291],  \n",
    "     [0.0747, 0.4974],  \n",
    "     [0.0983, 0.5772],  \n",
    "     [0.1276, 0.5703],  \n",
    "     [0.1671, 0.5835],  \n",
    "     [0.1906, 0.5276],  \n",
    "     [0.1061, 0.5523],  \n",
    "     [0.2446, 0.4007],  \n",
    "     [0.1670, 0.4770],  \n",
    "     [0.2485, 0.4313],  \n",
    "     [0.1227, 0.4909],  \n",
    "     [0.1240, 0.5668],  \n",
    "     [0.1461, 0.5113],  \n",
    "     [0.2315, 0.3788],  \n",
    "     [0.0494, 0.5590],  \n",
    "     [0.1107, 0.4799],  \n",
    "     [0.2521, 0.5735],  \n",
    "     [0.1007, 0.6318],  \n",
    "     [0.1067, 0.4326],  \n",
    "     [0.1956, 0.4280]     \n",
    "    ]  \n",
    "\n",
    "X"
   ]
  },
  {
   "cell_type": "code",
   "execution_count": 4,
   "metadata": {
    "collapsed": true
   },
   "outputs": [],
   "source": [
    "clf = KMeans(n_clusters=3)\n",
    "y_pred = clf.fit_predict(X)"
   ]
  },
  {
   "cell_type": "code",
   "execution_count": 6,
   "metadata": {},
   "outputs": [
    {
     "name": "stdout",
     "output_type": "stream",
     "text": [
      "KMeans(algorithm='auto', copy_x=True, init='k-means++', max_iter=300,\n",
      "    n_clusters=3, n_init=10, n_jobs=1, precompute_distances='auto',\n",
      "    random_state=None, tol=0.0001, verbose=0)\n"
     ]
    }
   ],
   "source": [
    "print(clf)"
   ]
  },
  {
   "cell_type": "code",
   "execution_count": null,
   "metadata": {
    "collapsed": true
   },
   "outputs": [],
   "source": []
  }
 ],
 "metadata": {
  "kernelspec": {
   "display_name": "Python 3",
   "language": "python",
   "name": "python3"
  },
  "language_info": {
   "codemirror_mode": {
    "name": "ipython",
    "version": 3
   },
   "file_extension": ".py",
   "mimetype": "text/x-python",
   "name": "python",
   "nbconvert_exporter": "python",
   "pygments_lexer": "ipython3",
   "version": "3.6.1"
  }
 },
 "nbformat": 4,
 "nbformat_minor": 2
}
