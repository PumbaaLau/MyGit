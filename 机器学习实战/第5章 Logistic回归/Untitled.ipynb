{
 "cells": [
  {
   "cell_type": "code",
   "execution_count": 1,
   "metadata": {
    "collapsed": true
   },
   "outputs": [],
   "source": [
    "%matplotlib inline\n",
    "import matplotlib.pyplot as plt"
   ]
  },
  {
   "cell_type": "code",
   "execution_count": 2,
   "metadata": {
    "collapsed": true
   },
   "outputs": [],
   "source": [
    "import numpy as np"
   ]
  },
  {
   "cell_type": "code",
   "execution_count": 15,
   "metadata": {},
   "outputs": [
    {
     "data": {
      "text/plain": [
       "[<matplotlib.lines.Line2D at 0x8477630>]"
      ]
     },
     "execution_count": 15,
     "metadata": {},
     "output_type": "execute_result"
    },
    {
     "data": {
      "image/png": "[encoded data removed]",
      "text/plain": [
       "<matplotlib.figure.Figure at 0x84a2be0>"
      ]
     },
     "metadata": {},
     "output_type": "display_data"
    }
   ],
   "source": [
    "plt.figure()\n",
    "plt.axis([-6,6,0,1])\n",
    "plt.grid(True)\n",
    "X = np.arange(-6,6,0.1)\n",
    "y = 1.0/(1 + np.exp(-X))\n",
    "plt.plot(X,y,'b-')"
   ]
  },
  {
   "cell_type": "code",
   "execution_count": 26,
   "metadata": {
    "collapsed": true
   },
   "outputs": [],
   "source": [
    "dataMat = []\n",
    "labelMat = []\n",
    "fr = open('testSet.txt')\n",
    "for line in fr.readlines():\n",
    "    lineArr = line.strip().split()\n",
    "    dataMat.append([float(lineArr[0]), float(lineArr[1])])\n",
    "    labelMat.append(int(lineArr[2]))"
   ]
  },
  {
   "cell_type": "code",
   "execution_count": 27,
   "metadata": {
    "collapsed": true
   },
   "outputs": [],
   "source": [
    "dataMat = np.array(dataMat)"
   ]
  },
  {
   "cell_type": "code",
   "execution_count": 28,
   "metadata": {},
   "outputs": [
    {
     "data": {
      "text/plain": [
       "array([[ -1.76120000e-02,   1.40530640e+01],\n",
       "       [ -1.39563400e+00,   4.66254100e+00],\n",
       "       [ -7.52157000e-01,   6.53862000e+00],\n",
       "       [ -1.32237100e+00,   7.15285300e+00],\n",
       "       [  4.23363000e-01,   1.10546770e+01],\n",
       "       [  4.06704000e-01,   7.06733500e+00],\n",
       "       [  6.67394000e-01,   1.27414520e+01],\n",
       "       [ -2.46015000e+00,   6.86680500e+00],\n",
       "       [  5.69411000e-01,   9.54875500e+00],\n",
       "       [ -2.66320000e-02,   1.04277430e+01],\n",
       "       [  8.50433000e-01,   6.92033400e+00],\n",
       "       [  1.34718300e+00,   1.31755000e+01],\n",
       "       [  1.17681300e+00,   3.16702000e+00],\n",
       "       [ -1.78187100e+00,   9.09795300e+00],\n",
       "       [ -5.66606000e-01,   5.74900300e+00],\n",
       "       [  9.31635000e-01,   1.58950500e+00],\n",
       "       [ -2.42050000e-02,   6.15182300e+00],\n",
       "       [ -3.64530000e-02,   2.69098800e+00],\n",
       "       [ -1.96949000e-01,   4.44165000e-01],\n",
       "       [  1.01445900e+00,   5.75439900e+00],\n",
       "       [  1.98529800e+00,   3.23061900e+00],\n",
       "       [ -1.69345300e+00,  -5.57540000e-01],\n",
       "       [ -5.76525000e-01,   1.17789220e+01],\n",
       "       [ -3.46811000e-01,  -1.67873000e+00],\n",
       "       [ -2.12448400e+00,   2.67247100e+00],\n",
       "       [  1.21791600e+00,   9.59701500e+00],\n",
       "       [ -7.33928000e-01,   9.09868700e+00],\n",
       "       [ -3.64200100e+00,  -1.61808700e+00],\n",
       "       [  3.15985000e-01,   3.52395300e+00],\n",
       "       [  1.41661400e+00,   9.61923200e+00],\n",
       "       [ -3.86323000e-01,   3.98928600e+00],\n",
       "       [  5.56921000e-01,   8.29498400e+00],\n",
       "       [  1.22486300e+00,   1.15873600e+01],\n",
       "       [ -1.34780300e+00,  -2.40605100e+00],\n",
       "       [  1.19660400e+00,   4.95185100e+00],\n",
       "       [  2.75221000e-01,   9.54364700e+00],\n",
       "       [  4.70575000e-01,   9.33248800e+00],\n",
       "       [ -1.88956700e+00,   9.54266200e+00],\n",
       "       [ -1.52789300e+00,   1.21505790e+01],\n",
       "       [ -1.18524700e+00,   1.13093180e+01],\n",
       "       [ -4.45678000e-01,   3.29730300e+00],\n",
       "       [  1.04222200e+00,   6.10515500e+00],\n",
       "       [ -6.18787000e-01,   1.03209860e+01],\n",
       "       [  1.15208300e+00,   5.48467000e-01],\n",
       "       [  8.28534000e-01,   2.67604500e+00],\n",
       "       [ -1.23772800e+00,   1.05490330e+01],\n",
       "       [ -6.83565000e-01,  -2.16612500e+00],\n",
       "       [  2.29456000e-01,   5.92193800e+00],\n",
       "       [ -9.59885000e-01,   1.15553360e+01],\n",
       "       [  4.92911000e-01,   1.09933240e+01],\n",
       "       [  1.84992000e-01,   8.72148800e+00],\n",
       "       [ -3.55715000e-01,   1.03259760e+01],\n",
       "       [ -3.97822000e-01,   8.05839700e+00],\n",
       "       [  8.24839000e-01,   1.37303430e+01],\n",
       "       [  1.50727800e+00,   5.02786600e+00],\n",
       "       [  9.96710000e-02,   6.83583900e+00],\n",
       "       [ -3.44008000e-01,   1.07174850e+01],\n",
       "       [  1.78592800e+00,   7.71864500e+00],\n",
       "       [ -9.18801000e-01,   1.15602170e+01],\n",
       "       [ -3.64009000e-01,   4.74730000e+00],\n",
       "       [ -8.41722000e-01,   4.11908300e+00],\n",
       "       [  4.90426000e-01,   1.96053900e+00],\n",
       "       [ -7.19400000e-03,   9.07579200e+00],\n",
       "       [  3.56107000e-01,   1.24478630e+01],\n",
       "       [  3.42578000e-01,   1.22811620e+01],\n",
       "       [ -8.10823000e-01,  -1.46601800e+00],\n",
       "       [  2.53077700e+00,   6.47680100e+00],\n",
       "       [  1.29668300e+00,   1.16075590e+01],\n",
       "       [  4.75487000e-01,   1.20400350e+01],\n",
       "       [ -7.83277000e-01,   1.10097250e+01],\n",
       "       [  7.47980000e-02,   1.10236500e+01],\n",
       "       [ -1.33747200e+00,   4.68339000e-01],\n",
       "       [ -1.02781000e-01,   1.37636510e+01],\n",
       "       [ -1.47324000e-01,   2.87484600e+00],\n",
       "       [  5.18389000e-01,   9.88703500e+00],\n",
       "       [  1.01539900e+00,   7.57188200e+00],\n",
       "       [ -1.65808600e+00,  -2.72550000e-02],\n",
       "       [  1.31994400e+00,   2.17122800e+00],\n",
       "       [  2.05621600e+00,   5.01998100e+00],\n",
       "       [ -8.51633000e-01,   4.37569100e+00],\n",
       "       [ -1.51004700e+00,   6.06199200e+00],\n",
       "       [ -1.07663700e+00,  -3.18188800e+00],\n",
       "       [  1.82109600e+00,   1.02839900e+01],\n",
       "       [  3.01015000e+00,   8.40176600e+00],\n",
       "       [ -1.09945800e+00,   1.68827400e+00],\n",
       "       [ -8.34872000e-01,  -1.73386900e+00],\n",
       "       [ -8.46637000e-01,   3.84907500e+00],\n",
       "       [  1.40010200e+00,   1.26287810e+01],\n",
       "       [  1.75284200e+00,   5.46816600e+00],\n",
       "       [  7.85570000e-02,   5.97360000e-02],\n",
       "       [  8.93920000e-02,  -7.15300000e-01],\n",
       "       [  1.82566200e+00,   1.26938080e+01],\n",
       "       [  1.97445000e-01,   9.74463800e+00],\n",
       "       [  1.26117000e-01,   9.22311000e-01],\n",
       "       [ -6.79797000e-01,   1.22053000e+00],\n",
       "       [  6.77983000e-01,   2.55666600e+00],\n",
       "       [  7.61349000e-01,   1.06938620e+01],\n",
       "       [ -2.16879100e+00,   1.43632000e-01],\n",
       "       [  1.38861000e+00,   9.34199700e+00],\n",
       "       [  3.17029000e-01,   1.47390250e+01]])"
      ]
     },
     "execution_count": 28,
     "metadata": {},
     "output_type": "execute_result"
    }
   ],
   "source": [
    "dataMat"
   ]
  },
  {
   "cell_type": "code",
   "execution_count": 29,
   "metadata": {
    "collapsed": true
   },
   "outputs": [],
   "source": [
    "labelMat = np.array(labelMat)"
   ]
  },
  {
   "cell_type": "code",
   "execution_count": 30,
   "metadata": {},
   "outputs": [
    {
     "data": {
      "text/plain": [
       "array([0, 1, 0, 0, 0, 1, 0, 1, 0, 0, 1, 0, 1, 0, 1, 1, 1, 1, 1, 1, 1, 1, 0,\n",
       "       1, 1, 0, 0, 1, 1, 0, 1, 1, 0, 1, 1, 0, 0, 0, 0, 0, 1, 1, 0, 1, 1, 0,\n",
       "       1, 1, 0, 0, 0, 0, 0, 0, 1, 1, 0, 1, 0, 1, 1, 1, 0, 0, 0, 1, 1, 0, 0,\n",
       "       0, 0, 1, 0, 1, 0, 0, 1, 1, 1, 1, 0, 1, 0, 1, 1, 1, 1, 0, 1, 1, 1, 0,\n",
       "       0, 1, 1, 1, 0, 1, 0, 0])"
      ]
     },
     "execution_count": 30,
     "metadata": {},
     "output_type": "execute_result"
    }
   ],
   "source": [
    "labelMat"
   ]
  },
  {
   "cell_type": "code",
   "execution_count": 32,
   "metadata": {},
   "outputs": [
    {
     "name": "stderr",
     "output_type": "stream",
     "text": [
      "H:\\Anaconda3\\lib\\site-packages\\sklearn\\cross_validation.py:44: DeprecationWarning: This module was deprecated in version 0.18 in favor of the model_selection module into which all the refactored classes and functions are moved. Also note that the interface of the new CV iterators are different from that of this module. This module will be removed in 0.20.\n",
      "  \"This module will be removed in 0.20.\", DeprecationWarning)\n"
     ]
    }
   ],
   "source": [
    "from sklearn.cross_validation import train_test_split"
   ]
  },
  {
   "cell_type": "code",
   "execution_count": 33,
   "metadata": {
    "collapsed": true
   },
   "outputs": [],
   "source": [
    "X_train, X_test, y_train, y_test = train_test_split(dataMat, labelMat, random_state=14)"
   ]
  },
  {
   "cell_type": "code",
   "execution_count": 34,
   "metadata": {},
   "outputs": [
    {
     "data": {
      "text/plain": [
       "array([[  3.17029000e-01,   1.47390250e+01],\n",
       "       [ -2.46015000e+00,   6.86680500e+00],\n",
       "       [  5.18389000e-01,   9.88703500e+00],\n",
       "       [  1.50727800e+00,   5.02786600e+00],\n",
       "       [ -6.18787000e-01,   1.03209860e+01],\n",
       "       [ -3.46811000e-01,  -1.67873000e+00],\n",
       "       [ -8.51633000e-01,   4.37569100e+00],\n",
       "       [ -9.18801000e-01,   1.15602170e+01],\n",
       "       [  8.24839000e-01,   1.37303430e+01],\n",
       "       [  2.29456000e-01,   5.92193800e+00],\n",
       "       [  1.38861000e+00,   9.34199700e+00],\n",
       "       [ -1.34780300e+00,  -2.40605100e+00],\n",
       "       [ -3.55715000e-01,   1.03259760e+01],\n",
       "       [  4.70575000e-01,   9.33248800e+00],\n",
       "       [ -8.41722000e-01,   4.11908300e+00],\n",
       "       [ -7.19400000e-03,   9.07579200e+00],\n",
       "       [  1.97445000e-01,   9.74463800e+00],\n",
       "       [ -2.42050000e-02,   6.15182300e+00],\n",
       "       [  7.85570000e-02,   5.97360000e-02],\n",
       "       [ -9.59885000e-01,   1.15553360e+01],\n",
       "       [ -1.02781000e-01,   1.37636510e+01],\n",
       "       [  4.92911000e-01,   1.09933240e+01],\n",
       "       [  6.77983000e-01,   2.55666600e+00],\n",
       "       [ -5.66606000e-01,   5.74900300e+00],\n",
       "       [ -6.83565000e-01,  -2.16612500e+00],\n",
       "       [  2.53077700e+00,   6.47680100e+00],\n",
       "       [ -1.32237100e+00,   7.15285300e+00],\n",
       "       [ -3.44008000e-01,   1.07174850e+01],\n",
       "       [ -1.69345300e+00,  -5.57540000e-01],\n",
       "       [  1.26117000e-01,   9.22311000e-01],\n",
       "       [  9.31635000e-01,   1.58950500e+00],\n",
       "       [  7.61349000e-01,   1.06938620e+01],\n",
       "       [ -1.07663700e+00,  -3.18188800e+00],\n",
       "       [  1.01539900e+00,   7.57188200e+00],\n",
       "       [ -1.78187100e+00,   9.09795300e+00],\n",
       "       [  1.34718300e+00,   1.31755000e+01],\n",
       "       [  1.78592800e+00,   7.71864500e+00],\n",
       "       [  2.05621600e+00,   5.01998100e+00],\n",
       "       [  1.01445900e+00,   5.75439900e+00],\n",
       "       [ -3.86323000e-01,   3.98928600e+00],\n",
       "       [ -1.65808600e+00,  -2.72550000e-02],\n",
       "       [ -1.09945800e+00,   1.68827400e+00],\n",
       "       [  3.56107000e-01,   1.24478630e+01],\n",
       "       [ -1.39563400e+00,   4.66254100e+00],\n",
       "       [  1.15208300e+00,   5.48467000e-01],\n",
       "       [ -3.64200100e+00,  -1.61808700e+00],\n",
       "       [ -3.64009000e-01,   4.74730000e+00],\n",
       "       [ -2.66320000e-02,   1.04277430e+01],\n",
       "       [  5.56921000e-01,   8.29498400e+00],\n",
       "       [  3.01015000e+00,   8.40176600e+00],\n",
       "       [ -3.64530000e-02,   2.69098800e+00],\n",
       "       [ -1.23772800e+00,   1.05490330e+01],\n",
       "       [ -8.46637000e-01,   3.84907500e+00],\n",
       "       [  4.75487000e-01,   1.20400350e+01],\n",
       "       [  1.29668300e+00,   1.16075590e+01],\n",
       "       [  1.04222200e+00,   6.10515500e+00],\n",
       "       [ -1.88956700e+00,   9.54266200e+00],\n",
       "       [  4.06704000e-01,   7.06733500e+00],\n",
       "       [ -1.76120000e-02,   1.40530640e+01],\n",
       "       [ -8.34872000e-01,  -1.73386900e+00],\n",
       "       [ -6.79797000e-01,   1.22053000e+00],\n",
       "       [  1.31994400e+00,   2.17122800e+00],\n",
       "       [  4.23363000e-01,   1.10546770e+01],\n",
       "       [  1.22486300e+00,   1.15873600e+01],\n",
       "       [  1.40010200e+00,   1.26287810e+01],\n",
       "       [  1.21791600e+00,   9.59701500e+00],\n",
       "       [ -7.33928000e-01,   9.09868700e+00],\n",
       "       [  4.90426000e-01,   1.96053900e+00],\n",
       "       [ -1.51004700e+00,   6.06199200e+00],\n",
       "       [  8.50433000e-01,   6.92033400e+00],\n",
       "       [  3.15985000e-01,   3.52395300e+00],\n",
       "       [ -1.33747200e+00,   4.68339000e-01],\n",
       "       [ -5.76525000e-01,   1.17789220e+01],\n",
       "       [  1.17681300e+00,   3.16702000e+00],\n",
       "       [  1.75284200e+00,   5.46816600e+00]])"
      ]
     },
     "execution_count": 34,
     "metadata": {},
     "output_type": "execute_result"
    }
   ],
   "source": [
    "X_train"
   ]
  },
  {
   "cell_type": "code",
   "execution_count": 35,
   "metadata": {
    "collapsed": true
   },
   "outputs": [],
   "source": [
    "from sklearn.linear_model.logistic import LogisticRegression"
   ]
  },
  {
   "cell_type": "code",
   "execution_count": 36,
   "metadata": {
    "collapsed": true
   },
   "outputs": [],
   "source": [
    "classifier = LogisticRegression()"
   ]
  },
  {
   "cell_type": "code",
   "execution_count": 37,
   "metadata": {},
   "outputs": [
    {
     "data": {
      "text/plain": [
       "LogisticRegression(C=1.0, class_weight=None, dual=False, fit_intercept=True,\n",
       "          intercept_scaling=1, max_iter=100, multi_class='ovr', n_jobs=1,\n",
       "          penalty='l2', random_state=None, solver='liblinear', tol=0.0001,\n",
       "          verbose=0, warm_start=False)"
      ]
     },
     "execution_count": 37,
     "metadata": {},
     "output_type": "execute_result"
    }
   ],
   "source": [
    "classifier.fit(X_train, y_train)"
   ]
  },
  {
   "cell_type": "code",
   "execution_count": 38,
   "metadata": {
    "collapsed": true
   },
   "outputs": [],
   "source": [
    "predictions = classifier.predict(X_test)"
   ]
  },
  {
   "cell_type": "code",
   "execution_count": 39,
   "metadata": {},
   "outputs": [
    {
     "name": "stdout",
     "output_type": "stream",
     "text": [
      "1 <-> 1\n",
      "0 <-> 0\n",
      "0 <-> 0\n",
      "1 <-> 1\n",
      "1 <-> 1\n",
      "0 <-> 0\n",
      "0 <-> 0\n",
      "1 <-> 1\n",
      "0 <-> 0\n",
      "1 <-> 1\n",
      "0 <-> 0\n",
      "1 <-> 1\n",
      "1 <-> 1\n",
      "1 <-> 1\n",
      "1 <-> 1\n",
      "0 <-> 0\n",
      "0 <-> 0\n",
      "0 <-> 0\n",
      "0 <-> 0\n",
      "0 <-> 0\n",
      "1 <-> 1\n",
      "0 <-> 0\n",
      "0 <-> 0\n",
      "1 <-> 1\n",
      "0 <-> 0\n"
     ]
    }
   ],
   "source": [
    "for i in range(len(predictions)):\n",
    "    print(predictions[i], '<->', y_test[i])"
   ]
  },
  {
   "cell_type": "code",
   "execution_count": 40,
   "metadata": {
    "collapsed": true
   },
   "outputs": [],
   "source": [
    "from sklearn.metrics import confusion_matrix\n",
    "import matplotlib.pyplot as plt"
   ]
  },
  {
   "cell_type": "code",
   "execution_count": 41,
   "metadata": {
    "collapsed": true
   },
   "outputs": [],
   "source": [
    "z_test = [0,0,0,0,0,1,1,1,1,1]\n",
    "z_pred = [0,1,0,0,0,0,0,1,1,1]"
   ]
  },
  {
   "cell_type": "code",
   "execution_count": 42,
   "metadata": {},
   "outputs": [
    {
     "name": "stdout",
     "output_type": "stream",
     "text": [
      "[[4 1]\n",
      " [2 3]]\n"
     ]
    }
   ],
   "source": [
    "confusion_matrix = confusion_matrix(z_test, z_pred)\n",
    "print(confusion_matrix)"
   ]
  },
  {
   "cell_type": "code",
   "execution_count": 44,
   "metadata": {
    "collapsed": true
   },
   "outputs": [],
   "source": [
    "#显示中文\n",
    "from matplotlib.font_manager import FontProperties\n",
    "font=FontProperties(fname=r\"c:\\windows\\fonts\\msyh.ttc\", size=10)"
   ]
  },
  {
   "cell_type": "code",
   "execution_count": 47,
   "metadata": {},
   "outputs": [
    {
     "data": {
      "image/png": "[encoded data removed]",
      "text/plain": [
       "<matplotlib.figure.Figure at 0xa824b70>"
      ]
     },
     "metadata": {},
     "output_type": "display_data"
    }
   ],
   "source": [
    "plt.matshow(confusion_matrix)\n",
    "plt.title('confusion_matrix')\n",
    "plt.colorbar()\n",
    "plt.ylabel('y_test')\n",
    "plt.xlabel('y_pred')\n",
    "plt.show()"
   ]
  },
  {
   "cell_type": "code",
   "execution_count": 48,
   "metadata": {
    "collapsed": true
   },
   "outputs": [],
   "source": [
    "from sklearn.cross_validation import train_test_split,cross_val_score"
   ]
  },
  {
   "cell_type": "code",
   "execution_count": 49,
   "metadata": {},
   "outputs": [
    {
     "name": "stdout",
     "output_type": "stream",
     "text": [
      "0.93130952381 [ 0.9375      1.          0.93333333  0.78571429  1.        ]\n"
     ]
    }
   ],
   "source": [
    "scores=cross_val_score(classifier,X_train,y_train,cv=5)\n",
    "print(np.mean(scores), scores)"
   ]
  },
  {
   "cell_type": "markdown",
   "metadata": {
    "collapsed": true
   },
   "source": [
    "$$l(x_i)=-log_2{p(x_i)}$$"
   ]
  },
  {
   "cell_type": "code",
   "execution_count": null,
   "metadata": {
    "collapsed": true
   },
   "outputs": [],
   "source": []
  }
 ],
 "metadata": {
  "kernelspec": {
   "display_name": "Python 3",
   "language": "python",
   "name": "python3"
  },
  "language_info": {
   "codemirror_mode": {
    "name": "ipython",
    "version": 3
   },
   "file_extension": ".py",
   "mimetype": "text/x-python",
   "name": "python",
   "nbconvert_exporter": "python",
   "pygments_lexer": "ipython3",
   "version": "3.6.1"
  }
 },
 "nbformat": 4,
 "nbformat_minor": 2
}
