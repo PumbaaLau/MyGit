{
 "cells": [
  {
   "cell_type": "markdown",
   "metadata": {},
   "source": [
    "# 第7章 利用Adaboost元算法提高分类性能"
   ]
  },
  {
   "cell_type": "markdown",
   "metadata": {},
   "source": [
    "本章内容：\n",
    "- 组合相似的分类器来提高分类性能\n",
    "- 应用AdaBoost算法\n",
    "- 处理非均衡分类问题"
   ]
  },
  {
   "cell_type": "markdown",
   "metadata": {},
   "source": [
    "## 7.1 基于数据集多重抽样的分类器"
   ]
  },
  {
   "cell_type": "markdown",
   "metadata": {},
   "source": [
    "我们可以将不同的分类器组合起来，这种组合结果则被成为<font color=red>**集成方法（ensemble method）**</font>或者<font color=red>**元算法（meta-algorithm）**</font>。"
   ]
  },
  {
   "cell_type": "markdown",
   "metadata": {},
   "source": [
    "<center>**AdaBoost**</center>\n",
    "- 优点：泛化错误率低，易编码，可以应用在大部分分类器上，无参数调整。\n",
    "- 缺点：对离群点敏感。\n",
    "- 使用数据类型：数值型和标称型数据。"
   ]
  },
  {
   "cell_type": "markdown",
   "metadata": {},
   "source": [
    "#### 7.1.1 bagging：基于数据随机重抽样的分类器构建方法"
   ]
  },
  {
   "cell_type": "code",
   "execution_count": null,
   "metadata": {
    "collapsed": true
   },
   "outputs": [],
   "source": []
  }
 ],
 "metadata": {
  "kernelspec": {
   "display_name": "Python 3",
   "language": "python",
   "name": "python3"
  },
  "language_info": {
   "codemirror_mode": {
    "name": "ipython",
    "version": 3
   },
   "file_extension": ".py",
   "mimetype": "text/x-python",
   "name": "python",
   "nbconvert_exporter": "python",
   "pygments_lexer": "ipython3",
   "version": "3.6.1"
  }
 },
 "nbformat": 4,
 "nbformat_minor": 2
}
